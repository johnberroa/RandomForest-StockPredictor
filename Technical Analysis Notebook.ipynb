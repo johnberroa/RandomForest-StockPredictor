{
 "cells": [
  {
   "cell_type": "code",
   "execution_count": 1,
   "metadata": {
    "collapsed": false,
    "scrolled": true
   },
   "outputs": [
    {
     "name": "stdout",
     "output_type": "stream",
     "text": [
      "[None, None, 6, 12, 20, 30, 42, 56, 72, 90] LEN: 10 \n",
      "\n",
      "\n",
      "[None, None, 2, 3, 4, 5, 6, 7, 8] LEN: 9 \n",
      "\n",
      "\n"
     ]
    }
   ],
   "source": [
    "import numpy as np\n",
    "\n",
    "l = [1,2,3,4,5,6,7,8,9,10]\n",
    "p = 2\n",
    "r = []\n",
    "for i in range(p):\n",
    "    r.append(None)\n",
    "for i in range(p, len(l)):\n",
    "    r.append(l[i]*i)\n",
    "print(r, \"LEN:\", len(r), \"\\n\\n\")\n",
    "\n",
    "r = []\n",
    "\n",
    "d = np.diff(l)\n",
    "for i in range(p):\n",
    "    r.append(None)\n",
    "for i in range(p, len(d)):\n",
    "    r.append(d[i]*i)\n",
    "print(r, \"LEN:\", len(r), \"\\n\\n\")"
   ]
  },
  {
   "cell_type": "code",
   "execution_count": 4,
   "metadata": {
    "collapsed": false
   },
   "outputs": [
    {
     "name": "stdout",
     "output_type": "stream",
     "text": [
      "[1, 1, 1, -1, -1, -1, 1, None, None, None]\n",
      "True\n"
     ]
    }
   ],
   "source": [
    "def calculate_targets(df, period):\n",
    "    \n",
    "    targets = []\n",
    "    all_prices = df\n",
    "\n",
    "        \n",
    "    for i in range(0, len(all_prices)-period):\n",
    "        targets.append(np.sign(all_prices[i+period] - all_prices[i]))\n",
    "    for i in range(len(all_prices)-period, len(all_prices)):\n",
    "        targets.append(None)\n",
    "#     print(\"TARGETS;PRICES:\",len(targets), len(all_prices))\n",
    "#     df[\"Target({})\".format(period)] = targets\n",
    "    return targets\n",
    "\n",
    "\n",
    "prices = [10,11,12,13,14,13,10,9,12,14]\n",
    "\n",
    "t = calculate_targets(prices, 3)\n",
    "print(t)\n",
    "print(len(t)==len(prices))"
   ]
  },
  {
   "cell_type": "code",
   "execution_count": 1,
   "metadata": {
    "collapsed": false
   },
   "outputs": [],
   "source": [
    "import numpy as np\n",
    "import pandas as pd\n",
    "import matplotlib.pyplot as plt\n",
    "%matplotlib inline  \n",
    "\n",
    "data = pd.read_csv('data.csv')"
   ]
  },
  {
   "cell_type": "code",
   "execution_count": 2,
   "metadata": {
    "collapsed": false
   },
   "outputs": [],
   "source": [
    "def RSI(dataframe, period):\n",
    "    '''\n",
    "    Computes the RSI of a given price series for a given period length\n",
    "    :param dataframe:\n",
    "    :param period:\n",
    "    :return dataframe with rsi:\n",
    "    '''\n",
    "\n",
    "    rsi = []\n",
    "\n",
    "    for stock in dataframe['Symbol'].unique():\n",
    "        all_prices = dataframe[dataframe['Symbol'] == stock]['Close']\n",
    "        diff = np.diff(all_prices) # length is 1 less than the all_prices\n",
    "        for i in range(period):\n",
    "            rsi.append(None) # because RSI can't be calculated until period prices have occured\n",
    "\n",
    "        for i in range(len(diff) - period + 1):\n",
    "            avg_gain = diff[i:period + i]\n",
    "            avg_loss = diff[i:period + i]\n",
    "            avg_gain = abs(sum(avg_gain[avg_gain >= 0]) / period)\n",
    "            avg_loss = abs(sum(avg_loss[avg_loss < 0]) / period)\n",
    "            if avg_loss == 0:\n",
    "                rsi.append(100)\n",
    "            elif avg_gain == 0:\n",
    "                rsi.append(0)\n",
    "            else:\n",
    "                rs = avg_gain / avg_loss\n",
    "                rsi.append(100 - (100 / (1 + rs)))\n",
    "\n",
    "    dataframe['RSI'] = rsi\n",
    "    return dataframe\n",
    "\n",
    "\n",
    "def PROC(dataframe, period):\n",
    "    '''\n",
    "    Computes the PROC(price rate of change) of a given price series for a given period length\n",
    "    :param dataframe:\n",
    "    :param period:\n",
    "    :return proc:\n",
    "    '''\n",
    "\n",
    "    \n",
    "    proc = []\n",
    "\n",
    "    for stock in dataframe['Symbol'].unique():\n",
    "        all_prices = list(dataframe[dataframe['Symbol'] == stock]['Close'])\n",
    "        for i in range(period):\n",
    "            proc.append(None) # because proc can't be calculated until period prices have occured\n",
    "        for i in range(len(all_prices) - period):\n",
    "            if len(all_prices) <= period:\n",
    "                proc.append(None)\n",
    "            else:\n",
    "                proc.append((all_prices[i + period] - all_prices[i]) / all_prices[i])\n",
    "\n",
    "    dataframe['PROC'] = proc\n",
    "    return dataframe\n",
    "\n",
    "\n",
    "def SO(dataframe, period):\n",
    "    \n",
    "    so = []\n",
    "    \n",
    "    \n",
    "    for stock in dataframe['Symbol'].unique():\n",
    "        all_prices = list(dataframe[dataframe['Symbol'] == stock]['Close'])\n",
    "        \n",
    "        for i in range(period):\n",
    "            so.append(None)\n",
    " \n",
    "        for i in range(len(all_prices) - period):\n",
    "            C = all_prices[i]\n",
    "            H = max(all_prices[i:i+period])\n",
    "            L = min(all_prices[i:i+period])\n",
    "            so.append(100 * ((C - L) / (H - L)))\n",
    "                \n",
    "#     print(\"Length of so\")\n",
    "#     print(len(so))\n",
    "#     print(\"Length of Dataframe\")\n",
    "#     print(len(dataframe))\n",
    "    dataframe['SO'] = so\n",
    "    return dataframe\n",
    "\n",
    "def Williams_R(dataframe, period):\n",
    "    '''\n",
    "    Williams %R\n",
    "    Calculates fancy shit for late usage. Nice!\n",
    "\n",
    "    EXAMPLE USAGE:\n",
    "    data = pandas.read_csv(\"./data/ALL.csv\", sep=\",\",header=0,quotechar='\"')\n",
    "    wr = Williams_R(data)\n",
    "    print(wr)\n",
    "\n",
    "    '''\n",
    "    wr = []\n",
    "    for stock in dataframe['Symbol'].unique():\n",
    "        all_prices = list(dataframe[dataframe['Symbol'] == stock]['Close'])\n",
    "        for i in range(period):\n",
    "            wr.append(None) # because proc can't be calculated until period prices have occured\n",
    "            \n",
    "        for i in range(period-1,len(all_prices)-1):\n",
    "            C = all_prices[i]\n",
    "            H = max(all_prices[i-period+1:i])\n",
    "            L = min(all_prices[i-period+1:i])\n",
    "            wr_one = (\n",
    "                ((H - C) \n",
    "                 / (H - L)) * -100\n",
    "            )\n",
    "            if wr_one <=-100:\n",
    "                wr.append(-100)\n",
    "            elif wr_one >= 100:\n",
    "                wr.append(100)\n",
    "            else:\n",
    "                wr.append(wr_one)\n",
    "    dataframe[\"WR\"] = wr\n",
    "    return dataframe\n",
    "\n",
    "\n",
    "\n",
    "def calculate_targets(df, period):\n",
    "    \n",
    "    targets = []\n",
    "\n",
    "    for stock in df['Symbol'].unique():\n",
    "        all_prices = list(df[df['Symbol'] == stock]['Close'])\n",
    "        \n",
    "        for i in range(0, len(all_prices)-period):\n",
    "            targets.append(np.sign(all_prices[i+period] - all_prices[i]))\n",
    "        for i in range(len(all_prices)-period, len(all_prices)):\n",
    "            targets.append(None)\n",
    "#     print(\"TARGETS;PRICES:\",len(targets), len(all_prices))\n",
    "    df[\"Target({})\".format(period)] = targets\n",
    "    return df\n",
    "\n",
    "\n",
    "def On_Balance_Volume(dataframe):\n",
    "    '''\n",
    "    Williams %R\n",
    "    Calculates fancy shit for late usage. Nice!\n",
    "\n",
    "    EXAMPLE USAGE:\n",
    "    data = pandas.read_csv(\"./data/ALL.csv\", sep=\",\",header=0,quotechar='\"')\n",
    "    wr = Williams_R(data)\n",
    "    print(wr)\n",
    "\n",
    "    '''\n",
    "    obv = []\n",
    "    \n",
    "    for stock in dataframe['Symbol'].unique():\n",
    "        all_prices = list(dataframe[dataframe['Symbol'] == stock]['Close'])\n",
    "        all_volumes = list(dataframe[dataframe['Symbol'] == stock]['Volume'])\n",
    "    \n",
    "        obv.append(dataframe.iloc[0][\"Volume\"])\n",
    "        for i in range(1,len(all_prices)):\n",
    "            C_old = all_prices[i-1]\n",
    "            C = all_prices[i]\n",
    "            if(C > C_old):\n",
    "                obv.append(obv[i-1]+ all_volumes[i])\n",
    "            elif (C < C_old):\n",
    "                obv.append(obv[i - 1] - all_volumes[i])\n",
    "            else:\n",
    "                obv.append(obv[i-1])\n",
    "                \n",
    "#     print(\"Length of obv\")\n",
    "#     print(len(obv))\n",
    "#     print(\"Length of Dataframe\")\n",
    "#     print(len(dataframe))\n",
    "    dataframe['OBV'] = obv\n",
    "    return dataframe"
   ]
  },
  {
   "cell_type": "code",
   "execution_count": 3,
   "metadata": {
    "collapsed": false
   },
   "outputs": [
    {
     "name": "stdout",
     "output_type": "stream",
     "text": [
      "RSI: Done\n"
     ]
    }
   ],
   "source": [
    "data = RSI(data,14)\n",
    "print(\"RSI: Done\")"
   ]
  },
  {
   "cell_type": "code",
   "execution_count": 4,
   "metadata": {
    "collapsed": false,
    "scrolled": true
   },
   "outputs": [
    {
     "name": "stderr",
     "output_type": "stream",
     "text": [
      "C:\\Users\\Revan\\Anaconda3\\lib\\site-packages\\ipykernel\\__main__.py:53: RuntimeWarning: invalid value encountered in double_scalars\n",
      "C:\\Users\\Revan\\Anaconda3\\lib\\site-packages\\ipykernel\\__main__.py:53: RuntimeWarning: divide by zero encountered in double_scalars\n"
     ]
    },
    {
     "name": "stdout",
     "output_type": "stream",
     "text": [
      "PROC: Done\n"
     ]
    }
   ],
   "source": [
    "data = PROC(data, 14)\n",
    "print(\"PROC: Done\")"
   ]
  },
  {
   "cell_type": "code",
   "execution_count": 5,
   "metadata": {
    "collapsed": false
   },
   "outputs": [
    {
     "name": "stderr",
     "output_type": "stream",
     "text": [
      "C:\\Users\\Revan\\Anaconda3\\lib\\site-packages\\ipykernel\\__main__.py:74: RuntimeWarning: invalid value encountered in double_scalars\n"
     ]
    },
    {
     "name": "stdout",
     "output_type": "stream",
     "text": [
      "SO: Done\n"
     ]
    }
   ],
   "source": [
    "data = SO(data,14)\n",
    "print(\"SO: Done\")"
   ]
  },
  {
   "cell_type": "code",
   "execution_count": 6,
   "metadata": {
    "collapsed": false
   },
   "outputs": [
    {
     "name": "stderr",
     "output_type": "stream",
     "text": [
      "C:\\Users\\Revan\\Anaconda3\\lib\\site-packages\\ipykernel\\__main__.py:106: RuntimeWarning: divide by zero encountered in double_scalars\n",
      "C:\\Users\\Revan\\Anaconda3\\lib\\site-packages\\ipykernel\\__main__.py:106: RuntimeWarning: invalid value encountered in double_scalars\n"
     ]
    },
    {
     "name": "stdout",
     "output_type": "stream",
     "text": [
      "Williams_R: Done\n"
     ]
    }
   ],
   "source": [
    "data = Williams_R(data, 14 )\n",
    "print(\"Williams_R: Done\")"
   ]
  },
  {
   "cell_type": "code",
   "execution_count": null,
   "metadata": {
    "collapsed": false
   },
   "outputs": [
    {
     "name": "stderr",
     "output_type": "stream",
     "text": [
      "C:\\Users\\Revan\\Anaconda3\\lib\\site-packages\\ipykernel\\__main__.py:1: FutureWarning: pd.ewm_mean is deprecated for Series and will be removed in a future version, replace with \n",
      "\tSeries.ewm(adjust=True,min_periods=0,com=0.5,ignore_na=False).mean()\n",
      "  if __name__ == '__main__':\n"
     ]
    },
    {
     "name": "stdout",
     "output_type": "stream",
     "text": [
      "EWMA: Done\n"
     ]
    }
   ],
   "source": [
    "data[\"EWMA\"] = pd.ewma(data[\"Close\"], com=.5)\n",
    "print(\"EWMA: Done\")"
   ]
  },
  {
   "cell_type": "code",
   "execution_count": null,
   "metadata": {
    "collapsed": false
   },
   "outputs": [],
   "source": [
    "data = calculate_targets(data, 3)\n",
    "data = calculate_targets(data, 5)\n",
    "data = calculate_targets(data, 10)\n",
    "data = calculate_targets(data, 30)\n",
    "print('Targets Done - except 60')"
   ]
  },
  {
   "cell_type": "code",
   "execution_count": null,
   "metadata": {
    "collapsed": false
   },
   "outputs": [],
   "source": [
    "data = calculate_targets(data, 14)"
   ]
  },
  {
   "cell_type": "code",
   "execution_count": null,
   "metadata": {
    "collapsed": false
   },
   "outputs": [],
   "source": [
    "data"
   ]
  },
  {
   "cell_type": "code",
   "execution_count": null,
   "metadata": {
    "collapsed": false
   },
   "outputs": [],
   "source": [
    "data.to_csv(\"./data_preprocessed.csv\")"
   ]
  },
  {
   "cell_type": "code",
   "execution_count": null,
   "metadata": {
    "collapsed": false
   },
   "outputs": [],
   "source": [
    "data = calculate_targets(data, 60)\n",
    "print(\"60 Targets: Done\")"
   ]
  },
  {
   "cell_type": "code",
   "execution_count": null,
   "metadata": {
    "collapsed": false
   },
   "outputs": [],
   "source": [
    "data_processed = pd.read_csv(\"data_preprocessed.csv\")\n",
    "print(data_processed[:10])"
   ]
  },
  {
   "cell_type": "code",
   "execution_count": null,
   "metadata": {
    "collapsed": false
   },
   "outputs": [],
   "source": [
    "stock= data_processed['Symbol'].unique()[0]\n",
    "plt.figure(figsize=(10,10))\n",
    "\n",
    "plt.plot(data_processed[data_processed[\"Symbol\"]==stock][\"WR\"],label=\"WR\")\n",
    "plt.plot(data_processed[data_processed[\"Symbol\"]==stock][\"SO\"],label=\"So\")\n",
    "plt.plot(data_processed[data_processed[\"Symbol\"]==stock][\"RSI\"],label=\"RSI\")\n",
    "plt.plot(data_processed[data_processed[\"Symbol\"]==stock][\"PROC\"],label=\"PROC\")\n",
    "\n",
    "plt.plot(data_processed[data_processed[\"Symbol\"]==stock][\"Close\"],label=\"Close\")\n",
    "plt.legend()"
   ]
  },
  {
   "cell_type": "code",
   "execution_count": null,
   "metadata": {
    "collapsed": true
   },
   "outputs": [],
   "source": []
  }
 ],
 "metadata": {
  "anaconda-cloud": {},
  "kernelspec": {
   "display_name": "Python [default]",
   "language": "python",
   "name": "python3"
  },
  "language_info": {
   "codemirror_mode": {
    "name": "ipython",
    "version": 3
   },
   "file_extension": ".py",
   "mimetype": "text/x-python",
   "name": "python",
   "nbconvert_exporter": "python",
   "pygments_lexer": "ipython3",
   "version": "3.5.2"
  }
 },
 "nbformat": 4,
 "nbformat_minor": 1
}
