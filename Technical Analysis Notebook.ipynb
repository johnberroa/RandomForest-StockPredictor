{
 "cells": [
  {
   "cell_type": "code",
   "execution_count": null,
   "metadata": {
    "collapsed": false
   },
   "outputs": [],
   "source": [
    "import numpy as np\n",
    "import pandas as pd\n",
    "import matplotlib.pyplot as plt\n",
    "%matplotlib inline  \n",
    "\n",
    "data = pd.read_csv('data.csv')"
   ]
  },
  {
   "cell_type": "code",
   "execution_count": null,
   "metadata": {
    "collapsed": false
   },
   "outputs": [],
   "source": [
    "def RSI(dataframe, period):\n",
    "    '''\n",
    "    Computes the RSI of a given price series for a given period length\n",
    "    :param dataframe:\n",
    "    :param period:\n",
    "    :return dataframe with rsi:\n",
    "    '''\n",
    "\n",
    "    rsi = []\n",
    "\n",
    "    for stock in dataframe['Symbol'].unique():\n",
    "        all_prices = dataframe[dataframe['Symbol'] == stock]['Close']\n",
    "        diff = np.diff(all_prices) # length is 1 less than the all_prices\n",
    "        for i in range(period):\n",
    "            rsi.append(None) # because RSI can't be calculated until period prices have occured\n",
    "\n",
    "        for i in range(len(diff) - period + 1):\n",
    "            avg_gain = diff[i:period + i]\n",
    "            avg_loss = diff[i:period + i]\n",
    "            avg_gain = abs(sum(avg_gain[avg_gain >= 0]) / period)\n",
    "            avg_loss = abs(sum(avg_loss[avg_loss < 0]) / period)\n",
    "            if avg_loss == 0:\n",
    "                rsi.append(100)\n",
    "            elif avg_gain == 0:\n",
    "                rsi.append(0)\n",
    "            else:\n",
    "                rs = avg_gain / avg_loss\n",
    "                rsi.append(100 - (100 / (1 + rs)))\n",
    "\n",
    "    dataframe['RSI'] = rsi\n",
    "    return dataframe\n",
    "\n",
    "\n",
    "def PROC(dataframe, period):\n",
    "    '''\n",
    "    Computes the PROC(price rate of change) of a given price series for a given period length\n",
    "    :param dataframe:\n",
    "    :param period:\n",
    "    :return proc:\n",
    "    '''\n",
    "\n",
    "    proc = []\n",
    "\n",
    "    for stock in dataframe['Symbol'].unique():\n",
    "        all_prices = list(dataframe[dataframe['Symbol'] == stock]['Close'])\n",
    "        for i in range(period):\n",
    "            proc.append(None) # because proc can't be calculated until period prices have occured\n",
    "        for i in range(len(all_prices) - period):\n",
    "            if len(all_prices) <= period:\n",
    "                proc.append(None)\n",
    "            else:\n",
    "                calculated = (all_prices[i + period] - all_prices[i]) / all_prices[i]\n",
    "                proc.append(calculated)\n",
    "    dataframe['PROC'] = proc\n",
    "    return dataframe\n",
    "\n",
    "\n",
    "def SO(dataframe, period):\n",
    "    \n",
    "    so = []\n",
    "    \n",
    "    for stock in dataframe['Symbol'].unique():\n",
    "        all_prices = list(dataframe[dataframe['Symbol'] == stock]['Close'])\n",
    "        \n",
    "        for i in range(period):\n",
    "            so.append(None)\n",
    " \n",
    "        for i in range(len(all_prices) - period):\n",
    "            C = all_prices[i]\n",
    "            H = max(all_prices[i:i+period])\n",
    "            L = min(all_prices[i:i+period])\n",
    "            so.append(100 * ((C - L) / (H - L)))\n",
    "\n",
    "    dataframe['SO'] = so\n",
    "    return dataframe\n",
    "\n",
    "\n",
    "def Williams_R(dataframe, period):\n",
    "    '''\n",
    "    Williams %R\n",
    "    Calculates fancy shit for late usage. Nice!\n",
    "\n",
    "    EXAMPLE USAGE:\n",
    "    data = pandas.read_csv(\"./data/ALL.csv\", sep=\",\",header=0,quotechar='\"')\n",
    "    wr = Williams_R(data)\n",
    "    print(wr)\n",
    "\n",
    "    '''\n",
    "    \n",
    "    wr = []\n",
    "    \n",
    "    for stock in dataframe['Symbol'].unique():\n",
    "        all_prices = list(dataframe[dataframe['Symbol'] == stock]['Close'])\n",
    "        for i in range(period):\n",
    "            wr.append(None) # because proc can't be calculated until period prices have occured\n",
    "            \n",
    "        for i in range(period-1,len(all_prices)-1):\n",
    "            C = all_prices[i]\n",
    "            H = max(all_prices[i-period+1:i])\n",
    "            L = min(all_prices[i-period+1:i])\n",
    "            wr_one = (\n",
    "                ((H - C) \n",
    "                 / (H - L)) * -100\n",
    "            )\n",
    "            if wr_one <=-100:\n",
    "                wr.append(-100)\n",
    "            elif wr_one >= 100:\n",
    "                wr.append(100)\n",
    "            else:\n",
    "                wr.append(wr_one)\n",
    "    dataframe[\"WR\"] = wr\n",
    "    return dataframe\n",
    "\n",
    "\n",
    "def calculate_targets(df, period):\n",
    "    \n",
    "    targets = []\n",
    "\n",
    "    for stock in df['Symbol'].unique():\n",
    "        all_prices = list(df[df['Symbol'] == stock]['Close'])\n",
    "        \n",
    "        for i in range(0, len(all_prices)-period):\n",
    "            targets.append(np.sign(all_prices[i+period] - all_prices[i]))\n",
    "        for i in range(len(all_prices)-period, len(all_prices)):\n",
    "            targets.append(None)\n",
    "\n",
    "    df[\"Target({})\".format(period)] = targets\n",
    "    return df\n",
    "\n",
    "\n",
    "def On_Balance_Volume(dataframe):\n",
    "    '''\n",
    "    Williams %R\n",
    "    Calculates fancy shit for late usage. Nice!\n",
    "\n",
    "    EXAMPLE USAGE:\n",
    "    data = pandas.read_csv(\"./data/ALL.csv\", sep=\",\",header=0,quotechar='\"')\n",
    "    wr = Williams_R(data)\n",
    "    print(wr)\n",
    "\n",
    "    '''\n",
    "    obv = []\n",
    "    \n",
    "    for stock in dataframe['Symbol'].unique():\n",
    "        all_prices = list(dataframe[dataframe['Symbol'] == stock]['Close'])\n",
    "        all_volumes = list(dataframe[dataframe['Symbol'] == stock]['Volume'])\n",
    "    \n",
    "        obv.append(dataframe.iloc[0][\"Volume\"])\n",
    "        for i in range(1,len(all_prices)):\n",
    "            C_old = all_prices[i-1]\n",
    "            C = all_prices[i]\n",
    "            if(C > C_old):\n",
    "                obv.append(obv[i-1]+ all_volumes[i])\n",
    "            elif (C < C_old):\n",
    "                obv.append(obv[i - 1] - all_volumes[i])\n",
    "            else:\n",
    "                obv.append(obv[i-1])\n",
    "\n",
    "    dataframe['OBV'] = obv\n",
    "    return dataframe\n",
    "\n",
    "\n",
    "def delete_bad_data(df):\n",
    "    for stock in df['Symbol'].unique():\n",
    "        if df[df[\"Symbol\"]==stock][\"Close\"].any() < 1:\n",
    "            df = df.drop(df[df[\"Symbol\"]==stock], axis=0)\n",
    "        if df[df[\"Symbol\"]==stock][\"Volume\"].any() == 0:\n",
    "            df = df.drop(df[df[\"Symbol\"]==stock], axis=0)\n",
    "        if df[df[\"Symbol\"]==stock][\"Open\"].any() == None:\n",
    "            df = df.drop(df[df[\"Symbol\"]==stock], axis=0)\n",
    "    return df"
   ]
  },
  {
   "cell_type": "code",
   "execution_count": null,
   "metadata": {
    "collapsed": false
   },
   "outputs": [],
   "source": [
    "data = delete_bad_data(data)\n",
    "print(\"Test of deleting bad data:\")\n",
    "try:\n",
    "    print(\"Deletion successful:\", data[data[\"Symbol\"]==\"AAP\"][\"Close\"][5] )\n",
    "except:\n",
    "    print(\"True\")"
   ]
  },
  {
   "cell_type": "code",
   "execution_count": null,
   "metadata": {
    "collapsed": false
   },
   "outputs": [],
   "source": [
    "data = RSI(data,14)\n",
    "print(\"RSI: Done\")"
   ]
  },
  {
   "cell_type": "code",
   "execution_count": null,
   "metadata": {
    "collapsed": false,
    "scrolled": true
   },
   "outputs": [],
   "source": [
    "data = PROC(data, 14)\n",
    "print(\"PROC: Done\")"
   ]
  },
  {
   "cell_type": "code",
   "execution_count": null,
   "metadata": {
    "collapsed": false
   },
   "outputs": [],
   "source": [
    "data = SO(data,14)\n",
    "print(\"SO: Done\")"
   ]
  },
  {
   "cell_type": "code",
   "execution_count": null,
   "metadata": {
    "collapsed": false
   },
   "outputs": [],
   "source": [
    "data = Williams_R(data, 14 )\n",
    "print(\"Williams_R: Done\")"
   ]
  },
  {
   "cell_type": "code",
   "execution_count": null,
   "metadata": {
    "collapsed": false
   },
   "outputs": [],
   "source": [
    "data[\"EWMA\"] = pd.ewma(data[\"Close\"], com=.5)\n",
    "print(\"EWMA: Done\")"
   ]
  },
  {
   "cell_type": "code",
   "execution_count": null,
   "metadata": {
    "collapsed": false
   },
   "outputs": [],
   "source": [
    "data = calculate_targets(data, 1)\n",
    "data = calculate_targets(data, 3)\n",
    "data = calculate_targets(data, 5)\n",
    "data = calculate_targets(data, 10)\n",
    "data = calculate_targets(data, 14)\n",
    "data = calculate_targets(data, 30)\n",
    "print('Targets Done - except 60')"
   ]
  },
  {
   "cell_type": "code",
   "execution_count": null,
   "metadata": {
    "collapsed": false
   },
   "outputs": [],
   "source": [
    "data"
   ]
  },
  {
   "cell_type": "code",
   "execution_count": null,
   "metadata": {
    "collapsed": false
   },
   "outputs": [],
   "source": [
    "data.to_csv(\"./data_preprocessed.csv\")"
   ]
  },
  {
   "cell_type": "code",
   "execution_count": null,
   "metadata": {
    "collapsed": false
   },
   "outputs": [],
   "source": [
    "data_processed = pd.read_csv(\"data_preprocessed.csv\")\n",
    "print(data_processed[:10])"
   ]
  },
  {
   "cell_type": "code",
   "execution_count": null,
   "metadata": {
    "collapsed": false
   },
   "outputs": [],
   "source": [
    "stock= data_processed['Symbol'].unique()[0]\n",
    "plt.figure(figsize=(10,10))\n",
    "\n",
    "plt.plot(data_processed[data_processed[\"Symbol\"]==stock][\"WR\"],label=\"WR\")\n",
    "plt.plot(data_processed[data_processed[\"Symbol\"]==stock][\"SO\"],label=\"So\")\n",
    "plt.plot(data_processed[data_processed[\"Symbol\"]==stock][\"RSI\"],label=\"RSI\")\n",
    "plt.plot(data_processed[data_processed[\"Symbol\"]==stock][\"PROC\"],label=\"PROC\")\n",
    "\n",
    "plt.plot(data_processed[data_processed[\"Symbol\"]==stock][\"Close\"],label=\"Close\")\n",
    "plt.legend()"
   ]
  },
  {
   "cell_type": "code",
   "execution_count": null,
   "metadata": {
    "collapsed": true
   },
   "outputs": [],
   "source": []
  }
 ],
 "metadata": {
  "anaconda-cloud": {},
  "kernelspec": {
   "display_name": "Python [default]",
   "language": "python",
   "name": "python3"
  },
  "language_info": {
   "codemirror_mode": {
    "name": "ipython",
    "version": 3
   },
   "file_extension": ".py",
   "mimetype": "text/x-python",
   "name": "python",
   "nbconvert_exporter": "python",
   "pygments_lexer": "ipython3",
   "version": "3.5.2"
  }
 },
 "nbformat": 4,
 "nbformat_minor": 1
}
