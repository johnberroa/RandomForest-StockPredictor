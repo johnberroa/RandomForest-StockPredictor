{
 "cells": [
  {
   "cell_type": "code",
   "execution_count": 1,
   "metadata": {
    "collapsed": true
   },
   "outputs": [],
   "source": [
    "\"\"\"\n",
    "A random forest classifier aimed at determining whether a stock will be higher or lower after some given amount of days.\n",
    "Replication of Khaidem, Saha, & Roy Dey (2016)\n",
    "\n",
    "Documentation on function:\n",
    "http://scikit-learn.org/stable/modules/generated/sklearn.ensemble.RandomForestClassifier.html\n",
    "\"\"\"\n",
    "\n",
    "import pandas as pd\n",
    "from sklearn.ensemble import RandomForestClassifier as make_forest\n",
    "from sklearn.metrics import mean_squared_error as mse\n",
    "from sklearn.metrics import accuracy_score as acc\n",
    "import numpy as np\n",
    "\n",
    "'''\n",
    "### Outline ###\n",
    "We have a bunch of columns of different length target values\n",
    "We drop all target values except the ones we want to analyze (or else when we remove NA we will remove too much data)\n",
    "We then input the data and features in to the first .fit parameter, and the labels in the second\n",
    "'''\n",
    "\n",
    "num_features = 5\n",
    "prediction_window = 14\n",
    "full_data = pd.read_csv('data_preprocessed.csv')"
   ]
  },
  {
   "cell_type": "code",
   "execution_count": 4,
   "metadata": {
    "collapsed": true
   },
   "outputs": [],
   "source": [
    "# drop all target columns not to be analyzed\n",
    "headers = full_data.columns.values\n",
    "headers = headers[13:] # should return just the headers of the target values\n",
    "headers = headers[headers!='Target({})'.format(prediction_window)]\n",
    "selected_data = full_data.drop(headers, axis=1)\n",
    "selected_data = selected_data.dropna(axis=0, how='any') # using the subset parameter might allow us to skip dropping other targets?"
   ]
  },
  {
   "cell_type": "code",
   "execution_count": 5,
   "metadata": {
    "collapsed": false
   },
   "outputs": [
    {
     "name": "stdout",
     "output_type": "stream",
     "text": [
      "    Unnamed: 0        Date   Open   High    Low  Close     Volume Symbol  \\\n",
      "14          14  2010-01-25  29.42  29.65  29.23  29.45  2581167.0      A   \n",
      "15          15  2010-01-26  29.37  29.50  28.98  29.29  1929019.0      A   \n",
      "16          16  2010-01-27  29.20  29.29  28.73  29.17  3120255.0      A   \n",
      "17          17  2010-01-28  29.13  29.37  28.49  28.69  3532089.0      A   \n",
      "18          18  2010-01-29  28.93  29.17  27.92  28.03  4236738.0      A   \n",
      "\n",
      "          RSI      PROC          SO          WR       EWMA  Target(14)  \n",
      "14  29.847495 -0.059105  100.000000 -100.000000  29.512076        -1.0  \n",
      "15  31.065760 -0.053941   90.404040  -85.858586  29.364025        -1.0  \n",
      "16  30.995475 -0.054457   84.848485  -93.939394  29.234675        -1.0  \n",
      "17  28.189300 -0.068809   82.828283 -100.000000  28.871558        -1.0  \n",
      "18  24.863884 -0.089935   85.772358 -100.000000  28.310519        -1.0  \n"
     ]
    }
   ],
   "source": [
    "print(selected_data.head())"
   ]
  },
  {
   "cell_type": "code",
   "execution_count": 6,
   "metadata": {
    "collapsed": true
   },
   "outputs": [],
   "source": [
    "### Drop useless labels ###\n",
    "selected_data.drop([\"Unnamed: 0\"], axis = 1, inplace = True)\n",
    "selected_data.drop([\"Date\"], axis = 1, inplace = True)\n",
    "selected_data.drop([\"Symbol\"], axis = 1, inplace = True)"
   ]
  },
  {
   "cell_type": "code",
   "execution_count": 7,
   "metadata": {
    "collapsed": false
   },
   "outputs": [
    {
     "name": "stdout",
     "output_type": "stream",
     "text": [
      "     Open   High    Low  Close     Volume        RSI      PROC          SO  \\\n",
      "14  29.42  29.65  29.23  29.45  2581167.0  29.847495 -0.059105  100.000000   \n",
      "15  29.37  29.50  28.98  29.29  1929019.0  31.065760 -0.053941   90.404040   \n",
      "16  29.20  29.29  28.73  29.17  3120255.0  30.995475 -0.054457   84.848485   \n",
      "17  29.13  29.37  28.49  28.69  3532089.0  28.189300 -0.068809   82.828283   \n",
      "18  28.93  29.17  27.92  28.03  4236738.0  24.863884 -0.089935   85.772358   \n",
      "\n",
      "            WR       EWMA  Target(14)  \n",
      "14 -100.000000  29.512076        -1.0  \n",
      "15  -85.858586  29.364025        -1.0  \n",
      "16  -93.939394  29.234675        -1.0  \n",
      "17 -100.000000  28.871558        -1.0  \n",
      "18 -100.000000  28.310519        -1.0  \n"
     ]
    }
   ],
   "source": [
    "print(selected_data.head())"
   ]
  },
  {
   "cell_type": "code",
   "execution_count": 8,
   "metadata": {
    "collapsed": true
   },
   "outputs": [],
   "source": [
    "# Split in Test-x and Test-y #\n",
    "train_y = selected_data['Target({})'.format(prediction_window)][:2000].as_matrix()\n",
    "test_y = selected_data['Target({})'.format(prediction_window)][2000:2100].as_matrix()\n",
    "\n",
    "selected_data.drop(['Target({})'.format(prediction_window)], axis = 1, inplace = True)\n",
    "train_x = selected_data[:2000].as_matrix()\n",
    "test_x = selected_data[2000:2100].as_matrix()"
   ]
  },
  {
   "cell_type": "code",
   "execution_count": 10,
   "metadata": {
    "collapsed": false
   },
   "outputs": [
    {
     "name": "stdout",
     "output_type": "stream",
     "text": [
      "TEST: TREE VS ORIGINAL\n",
      "ACCURACY: 1.0\n"
     ]
    },
    {
     "name": "stderr",
     "output_type": "stream",
     "text": [
      "[Parallel(n_jobs=1)]: Done  10 out of  10 | elapsed:    0.0s finished\n",
      "C:\\Users\\Revan\\Anaconda3\\lib\\site-packages\\sklearn\\ensemble\\forest.py:403: UserWarning: Some inputs do not have OOB scores. This probably means too few trees were used to compute any reliable oob estimates.\n",
      "  warn(\"Some inputs do not have OOB scores. \"\n",
      "C:\\Users\\Revan\\Anaconda3\\lib\\site-packages\\sklearn\\ensemble\\forest.py:408: RuntimeWarning: invalid value encountered in true_divide\n",
      "  predictions[k].sum(axis=1)[:, np.newaxis])\n",
      "[Parallel(n_jobs=1)]: Done  10 out of  10 | elapsed:    0.0s finished\n"
     ]
    }
   ],
   "source": [
    "# Ignore the warning. Works anyway\n",
    "Random_Forest = make_forest(max_features=num_features, bootstrap=True, oob_score=True, verbose=1)\n",
    "Random_Forest.fit(train_x, train_y)\n",
    "\n",
    "print(\"TEST: TREE VS ORIGINAL\")\n",
    "res = Random_Forest.predict(test_x)\n",
    "print(\"ACCURACY: \"+str(acc(test_y, res)))"
   ]
  },
  {
   "cell_type": "code",
   "execution_count": null,
   "metadata": {
    "collapsed": true
   },
   "outputs": [],
   "source": []
  }
 ],
 "metadata": {
  "kernelspec": {
   "display_name": "Python [conda root]",
   "language": "python",
   "name": "conda-root-py"
  },
  "language_info": {
   "codemirror_mode": {
    "name": "ipython",
    "version": 3
   },
   "file_extension": ".py",
   "mimetype": "text/x-python",
   "name": "python",
   "nbconvert_exporter": "python",
   "pygments_lexer": "ipython3",
   "version": "3.5.2"
  }
 },
 "nbformat": 4,
 "nbformat_minor": 1
}
