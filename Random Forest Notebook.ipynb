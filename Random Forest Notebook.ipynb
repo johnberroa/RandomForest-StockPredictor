{
 "cells": [
  {
   "cell_type": "code",
   "execution_count": 1,
   "metadata": {
    "collapsed": true
   },
   "outputs": [],
   "source": [
    "\"\"\"\n",
    "A random forest classifier aimed at determining whether a stock will be higher or lower after some given amount of days.\n",
    "Replication of Khaidem, Saha, & Roy Dey (2016)\n",
    "\n",
    "Documentation on function:\n",
    "http://scikit-learn.org/stable/modules/generated/sklearn.ensemble.RandomForestClassifier.html\n",
    "\"\"\"\n",
    "\n",
    "import pandas as pd\n",
    "from sklearn.ensemble import RandomForestClassifier as make_forest\n",
    "from sklearn.metrics import mean_squared_error as mse\n",
    "from sklearn.metrics import accuracy_score as acc\n",
    "import numpy as np\n",
    "\n",
    "'''\n",
    "### Outline ###\n",
    "We have a bunch of columns of different length target values\n",
    "We drop all target values except the ones we want to analyze (or else when we remove NA we will remove too much data)\n",
    "We then input the data and features in to the first .fit parameter, and the labels in the second\n",
    "'''\n",
    "\n",
    "num_features = 5\n",
    "prediction_window = 14\n",
    "full_data = pd.read_csv('data_preprocessed.csv')"
   ]
  },
  {
   "cell_type": "code",
   "execution_count": 2,
   "metadata": {
    "collapsed": true
   },
   "outputs": [],
   "source": [
    "# drop all target columns not to be analyzed\n",
    "headers = full_data.columns.values\n",
    "headers = headers[13:] # should return just the headers of the target values\n",
    "headers = headers[headers!='Target({})'.format(prediction_window)]\n",
    "selected_data = full_data.drop(headers, axis=1)\n",
    "selected_data = selected_data.dropna(axis=0, how='any') # using the subset parameter might allow us to skip dropping other targets?"
   ]
  },
  {
   "cell_type": "code",
   "execution_count": 35,
   "metadata": {
    "collapsed": false
   },
   "outputs": [
    {
     "name": "stdout",
     "output_type": "stream",
     "text": [
      "        Close     Volume        RSI      PROC          SO          WR  \\\n",
      "14      29.45  2581167.0  29.847495 -0.059105  100.000000 -100.000000   \n",
      "15      29.29  1929019.0  31.065760 -0.053941   90.404040  -85.858586   \n",
      "16      29.17  3120255.0  30.995475 -0.054457   84.848485  -93.939394   \n",
      "17      28.69  3532089.0  28.189300 -0.068809   82.828283 -100.000000   \n",
      "18      28.03  4236738.0  24.863884 -0.089935   85.772358 -100.000000   \n",
      "19      29.13  4001809.0  37.177542 -0.054835   89.423077 -100.000000   \n",
      "20      29.50  4209397.0  42.792109 -0.031199   77.564103  -64.743590   \n",
      "21      29.54  4353100.0  41.001565 -0.037471   85.256410  -52.884615   \n",
      "22      29.07  4744169.0  33.750000 -0.066774  100.000000  -51.602564   \n",
      "23      29.17  6828734.0  39.100346 -0.041407   86.642599  -62.454874   \n",
      "24      29.20  4952879.0  35.294118 -0.051948  100.000000  -58.844765   \n",
      "25      29.41  3684273.0  38.868613 -0.039830  100.000000  -55.000000   \n",
      "26      29.25  2328789.0  38.517179 -0.041612  100.000000  -44.578313   \n",
      "27      29.36  4994537.0  52.214452  0.006514   75.496689  -19.205298   \n",
      "28      29.98  8195874.0  55.723542  0.017997   94.039735  -11.920530   \n",
      "29      30.25  4692010.0  60.126582  0.032776   64.615385   29.139073   \n",
      "30      30.63  3498637.0  64.600000  0.050051   51.351351   13.846154   \n",
      "31      30.98  2370436.0  73.511294  0.079819   25.384615   17.117117   \n",
      "32      31.20  2994324.0  85.778781  0.113093    0.000000   13.461538   \n",
      "33      31.15  2888413.0  79.881657  0.069344    2.816901   11.518325   \n",
      "34      30.85  3123874.0  70.392749  0.045763   20.187793   -2.347418   \n",
      "35      31.23  2822434.0  73.150685  0.057211   22.065728  -16.431925   \n",
      "36      31.09  3418050.0  80.421687  0.069487    0.000000    1.408451   \n",
      "37      31.46  3346294.0  81.894150  0.078505    0.000000   -6.796117   \n",
      "38      32.09  3378802.0  84.486874  0.098973    0.000000   11.330049   \n",
      "39      32.36  4304847.0  84.705882  0.100306    5.633803   28.506787   \n",
      "40      32.44  4591940.0  88.249400  0.109060    0.000000    9.507042   \n",
      "41      32.26  4363457.0  84.198113  0.098774    0.000000    2.666667   \n",
      "42      33.16  5504404.0  85.176991  0.106071    0.000000   -7.317073   \n",
      "43      33.00  5019829.0  81.179138  0.090909    0.000000   32.876712   \n",
      "...       ...        ...        ...       ...         ...         ...   \n",
      "10787  112.36  2482538.0  46.825939 -0.008209   14.285714  -33.414044   \n",
      "10788  112.86  1982764.0  47.788204 -0.005814   25.950783 -100.000000   \n",
      "10789  113.07  1834053.0  49.898029 -0.000265   16.554810  -88.814318   \n",
      "10790  114.26  2796082.0  52.390181  0.006519   25.950783  -84.116331   \n",
      "10791  113.71  2275836.0  53.320184  0.008962    7.606264  -57.494407   \n",
      "10792  112.08  2224616.0  39.501040 -0.026323   61.521253  -69.798658   \n",
      "10793  112.81  2678733.0  41.053342 -0.022952   71.157895 -100.000000   \n",
      "10794  112.88  2235284.0  36.921965 -0.031073   93.052632  -84.631579   \n",
      "10795  112.83  2120103.0  35.250737 -0.034238  100.000000  -83.157895   \n",
      "10796  113.61  1601604.0  38.935574 -0.027062  100.000000  -84.008529   \n",
      "10797  113.71  2215283.0  44.566929 -0.011991   89.317507  -54.599407   \n",
      "10798  114.60  2746681.0  51.819620  0.004030   61.127596  -51.632047   \n",
      "10799  113.68  1481921.0  51.211884  0.002734   38.278932  -25.222552   \n",
      "10800  112.88  1820130.0  38.835795 -0.022261  100.000000  -52.522255   \n",
      "10801  113.22  1498624.0  54.908676  0.007654   11.111111  -68.253968   \n",
      "10802  113.39  1297603.0  53.143535  0.004696   30.952381  -54.761905   \n",
      "10803  113.03  1414708.0  49.766900 -0.000354   39.285714  -48.015873   \n",
      "10804  113.60  2284399.0  45.854271 -0.005776   86.507937  -62.301587   \n",
      "10805  112.98  1998463.0  45.454545 -0.006420   64.682540  -39.682540   \n",
      "10806  112.93  1566925.0  56.589147  0.007584    0.000000  -64.285714   \n",
      "10807  112.35  2406432.0  46.349206 -0.004078    0.000000  -93.296089   \n",
      "10808  113.05  1519042.0  51.226551  0.001506   23.555556 -100.000000   \n",
      "10809  113.76  1459186.0  56.126482  0.008242   21.333333  -68.888889   \n",
      "10810  115.48  2385087.0  60.961313  0.016460   56.000000  -37.333333   \n",
      "10811  114.57  2266773.0  54.603854  0.007563   43.450479   39.111111   \n",
      "10812  115.04  1869256.0  52.466368  0.003839   71.884984  -29.073482   \n",
      "10813  115.20  1419341.0  59.313725  0.013371   42.492013  -14.057508   \n",
      "10814  114.85  1367742.0  62.775616  0.017452   16.932907   -8.945687   \n",
      "10815  115.35  1319021.0  63.532402  0.018813   27.795527  -20.127796   \n",
      "10816  115.00  1999417.0  60.000000  0.014199   33.226837   -4.153355   \n",
      "\n",
      "             EWMA  Target(14)  \n",
      "14      29.512076        -1.0  \n",
      "15      29.364025        -1.0  \n",
      "16      29.234675        -1.0  \n",
      "17      28.871558        -1.0  \n",
      "18      28.310519        -1.0  \n",
      "19      28.856840        -1.0  \n",
      "20      29.285613        -1.0  \n",
      "21      29.455204        -1.0  \n",
      "22      29.198401        -1.0  \n",
      "23      29.179467        -1.0  \n",
      "24      29.193156        -1.0  \n",
      "25      29.337719        -1.0  \n",
      "26      29.279240        -1.0  \n",
      "27      29.333080         1.0  \n",
      "28      29.764360         1.0  \n",
      "29      30.088120         1.0  \n",
      "30      30.449373         1.0  \n",
      "31      30.803124         1.0  \n",
      "32      31.067708         1.0  \n",
      "33      31.122569         1.0  \n",
      "34      30.940856         1.0  \n",
      "35      31.133619         1.0  \n",
      "36      31.104540         1.0  \n",
      "37      31.341513         1.0  \n",
      "38      31.840504         1.0  \n",
      "39      32.186835         1.0  \n",
      "40      32.355612         1.0  \n",
      "41      32.291871         1.0  \n",
      "42      32.870624         1.0  \n",
      "43      32.956875         1.0  \n",
      "...           ...         ...  \n",
      "10787  113.205768        -1.0  \n",
      "10788  112.975256        -1.0  \n",
      "10789  113.038419        -1.0  \n",
      "10790  113.852806         1.0  \n",
      "10791  113.757602         1.0  \n",
      "10792  112.639201        -1.0  \n",
      "10793  112.753067        -1.0  \n",
      "10794  112.837689        -1.0  \n",
      "10795  112.832563        -1.0  \n",
      "10796  113.350854        -1.0  \n",
      "10797  113.590285        -1.0  \n",
      "10798  114.263428         1.0  \n",
      "10799  113.874476         1.0  \n",
      "10800  113.211492        -1.0  \n",
      "10801  113.217164         1.0  \n",
      "10802  113.332388         1.0  \n",
      "10803  113.130796        -1.0  \n",
      "10804  113.443599        -1.0  \n",
      "10805  113.134533        -1.0  \n",
      "10806  112.998178         1.0  \n",
      "10807  112.566059        -1.0  \n",
      "10808  112.888686         1.0  \n",
      "10809  113.469562         1.0  \n",
      "10810  114.809854         1.0  \n",
      "10811  114.649951         1.0  \n",
      "10812  114.909984         1.0  \n",
      "10813  115.103328         1.0  \n",
      "10814  114.934443         1.0  \n",
      "10815  115.211481         1.0  \n",
      "10816  115.070494         1.0  \n",
      "\n",
      "[10000 rows x 8 columns]\n"
     ]
    }
   ],
   "source": [
    "print(selected_data.head(10000))"
   ]
  },
  {
   "cell_type": "code",
   "execution_count": 4,
   "metadata": {
    "collapsed": false
   },
   "outputs": [],
   "source": [
    "### Drop useless labels ###\n",
    "selected_data.drop([\"Unnamed: 0\"], axis = 1, inplace = True)\n",
    "selected_data.drop([\"Date\"], axis = 1, inplace = True)\n",
    "selected_data.drop([\"Symbol\",\"Open\",\"High\",\"Low\"], axis = 1, inplace = True)\n"
   ]
  },
  {
   "cell_type": "code",
   "execution_count": 5,
   "metadata": {
    "collapsed": false
   },
   "outputs": [
    {
     "name": "stdout",
     "output_type": "stream",
     "text": [
      "    Close     Volume        RSI      PROC          SO          WR       EWMA  \\\n",
      "14  29.45  2581167.0  29.847495 -0.059105  100.000000 -100.000000  29.512076   \n",
      "15  29.29  1929019.0  31.065760 -0.053941   90.404040  -85.858586  29.364025   \n",
      "16  29.17  3120255.0  30.995475 -0.054457   84.848485  -93.939394  29.234675   \n",
      "17  28.69  3532089.0  28.189300 -0.068809   82.828283 -100.000000  28.871558   \n",
      "18  28.03  4236738.0  24.863884 -0.089935   85.772358 -100.000000  28.310519   \n",
      "\n",
      "    Target(14)  \n",
      "14        -1.0  \n",
      "15        -1.0  \n",
      "16        -1.0  \n",
      "17        -1.0  \n",
      "18        -1.0  \n"
     ]
    }
   ],
   "source": [
    "print(selected_data.head())"
   ]
  },
  {
   "cell_type": "code",
   "execution_count": 30,
   "metadata": {
    "collapsed": false
   },
   "outputs": [],
   "source": [
    "# Split in Test-x and Test-y #\n",
    "train_y = selected_data['Target({})'.format(prediction_window)][:10000].as_matrix()\n",
    "test_y = selected_data['Target({})'.format(prediction_window)][10000:15000].as_matrix()\n",
    "\n",
    "selected_train = selected_data.drop(['Target({})'.format(prediction_window)], axis = 1)\n",
    "train_x = selected_train[:10000].as_matrix()\n",
    "test_x = selected_train[10000:15000].as_matrix()"
   ]
  },
  {
   "cell_type": "code",
   "execution_count": 22,
   "metadata": {
    "collapsed": false
   },
   "outputs": [
    {
     "name": "stdout",
     "output_type": "stream",
     "text": [
      "813632\n"
     ]
    }
   ],
   "source": [
    "print(len(full_data))"
   ]
  },
  {
   "cell_type": "code",
   "execution_count": 8,
   "metadata": {
    "collapsed": false
   },
   "outputs": [
    {
     "name": "stdout",
     "output_type": "stream",
     "text": [
      "[[  2.94500000e+01   2.58116700e+06   2.98474946e+01 ...,  -1.00000000e+02\n",
      "    2.95120762e+01  -1.00000000e+00]\n",
      " [  2.92900000e+01   1.92901900e+06   3.10657596e+01 ...,  -8.58585859e+01\n",
      "    2.93640254e+01  -1.00000000e+00]\n",
      " [  2.91700000e+01   3.12025500e+06   3.09954751e+01 ...,  -9.39393939e+01\n",
      "    2.92346751e+01  -1.00000000e+00]\n",
      " ..., \n",
      " [  4.16800000e+01   1.09916060e+07   5.79317269e+01 ...,  -4.27777778e+01\n",
      "    4.19369928e+01   1.00000000e+00]\n",
      " [  4.02900000e+01   1.59412710e+07   5.01340483e+01 ...,  -5.87209302e+01\n",
      "    4.08389976e+01   1.00000000e+00]\n",
      " [  3.95300000e+01   1.07190680e+07   3.80254154e+01 ...,  -1.00000000e+02\n",
      "    3.99663325e+01  -1.00000000e+00]]\n"
     ]
    }
   ],
   "source": [
    "print(train_x)"
   ]
  },
  {
   "cell_type": "code",
   "execution_count": 31,
   "metadata": {
    "collapsed": false
   },
   "outputs": [
    {
     "ename": "ValueError",
     "evalue": "Input contains NaN, infinity or a value too large for dtype('float32').",
     "output_type": "error",
     "traceback": [
      "\u001b[0;31m---------------------------------------------------------------------------\u001b[0m",
      "\u001b[0;31mValueError\u001b[0m                                Traceback (most recent call last)",
      "\u001b[0;32m<ipython-input-31-a180ac17c6f9>\u001b[0m in \u001b[0;36m<module>\u001b[0;34m()\u001b[0m\n\u001b[1;32m      1\u001b[0m \u001b[1;31m# Ignore the warning. Works anyway\u001b[0m\u001b[1;33m\u001b[0m\u001b[1;33m\u001b[0m\u001b[0m\n\u001b[1;32m      2\u001b[0m \u001b[0mRandom_Forest\u001b[0m \u001b[1;33m=\u001b[0m \u001b[0mmake_forest\u001b[0m\u001b[1;33m(\u001b[0m\u001b[0mn_estimators\u001b[0m\u001b[1;33m=\u001b[0m\u001b[1;36m65\u001b[0m\u001b[1;33m,\u001b[0m \u001b[0mmax_features\u001b[0m\u001b[1;33m=\u001b[0m\u001b[0mnum_features\u001b[0m\u001b[1;33m,\u001b[0m \u001b[0mbootstrap\u001b[0m\u001b[1;33m=\u001b[0m\u001b[1;32mTrue\u001b[0m\u001b[1;33m,\u001b[0m \u001b[0moob_score\u001b[0m\u001b[1;33m=\u001b[0m\u001b[1;32mTrue\u001b[0m\u001b[1;33m,\u001b[0m \u001b[0mverbose\u001b[0m\u001b[1;33m=\u001b[0m\u001b[1;36m1\u001b[0m\u001b[1;33m)\u001b[0m\u001b[1;33m\u001b[0m\u001b[0m\n\u001b[0;32m----> 3\u001b[0;31m \u001b[0mRandom_Forest\u001b[0m\u001b[1;33m.\u001b[0m\u001b[0mfit\u001b[0m\u001b[1;33m(\u001b[0m\u001b[0mtrain_x\u001b[0m\u001b[1;33m,\u001b[0m \u001b[0mtrain_y\u001b[0m\u001b[1;33m)\u001b[0m\u001b[1;33m\u001b[0m\u001b[0m\n\u001b[0m",
      "\u001b[0;32mC:\\Users\\Revan\\Anaconda3\\lib\\site-packages\\sklearn\\ensemble\\forest.py\u001b[0m in \u001b[0;36mfit\u001b[0;34m(self, X, y, sample_weight)\u001b[0m\n\u001b[1;32m    210\u001b[0m         \"\"\"\n\u001b[1;32m    211\u001b[0m         \u001b[1;31m# Validate or convert input data\u001b[0m\u001b[1;33m\u001b[0m\u001b[1;33m\u001b[0m\u001b[0m\n\u001b[0;32m--> 212\u001b[0;31m         \u001b[0mX\u001b[0m \u001b[1;33m=\u001b[0m \u001b[0mcheck_array\u001b[0m\u001b[1;33m(\u001b[0m\u001b[0mX\u001b[0m\u001b[1;33m,\u001b[0m \u001b[0mdtype\u001b[0m\u001b[1;33m=\u001b[0m\u001b[0mDTYPE\u001b[0m\u001b[1;33m,\u001b[0m \u001b[0maccept_sparse\u001b[0m\u001b[1;33m=\u001b[0m\u001b[1;34m\"csc\"\u001b[0m\u001b[1;33m)\u001b[0m\u001b[1;33m\u001b[0m\u001b[0m\n\u001b[0m\u001b[1;32m    213\u001b[0m         \u001b[1;32mif\u001b[0m \u001b[0missparse\u001b[0m\u001b[1;33m(\u001b[0m\u001b[0mX\u001b[0m\u001b[1;33m)\u001b[0m\u001b[1;33m:\u001b[0m\u001b[1;33m\u001b[0m\u001b[0m\n\u001b[1;32m    214\u001b[0m             \u001b[1;31m# Pre-sort indices to avoid that each individual tree of the\u001b[0m\u001b[1;33m\u001b[0m\u001b[1;33m\u001b[0m\u001b[0m\n",
      "\u001b[0;32mC:\\Users\\Revan\\Anaconda3\\lib\\site-packages\\sklearn\\utils\\validation.py\u001b[0m in \u001b[0;36mcheck_array\u001b[0;34m(array, accept_sparse, dtype, order, copy, force_all_finite, ensure_2d, allow_nd, ensure_min_samples, ensure_min_features, warn_on_dtype, estimator)\u001b[0m\n\u001b[1;32m    396\u001b[0m                              % (array.ndim, estimator_name))\n\u001b[1;32m    397\u001b[0m         \u001b[1;32mif\u001b[0m \u001b[0mforce_all_finite\u001b[0m\u001b[1;33m:\u001b[0m\u001b[1;33m\u001b[0m\u001b[0m\n\u001b[0;32m--> 398\u001b[0;31m             \u001b[0m_assert_all_finite\u001b[0m\u001b[1;33m(\u001b[0m\u001b[0marray\u001b[0m\u001b[1;33m)\u001b[0m\u001b[1;33m\u001b[0m\u001b[0m\n\u001b[0m\u001b[1;32m    399\u001b[0m \u001b[1;33m\u001b[0m\u001b[0m\n\u001b[1;32m    400\u001b[0m     \u001b[0mshape_repr\u001b[0m \u001b[1;33m=\u001b[0m \u001b[0m_shape_repr\u001b[0m\u001b[1;33m(\u001b[0m\u001b[0marray\u001b[0m\u001b[1;33m.\u001b[0m\u001b[0mshape\u001b[0m\u001b[1;33m)\u001b[0m\u001b[1;33m\u001b[0m\u001b[0m\n",
      "\u001b[0;32mC:\\Users\\Revan\\Anaconda3\\lib\\site-packages\\sklearn\\utils\\validation.py\u001b[0m in \u001b[0;36m_assert_all_finite\u001b[0;34m(X)\u001b[0m\n\u001b[1;32m     52\u001b[0m             and not np.isfinite(X).all()):\n\u001b[1;32m     53\u001b[0m         raise ValueError(\"Input contains NaN, infinity\"\n\u001b[0;32m---> 54\u001b[0;31m                          \" or a value too large for %r.\" % X.dtype)\n\u001b[0m\u001b[1;32m     55\u001b[0m \u001b[1;33m\u001b[0m\u001b[0m\n\u001b[1;32m     56\u001b[0m \u001b[1;33m\u001b[0m\u001b[0m\n",
      "\u001b[0;31mValueError\u001b[0m: Input contains NaN, infinity or a value too large for dtype('float32')."
     ]
    }
   ],
   "source": [
    "# Ignore the warning. Works anyway\n",
    "Random_Forest = make_forest(n_estimators=65, max_features=num_features, bootstrap=True, oob_score=True, verbose=1)\n",
    "Random_Forest.fit(train_x, train_y)"
   ]
  },
  {
   "cell_type": "code",
   "execution_count": 29,
   "metadata": {
    "collapsed": false
   },
   "outputs": [
    {
     "name": "stdout",
     "output_type": "stream",
     "text": [
      "TEST: TREE VS ORIGINAL\n",
      "ACCURACY: 1.0\n"
     ]
    },
    {
     "name": "stderr",
     "output_type": "stream",
     "text": [
      "[Parallel(n_jobs=1)]: Done  49 tasks       | elapsed:    0.0s\n",
      "[Parallel(n_jobs=1)]: Done  65 out of  65 | elapsed:    0.0s finished\n"
     ]
    }
   ],
   "source": [
    "print(\"TEST: TREE VS ORIGINAL\")\n",
    "res = Random_Forest.predict(test_x)\n",
    "print(\"ACCURACY: \"+str(acc(test_y, res)))"
   ]
  },
  {
   "cell_type": "code",
   "execution_count": 21,
   "metadata": {
    "collapsed": false
   },
   "outputs": [
    {
     "name": "stdout",
     "output_type": "stream",
     "text": [
      "[-1. -1. -1. -1. -1. -1. -1. -1. -1. -1. -1. -1.  1.  1.  1.  1.  1.  1.\n",
      "  1.  1.  1.  1.  1.  1. -1. -1. -1. -1. -1. -1. -1. -1. -1. -1. -1. -1.\n",
      " -1. -1. -1. -1. -1. -1. -1. -1. -1. -1. -1. -1. -1. -1. -1. -1. -1. -1.\n",
      " -1. -1. -1.  1.  1.  1.  1.  1.  1.  1.  1.  1.  1.  1.  1.  1.  1.  1.\n",
      "  1.  1.  1.  1.  1.  1.  1.  1.  1.  1.  1.  1.  1.  1.  1.  1.  1.  1.\n",
      "  1.  1.  1.  1.  1.  1.  1.  1.  1.  1.]\n"
     ]
    }
   ],
   "source": [
    "\n",
    "print(test_y)"
   ]
  }
 ],
 "metadata": {
  "kernelspec": {
   "display_name": "Python [conda root]",
   "language": "python",
   "name": "conda-root-py"
  },
  "language_info": {
   "codemirror_mode": {
    "name": "ipython",
    "version": 3
   },
   "file_extension": ".py",
   "mimetype": "text/x-python",
   "name": "python",
   "nbconvert_exporter": "python",
   "pygments_lexer": "ipython3",
   "version": "3.5.2"
  }
 },
 "nbformat": 4,
 "nbformat_minor": 1
}
