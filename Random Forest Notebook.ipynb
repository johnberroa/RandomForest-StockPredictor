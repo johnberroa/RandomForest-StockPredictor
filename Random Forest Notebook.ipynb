{
 "cells": [
  {
   "cell_type": "code",
   "execution_count": 7,
   "metadata": {
    "collapsed": false
   },
   "outputs": [],
   "source": [
    "\"\"\"\n",
    "A random forest classifier aimed at determining whether a stock will be higher or lower after some given amount of days.\n",
    "Replication of Khaidem, Saha, & Roy Dey (2016)\n",
    "\n",
    "Documentation on function:\n",
    "http://scikit-learn.org/stable/modules/generated/sklearn.ensemble.RandomForestClassifier.html\n",
    "\"\"\"\n",
    "\n",
    "import pandas as pd\n",
    "from sklearn.ensemble import RandomForestClassifier as make_forest\n",
    "from sklearn.metrics import mean_squared_error as mse\n",
    "from sklearn.metrics import accuracy_score as acc\n",
    "import numpy as np\n",
    "\n",
    "'''\n",
    "### Outline ###\n",
    "We have a bunch of columns of different length target values\n",
    "We drop all target values except the ones we want to analyze (or else when we remove NA we will remove too much data)\n",
    "We then input the data and features in to the first .fit parameter, and the labels in the second\n",
    "'''\n",
    "\n",
    "num_features = 5\n",
    "prediction_window = 1\n",
    "full_data = pd.read_csv('data_preprocessed.csv')"
   ]
  },
  {
   "cell_type": "code",
   "execution_count": 8,
   "metadata": {
    "collapsed": true
   },
   "outputs": [],
   "source": [
    "# drop all target columns not to be analyzed\n",
    "headers = full_data.columns.values\n",
    "headers = headers[13:] # should return just the headers of the target values\n",
    "headers = headers[headers!='Target({})'.format(prediction_window)]\n",
    "selected_data = full_data.drop(headers, axis=1)\n",
    "selected_data = selected_data.dropna(axis=0, how='any') # using the subset parameter might allow us to skip dropping other targets?"
   ]
  },
  {
   "cell_type": "code",
   "execution_count": null,
   "metadata": {
    "collapsed": false
   },
   "outputs": [],
   "source": []
  },
  {
   "cell_type": "code",
   "execution_count": 9,
   "metadata": {
    "collapsed": false
   },
   "outputs": [],
   "source": [
    "### Drop useless labels ###\n",
    "selected_data.drop([\"Unnamed: 0\"], axis = 1, inplace = True)\n",
    "selected_data.drop([\"Date\"], axis = 1, inplace = True)\n",
    "selected_data.drop([\"Open\",\"High\",\"Low\"], axis = 1, inplace = True)\n",
    "#selected_data.drop([\"Symbol\",\"Open\",\"High\",\"Low\"], axis = 1, inplace = True)\n"
   ]
  },
  {
   "cell_type": "code",
   "execution_count": null,
   "metadata": {
    "collapsed": false
   },
   "outputs": [],
   "source": []
  },
  {
   "cell_type": "code",
   "execution_count": null,
   "metadata": {
    "collapsed": false
   },
   "outputs": [],
   "source": []
  },
  {
   "cell_type": "code",
   "execution_count": 25,
   "metadata": {
    "collapsed": false
   },
   "outputs": [],
   "source": [
    "def train_on_stock(stockname, df, train_frac,prediction_window=30):\n",
    "    train_labels = [\"Close\",\"Volume\",\"EWMA\", \"SO\",\"WR\",\"RSI\"]\n",
    "    #PROC\n",
    "    symbole_df = df[df[\"Symbol\"]==stockname]\n",
    "    msk = np.random.rand(len(symbole_df)) < train_frac\n",
    "\n",
    "    train_df = symbole_df[msk]\n",
    "    test_df = symbole_df[~msk]\n",
    "    \n",
    "    train_y = train_df['Target({})'.format(prediction_window)].as_matrix()\n",
    "    train_x = train_df[train_labels].as_matrix()\n",
    "    \n",
    "    test_y = test_df['Target({})'.format(prediction_window)].as_matrix()\n",
    "    test_x =test_df[train_labels].as_matrix()\n",
    "    \n",
    "    \n",
    "    Random_Forest = make_forest(n_estimators=65, max_features=6, bootstrap=True, oob_score=True, verbose=1,n_jobs=-1)\n",
    "    Random_Forest.fit(train_x, train_y)\n",
    "        \n",
    "    res = Random_Forest.predict(test_x)\n",
    "    test_accurency = Random_Forest.score(test_x, test_y)\n",
    "    return Random_Forest, test_accurency\n",
    "\n",
    "def train_on_market(df,train_frac,prediction_windows=30):\n",
    "    train_labels = [\"Close\",\"Volume\",\"EWMA\", \"SO\",\"WR\",\"RSI\"]\n",
    "    #PROC\n",
    "    msk = np.random.rand(len(df)) < train_frac\n",
    "    \n",
    "    train_df = df[msk]\n",
    "    test_df = df[~msk]\n",
    "    \n",
    "    train_y = train_df['Target({})'.format(prediction_window)].as_matrix()\n",
    "    train_x = train_df[train_labels].as_matrix()\n",
    "    \n",
    "    test_y = test_df['Target({})'.format(prediction_window)].as_matrix()\n",
    "    test_x =test_df[train_labels].as_matrix()\n",
    "    \n",
    "    Random_Forest = make_forest(n_estimators=65, max_features=6, bootstrap=True, oob_score=True, verbose=1,n_jobs=-1)\n",
    "    Random_Forest.fit(train_x, train_y)\n",
    "        \n",
    "    \n",
    "    test_accurency = Random_Forest.score(test_x, test_y)\n",
    "    return Random_Forest, test_accurency\n",
    "\n",
    "def test_for_stock(stockname, df, forest, prediction_windows):\n",
    "    train_labels = [\"Close\",\"Volume\",\"EWMA\", \"SO\",\"WR\",\"RSI\"]\n",
    "\n",
    "    test_y = df['Target({})'.format(prediction_window)].as_matrix()\n",
    "    test_x = df[train_labels].as_matrix()\n",
    "    \n",
    "    return forest.score(test_x,test_y)"
   ]
  },
  {
   "cell_type": "code",
   "execution_count": 20,
   "metadata": {
    "collapsed": false
   },
   "outputs": [
    {
     "name": "stderr",
     "output_type": "stream",
     "text": [
      "[Parallel(n_jobs=-1)]: Done  42 tasks      | elapsed:    0.1s\n",
      "[Parallel(n_jobs=-1)]: Done  65 out of  65 | elapsed:    0.2s finished\n",
      "[Parallel(n_jobs=4)]: Done  42 tasks      | elapsed:    0.0s\n",
      "[Parallel(n_jobs=4)]: Done  65 out of  65 | elapsed:    0.0s finished\n",
      "[Parallel(n_jobs=4)]: Done  42 tasks      | elapsed:    0.0s\n",
      "[Parallel(n_jobs=4)]: Done  65 out of  65 | elapsed:    0.0s finished\n",
      "[Parallel(n_jobs=-1)]: Done  42 tasks      | elapsed:    0.0s\n",
      "[Parallel(n_jobs=-1)]: Done  65 out of  65 | elapsed:    0.1s finished\n"
     ]
    },
    {
     "name": "stdout",
     "output_type": "stream",
     "text": [
      "(<361x24321 sparse matrix of type '<class 'numpy.int64'>'\n",
      "\twith 225399 stored elements in Compressed Sparse Row format>, array([    0,   407,   776,  1179,  1576,  1965,  2348,  2725,  3084,\n",
      "        3437,  3820,  4211,  4592,  4975,  5360,  5713,  6100,  6491,\n",
      "        6858,  7219,  7590,  7949,  8348,  8715,  9074,  9443,  9808,\n",
      "       10175, 10534, 10893, 11264, 11633, 12020, 12397, 12778, 13179,\n",
      "       13574, 13953, 14286, 14643, 15028, 15397, 15728, 16091, 16466,\n",
      "       16841, 17250, 17639, 17994, 18351, 18724, 19079, 19466, 19853,\n",
      "       20224, 20611, 20986, 21339, 21708, 22077, 22454, 22841, 23198,\n",
      "       23555, 23924, 24321]))\n"
     ]
    },
    {
     "name": "stderr",
     "output_type": "stream",
     "text": [
      "[Parallel(n_jobs=-1)]: Done  42 tasks      | elapsed:    0.1s\n",
      "[Parallel(n_jobs=-1)]: Done  65 out of  65 | elapsed:    0.1s finished\n",
      "[Parallel(n_jobs=4)]: Done  42 tasks      | elapsed:    0.0s\n",
      "[Parallel(n_jobs=4)]: Done  65 out of  65 | elapsed:    0.0s finished\n",
      "[Parallel(n_jobs=4)]: Done  42 tasks      | elapsed:    0.0s\n",
      "[Parallel(n_jobs=4)]: Done  65 out of  65 | elapsed:    0.0s finished\n",
      "[Parallel(n_jobs=-1)]: Done  42 tasks      | elapsed:    0.0s\n",
      "[Parallel(n_jobs=-1)]: Done  65 out of  65 | elapsed:    0.1s finished\n"
     ]
    },
    {
     "name": "stdout",
     "output_type": "stream",
     "text": [
      "(<171x25907 sparse matrix of type '<class 'numpy.int64'>'\n",
      "\twith 103170 stored elements in Compressed Sparse Row format>, array([    0,   427,   822,  1249,  1652,  2077,  2478,  2867,  3258,\n",
      "        3669,  4072,  4473,  4848,  5241,  5608,  6001,  6392,  6781,\n",
      "        7208,  7597,  8000,  8403,  8794,  9193,  9576,  9971, 10372,\n",
      "       10777, 11184, 11581, 11968, 12343, 12774, 13159, 13542, 13911,\n",
      "       14310, 14703, 15114, 15513, 15932, 16335, 16730, 17143, 17542,\n",
      "       17947, 18348, 18763, 19148, 19571, 19968, 20377, 20796, 21163,\n",
      "       21574, 21947, 22346, 22731, 23108, 23529, 23922, 24317, 24684,\n",
      "       25103, 25504, 25907]))\n"
     ]
    },
    {
     "name": "stderr",
     "output_type": "stream",
     "text": [
      "[Parallel(n_jobs=-1)]: Done  42 tasks      | elapsed:    0.1s\n",
      "[Parallel(n_jobs=-1)]: Done  65 out of  65 | elapsed:    0.1s finished\n",
      "[Parallel(n_jobs=4)]: Done  42 tasks      | elapsed:    0.0s\n",
      "[Parallel(n_jobs=4)]: Done  65 out of  65 | elapsed:    0.0s finished\n",
      "[Parallel(n_jobs=4)]: Done  42 tasks      | elapsed:    0.0s\n",
      "[Parallel(n_jobs=4)]: Done  65 out of  65 | elapsed:    0.0s finished\n",
      "[Parallel(n_jobs=-1)]: Done  42 tasks      | elapsed:    0.0s\n",
      "[Parallel(n_jobs=-1)]: Done  65 out of  65 | elapsed:    0.1s finished\n"
     ]
    },
    {
     "name": "stdout",
     "output_type": "stream",
     "text": [
      "(<160x13351 sparse matrix of type '<class 'numpy.int64'>'\n",
      "\twith 81223 stored elements in Compressed Sparse Row format>, array([    0,   193,   406,   605,   814,  1031,  1216,  1437,  1650,\n",
      "        1827,  2016,  2219,  2430,  2625,  2830,  3025,  3214,  3443,\n",
      "        3662,  3879,  4078,  4253,  4470,  4667,  4866,  5085,  5280,\n",
      "        5491,  5702,  5937,  6142,  6343,  6542,  6767,  6964,  7145,\n",
      "        7362,  7565,  7766,  7969,  8202,  8401,  8602,  8807,  9020,\n",
      "        9223,  9428,  9641,  9854, 10045, 10240, 10439, 10648, 10855,\n",
      "       11082, 11277, 11484, 11679, 11888, 12085, 12284, 12499, 12712,\n",
      "       12931, 13126, 13351]))\n"
     ]
    },
    {
     "name": "stderr",
     "output_type": "stream",
     "text": [
      "[Parallel(n_jobs=-1)]: Done  42 tasks      | elapsed:    0.1s\n",
      "[Parallel(n_jobs=-1)]: Done  65 out of  65 | elapsed:    0.2s finished\n",
      "[Parallel(n_jobs=4)]: Done  42 tasks      | elapsed:    0.0s\n",
      "[Parallel(n_jobs=4)]: Done  65 out of  65 | elapsed:    0.0s finished\n",
      "[Parallel(n_jobs=4)]: Done  42 tasks      | elapsed:    0.0s\n",
      "[Parallel(n_jobs=4)]: Done  65 out of  65 | elapsed:    0.0s finished\n",
      "[Parallel(n_jobs=-1)]: Done  42 tasks      | elapsed:    0.0s\n",
      "[Parallel(n_jobs=-1)]: Done  65 out of  65 | elapsed:    0.0s finished\n"
     ]
    },
    {
     "name": "stdout",
     "output_type": "stream",
     "text": [
      "(<368x11197 sparse matrix of type '<class 'numpy.int64'>'\n",
      "\twith 157752 stored elements in Compressed Sparse Row format>, array([    0,   171,   326,   485,   660,   843,   990,  1157,  1320,\n",
      "        1491,  1666,  1811,  1972,  2129,  2308,  2475,  2652,  2823,\n",
      "        2982,  3141,  3304,  3471,  3644,  3823,  4012,  4145,  4322,\n",
      "        4467,  4636,  4817,  4972,  5153,  5332,  5499,  5676,  5869,\n",
      "        6054,  6229,  6398,  6527,  6700,  6879,  7080,  7237,  7416,\n",
      "        7593,  7802,  7979,  8176,  8341,  8532,  8705,  8886,  9083,\n",
      "        9268,  9439,  9622,  9773,  9956, 10145, 10326, 10509, 10688,\n",
      "       10869, 11030, 11197]))\n"
     ]
    },
    {
     "name": "stderr",
     "output_type": "stream",
     "text": [
      "[Parallel(n_jobs=-1)]: Done  42 tasks      | elapsed:    0.1s\n",
      "[Parallel(n_jobs=-1)]: Done  65 out of  65 | elapsed:    0.1s finished\n",
      "[Parallel(n_jobs=4)]: Done  42 tasks      | elapsed:    0.0s\n",
      "[Parallel(n_jobs=4)]: Done  65 out of  65 | elapsed:    0.0s finished\n",
      "[Parallel(n_jobs=4)]: Done  42 tasks      | elapsed:    0.0s\n",
      "[Parallel(n_jobs=4)]: Done  65 out of  65 | elapsed:    0.0s finished\n",
      "[Parallel(n_jobs=-1)]: Done  42 tasks      | elapsed:    0.0s\n",
      "[Parallel(n_jobs=-1)]: Done  65 out of  65 | elapsed:    0.1s finished\n"
     ]
    },
    {
     "name": "stdout",
     "output_type": "stream",
     "text": [
      "(<208x26989 sparse matrix of type '<class 'numpy.int64'>'\n",
      "\twith 130353 stored elements in Compressed Sparse Row format>, array([    0,   407,   804,  1227,  1686,  2101,  2468,  2889,  3318,\n",
      "        3699,  4126,  4523,  4928,  5327,  5726,  6155,  6566,  7001,\n",
      "        7428,  7817,  8224,  8631,  9052,  9483,  9912, 10347, 10740,\n",
      "       11149, 11576, 12019, 12432, 12851, 13260, 13677, 14092, 14493,\n",
      "       14914, 15299, 15698, 16121, 16540, 16977, 17420, 17827, 18242,\n",
      "       18683, 19108, 19527, 19906, 20319, 20750, 21135, 21536, 21947,\n",
      "       22354, 22759, 23168, 23593, 24006, 24437, 24862, 25293, 25726,\n",
      "       26175, 26592, 26989]))\n"
     ]
    },
    {
     "name": "stderr",
     "output_type": "stream",
     "text": [
      "[Parallel(n_jobs=-1)]: Done  42 tasks      | elapsed:    0.1s\n",
      "[Parallel(n_jobs=-1)]: Done  65 out of  65 | elapsed:    0.2s finished\n",
      "[Parallel(n_jobs=4)]: Done  42 tasks      | elapsed:    0.0s\n",
      "[Parallel(n_jobs=4)]: Done  65 out of  65 | elapsed:    0.0s finished\n",
      "[Parallel(n_jobs=4)]: Done  42 tasks      | elapsed:    0.0s\n",
      "[Parallel(n_jobs=4)]: Done  65 out of  65 | elapsed:    0.0s finished\n",
      "[Parallel(n_jobs=-1)]: Done  42 tasks      | elapsed:    0.0s\n",
      "[Parallel(n_jobs=-1)]: Done  65 out of  65 | elapsed:    0.1s finished\n"
     ]
    },
    {
     "name": "stdout",
     "output_type": "stream",
     "text": [
      "(<391x16447 sparse matrix of type '<class 'numpy.int64'>'\n",
      "\twith 232688 stored elements in Compressed Sparse Row format>, array([    0,   243,   502,   755,   996,  1263,  1508,  1759,  2016,\n",
      "        2257,  2524,  2759,  3020,  3275,  3552,  3811,  4082,  4345,\n",
      "        4574,  4833,  5096,  5345,  5570,  5827,  6080,  6317,  6546,\n",
      "        6785,  7046,  7293,  7538,  7783,  8018,  8269,  8540,  8783,\n",
      "        9016,  9277,  9546,  9807, 10062, 10321, 10566, 10815, 11050,\n",
      "       11305, 11572, 11819, 12104, 12365, 12618, 12877, 13106, 13349,\n",
      "       13616, 13863, 14108, 14365, 14620, 14885, 15152, 15397, 15656,\n",
      "       15907, 16168, 16447]))\n"
     ]
    },
    {
     "name": "stderr",
     "output_type": "stream",
     "text": [
      "[Parallel(n_jobs=-1)]: Done  42 tasks      | elapsed:    0.1s\n",
      "[Parallel(n_jobs=-1)]: Done  65 out of  65 | elapsed:    0.2s finished\n",
      "[Parallel(n_jobs=4)]: Done  42 tasks      | elapsed:    0.0s\n",
      "[Parallel(n_jobs=4)]: Done  65 out of  65 | elapsed:    0.0s finished\n",
      "[Parallel(n_jobs=4)]: Done  42 tasks      | elapsed:    0.0s\n",
      "[Parallel(n_jobs=4)]: Done  65 out of  65 | elapsed:    0.0s finished\n",
      "[Parallel(n_jobs=-1)]: Done  42 tasks      | elapsed:    0.0s\n",
      "[Parallel(n_jobs=-1)]: Done  65 out of  65 | elapsed:    0.1s finished\n"
     ]
    },
    {
     "name": "stdout",
     "output_type": "stream",
     "text": [
      "(<352x26103 sparse matrix of type '<class 'numpy.int64'>'\n",
      "\twith 222346 stored elements in Compressed Sparse Row format>, array([    0,   417,   812,  1221,  1612,  2035,  2462,  2871,  3286,\n",
      "        3683,  4090,  4497,  4906,  5319,  5700,  6099,  6484,  6891,\n",
      "        7294,  7735,  8132,  8541,  8946,  9347,  9736, 10167, 10572,\n",
      "       10973, 11366, 11761, 12154, 12537, 12924, 13317, 13694, 14087,\n",
      "       14458, 14865, 15268, 15685, 16082, 16487, 16906, 17301, 17704,\n",
      "       18099, 18506, 18915, 19306, 19693, 20106, 20497, 20896, 21279,\n",
      "       21690, 22075, 22454, 22843, 23254, 23667, 24064, 24485, 24916,\n",
      "       25305, 25702, 26103]))\n"
     ]
    },
    {
     "name": "stderr",
     "output_type": "stream",
     "text": [
      "[Parallel(n_jobs=-1)]: Done  42 tasks      | elapsed:    0.1s\n",
      "[Parallel(n_jobs=-1)]: Done  65 out of  65 | elapsed:    0.2s finished\n",
      "[Parallel(n_jobs=4)]: Done  42 tasks      | elapsed:    0.0s\n",
      "[Parallel(n_jobs=4)]: Done  65 out of  65 | elapsed:    0.0s finished\n",
      "[Parallel(n_jobs=4)]: Done  42 tasks      | elapsed:    0.0s\n",
      "[Parallel(n_jobs=4)]: Done  65 out of  65 | elapsed:    0.0s finished\n",
      "[Parallel(n_jobs=-1)]: Done  42 tasks      | elapsed:    0.0s\n",
      "[Parallel(n_jobs=-1)]: Done  65 out of  65 | elapsed:    0.1s finished\n"
     ]
    },
    {
     "name": "stdout",
     "output_type": "stream",
     "text": [
      "(<378x27957 sparse matrix of type '<class 'numpy.int64'>'\n",
      "\twith 238891 stored elements in Compressed Sparse Row format>, array([    0,   393,   806,  1239,  1664,  2109,  2540,  2993,  3414,\n",
      "        3827,  4254,  4713,  5170,  5585,  5980,  6393,  6804,  7199,\n",
      "        7636,  8083,  8488,  8939,  9372,  9855, 10292, 10715, 11126,\n",
      "       11517, 11964, 12403, 12844, 13267, 13700, 14117, 14568, 15003,\n",
      "       15418, 15845, 16294, 16723, 17154, 17597, 18034, 18501, 18926,\n",
      "       19365, 19780, 20215, 20664, 21103, 21536, 21955, 22378, 22819,\n",
      "       23248, 23663, 24098, 24539, 24968, 25413, 25892, 26309, 26720,\n",
      "       27149, 27558, 27957]))\n"
     ]
    },
    {
     "name": "stderr",
     "output_type": "stream",
     "text": [
      "[Parallel(n_jobs=-1)]: Done  42 tasks      | elapsed:    0.1s\n",
      "[Parallel(n_jobs=-1)]: Done  65 out of  65 | elapsed:    0.1s finished\n",
      "[Parallel(n_jobs=4)]: Done  42 tasks      | elapsed:    0.0s\n",
      "[Parallel(n_jobs=4)]: Done  65 out of  65 | elapsed:    0.0s finished\n",
      "[Parallel(n_jobs=4)]: Done  42 tasks      | elapsed:    0.0s\n",
      "[Parallel(n_jobs=4)]: Done  65 out of  65 | elapsed:    0.0s finished\n",
      "[Parallel(n_jobs=-1)]: Done  42 tasks      | elapsed:    0.0s\n",
      "[Parallel(n_jobs=-1)]: Done  65 out of  65 | elapsed:    0.1s finished\n"
     ]
    },
    {
     "name": "stdout",
     "output_type": "stream",
     "text": [
      "(<259x25909 sparse matrix of type '<class 'numpy.int64'>'\n",
      "\twith 159813 stored elements in Compressed Sparse Row format>, array([    0,   407,   794,  1229,  1672,  2077,  2454,  2871,  3276,\n",
      "        3679,  4082,  4495,  4904,  5321,  5722,  6109,  6498,  6893,\n",
      "        7280,  7659,  8062,  8439,  8820,  9179,  9610,  9995, 10396,\n",
      "       10793, 11184, 11587, 11976, 12363, 12778, 13193, 13582, 13999,\n",
      "       14384, 14797, 15166, 15585, 15980, 16371, 16754, 17157, 17534,\n",
      "       17975, 18374, 18767, 19166, 19545, 19970, 20395, 20794, 21189,\n",
      "       21560, 21945, 22362, 22753, 23138, 23537, 23928, 24323, 24722,\n",
      "       25107, 25498, 25909]))\n"
     ]
    },
    {
     "name": "stderr",
     "output_type": "stream",
     "text": [
      "[Parallel(n_jobs=-1)]: Done  42 tasks      | elapsed:    0.1s\n",
      "[Parallel(n_jobs=-1)]: Done  65 out of  65 | elapsed:    0.2s finished\n",
      "[Parallel(n_jobs=4)]: Done  42 tasks      | elapsed:    0.0s\n",
      "[Parallel(n_jobs=4)]: Done  65 out of  65 | elapsed:    0.0s finished\n",
      "[Parallel(n_jobs=4)]: Done  42 tasks      | elapsed:    0.0s\n",
      "[Parallel(n_jobs=4)]: Done  65 out of  65 | elapsed:    0.0s finished\n",
      "[Parallel(n_jobs=-1)]: Done  42 tasks      | elapsed:    0.0s\n",
      "[Parallel(n_jobs=-1)]: Done  65 out of  65 | elapsed:    0.1s finished\n"
     ]
    },
    {
     "name": "stdout",
     "output_type": "stream",
     "text": [
      "(<373x18351 sparse matrix of type '<class 'numpy.int64'>'\n",
      "\twith 222396 stored elements in Compressed Sparse Row format>, array([    0,   291,   580,   843,  1108,  1389,  1686,  1977,  2274,\n",
      "        2559,  2838,  3129,  3398,  3647,  3928,  4201,  4482,  4751,\n",
      "        5022,  5315,  5596,  5883,  6160,  6461,  6732,  7009,  7288,\n",
      "        7561,  7860,  8137,  8388,  8665,  8940,  9211,  9480,  9773,\n",
      "       10052, 10361, 10650, 10929, 11202, 11487, 11774, 12065, 12348,\n",
      "       12637, 12916, 13217, 13490, 13757, 14046, 14345, 14646, 14945,\n",
      "       15232, 15499, 15786, 16099, 16398, 16687, 16974, 17241, 17520,\n",
      "       17807, 18084, 18351]))\n"
     ]
    },
    {
     "name": "stderr",
     "output_type": "stream",
     "text": [
      "[Parallel(n_jobs=-1)]: Done  42 tasks      | elapsed:    0.1s\n",
      "[Parallel(n_jobs=-1)]: Done  65 out of  65 | elapsed:    0.2s finished\n",
      "[Parallel(n_jobs=4)]: Done  42 tasks      | elapsed:    0.0s\n",
      "[Parallel(n_jobs=4)]: Done  65 out of  65 | elapsed:    0.0s finished\n",
      "[Parallel(n_jobs=4)]: Done  42 tasks      | elapsed:    0.0s\n",
      "[Parallel(n_jobs=4)]: Done  65 out of  65 | elapsed:    0.0s finished\n",
      "[Parallel(n_jobs=-1)]: Done  42 tasks      | elapsed:    0.0s\n",
      "[Parallel(n_jobs=-1)]: Done  65 out of  65 | elapsed:    0.1s finished\n"
     ]
    },
    {
     "name": "stdout",
     "output_type": "stream",
     "text": [
      "(<369x26183 sparse matrix of type '<class 'numpy.int64'>'\n",
      "\twith 214664 stored elements in Compressed Sparse Row format>, array([    0,   383,   792,  1207,  1598,  1981,  2378,  2797,  3190,\n",
      "        3613,  4036,  4457,  4900,  5315,  5736,  6127,  6530,  6941,\n",
      "        7330,  7723,  8118,  8535,  8956,  9359,  9740, 10155, 10568,\n",
      "       10991, 11382, 11791, 12186, 12601, 12982, 13423, 13832, 14227,\n",
      "       14636, 15025, 15426, 15795, 16174, 16607, 17032, 17429, 17820,\n",
      "       18209, 18600, 18979, 19384, 19783, 20156, 20565, 20952, 21333,\n",
      "       21766, 22161, 22582, 23005, 23402, 23823, 24198, 24593, 24998,\n",
      "       25393, 25766, 26183]))\n"
     ]
    },
    {
     "name": "stderr",
     "output_type": "stream",
     "text": [
      "[Parallel(n_jobs=-1)]: Done  42 tasks      | elapsed:    0.1s\n",
      "[Parallel(n_jobs=-1)]: Done  65 out of  65 | elapsed:    0.2s finished\n",
      "[Parallel(n_jobs=4)]: Done  42 tasks      | elapsed:    0.0s\n",
      "[Parallel(n_jobs=4)]: Done  65 out of  65 | elapsed:    0.0s finished\n",
      "[Parallel(n_jobs=4)]: Done  42 tasks      | elapsed:    0.0s\n",
      "[Parallel(n_jobs=4)]: Done  65 out of  65 | elapsed:    0.0s finished\n",
      "[Parallel(n_jobs=-1)]: Done  42 tasks      | elapsed:    0.0s\n",
      "[Parallel(n_jobs=-1)]: Done  65 out of  65 | elapsed:    0.1s finished\n"
     ]
    },
    {
     "name": "stdout",
     "output_type": "stream",
     "text": [
      "(<362x26451 sparse matrix of type '<class 'numpy.int64'>'\n",
      "\twith 215760 stored elements in Compressed Sparse Row format>, array([    0,   375,   810,  1233,  1628,  2047,  2484,  2897,  3276,\n",
      "        3709,  4138,  4557,  4954,  5349,  5802,  6231,  6636,  7051,\n",
      "        7500,  7899,  8284,  8695,  9082,  9503,  9908, 10307, 10712,\n",
      "       11123, 11542, 11965, 12392, 12787, 13190, 13573, 13974, 14357,\n",
      "       14776, 15177, 15578, 15979, 16346, 16779, 17200, 17625, 18020,\n",
      "       18441, 18832, 19235, 19642, 20051, 20448, 20853, 21256, 21661,\n",
      "       22036, 22437, 22876, 23281, 23720, 24087, 24468, 24851, 25236,\n",
      "       25631, 26018, 26451]))\n"
     ]
    },
    {
     "name": "stderr",
     "output_type": "stream",
     "text": [
      "[Parallel(n_jobs=-1)]: Done  42 tasks      | elapsed:    0.1s\n",
      "[Parallel(n_jobs=-1)]: Done  65 out of  65 | elapsed:    0.2s finished\n",
      "[Parallel(n_jobs=4)]: Done  42 tasks      | elapsed:    0.0s\n",
      "[Parallel(n_jobs=4)]: Done  65 out of  65 | elapsed:    0.0s finished\n",
      "[Parallel(n_jobs=4)]: Done  42 tasks      | elapsed:    0.0s\n",
      "[Parallel(n_jobs=4)]: Done  65 out of  65 | elapsed:    0.0s finished\n",
      "[Parallel(n_jobs=-1)]: Done  42 tasks      | elapsed:    0.0s\n",
      "[Parallel(n_jobs=-1)]: Done  65 out of  65 | elapsed:    0.1s finished\n"
     ]
    },
    {
     "name": "stdout",
     "output_type": "stream",
     "text": [
      "(<355x27343 sparse matrix of type '<class 'numpy.int64'>'\n",
      "\twith 218285 stored elements in Compressed Sparse Row format>, array([    0,   409,   852,  1307,  1730,  2149,  2568,  3025,  3448,\n",
      "        3855,  4262,  4689,  5080,  5527,  5984,  6419,  6848,  7265,\n",
      "        7686,  8103,  8520,  8935,  9380,  9823, 10240, 10661, 11094,\n",
      "       11509, 11930, 12369, 12782, 13201, 13604, 14003, 14426, 14869,\n",
      "       15264, 15697, 16124, 16497, 16928, 17343, 17734, 18165, 18578,\n",
      "       19033, 19416, 19849, 20276, 20705, 21136, 21569, 21946, 22393,\n",
      "       22814, 23225, 23598, 23997, 24452, 24861, 25296, 25729, 26150,\n",
      "       26561, 26960, 27343]))\n"
     ]
    },
    {
     "name": "stderr",
     "output_type": "stream",
     "text": [
      "[Parallel(n_jobs=-1)]: Done  42 tasks      | elapsed:    0.1s\n",
      "[Parallel(n_jobs=-1)]: Done  65 out of  65 | elapsed:    0.1s finished\n",
      "[Parallel(n_jobs=4)]: Done  42 tasks      | elapsed:    0.0s\n",
      "[Parallel(n_jobs=4)]: Done  65 out of  65 | elapsed:    0.0s finished\n",
      "[Parallel(n_jobs=4)]: Done  42 tasks      | elapsed:    0.0s\n",
      "[Parallel(n_jobs=4)]: Done  65 out of  65 | elapsed:    0.0s finished\n",
      "[Parallel(n_jobs=-1)]: Done  42 tasks      | elapsed:    0.0s\n",
      "[Parallel(n_jobs=-1)]: Done  65 out of  65 | elapsed:    0.1s finished\n"
     ]
    },
    {
     "name": "stdout",
     "output_type": "stream",
     "text": [
      "(<130x25821 sparse matrix of type '<class 'numpy.int64'>'\n",
      "\twith 76873 stored elements in Compressed Sparse Row format>, array([    0,   391,   796,  1193,  1570,  1957,  2352,  2765,  3184,\n",
      "        3589,  3974,  4379,  4792,  5171,  5590,  5985,  6396,  6777,\n",
      "        7184,  7613,  8014,  8391,  8804,  9189,  9562,  9997, 10396,\n",
      "       10797, 11154, 11571, 11940, 12311, 12736, 13147, 13540, 13919,\n",
      "       14318, 14699, 15106, 15481, 15894, 16279, 16674, 17089, 17486,\n",
      "       17889, 18288, 18681, 19102, 19507, 19900, 20293, 20698, 21085,\n",
      "       21484, 21887, 22266, 22663, 23080, 23475, 23864, 24255, 24628,\n",
      "       25021, 25432, 25821]))\n"
     ]
    },
    {
     "name": "stderr",
     "output_type": "stream",
     "text": [
      "[Parallel(n_jobs=-1)]: Done  42 tasks      | elapsed:    0.1s\n",
      "[Parallel(n_jobs=-1)]: Done  65 out of  65 | elapsed:    0.1s finished\n",
      "[Parallel(n_jobs=4)]: Done  42 tasks      | elapsed:    0.0s\n",
      "[Parallel(n_jobs=4)]: Done  65 out of  65 | elapsed:    0.0s finished\n",
      "[Parallel(n_jobs=4)]: Done  42 tasks      | elapsed:    0.0s\n",
      "[Parallel(n_jobs=4)]: Done  65 out of  65 | elapsed:    0.0s finished\n",
      "[Parallel(n_jobs=-1)]: Done  42 tasks      | elapsed:    0.0s\n",
      "[Parallel(n_jobs=-1)]: Done  65 out of  65 | elapsed:    0.1s finished\n"
     ]
    },
    {
     "name": "stdout",
     "output_type": "stream",
     "text": [
      "(<368x9533 sparse matrix of type '<class 'numpy.int64'>'\n",
      "\twith 181499 stored elements in Compressed Sparse Row format>, array([   0,  131,  278,  419,  560,  719,  860,  991, 1128, 1269, 1394,\n",
      "       1553, 1704, 1865, 2024, 2147, 2304, 2451, 2610, 2759, 2888, 3051,\n",
      "       3178, 3311, 3468, 3597, 3748, 3893, 4056, 4191, 4324, 4465, 4606,\n",
      "       4753, 4902, 5069, 5208, 5351, 5506, 5659, 5812, 5979, 6142, 6293,\n",
      "       6456, 6589, 6730, 6891, 7036, 7181, 7326, 7495, 7620, 7775, 7930,\n",
      "       8077, 8220, 8375, 8518, 8673, 8808, 8967, 9108, 9257, 9398, 9533]))\n"
     ]
    },
    {
     "name": "stderr",
     "output_type": "stream",
     "text": [
      "[Parallel(n_jobs=-1)]: Done  42 tasks      | elapsed:    0.1s\n",
      "[Parallel(n_jobs=-1)]: Done  65 out of  65 | elapsed:    0.2s finished\n",
      "[Parallel(n_jobs=4)]: Done  42 tasks      | elapsed:    0.0s\n",
      "[Parallel(n_jobs=4)]: Done  65 out of  65 | elapsed:    0.0s finished\n",
      "[Parallel(n_jobs=4)]: Done  42 tasks      | elapsed:    0.0s\n",
      "[Parallel(n_jobs=4)]: Done  65 out of  65 | elapsed:    0.0s finished\n",
      "[Parallel(n_jobs=-1)]: Done  42 tasks      | elapsed:    0.0s\n",
      "[Parallel(n_jobs=-1)]: Done  65 out of  65 | elapsed:    0.1s finished\n"
     ]
    },
    {
     "name": "stdout",
     "output_type": "stream",
     "text": [
      "(<352x26469 sparse matrix of type '<class 'numpy.int64'>'\n",
      "\twith 206805 stored elements in Compressed Sparse Row format>, array([    0,   415,   822,  1215,  1624,  2031,  2470,  2887,  3298,\n",
      "        3707,  4114,  4557,  4978,  5371,  5780,  6197,  6586,  7007,\n",
      "        7412,  7823,  8226,  8637,  9044,  9453,  9838, 10253, 10662,\n",
      "       11085, 11482, 11915, 12304, 12695, 13072, 13511, 13894, 14275,\n",
      "       14676, 15073, 15470, 15873, 16294, 16733, 17126, 17557, 17932,\n",
      "       18297, 18690, 19119, 19510, 19927, 20348, 20759, 21164, 21565,\n",
      "       21988, 22413, 22832, 23231, 23592, 23999, 24440, 24833, 25250,\n",
      "       25681, 26082, 26469]))\n"
     ]
    },
    {
     "name": "stderr",
     "output_type": "stream",
     "text": [
      "[Parallel(n_jobs=-1)]: Done  42 tasks      | elapsed:    0.1s\n",
      "[Parallel(n_jobs=-1)]: Done  65 out of  65 | elapsed:    0.2s finished\n",
      "[Parallel(n_jobs=4)]: Done  42 tasks      | elapsed:    0.0s\n",
      "[Parallel(n_jobs=4)]: Done  65 out of  65 | elapsed:    0.0s finished\n",
      "[Parallel(n_jobs=4)]: Done  42 tasks      | elapsed:    0.0s\n",
      "[Parallel(n_jobs=4)]: Done  65 out of  65 | elapsed:    0.0s finished\n",
      "[Parallel(n_jobs=-1)]: Done  42 tasks      | elapsed:    0.0s\n",
      "[Parallel(n_jobs=-1)]: Done  65 out of  65 | elapsed:    0.1s finished\n"
     ]
    },
    {
     "name": "stdout",
     "output_type": "stream",
     "text": [
      "(<341x26165 sparse matrix of type '<class 'numpy.int64'>'\n",
      "\twith 215706 stored elements in Compressed Sparse Row format>, array([    0,   413,   814,  1201,  1606,  2029,  2412,  2807,  3208,\n",
      "        3633,  4040,  4445,  4868,  5273,  5692,  6095,  6508,  6893,\n",
      "        7294,  7689,  8084,  8499,  8880,  9285,  9664, 10063, 10440,\n",
      "       10843, 11222, 11639, 12044, 12479, 12870, 13269, 13644, 14019,\n",
      "       14412, 14819, 15190, 15611, 16014, 16409, 16828, 17229, 17666,\n",
      "       18067, 18518, 18879, 19286, 19701, 20076, 20461, 20842, 21275,\n",
      "       21664, 22065, 22458, 22873, 23304, 23723, 24108, 24531, 24938,\n",
      "       25369, 25778, 26165]))\n"
     ]
    },
    {
     "name": "stderr",
     "output_type": "stream",
     "text": [
      "[Parallel(n_jobs=-1)]: Done  42 tasks      | elapsed:    0.1s\n",
      "[Parallel(n_jobs=-1)]: Done  65 out of  65 | elapsed:    0.1s finished\n",
      "[Parallel(n_jobs=4)]: Done  42 tasks      | elapsed:    0.0s\n",
      "[Parallel(n_jobs=4)]: Done  65 out of  65 | elapsed:    0.0s finished\n",
      "[Parallel(n_jobs=4)]: Done  42 tasks      | elapsed:    0.0s\n",
      "[Parallel(n_jobs=4)]: Done  65 out of  65 | elapsed:    0.0s finished\n",
      "[Parallel(n_jobs=-1)]: Done  42 tasks      | elapsed:    0.0s\n",
      "[Parallel(n_jobs=-1)]: Done  65 out of  65 | elapsed:    0.1s finished\n"
     ]
    },
    {
     "name": "stdout",
     "output_type": "stream",
     "text": [
      "(<193x25703 sparse matrix of type '<class 'numpy.int64'>'\n",
      "\twith 115624 stored elements in Compressed Sparse Row format>, array([    0,   389,   782,  1185,  1572,  1973,  2376,  2817,  3186,\n",
      "        3583,  3976,  4363,  4728,  5123,  5542,  5967,  6368,  6733,\n",
      "        7128,  7525,  7888,  8273,  8688,  9085,  9480,  9895, 10264,\n",
      "       10645, 11038, 11437, 11810, 12193, 12598, 12991, 13388, 13807,\n",
      "       14188, 14597, 15000, 15409, 15818, 16219, 16620, 17043, 17440,\n",
      "       17817, 18222, 18607, 18986, 19387, 19802, 20213, 20618, 21001,\n",
      "       21374, 21779, 22154, 22561, 22956, 23319, 23716, 24095, 24502,\n",
      "       24881, 25286, 25703]))\n"
     ]
    },
    {
     "name": "stderr",
     "output_type": "stream",
     "text": [
      "[Parallel(n_jobs=-1)]: Done  42 tasks      | elapsed:    0.1s\n",
      "[Parallel(n_jobs=-1)]: Done  65 out of  65 | elapsed:    0.1s finished\n",
      "[Parallel(n_jobs=4)]: Done  42 tasks      | elapsed:    0.0s\n",
      "[Parallel(n_jobs=4)]: Done  65 out of  65 | elapsed:    0.0s finished\n",
      "[Parallel(n_jobs=4)]: Done  42 tasks      | elapsed:    0.0s\n",
      "[Parallel(n_jobs=4)]: Done  65 out of  65 | elapsed:    0.0s finished\n",
      "[Parallel(n_jobs=-1)]: Done  42 tasks      | elapsed:    0.0s\n",
      "[Parallel(n_jobs=-1)]: Done  65 out of  65 | elapsed:    0.1s finished\n"
     ]
    },
    {
     "name": "stdout",
     "output_type": "stream",
     "text": [
      "(<379x12717 sparse matrix of type '<class 'numpy.int64'>'\n",
      "\twith 202464 stored elements in Compressed Sparse Row format>, array([    0,   199,   388,   577,   798,  1001,  1204,  1405,  1610,\n",
      "        1799,  1988,  2181,  2388,  2565,  2742,  2929,  3124,  3329,\n",
      "        3510,  3721,  3910,  4105,  4294,  4489,  4684,  4871,  5060,\n",
      "        5263,  5450,  5695,  5890,  6081,  6274,  6467,  6652,  6861,\n",
      "        7056,  7249,  7432,  7617,  7796,  7987,  8190,  8387,  8606,\n",
      "        8811,  8980,  9173,  9382,  9575,  9776,  9961, 10162, 10345,\n",
      "       10536, 10739, 10938, 11133, 11324, 11543, 11724, 11939, 12144,\n",
      "       12319, 12512, 12717]))\n"
     ]
    },
    {
     "name": "stderr",
     "output_type": "stream",
     "text": [
      "[Parallel(n_jobs=-1)]: Done  42 tasks      | elapsed:    0.1s\n",
      "[Parallel(n_jobs=-1)]: Done  65 out of  65 | elapsed:    0.2s finished\n",
      "[Parallel(n_jobs=4)]: Done  42 tasks      | elapsed:    0.0s\n",
      "[Parallel(n_jobs=4)]: Done  65 out of  65 | elapsed:    0.0s finished\n",
      "[Parallel(n_jobs=4)]: Done  42 tasks      | elapsed:    0.0s\n",
      "[Parallel(n_jobs=4)]: Done  65 out of  65 | elapsed:    0.0s finished\n",
      "[Parallel(n_jobs=-1)]: Done  42 tasks      | elapsed:    0.0s\n",
      "[Parallel(n_jobs=-1)]: Done  65 out of  65 | elapsed:    0.1s finished\n"
     ]
    },
    {
     "name": "stdout",
     "output_type": "stream",
     "text": [
      "(<351x25597 sparse matrix of type '<class 'numpy.int64'>'\n",
      "\twith 208300 stored elements in Compressed Sparse Row format>, array([    0,   395,   812,  1235,  1644,  2055,  2468,  2859,  3222,\n",
      "        3607,  3984,  4363,  4748,  5103,  5492,  5887,  6256,  6645,\n",
      "        7038,  7451,  7870,  8277,  8688,  9103,  9504,  9905, 10296,\n",
      "       10677, 11080, 11507, 11926, 12311, 12726, 13117, 13502, 13901,\n",
      "       14310, 14713, 15100, 15459, 15850, 16227, 16614, 16985, 17372,\n",
      "       17771, 18162, 18551, 18904, 19293, 19680, 20099, 20490, 20889,\n",
      "       21234, 21641, 22008, 22419, 22832, 23235, 23616, 24023, 24414,\n",
      "       24811, 25196, 25597]))\n"
     ]
    },
    {
     "name": "stderr",
     "output_type": "stream",
     "text": [
      "[Parallel(n_jobs=-1)]: Done  42 tasks      | elapsed:    0.1s\n",
      "[Parallel(n_jobs=-1)]: Done  65 out of  65 | elapsed:    0.2s finished\n",
      "[Parallel(n_jobs=4)]: Done  42 tasks      | elapsed:    0.0s\n",
      "[Parallel(n_jobs=4)]: Done  65 out of  65 | elapsed:    0.0s finished\n",
      "[Parallel(n_jobs=4)]: Done  42 tasks      | elapsed:    0.0s\n",
      "[Parallel(n_jobs=4)]: Done  65 out of  65 | elapsed:    0.0s finished\n",
      "[Parallel(n_jobs=-1)]: Done  42 tasks      | elapsed:    0.0s\n",
      "[Parallel(n_jobs=-1)]: Done  65 out of  65 | elapsed:    0.1s finished\n"
     ]
    },
    {
     "name": "stdout",
     "output_type": "stream",
     "text": [
      "(<374x28253 sparse matrix of type '<class 'numpy.int64'>'\n",
      "\twith 231020 stored elements in Compressed Sparse Row format>, array([    0,   443,   848,  1271,  1714,  2147,  2580,  3027,  3484,\n",
      "        3915,  4318,  4759,  5230,  5633,  6048,  6469,  6856,  7291,\n",
      "        7708,  8159,  8582,  9031,  9470,  9925, 10376, 10831, 11254,\n",
      "       11675, 12132, 12547, 12992, 13397, 13848, 14279, 14700, 15113,\n",
      "       15560, 16005, 16484, 16925, 17364, 17807, 18292, 18717, 19144,\n",
      "       19569, 19988, 20425, 20852, 21313, 21758, 22187, 22610, 23023,\n",
      "       23478, 23939, 24368, 24801, 25236, 25661, 26058, 26463, 26918,\n",
      "       27351, 27806, 28253]))\n"
     ]
    },
    {
     "name": "stderr",
     "output_type": "stream",
     "text": [
      "[Parallel(n_jobs=-1)]: Done  42 tasks      | elapsed:    0.2s\n",
      "[Parallel(n_jobs=-1)]: Done  65 out of  65 | elapsed:    0.2s finished\n",
      "[Parallel(n_jobs=4)]: Done  42 tasks      | elapsed:    0.0s\n",
      "[Parallel(n_jobs=4)]: Done  65 out of  65 | elapsed:    0.0s finished\n",
      "[Parallel(n_jobs=4)]: Done  42 tasks      | elapsed:    0.0s\n",
      "[Parallel(n_jobs=4)]: Done  65 out of  65 | elapsed:    0.0s finished\n",
      "[Parallel(n_jobs=-1)]: Done  42 tasks      | elapsed:    0.0s\n",
      "[Parallel(n_jobs=-1)]: Done  65 out of  65 | elapsed:    0.1s finished\n"
     ]
    },
    {
     "name": "stdout",
     "output_type": "stream",
     "text": [
      "(<355x26471 sparse matrix of type '<class 'numpy.int64'>'\n",
      "\twith 223752 stored elements in Compressed Sparse Row format>, array([    0,   355,   756,  1135,  1548,  1961,  2380,  2765,  3204,\n",
      "        3601,  3982,  4383,  4794,  5209,  5620,  6043,  6432,  6839,\n",
      "        7260,  7627,  8014,  8425,  8846,  9259,  9670, 10095, 10486,\n",
      "       10899, 11320, 11747, 12178, 12587, 13024, 13447, 13834, 14225,\n",
      "       14602, 15029, 15442, 15837, 16260, 16655, 17098, 17513, 17908,\n",
      "       18317, 18714, 19131, 19552, 19945, 20390, 20779, 21208, 21597,\n",
      "       21998, 22419, 22830, 23245, 23638, 24055, 24456, 24865, 25288,\n",
      "       25657, 26054, 26471]))\n"
     ]
    },
    {
     "name": "stderr",
     "output_type": "stream",
     "text": [
      "[Parallel(n_jobs=-1)]: Done  42 tasks      | elapsed:    0.1s\n",
      "[Parallel(n_jobs=-1)]: Done  65 out of  65 | elapsed:    0.2s finished\n",
      "[Parallel(n_jobs=4)]: Done  42 tasks      | elapsed:    0.0s\n",
      "[Parallel(n_jobs=4)]: Done  65 out of  65 | elapsed:    0.0s finished\n",
      "[Parallel(n_jobs=4)]: Done  42 tasks      | elapsed:    0.0s\n",
      "[Parallel(n_jobs=4)]: Done  65 out of  65 | elapsed:    0.0s finished\n",
      "[Parallel(n_jobs=-1)]: Done  42 tasks      | elapsed:    0.0s\n",
      "[Parallel(n_jobs=-1)]: Done  65 out of  65 | elapsed:    0.1s finished\n"
     ]
    },
    {
     "name": "stdout",
     "output_type": "stream",
     "text": [
      "(<396x25681 sparse matrix of type '<class 'numpy.int64'>'\n",
      "\twith 241483 stored elements in Compressed Sparse Row format>, array([    0,   385,   760,  1149,  1532,  1931,  2348,  2725,  3142,\n",
      "        3531,  3904,  4301,  4692,  5095,  5478,  5847,  6220,  6605,\n",
      "        6992,  7369,  7782,  8173,  8568,  8959,  9330,  9731, 10126,\n",
      "       10521, 10922, 11307, 11696, 12089, 12504, 12889, 13274, 13683,\n",
      "       14078, 14499, 14906, 15319, 15738, 16147, 16564, 16971, 17386,\n",
      "       17751, 18142, 18541, 18942, 19335, 19734, 20131, 20540, 20923,\n",
      "       21328, 21747, 22158, 22541, 22944, 23349, 23748, 24145, 24526,\n",
      "       24899, 25302, 25681]))\n"
     ]
    },
    {
     "name": "stderr",
     "output_type": "stream",
     "text": [
      "[Parallel(n_jobs=-1)]: Done  42 tasks      | elapsed:    0.1s\n",
      "[Parallel(n_jobs=-1)]: Done  65 out of  65 | elapsed:    0.1s finished\n",
      "[Parallel(n_jobs=4)]: Done  42 tasks      | elapsed:    0.0s\n",
      "[Parallel(n_jobs=4)]: Done  65 out of  65 | elapsed:    0.0s finished\n",
      "[Parallel(n_jobs=4)]: Done  42 tasks      | elapsed:    0.0s\n",
      "[Parallel(n_jobs=4)]: Done  65 out of  65 | elapsed:    0.0s finished\n",
      "[Parallel(n_jobs=-1)]: Done  42 tasks      | elapsed:    0.0s\n",
      "[Parallel(n_jobs=-1)]: Done  65 out of  65 | elapsed:    0.0s finished\n"
     ]
    },
    {
     "name": "stdout",
     "output_type": "stream",
     "text": [
      "(<380x25829 sparse matrix of type '<class 'numpy.int64'>'\n",
      "\twith 237248 stored elements in Compressed Sparse Row format>, array([    0,   391,   792,  1187,  1564,  1945,  2342,  2729,  3132,\n",
      "        3513,  3918,  4299,  4704,  5091,  5492,  5911,  6336,  6707,\n",
      "        7102,  7529,  7932,  8349,  8718,  9139,  9560,  9975, 10366,\n",
      "       10747, 11158, 11557, 11956, 12363, 12768, 13189, 13588, 13955,\n",
      "       14328, 14729, 15110, 15515, 15908, 16267, 16668, 17089, 17460,\n",
      "       17847, 18248, 18655, 19058, 19439, 19846, 20249, 20636, 21045,\n",
      "       21444, 21845, 22238, 22667, 23046, 23435, 23830, 24227, 24626,\n",
      "       25053, 25438, 25829]))\n"
     ]
    },
    {
     "name": "stderr",
     "output_type": "stream",
     "text": [
      "[Parallel(n_jobs=-1)]: Done  42 tasks      | elapsed:    0.0s\n",
      "[Parallel(n_jobs=-1)]: Done  65 out of  65 | elapsed:    0.1s finished\n",
      "[Parallel(n_jobs=4)]: Done  42 tasks      | elapsed:    0.0s\n",
      "[Parallel(n_jobs=4)]: Done  65 out of  65 | elapsed:    0.0s finished\n",
      "[Parallel(n_jobs=4)]: Done  42 tasks      | elapsed:    0.0s\n",
      "[Parallel(n_jobs=4)]: Done  65 out of  65 | elapsed:    0.0s finished\n",
      "[Parallel(n_jobs=-1)]: Done  42 tasks      | elapsed:    0.0s\n",
      "[Parallel(n_jobs=-1)]: Done  65 out of  65 | elapsed:    0.0s finished\n"
     ]
    },
    {
     "name": "stdout",
     "output_type": "stream",
     "text": [
      "(<129x25037 sparse matrix of type '<class 'numpy.int64'>'\n",
      "\twith 72714 stored elements in Compressed Sparse Row format>, array([    0,   393,   742,  1103,  1478,  1849,  2252,  2623,  3010,\n",
      "        3411,  3816,  4197,  4572,  4949,  5340,  5751,  6156,  6515,\n",
      "        6914,  7289,  7698,  8075,  8446,  8805,  9208,  9615,  9984,\n",
      "       10369, 10754, 11143, 11536, 11943, 12318, 12695, 13052, 13423,\n",
      "       13782, 14163, 14568, 14945, 15344, 15715, 16112, 16499, 16896,\n",
      "       17271, 17660, 18061, 18440, 18807, 19198, 19597, 19968, 20357,\n",
      "       20728, 21141, 21510, 21899, 22286, 22665, 23066, 23451, 23852,\n",
      "       24255, 24642, 25037]))\n"
     ]
    },
    {
     "name": "stderr",
     "output_type": "stream",
     "text": [
      "[Parallel(n_jobs=-1)]: Done  42 tasks      | elapsed:    0.2s\n",
      "[Parallel(n_jobs=-1)]: Done  65 out of  65 | elapsed:    0.3s finished\n",
      "[Parallel(n_jobs=4)]: Done  42 tasks      | elapsed:    0.0s\n",
      "[Parallel(n_jobs=4)]: Done  65 out of  65 | elapsed:    0.0s finished\n",
      "[Parallel(n_jobs=4)]: Done  42 tasks      | elapsed:    0.0s\n",
      "[Parallel(n_jobs=4)]: Done  65 out of  65 | elapsed:    0.0s finished\n",
      "[Parallel(n_jobs=-1)]: Done  42 tasks      | elapsed:    0.0s\n",
      "[Parallel(n_jobs=-1)]: Done  65 out of  65 | elapsed:    0.1s finished\n"
     ]
    },
    {
     "name": "stdout",
     "output_type": "stream",
     "text": [
      "(<349x9287 sparse matrix of type '<class 'numpy.int64'>'\n",
      "\twith 173288 stored elements in Compressed Sparse Row format>, array([   0,  141,  302,  447,  586,  733,  870, 1017, 1170, 1291, 1428,\n",
      "       1571, 1734, 1871, 2006, 2147, 2290, 2431, 2584, 2715, 2832, 2985,\n",
      "       3110, 3251, 3382, 3539, 3698, 3839, 3984, 4129, 4272, 4423, 4578,\n",
      "       4731, 4862, 4999, 5150, 5285, 5426, 5573, 5720, 5849, 5998, 6137,\n",
      "       6268, 6407, 6558, 6709, 6850, 6981, 7130, 7273, 7426, 7567, 7702,\n",
      "       7841, 7978, 8109, 8246, 8393, 8540, 8707, 8850, 8985, 9146, 9287]))\n"
     ]
    },
    {
     "name": "stderr",
     "output_type": "stream",
     "text": [
      "[Parallel(n_jobs=-1)]: Done  42 tasks      | elapsed:    0.1s\n",
      "[Parallel(n_jobs=-1)]: Done  65 out of  65 | elapsed:    0.1s finished\n",
      "[Parallel(n_jobs=4)]: Done  42 tasks      | elapsed:    0.0s\n",
      "[Parallel(n_jobs=4)]: Done  65 out of  65 | elapsed:    0.0s finished\n",
      "[Parallel(n_jobs=4)]: Done  42 tasks      | elapsed:    0.0s\n",
      "[Parallel(n_jobs=4)]: Done  65 out of  65 | elapsed:    0.0s finished\n",
      "[Parallel(n_jobs=-1)]: Done  42 tasks      | elapsed:    0.0s\n",
      "[Parallel(n_jobs=-1)]: Done  65 out of  65 | elapsed:    0.1s finished\n"
     ]
    },
    {
     "name": "stdout",
     "output_type": "stream",
     "text": [
      "(<175x25381 sparse matrix of type '<class 'numpy.int64'>'\n",
      "\twith 99410 stored elements in Compressed Sparse Row format>, array([    0,   401,   794,  1177,  1540,  1909,  2292,  2667,  3034,\n",
      "        3433,  3792,  4213,  4620,  4989,  5386,  5791,  6180,  6607,\n",
      "        7000,  7393,  7780,  8171,  8550,  8933,  9322,  9717, 10114,\n",
      "       10497, 10894, 11309, 11704, 12103, 12504, 12883, 13262, 13659,\n",
      "       14056, 14441, 14824, 15205, 15586, 15955, 16370, 16741, 17124,\n",
      "       17495, 17864, 18217, 18632, 19011, 19410, 19795, 20174, 20571,\n",
      "       20982, 21365, 21774, 22151, 22554, 22971, 23384, 23809, 24200,\n",
      "       24597, 24984, 25381]))\n"
     ]
    },
    {
     "name": "stderr",
     "output_type": "stream",
     "text": [
      "[Parallel(n_jobs=-1)]: Done  42 tasks      | elapsed:    0.1s\n",
      "[Parallel(n_jobs=-1)]: Done  65 out of  65 | elapsed:    0.1s finished\n",
      "[Parallel(n_jobs=4)]: Done  42 tasks      | elapsed:    0.0s\n",
      "[Parallel(n_jobs=4)]: Done  65 out of  65 | elapsed:    0.0s finished\n",
      "[Parallel(n_jobs=4)]: Done  42 tasks      | elapsed:    0.0s\n",
      "[Parallel(n_jobs=4)]: Done  65 out of  65 | elapsed:    0.0s finished\n",
      "[Parallel(n_jobs=-1)]: Done  42 tasks      | elapsed:    0.0s\n",
      "[Parallel(n_jobs=-1)]: Done  65 out of  65 | elapsed:    0.1s finished\n"
     ]
    },
    {
     "name": "stdout",
     "output_type": "stream",
     "text": [
      "(<385x12755 sparse matrix of type '<class 'numpy.int64'>'\n",
      "\twith 205553 stored elements in Compressed Sparse Row format>, array([    0,   201,   396,   605,   784,   987,  1190,  1395,  1594,\n",
      "        1803,  2002,  2185,  2404,  2603,  2816,  3003,  3188,  3405,\n",
      "        3606,  3783,  3978,  4185,  4406,  4601,  4802,  4999,  5200,\n",
      "        5421,  5626,  5829,  6036,  6233,  6438,  6623,  6818,  7019,\n",
      "        7206,  7383,  7586,  7761,  7942,  8149,  8354,  8543,  8742,\n",
      "        8935,  9136,  9325,  9550,  9739,  9926, 10103, 10304, 10505,\n",
      "       10692, 10879, 11064, 11241, 11408, 11603, 11782, 11965, 12168,\n",
      "       12385, 12574, 12755]))\n"
     ]
    },
    {
     "name": "stderr",
     "output_type": "stream",
     "text": [
      "[Parallel(n_jobs=-1)]: Done  42 tasks      | elapsed:    0.1s\n",
      "[Parallel(n_jobs=-1)]: Done  65 out of  65 | elapsed:    0.2s finished\n",
      "[Parallel(n_jobs=4)]: Done  42 tasks      | elapsed:    0.0s\n",
      "[Parallel(n_jobs=4)]: Done  65 out of  65 | elapsed:    0.0s finished\n",
      "[Parallel(n_jobs=4)]: Done  42 tasks      | elapsed:    0.0s\n",
      "[Parallel(n_jobs=4)]: Done  65 out of  65 | elapsed:    0.0s finished\n",
      "[Parallel(n_jobs=-1)]: Done  42 tasks      | elapsed:    0.0s\n",
      "[Parallel(n_jobs=-1)]: Done  65 out of  65 | elapsed:    0.1s finished\n"
     ]
    },
    {
     "name": "stdout",
     "output_type": "stream",
     "text": [
      "(<331x25593 sparse matrix of type '<class 'numpy.int64'>'\n",
      "\twith 195572 stored elements in Compressed Sparse Row format>, array([    0,   421,   828,  1201,  1582,  1959,  2358,  2743,  3156,\n",
      "        3521,  3914,  4305,  4680,  5085,  5468,  5861,  6224,  6619,\n",
      "        7010,  7407,  7802,  8191,  8620,  9025,  9434,  9861, 10240,\n",
      "       10635, 11022, 11423, 11832, 12233, 12626, 13015, 13398, 13797,\n",
      "       14188, 14579, 14962, 15317, 15722, 16103, 16484, 16869, 17246,\n",
      "       17669, 18056, 18467, 18878, 19277, 19668, 20061, 20442, 20835,\n",
      "       21212, 21629, 22024, 22413, 22820, 23215, 23622, 24011, 24390,\n",
      "       24807, 25214, 25593]))\n"
     ]
    },
    {
     "name": "stderr",
     "output_type": "stream",
     "text": [
      "[Parallel(n_jobs=-1)]: Done  42 tasks      | elapsed:    0.1s\n",
      "[Parallel(n_jobs=-1)]: Done  65 out of  65 | elapsed:    0.2s finished\n",
      "[Parallel(n_jobs=4)]: Done  42 tasks      | elapsed:    0.0s\n",
      "[Parallel(n_jobs=4)]: Done  65 out of  65 | elapsed:    0.0s finished\n",
      "[Parallel(n_jobs=4)]: Done  42 tasks      | elapsed:    0.0s\n",
      "[Parallel(n_jobs=4)]: Done  65 out of  65 | elapsed:    0.0s finished\n",
      "[Parallel(n_jobs=-1)]: Done  42 tasks      | elapsed:    0.0s\n",
      "[Parallel(n_jobs=-1)]: Done  65 out of  65 | elapsed:    0.1s finished\n"
     ]
    },
    {
     "name": "stdout",
     "output_type": "stream",
     "text": [
      "(<360x28905 sparse matrix of type '<class 'numpy.int64'>'\n",
      "\twith 215546 stored elements in Compressed Sparse Row format>, array([    0,   455,   922,  1351,  1802,  2249,  2682,  3135,  3578,\n",
      "        4019,  4466,  4905,  5352,  5779,  6232,  6713,  7134,  7571,\n",
      "        8018,  8433,  8894,  9333,  9758, 10201, 10678, 11133, 11590,\n",
      "       12001, 12468, 12921, 13378, 13841, 14294, 14733, 15208, 15635,\n",
      "       16092, 16521, 16978, 17433, 17888, 18361, 18790, 19221, 19660,\n",
      "       20105, 20536, 20961, 21396, 21847, 22280, 22739, 23158, 23607,\n",
      "       24078, 24511, 24944, 25405, 25842, 26267, 26724, 27129, 27562,\n",
      "       28005, 28460, 28905]))\n"
     ]
    },
    {
     "name": "stderr",
     "output_type": "stream",
     "text": [
      "[Parallel(n_jobs=-1)]: Done  42 tasks      | elapsed:    0.1s\n",
      "[Parallel(n_jobs=-1)]: Done  65 out of  65 | elapsed:    0.2s finished\n",
      "[Parallel(n_jobs=4)]: Done  42 tasks      | elapsed:    0.0s\n",
      "[Parallel(n_jobs=4)]: Done  65 out of  65 | elapsed:    0.0s finished\n",
      "[Parallel(n_jobs=4)]: Done  42 tasks      | elapsed:    0.0s\n",
      "[Parallel(n_jobs=4)]: Done  65 out of  65 | elapsed:    0.0s finished\n",
      "[Parallel(n_jobs=-1)]: Done  42 tasks      | elapsed:    0.0s\n",
      "[Parallel(n_jobs=-1)]: Done  65 out of  65 | elapsed:    0.1s finished\n"
     ]
    },
    {
     "name": "stdout",
     "output_type": "stream",
     "text": [
      "(<355x29921 sparse matrix of type '<class 'numpy.int64'>'\n",
      "\twith 205196 stored elements in Compressed Sparse Row format>, array([    0,   457,   894,  1325,  1854,  2329,  2794,  3257,  3692,\n",
      "        4151,  4644,  5063,  5500,  5955,  6404,  6901,  7358,  7823,\n",
      "        8296,  8759,  9232,  9695, 10146, 10623, 11092, 11531, 11996,\n",
      "       12441, 12928, 13385, 13854, 14279, 14730, 15197, 15642, 16133,\n",
      "       16588, 17063, 17494, 17943, 18406, 18871, 19364, 19847, 20276,\n",
      "       20775, 21226, 21715, 22166, 22629, 23080, 23515, 23964, 24399,\n",
      "       24866, 25327, 25752, 26217, 26670, 27147, 27582, 28051, 28510,\n",
      "       28959, 29418, 29921]))\n"
     ]
    },
    {
     "name": "stderr",
     "output_type": "stream",
     "text": [
      "[Parallel(n_jobs=-1)]: Done  42 tasks      | elapsed:    0.1s\n",
      "[Parallel(n_jobs=-1)]: Done  65 out of  65 | elapsed:    0.2s finished\n",
      "[Parallel(n_jobs=4)]: Done  42 tasks      | elapsed:    0.0s\n",
      "[Parallel(n_jobs=4)]: Done  65 out of  65 | elapsed:    0.0s finished\n",
      "[Parallel(n_jobs=4)]: Done  42 tasks      | elapsed:    0.0s\n",
      "[Parallel(n_jobs=4)]: Done  65 out of  65 | elapsed:    0.0s finished\n",
      "[Parallel(n_jobs=-1)]: Done  42 tasks      | elapsed:    0.0s\n",
      "[Parallel(n_jobs=-1)]: Done  65 out of  65 | elapsed:    0.1s finished\n"
     ]
    },
    {
     "name": "stdout",
     "output_type": "stream",
     "text": [
      "(<376x26687 sparse matrix of type '<class 'numpy.int64'>'\n",
      "\twith 222014 stored elements in Compressed Sparse Row format>, array([    0,   401,   832,  1237,  1640,  2051,  2458,  2883,  3288,\n",
      "        3685,  4100,  4501,  4930,  5351,  5764,  6183,  6600,  7009,\n",
      "        7406,  7781,  8210,  8637,  9056,  9477,  9870, 10267, 10660,\n",
      "       11067, 11470, 11869, 12282, 12683, 13086, 13507, 13908, 14325,\n",
      "       14740, 15143, 15564, 15997, 16414, 16855, 17270, 17683, 18078,\n",
      "       18499, 18914, 19305, 19714, 20111, 20514, 20929, 21350, 21759,\n",
      "       22196, 22621, 23034, 23463, 23852, 24277, 24678, 25095, 25472,\n",
      "       25867, 26266, 26687]))\n"
     ]
    },
    {
     "name": "stderr",
     "output_type": "stream",
     "text": [
      "[Parallel(n_jobs=-1)]: Done  42 tasks      | elapsed:    0.0s\n",
      "[Parallel(n_jobs=-1)]: Done  65 out of  65 | elapsed:    0.1s finished\n",
      "[Parallel(n_jobs=4)]: Done  42 tasks      | elapsed:    0.0s\n",
      "[Parallel(n_jobs=4)]: Done  65 out of  65 | elapsed:    0.0s finished\n",
      "[Parallel(n_jobs=4)]: Done  42 tasks      | elapsed:    0.0s\n",
      "[Parallel(n_jobs=4)]: Done  65 out of  65 | elapsed:    0.0s finished\n",
      "[Parallel(n_jobs=-1)]: Done  42 tasks      | elapsed:    0.0s\n",
      "[Parallel(n_jobs=-1)]: Done  65 out of  65 | elapsed:    0.1s finished\n"
     ]
    },
    {
     "name": "stdout",
     "output_type": "stream",
     "text": [
      "(<48x24843 sparse matrix of type '<class 'numpy.int64'>'\n",
      "\twith 27148 stored elements in Compressed Sparse Row format>, array([    0,   351,   736,  1087,  1474,  1867,  2272,  2673,  3058,\n",
      "        3411,  3782,  4155,  4518,  4895,  5258,  5637,  5994,  6373,\n",
      "        6782,  7201,  7586,  7965,  8310,  8707,  9106,  9499,  9876,\n",
      "       10267, 10690, 11083, 11448, 11843, 12238, 12625, 13016, 13395,\n",
      "       13754, 14155, 14524, 14887, 15262, 15645, 16018, 16413, 16748,\n",
      "       17125, 17510, 17899, 18298, 18685, 19112, 19491, 19882, 20279,\n",
      "       20674, 21035, 21410, 21755, 22128, 22507, 22890, 23289, 23648,\n",
      "       24049, 24448, 24843]))\n"
     ]
    },
    {
     "name": "stderr",
     "output_type": "stream",
     "text": [
      "[Parallel(n_jobs=-1)]: Done  42 tasks      | elapsed:    0.0s\n",
      "[Parallel(n_jobs=-1)]: Done  65 out of  65 | elapsed:    0.1s finished\n",
      "[Parallel(n_jobs=4)]: Done  42 tasks      | elapsed:    0.0s\n",
      "[Parallel(n_jobs=4)]: Done  65 out of  65 | elapsed:    0.0s finished\n",
      "[Parallel(n_jobs=4)]: Done  42 tasks      | elapsed:    0.0s\n",
      "[Parallel(n_jobs=4)]: Done  65 out of  65 | elapsed:    0.0s finished\n",
      "[Parallel(n_jobs=-1)]: Done  42 tasks      | elapsed:    0.0s\n",
      "[Parallel(n_jobs=-1)]: Done  65 out of  65 | elapsed:    0.1s finished\n"
     ]
    },
    {
     "name": "stdout",
     "output_type": "stream",
     "text": [
      "(<95x5317 sparse matrix of type '<class 'numpy.int64'>'\n",
      "\twith 42481 stored elements in Compressed Sparse Row format>, array([   0,   91,  186,  273,  350,  423,  502,  585,  672,  757,  834,\n",
      "        909,  992, 1081, 1152, 1231, 1302, 1373, 1440, 1523, 1612, 1693,\n",
      "       1778, 1857, 1946, 2031, 2118, 2189, 2270, 2355, 2436, 2527, 2602,\n",
      "       2675, 2754, 2833, 2918, 2987, 3078, 3157, 3236, 3319, 3398, 3483,\n",
      "       3564, 3653, 3744, 3825, 3910, 3997, 4082, 4169, 4238, 4331, 4408,\n",
      "       4487, 4576, 4655, 4746, 4825, 4914, 4995, 5076, 5151, 5222, 5317]))\n"
     ]
    },
    {
     "name": "stderr",
     "output_type": "stream",
     "text": [
      "[Parallel(n_jobs=-1)]: Done  42 tasks      | elapsed:    0.1s\n",
      "[Parallel(n_jobs=-1)]: Done  65 out of  65 | elapsed:    0.2s finished\n",
      "[Parallel(n_jobs=4)]: Done  42 tasks      | elapsed:    0.0s\n",
      "[Parallel(n_jobs=4)]: Done  65 out of  65 | elapsed:    0.0s finished\n",
      "[Parallel(n_jobs=4)]: Done  42 tasks      | elapsed:    0.0s\n",
      "[Parallel(n_jobs=4)]: Done  65 out of  65 | elapsed:    0.0s finished\n",
      "[Parallel(n_jobs=-1)]: Done  42 tasks      | elapsed:    0.0s\n",
      "[Parallel(n_jobs=-1)]: Done  65 out of  65 | elapsed:    0.1s finished\n"
     ]
    },
    {
     "name": "stdout",
     "output_type": "stream",
     "text": [
      "(<337x7083 sparse matrix of type '<class 'numpy.int64'>'\n",
      "\twith 153326 stored elements in Compressed Sparse Row format>, array([   0,  107,  218,  321,  428,  547,  658,  767,  870,  993, 1084,\n",
      "       1175, 1278, 1395, 1502, 1595, 1700, 1807, 1912, 2031, 2130, 2253,\n",
      "       2354, 2465, 2584, 2689, 2816, 2929, 3036, 3141, 3252, 3363, 3472,\n",
      "       3573, 3682, 3787, 3904, 4033, 4142, 4249, 4366, 4459, 4576, 4673,\n",
      "       4792, 4887, 4990, 5103, 5204, 5297, 5430, 5541, 5656, 5755, 5874,\n",
      "       5991, 6110, 6219, 6318, 6415, 6524, 6639, 6762, 6871, 6984, 7083]))\n"
     ]
    },
    {
     "name": "stderr",
     "output_type": "stream",
     "text": [
      "[Parallel(n_jobs=-1)]: Done  42 tasks      | elapsed:    0.1s\n",
      "[Parallel(n_jobs=-1)]: Done  65 out of  65 | elapsed:    0.1s finished\n",
      "[Parallel(n_jobs=4)]: Done  42 tasks      | elapsed:    0.0s\n",
      "[Parallel(n_jobs=4)]: Done  65 out of  65 | elapsed:    0.0s finished\n",
      "[Parallel(n_jobs=4)]: Done  42 tasks      | elapsed:    0.0s\n",
      "[Parallel(n_jobs=4)]: Done  65 out of  65 | elapsed:    0.0s finished\n",
      "[Parallel(n_jobs=-1)]: Done  42 tasks      | elapsed:    0.0s\n",
      "[Parallel(n_jobs=-1)]: Done  65 out of  65 | elapsed:    0.1s finished\n"
     ]
    },
    {
     "name": "stdout",
     "output_type": "stream",
     "text": [
      "(<378x26229 sparse matrix of type '<class 'numpy.int64'>'\n",
      "\twith 223374 stored elements in Compressed Sparse Row format>, array([    0,   387,   804,  1201,  1590,  1973,  2354,  2775,  3168,\n",
      "        3589,  3990,  4389,  4792,  5197,  5618,  6015,  6388,  6805,\n",
      "        7234,  7625,  8046,  8449,  8838,  9237,  9650, 10043, 10422,\n",
      "       10807, 11210, 11617, 12008, 12383, 12796, 13191, 13612, 14005,\n",
      "       14416, 14841, 15222, 15639, 16052, 16469, 16902, 17303, 17682,\n",
      "       18085, 18494, 18891, 19306, 19699, 20104, 20529, 20934, 21345,\n",
      "       21784, 22167, 22562, 22949, 23368, 23771, 24204, 24661, 25050,\n",
      "       25447, 25820, 26229]))\n"
     ]
    },
    {
     "name": "stderr",
     "output_type": "stream",
     "text": [
      "[Parallel(n_jobs=-1)]: Done  42 tasks      | elapsed:    0.1s\n",
      "[Parallel(n_jobs=-1)]: Done  65 out of  65 | elapsed:    0.2s finished\n",
      "[Parallel(n_jobs=4)]: Done  42 tasks      | elapsed:    0.0s\n",
      "[Parallel(n_jobs=4)]: Done  65 out of  65 | elapsed:    0.0s finished\n",
      "[Parallel(n_jobs=4)]: Done  42 tasks      | elapsed:    0.0s\n",
      "[Parallel(n_jobs=4)]: Done  65 out of  65 | elapsed:    0.0s finished\n",
      "[Parallel(n_jobs=-1)]: Done  42 tasks      | elapsed:    0.0s\n",
      "[Parallel(n_jobs=-1)]: Done  65 out of  65 | elapsed:    0.1s finished\n"
     ]
    },
    {
     "name": "stdout",
     "output_type": "stream",
     "text": [
      "(<372x26067 sparse matrix of type '<class 'numpy.int64'>'\n",
      "\twith 227590 stored elements in Compressed Sparse Row format>, array([    0,   407,   802,  1205,  1576,  1995,  2372,  2761,  3164,\n",
      "        3577,  3986,  4385,  4784,  5181,  5608,  5991,  6370,  6767,\n",
      "        7152,  7547,  7946,  8343,  8740,  9149,  9542,  9935, 10336,\n",
      "       10729, 11130, 11547, 11982, 12409, 12808, 13199, 13596, 13973,\n",
      "       14356, 14777, 15182, 15595, 16016, 16411, 16798, 17209, 17624,\n",
      "       17995, 18398, 18829, 19228, 19623, 20012, 20431, 20824, 21211,\n",
      "       21622, 22039, 22448, 22859, 23274, 23651, 24046, 24463, 24860,\n",
      "       25263, 25672, 26067]))\n"
     ]
    },
    {
     "name": "stderr",
     "output_type": "stream",
     "text": [
      "[Parallel(n_jobs=-1)]: Done  42 tasks      | elapsed:    0.1s\n",
      "[Parallel(n_jobs=-1)]: Done  65 out of  65 | elapsed:    0.1s finished\n",
      "[Parallel(n_jobs=4)]: Done  42 tasks      | elapsed:    0.0s\n",
      "[Parallel(n_jobs=4)]: Done  65 out of  65 | elapsed:    0.0s finished\n",
      "[Parallel(n_jobs=4)]: Done  42 tasks      | elapsed:    0.0s\n",
      "[Parallel(n_jobs=4)]: Done  65 out of  65 | elapsed:    0.0s finished\n",
      "[Parallel(n_jobs=-1)]: Done  42 tasks      | elapsed:    0.0s\n",
      "[Parallel(n_jobs=-1)]: Done  65 out of  65 | elapsed:    0.1s finished\n"
     ]
    },
    {
     "name": "stdout",
     "output_type": "stream",
     "text": [
      "(<233x24179 sparse matrix of type '<class 'numpy.int64'>'\n",
      "\twith 139793 stored elements in Compressed Sparse Row format>, array([    0,   385,   710,  1093,  1476,  1853,  2238,  2613,  2992,\n",
      "        3359,  3720,  4069,  4444,  4831,  5212,  5585,  5930,  6311,\n",
      "        6670,  7029,  7436,  7833,  8222,  8577,  8926,  9281,  9658,\n",
      "       10029, 10446, 10811, 11172, 11557, 11950, 12321, 12672, 13045,\n",
      "       13442, 13815, 14186, 14555, 14918, 15283, 15674, 16033, 16418,\n",
      "       16789, 17158, 17519, 17864, 18237, 18640, 19003, 19356, 19711,\n",
      "       20072, 20445, 20824, 21201, 21562, 21919, 22308, 22729, 23084,\n",
      "       23453, 23832, 24179]))\n"
     ]
    },
    {
     "name": "stderr",
     "output_type": "stream",
     "text": [
      "[Parallel(n_jobs=-1)]: Done  42 tasks      | elapsed:    0.1s\n",
      "[Parallel(n_jobs=-1)]: Done  65 out of  65 | elapsed:    0.1s finished\n",
      "[Parallel(n_jobs=4)]: Done  42 tasks      | elapsed:    0.0s\n",
      "[Parallel(n_jobs=4)]: Done  65 out of  65 | elapsed:    0.0s finished\n",
      "[Parallel(n_jobs=4)]: Done  42 tasks      | elapsed:    0.0s\n",
      "[Parallel(n_jobs=4)]: Done  65 out of  65 | elapsed:    0.0s finished\n",
      "[Parallel(n_jobs=-1)]: Done  42 tasks      | elapsed:    0.0s\n",
      "[Parallel(n_jobs=-1)]: Done  65 out of  65 | elapsed:    0.1s finished\n"
     ]
    },
    {
     "name": "stdout",
     "output_type": "stream",
     "text": [
      "(<367x16617 sparse matrix of type '<class 'numpy.int64'>'\n",
      "\twith 204419 stored elements in Compressed Sparse Row format>, array([    0,   269,   516,   767,  1030,  1279,  1532,  1783,  2060,\n",
      "        2317,  2580,  2839,  3082,  3335,  3606,  3857,  4120,  4361,\n",
      "        4612,  4867,  5128,  5375,  5626,  5843,  6100,  6333,  6572,\n",
      "        6829,  7104,  7357,  7604,  7835,  8120,  8367,  8614,  8889,\n",
      "        9158,  9415,  9680,  9937, 10182, 10447, 10700, 10973, 11232,\n",
      "       11507, 11774, 12027, 12294, 12555, 12836, 13071, 13312, 13547,\n",
      "       13820, 14069, 14330, 14569, 14810, 15065, 15316, 15581, 15812,\n",
      "       16065, 16344, 16617]))\n"
     ]
    },
    {
     "name": "stderr",
     "output_type": "stream",
     "text": [
      "[Parallel(n_jobs=-1)]: Done  42 tasks      | elapsed:    0.1s\n",
      "[Parallel(n_jobs=-1)]: Done  65 out of  65 | elapsed:    0.2s finished\n",
      "[Parallel(n_jobs=4)]: Done  42 tasks      | elapsed:    0.0s\n",
      "[Parallel(n_jobs=4)]: Done  65 out of  65 | elapsed:    0.0s finished\n",
      "[Parallel(n_jobs=4)]: Done  42 tasks      | elapsed:    0.0s\n",
      "[Parallel(n_jobs=4)]: Done  65 out of  65 | elapsed:    0.0s finished\n",
      "[Parallel(n_jobs=-1)]: Done  42 tasks      | elapsed:    0.0s\n",
      "[Parallel(n_jobs=-1)]: Done  65 out of  65 | elapsed:    0.1s finished\n"
     ]
    },
    {
     "name": "stdout",
     "output_type": "stream",
     "text": [
      "(<390x27087 sparse matrix of type '<class 'numpy.int64'>'\n",
      "\twith 232663 stored elements in Compressed Sparse Row format>, array([    0,   427,   820,  1257,  1678,  2107,  2514,  2925,  3348,\n",
      "        3749,  4178,  4581,  5046,  5473,  5870,  6285,  6668,  7085,\n",
      "        7494,  7921,  8310,  8721,  9134,  9517,  9930, 10345, 10768,\n",
      "       11171, 11580, 11985, 12396, 12823, 13250, 13675, 14086, 14509,\n",
      "       14928, 15337, 15748, 16195, 16620, 17047, 17444, 17843, 18242,\n",
      "       18647, 19072, 19497, 19914, 20321, 20744, 21173, 21590, 22045,\n",
      "       22452, 22871, 23320, 23713, 24120, 24531, 24986, 25405, 25808,\n",
      "       26215, 26648, 27087]))\n"
     ]
    },
    {
     "name": "stderr",
     "output_type": "stream",
     "text": [
      "[Parallel(n_jobs=-1)]: Done  42 tasks      | elapsed:    0.0s\n",
      "[Parallel(n_jobs=-1)]: Done  65 out of  65 | elapsed:    0.1s finished\n",
      "[Parallel(n_jobs=4)]: Done  42 tasks      | elapsed:    0.0s\n",
      "[Parallel(n_jobs=4)]: Done  65 out of  65 | elapsed:    0.0s finished\n",
      "[Parallel(n_jobs=4)]: Done  42 tasks      | elapsed:    0.0s\n",
      "[Parallel(n_jobs=4)]: Done  65 out of  65 | elapsed:    0.0s finished\n",
      "[Parallel(n_jobs=-1)]: Done  42 tasks      | elapsed:    0.0s\n",
      "[Parallel(n_jobs=-1)]: Done  65 out of  65 | elapsed:    0.1s finished\n"
     ]
    },
    {
     "name": "stdout",
     "output_type": "stream",
     "text": [
      "(<32x26019 sparse matrix of type '<class 'numpy.int64'>'\n",
      "\twith 18657 stored elements in Compressed Sparse Row format>, array([    0,   419,   776,  1183,  1572,  1983,  2364,  2765,  3168,\n",
      "        3571,  3946,  4367,  4778,  5153,  5530,  5919,  6296,  6707,\n",
      "        7084,  7483,  7900,  8315,  8722,  9117,  9548,  9941, 10326,\n",
      "       10737, 11124, 11513, 11914, 12319, 12712, 13099, 13516, 13911,\n",
      "       14338, 14739, 15118, 15513, 15920, 16311, 16722, 17123, 17542,\n",
      "       17947, 18350, 18735, 19134, 19539, 19948, 20343, 20748, 21145,\n",
      "       21544, 21935, 22356, 22747, 23156, 23577, 23982, 24399, 24828,\n",
      "       25241, 25620, 26019]))\n"
     ]
    },
    {
     "name": "stderr",
     "output_type": "stream",
     "text": [
      "[Parallel(n_jobs=-1)]: Done  42 tasks      | elapsed:    0.1s\n",
      "[Parallel(n_jobs=-1)]: Done  65 out of  65 | elapsed:    0.1s finished\n",
      "[Parallel(n_jobs=4)]: Done  42 tasks      | elapsed:    0.0s\n",
      "[Parallel(n_jobs=4)]: Done  65 out of  65 | elapsed:    0.0s finished\n",
      "[Parallel(n_jobs=4)]: Done  42 tasks      | elapsed:    0.0s\n",
      "[Parallel(n_jobs=4)]: Done  65 out of  65 | elapsed:    0.0s finished\n",
      "[Parallel(n_jobs=-1)]: Done  42 tasks      | elapsed:    0.0s\n",
      "[Parallel(n_jobs=-1)]: Done  65 out of  65 | elapsed:    0.1s finished\n"
     ]
    },
    {
     "name": "stdout",
     "output_type": "stream",
     "text": [
      "(<357x3645 sparse matrix of type '<class 'numpy.int64'>'\n",
      "\twith 132552 stored elements in Compressed Sparse Row format>, array([   0,   51,  110,  163,  220,  273,  330,  391,  450,  515,  574,\n",
      "        627,  678,  735,  794,  837,  890,  947, 1004, 1061, 1112, 1167,\n",
      "       1220, 1285, 1348, 1403, 1450, 1517, 1582, 1649, 1698, 1759, 1816,\n",
      "       1873, 1944, 2003, 2058, 2113, 2164, 2215, 2256, 2317, 2368, 2433,\n",
      "       2492, 2549, 2602, 2657, 2704, 2765, 2818, 2863, 2920, 2971, 3030,\n",
      "       3095, 3152, 3201, 3260, 3317, 3368, 3431, 3486, 3535, 3590, 3645]))\n"
     ]
    },
    {
     "name": "stderr",
     "output_type": "stream",
     "text": [
      "[Parallel(n_jobs=-1)]: Done  42 tasks      | elapsed:    0.2s\n",
      "[Parallel(n_jobs=-1)]: Done  65 out of  65 | elapsed:    0.3s finished\n",
      "[Parallel(n_jobs=4)]: Done  42 tasks      | elapsed:    0.0s\n",
      "[Parallel(n_jobs=4)]: Done  65 out of  65 | elapsed:    0.0s finished\n",
      "[Parallel(n_jobs=4)]: Done  42 tasks      | elapsed:    0.0s\n",
      "[Parallel(n_jobs=4)]: Done  65 out of  65 | elapsed:    0.0s finished\n",
      "[Parallel(n_jobs=-1)]: Done  42 tasks      | elapsed:    0.0s\n",
      "[Parallel(n_jobs=-1)]: Done  65 out of  65 | elapsed:    0.1s finished\n"
     ]
    },
    {
     "name": "stdout",
     "output_type": "stream",
     "text": [
      "(<344x26405 sparse matrix of type '<class 'numpy.int64'>'\n",
      "\twith 200467 stored elements in Compressed Sparse Row format>, array([    0,   407,   790,  1187,  1598,  2013,  2416,  2817,  3246,\n",
      "        3667,  4040,  4411,  4822,  5231,  5626,  6043,  6416,  6797,\n",
      "        7212,  7641,  8034,  8445,  8864,  9319,  9740, 10127, 10558,\n",
      "       10973, 11380, 11787, 12198, 12623, 13028, 13443, 13842, 14277,\n",
      "       14672, 15073, 15472, 15869, 16258, 16641, 17058, 17485, 17868,\n",
      "       18253, 18664, 19091, 19498, 19915, 20330, 20721, 21144, 21561,\n",
      "       21958, 22325, 22728, 23157, 23552, 23959, 24334, 24745, 25138,\n",
      "       25553, 25972, 26405]))\n"
     ]
    },
    {
     "name": "stderr",
     "output_type": "stream",
     "text": [
      "[Parallel(n_jobs=-1)]: Done  42 tasks      | elapsed:    0.1s\n",
      "[Parallel(n_jobs=-1)]: Done  65 out of  65 | elapsed:    0.2s finished\n",
      "[Parallel(n_jobs=4)]: Done  42 tasks      | elapsed:    0.0s\n",
      "[Parallel(n_jobs=4)]: Done  65 out of  65 | elapsed:    0.0s finished\n",
      "[Parallel(n_jobs=4)]: Done  42 tasks      | elapsed:    0.0s\n",
      "[Parallel(n_jobs=4)]: Done  65 out of  65 | elapsed:    0.0s finished\n",
      "[Parallel(n_jobs=-1)]: Done  42 tasks      | elapsed:    0.0s\n",
      "[Parallel(n_jobs=-1)]: Done  65 out of  65 | elapsed:    0.1s finished\n"
     ]
    },
    {
     "name": "stdout",
     "output_type": "stream",
     "text": [
      "(<364x28563 sparse matrix of type '<class 'numpy.int64'>'\n",
      "\twith 226858 stored elements in Compressed Sparse Row format>, array([    0,   459,   914,  1353,  1772,  2219,  2646,  3067,  3486,\n",
      "        3953,  4384,  4839,  5274,  5729,  6180,  6591,  7034,  7449,\n",
      "        7856,  8299,  8744,  9199,  9646, 10067, 10510, 10949, 11426,\n",
      "       11865, 12306, 12731, 13166, 13591, 14028, 14461, 14876, 15337,\n",
      "       15762, 16243, 16660, 17109, 17550, 17975, 18446, 18871, 19294,\n",
      "       19719, 20160, 20631, 21058, 21503, 21936, 22399, 22842, 23297,\n",
      "       23742, 24189, 24632, 25097, 25516, 25975, 26424, 26843, 27272,\n",
      "       27709, 28140, 28563]))\n"
     ]
    },
    {
     "name": "stderr",
     "output_type": "stream",
     "text": [
      "[Parallel(n_jobs=-1)]: Done  42 tasks      | elapsed:    0.1s\n",
      "[Parallel(n_jobs=-1)]: Done  65 out of  65 | elapsed:    0.2s finished\n",
      "[Parallel(n_jobs=4)]: Done  42 tasks      | elapsed:    0.0s\n",
      "[Parallel(n_jobs=4)]: Done  65 out of  65 | elapsed:    0.0s finished\n",
      "[Parallel(n_jobs=4)]: Done  42 tasks      | elapsed:    0.0s\n",
      "[Parallel(n_jobs=4)]: Done  65 out of  65 | elapsed:    0.0s finished\n",
      "[Parallel(n_jobs=-1)]: Done  42 tasks      | elapsed:    0.0s\n",
      "[Parallel(n_jobs=-1)]: Done  65 out of  65 | elapsed:    0.1s finished\n"
     ]
    },
    {
     "name": "stdout",
     "output_type": "stream",
     "text": [
      "(<403x27749 sparse matrix of type '<class 'numpy.int64'>'\n",
      "\twith 234502 stored elements in Compressed Sparse Row format>, array([    0,   445,   870,  1315,  1720,  2149,  2572,  3001,  3436,\n",
      "        3817,  4238,  4653,  5092,  5541,  5990,  6407,  6834,  7295,\n",
      "        7716,  8137,  8544,  9005,  9454,  9871, 10288, 10705, 11144,\n",
      "       11563, 11996, 12403, 12840, 13241, 13648, 14097, 14506, 14935,\n",
      "       15356, 15765, 16164, 16585, 17022, 17441, 17860, 18307, 18722,\n",
      "       19153, 19582, 19989, 20448, 20851, 21302, 21755, 22180, 22611,\n",
      "       23012, 23435, 23844, 24279, 24716, 25141, 25586, 26035, 26458,\n",
      "       26879, 27302, 27749]))\n"
     ]
    },
    {
     "name": "stderr",
     "output_type": "stream",
     "text": [
      "[Parallel(n_jobs=-1)]: Done  42 tasks      | elapsed:    0.0s\n",
      "[Parallel(n_jobs=-1)]: Done  65 out of  65 | elapsed:    0.1s finished\n",
      "[Parallel(n_jobs=4)]: Done  42 tasks      | elapsed:    0.0s\n",
      "[Parallel(n_jobs=4)]: Done  65 out of  65 | elapsed:    0.0s finished\n",
      "[Parallel(n_jobs=4)]: Done  42 tasks      | elapsed:    0.0s\n",
      "[Parallel(n_jobs=4)]: Done  65 out of  65 | elapsed:    0.0s finished\n",
      "[Parallel(n_jobs=-1)]: Done  42 tasks      | elapsed:    0.0s\n",
      "[Parallel(n_jobs=-1)]: Done  65 out of  65 | elapsed:    0.1s finished\n"
     ]
    },
    {
     "name": "stdout",
     "output_type": "stream",
     "text": [
      "(<63x24867 sparse matrix of type '<class 'numpy.int64'>'\n",
      "\twith 37705 stored elements in Compressed Sparse Row format>, array([    0,   375,   772,  1169,  1542,  1947,  2298,  2667,  3066,\n",
      "        3463,  3834,  4189,  4574,  4967,  5376,  5753,  6136,  6543,\n",
      "        6900,  7275,  7650,  8013,  8384,  8779,  9152,  9515,  9910,\n",
      "       10281, 10624, 11015, 11388, 11779, 12176, 12575, 12938, 13323,\n",
      "       13722, 14129, 14542, 14907, 15270, 15647, 16016, 16381, 16790,\n",
      "       17169, 17546, 17927, 18334, 18711, 19124, 19521, 19926, 20295,\n",
      "       20674, 21035, 21406, 21819, 22196, 22587, 22958, 23329, 23708,\n",
      "       24101, 24488, 24867]))\n"
     ]
    },
    {
     "name": "stderr",
     "output_type": "stream",
     "text": [
      "[Parallel(n_jobs=-1)]: Done  42 tasks      | elapsed:    0.1s\n",
      "[Parallel(n_jobs=-1)]: Done  65 out of  65 | elapsed:    0.2s finished\n",
      "[Parallel(n_jobs=4)]: Done  42 tasks      | elapsed:    0.0s\n",
      "[Parallel(n_jobs=4)]: Done  65 out of  65 | elapsed:    0.0s finished\n",
      "[Parallel(n_jobs=4)]: Done  42 tasks      | elapsed:    0.0s\n",
      "[Parallel(n_jobs=4)]: Done  65 out of  65 | elapsed:    0.0s finished\n",
      "[Parallel(n_jobs=-1)]: Done  42 tasks      | elapsed:    0.0s\n",
      "[Parallel(n_jobs=-1)]: Done  65 out of  65 | elapsed:    0.1s finished\n"
     ]
    },
    {
     "name": "stdout",
     "output_type": "stream",
     "text": [
      "(<358x5587 sparse matrix of type '<class 'numpy.int64'>'\n",
      "\twith 154555 stored elements in Compressed Sparse Row format>, array([   0,   85,  160,  259,  340,  423,  534,  627,  712,  803,  884,\n",
      "        985, 1066, 1149, 1232, 1323, 1416, 1493, 1582, 1679, 1768, 1851,\n",
      "       1936, 2001, 2080, 2169, 2250, 2333, 2412, 2509, 2600, 2681, 2768,\n",
      "       2849, 2924, 3009, 3100, 3173, 3272, 3365, 3456, 3539, 3626, 3721,\n",
      "       3800, 3887, 3966, 4033, 4124, 4219, 4300, 4387, 4458, 4551, 4630,\n",
      "       4727, 4818, 4905, 4982, 5071, 5172, 5251, 5334, 5429, 5502, 5587]))\n"
     ]
    },
    {
     "name": "stderr",
     "output_type": "stream",
     "text": [
      "[Parallel(n_jobs=-1)]: Done  42 tasks      | elapsed:    0.1s\n",
      "[Parallel(n_jobs=-1)]: Done  65 out of  65 | elapsed:    0.1s finished\n",
      "[Parallel(n_jobs=4)]: Done  42 tasks      | elapsed:    0.0s\n",
      "[Parallel(n_jobs=4)]: Done  65 out of  65 | elapsed:    0.0s finished\n",
      "[Parallel(n_jobs=4)]: Done  42 tasks      | elapsed:    0.0s\n",
      "[Parallel(n_jobs=4)]: Done  65 out of  65 | elapsed:    0.0s finished\n",
      "[Parallel(n_jobs=-1)]: Done  42 tasks      | elapsed:    0.0s\n",
      "[Parallel(n_jobs=-1)]: Done  65 out of  65 | elapsed:    0.1s finished\n"
     ]
    },
    {
     "name": "stdout",
     "output_type": "stream",
     "text": [
      "(<380x26425 sparse matrix of type '<class 'numpy.int64'>'\n",
      "\twith 236533 stored elements in Compressed Sparse Row format>, array([    0,   417,   822,  1189,  1608,  1993,  2402,  2811,  3216,\n",
      "        3629,  4044,  4479,  4878,  5247,  5636,  6033,  6446,  6861,\n",
      "        7262,  7649,  8042,  8409,  8808,  9217,  9636, 10041, 10426,\n",
      "       10875, 11294, 11731, 12138, 12549, 12928, 13355, 13752, 14133,\n",
      "       14556, 14945, 15350, 15749, 16148, 16531, 16916, 17315, 17734,\n",
      "       18169, 18552, 18975, 19412, 19837, 20242, 20651, 21062, 21453,\n",
      "       21856, 22277, 22670, 23079, 23504, 23925, 24328, 24729, 25148,\n",
      "       25591, 26018, 26425]))\n"
     ]
    },
    {
     "name": "stderr",
     "output_type": "stream",
     "text": [
      "[Parallel(n_jobs=-1)]: Done  42 tasks      | elapsed:    0.1s\n",
      "[Parallel(n_jobs=-1)]: Done  65 out of  65 | elapsed:    0.1s finished\n",
      "[Parallel(n_jobs=4)]: Done  42 tasks      | elapsed:    0.0s\n",
      "[Parallel(n_jobs=4)]: Done  65 out of  65 | elapsed:    0.0s finished\n",
      "[Parallel(n_jobs=4)]: Done  42 tasks      | elapsed:    0.0s\n",
      "[Parallel(n_jobs=4)]: Done  65 out of  65 | elapsed:    0.0s finished\n",
      "[Parallel(n_jobs=-1)]: Done  42 tasks      | elapsed:    0.0s\n",
      "[Parallel(n_jobs=-1)]: Done  65 out of  65 | elapsed:    0.1s finished\n"
     ]
    },
    {
     "name": "stdout",
     "output_type": "stream",
     "text": [
      "(<382x23025 sparse matrix of type '<class 'numpy.int64'>'\n",
      "\twith 222973 stored elements in Compressed Sparse Row format>, array([    0,   317,   658,  1019,  1386,  1765,  2128,  2477,  2804,\n",
      "        3195,  3574,  3939,  4278,  4601,  4950,  5297,  5628,  5989,\n",
      "        6366,  6707,  7080,  7421,  7810,  8199,  8560,  8847,  9226,\n",
      "        9551,  9936, 10315, 10648, 10991, 11328, 11703, 12032, 12397,\n",
      "       12744, 13091, 13458, 13785, 14174, 14529, 14886, 15267, 15622,\n",
      "       16011, 16362, 16713, 17066, 17433, 17804, 18159, 18518, 18897,\n",
      "       19224, 19585, 19912, 20275, 20624, 20983, 21334, 21659, 21996,\n",
      "       22319, 22676, 23025]))\n"
     ]
    },
    {
     "name": "stderr",
     "output_type": "stream",
     "text": [
      "[Parallel(n_jobs=-1)]: Done  42 tasks      | elapsed:    0.1s\n",
      "[Parallel(n_jobs=-1)]: Done  65 out of  65 | elapsed:    0.2s finished\n",
      "[Parallel(n_jobs=4)]: Done  42 tasks      | elapsed:    0.0s\n",
      "[Parallel(n_jobs=4)]: Done  65 out of  65 | elapsed:    0.0s finished\n",
      "[Parallel(n_jobs=4)]: Done  42 tasks      | elapsed:    0.0s\n",
      "[Parallel(n_jobs=4)]: Done  65 out of  65 | elapsed:    0.0s finished\n",
      "[Parallel(n_jobs=-1)]: Done  42 tasks      | elapsed:    0.0s\n",
      "[Parallel(n_jobs=-1)]: Done  65 out of  65 | elapsed:    0.1s finished\n"
     ]
    },
    {
     "name": "stdout",
     "output_type": "stream",
     "text": [
      "(<354x26819 sparse matrix of type '<class 'numpy.int64'>'\n",
      "\twith 211136 stored elements in Compressed Sparse Row format>, array([    0,   421,   812,  1237,  1634,  2037,  2418,  2821,  3224,\n",
      "        3617,  4054,  4469,  4892,  5291,  5718,  6155,  6572,  7003,\n",
      "        7398,  7815,  8194,  8615,  9050,  9477,  9880, 10307, 10734,\n",
      "       11137, 11550, 11965, 12398, 12811, 13212, 13657, 14060, 14483,\n",
      "       14898, 15287, 15702, 16125, 16546, 16945, 17344, 17771, 18194,\n",
      "       18601, 19030, 19441, 19878, 20287, 20712, 21105, 21522, 21945,\n",
      "       22360, 22765, 23164, 23573, 23996, 24401, 24812, 25233, 25622,\n",
      "       26029, 26438, 26819]))\n"
     ]
    },
    {
     "name": "stderr",
     "output_type": "stream",
     "text": [
      "[Parallel(n_jobs=-1)]: Done  42 tasks      | elapsed:    0.1s\n",
      "[Parallel(n_jobs=-1)]: Done  65 out of  65 | elapsed:    0.1s finished\n",
      "[Parallel(n_jobs=4)]: Done  42 tasks      | elapsed:    0.0s\n",
      "[Parallel(n_jobs=4)]: Done  65 out of  65 | elapsed:    0.0s finished\n",
      "[Parallel(n_jobs=4)]: Done  42 tasks      | elapsed:    0.0s\n",
      "[Parallel(n_jobs=4)]: Done  65 out of  65 | elapsed:    0.0s finished\n",
      "[Parallel(n_jobs=-1)]: Done  42 tasks      | elapsed:    0.0s\n",
      "[Parallel(n_jobs=-1)]: Done  65 out of  65 | elapsed:    0.1s finished\n"
     ]
    },
    {
     "name": "stdout",
     "output_type": "stream",
     "text": [
      "(<366x26937 sparse matrix of type '<class 'numpy.int64'>'\n",
      "\twith 229483 stored elements in Compressed Sparse Row format>, array([    0,   443,   874,  1265,  1720,  2163,  2576,  3027,  3440,\n",
      "        3845,  4272,  4711,  5114,  5555,  5962,  6371,  6778,  7191,\n",
      "        7598,  8027,  8422,  8839,  9276,  9693, 10116, 10555, 10980,\n",
      "       11363, 11740, 12139, 12590, 13013, 13414, 13829, 14224, 14631,\n",
      "       15062, 15495, 15904, 16363, 16770, 17185, 17614, 18025, 18420,\n",
      "       18839, 19240, 19655, 20050, 20445, 20836, 21265, 21680, 22071,\n",
      "       22476, 22897, 23308, 23693, 24084, 24489, 24890, 25333, 25744,\n",
      "       26165, 26558, 26937]))\n"
     ]
    },
    {
     "name": "stderr",
     "output_type": "stream",
     "text": [
      "[Parallel(n_jobs=-1)]: Done  42 tasks      | elapsed:    0.1s\n",
      "[Parallel(n_jobs=-1)]: Done  65 out of  65 | elapsed:    0.2s finished\n",
      "[Parallel(n_jobs=4)]: Done  42 tasks      | elapsed:    0.0s\n",
      "[Parallel(n_jobs=4)]: Done  65 out of  65 | elapsed:    0.0s finished\n",
      "[Parallel(n_jobs=4)]: Done  42 tasks      | elapsed:    0.0s\n",
      "[Parallel(n_jobs=4)]: Done  65 out of  65 | elapsed:    0.0s finished\n",
      "[Parallel(n_jobs=-1)]: Done  42 tasks      | elapsed:    0.0s\n",
      "[Parallel(n_jobs=-1)]: Done  65 out of  65 | elapsed:    0.1s finished\n"
     ]
    },
    {
     "name": "stdout",
     "output_type": "stream",
     "text": [
      "(<372x24691 sparse matrix of type '<class 'numpy.int64'>'\n",
      "\twith 214839 stored elements in Compressed Sparse Row format>, array([    0,   361,   772,  1157,  1554,  1933,  2314,  2689,  3066,\n",
      "        3455,  3842,  4185,  4550,  4937,  5304,  5703,  6082,  6461,\n",
      "        6842,  7221,  7608,  7967,  8344,  8705,  9090,  9463,  9848,\n",
      "       10239, 10616, 11021, 11428, 11839, 12208, 12563, 12934, 13305,\n",
      "       13664, 14049, 14446, 14845, 15202, 15587, 15956, 16351, 16706,\n",
      "       17085, 17468, 17869, 18254, 18635, 19014, 19409, 19770, 20141,\n",
      "       20520, 20883, 21272, 21655, 22042, 22419, 22784, 23163, 23540,\n",
      "       23933, 24312, 24691]))\n"
     ]
    },
    {
     "name": "stderr",
     "output_type": "stream",
     "text": [
      "[Parallel(n_jobs=-1)]: Done  42 tasks      | elapsed:    0.1s\n",
      "[Parallel(n_jobs=-1)]: Done  65 out of  65 | elapsed:    0.1s finished\n",
      "[Parallel(n_jobs=4)]: Done  42 tasks      | elapsed:    0.0s\n",
      "[Parallel(n_jobs=4)]: Done  65 out of  65 | elapsed:    0.0s finished\n",
      "[Parallel(n_jobs=4)]: Done  42 tasks      | elapsed:    0.0s\n",
      "[Parallel(n_jobs=4)]: Done  65 out of  65 | elapsed:    0.0s finished\n",
      "[Parallel(n_jobs=-1)]: Done  42 tasks      | elapsed:    0.0s\n",
      "[Parallel(n_jobs=-1)]: Done  65 out of  65 | elapsed:    0.1s finished\n"
     ]
    },
    {
     "name": "stdout",
     "output_type": "stream",
     "text": [
      "(<385x25933 sparse matrix of type '<class 'numpy.int64'>'\n",
      "\twith 238643 stored elements in Compressed Sparse Row format>, array([    0,   409,   818,  1205,  1604,  2005,  2366,  2751,  3130,\n",
      "        3529,  3924,  4329,  4706,  5099,  5502,  5883,  6286,  6655,\n",
      "        7082,  7511,  7900,  8293,  8686,  9117,  9520,  9933, 10324,\n",
      "       10737, 11146, 11545, 11954, 12367, 12762, 13163, 13558, 13947,\n",
      "       14328, 14717, 15122, 15519, 15888, 16299, 16710, 17075, 17480,\n",
      "       17871, 18290, 18685, 19084, 19487, 19878, 20277, 20704, 21117,\n",
      "       21498, 21915, 22308, 22729, 23146, 23525, 23892, 24297, 24708,\n",
      "       25101, 25512, 25933]))\n"
     ]
    },
    {
     "name": "stderr",
     "output_type": "stream",
     "text": [
      "[Parallel(n_jobs=-1)]: Done  42 tasks      | elapsed:    0.1s\n",
      "[Parallel(n_jobs=-1)]: Done  65 out of  65 | elapsed:    0.1s finished\n",
      "[Parallel(n_jobs=4)]: Done  42 tasks      | elapsed:    0.0s\n",
      "[Parallel(n_jobs=4)]: Done  65 out of  65 | elapsed:    0.0s finished\n",
      "[Parallel(n_jobs=4)]: Done  42 tasks      | elapsed:    0.0s\n",
      "[Parallel(n_jobs=4)]: Done  65 out of  65 | elapsed:    0.0s finished\n",
      "[Parallel(n_jobs=-1)]: Done  42 tasks      | elapsed:    0.0s\n",
      "[Parallel(n_jobs=-1)]: Done  65 out of  65 | elapsed:    0.1s finished\n"
     ]
    },
    {
     "name": "stdout",
     "output_type": "stream",
     "text": [
      "(<378x26677 sparse matrix of type '<class 'numpy.int64'>'\n",
      "\twith 234568 stored elements in Compressed Sparse Row format>, array([    0,   387,   798,  1209,  1632,  2017,  2416,  2827,  3232,\n",
      "        3635,  4018,  4423,  4846,  5267,  5692,  6075,  6472,  6893,\n",
      "        7294,  7725,  8148,  8535,  8936,  9365,  9774, 10203, 10640,\n",
      "       11083, 11490, 11893, 12288, 12675, 13096, 13499, 13904, 14335,\n",
      "       14724, 15135, 15530, 15979, 16384, 16783, 17222, 17619, 18014,\n",
      "       18425, 18832, 19231, 19642, 20023, 20430, 20847, 21280, 21711,\n",
      "       22132, 22529, 22916, 23347, 23758, 24169, 24602, 25025, 25458,\n",
      "       25861, 26282, 26677]))\n"
     ]
    },
    {
     "name": "stderr",
     "output_type": "stream",
     "text": [
      "[Parallel(n_jobs=-1)]: Done  42 tasks      | elapsed:    0.1s\n",
      "[Parallel(n_jobs=-1)]: Done  65 out of  65 | elapsed:    0.1s finished\n",
      "[Parallel(n_jobs=4)]: Done  42 tasks      | elapsed:    0.0s\n",
      "[Parallel(n_jobs=4)]: Done  65 out of  65 | elapsed:    0.0s finished\n",
      "[Parallel(n_jobs=4)]: Done  42 tasks      | elapsed:    0.0s\n",
      "[Parallel(n_jobs=4)]: Done  65 out of  65 | elapsed:    0.0s finished\n",
      "[Parallel(n_jobs=-1)]: Done  42 tasks      | elapsed:    0.0s\n",
      "[Parallel(n_jobs=-1)]: Done  65 out of  65 | elapsed:    0.1s finished\n"
     ]
    },
    {
     "name": "stdout",
     "output_type": "stream",
     "text": [
      "(<374x25819 sparse matrix of type '<class 'numpy.int64'>'\n",
      "\twith 219642 stored elements in Compressed Sparse Row format>, array([    0,   379,   798,  1215,  1602,  2005,  2404,  2797,  3192,\n",
      "        3613,  4000,  4419,  4806,  5209,  5650,  6053,  6418,  6805,\n",
      "        7210,  7621,  8066,  8461,  8854,  9261,  9636, 10013, 10406,\n",
      "       10791, 11168, 11593, 11952, 12345, 12710, 13123, 13526, 13943,\n",
      "       14314, 14745, 15148, 15523, 15922, 16335, 16768, 17175, 17582,\n",
      "       17987, 18394, 18785, 19208, 19579, 19970, 20379, 20758, 21111,\n",
      "       21476, 21873, 22252, 22641, 23064, 23493, 23862, 24247, 24636,\n",
      "       25035, 25434, 25819]))\n"
     ]
    },
    {
     "name": "stderr",
     "output_type": "stream",
     "text": [
      "[Parallel(n_jobs=-1)]: Done  42 tasks      | elapsed:    0.0s\n",
      "[Parallel(n_jobs=-1)]: Done  65 out of  65 | elapsed:    0.1s finished\n",
      "[Parallel(n_jobs=4)]: Done  42 tasks      | elapsed:    0.0s\n",
      "[Parallel(n_jobs=4)]: Done  65 out of  65 | elapsed:    0.0s finished\n",
      "[Parallel(n_jobs=4)]: Done  42 tasks      | elapsed:    0.0s\n",
      "[Parallel(n_jobs=4)]: Done  65 out of  65 | elapsed:    0.0s finished\n",
      "[Parallel(n_jobs=-1)]: Done  42 tasks      | elapsed:    0.0s\n",
      "[Parallel(n_jobs=-1)]: Done  65 out of  65 | elapsed:    0.1s finished\n"
     ]
    },
    {
     "name": "stdout",
     "output_type": "stream",
     "text": [
      "(<161x26689 sparse matrix of type '<class 'numpy.int64'>'\n",
      "\twith 94125 stored elements in Compressed Sparse Row format>, array([    0,   419,   806,  1207,  1612,  2027,  2442,  2851,  3286,\n",
      "        3717,  4144,  4559,  4954,  5375,  5756,  6179,  6576,  6983,\n",
      "        7364,  7781,  8198,  8611,  9020,  9459,  9858, 10261, 10668,\n",
      "       11111, 11526, 11943, 12322, 12697, 13094, 13517, 13928, 14327,\n",
      "       14736, 15157, 15568, 15993, 16416, 16835, 17242, 17655, 18084,\n",
      "       18491, 18878, 19283, 19704, 20099, 20496, 20917, 21362, 21751,\n",
      "       22170, 22597, 22970, 23405, 23834, 24225, 24624, 25049, 25450,\n",
      "       25865, 26286, 26689]))\n"
     ]
    },
    {
     "name": "stderr",
     "output_type": "stream",
     "text": [
      "[Parallel(n_jobs=-1)]: Done  42 tasks      | elapsed:    0.1s\n",
      "[Parallel(n_jobs=-1)]: Done  65 out of  65 | elapsed:    0.2s finished\n",
      "[Parallel(n_jobs=4)]: Done  42 tasks      | elapsed:    0.0s\n",
      "[Parallel(n_jobs=4)]: Done  65 out of  65 | elapsed:    0.0s finished\n",
      "[Parallel(n_jobs=4)]: Done  42 tasks      | elapsed:    0.0s\n",
      "[Parallel(n_jobs=4)]: Done  65 out of  65 | elapsed:    0.0s finished\n",
      "[Parallel(n_jobs=-1)]: Done  42 tasks      | elapsed:    0.0s\n",
      "[Parallel(n_jobs=-1)]: Done  65 out of  65 | elapsed:    0.1s finished\n"
     ]
    },
    {
     "name": "stdout",
     "output_type": "stream",
     "text": [
      "(<350x11801 sparse matrix of type '<class 'numpy.int64'>'\n",
      "\twith 174660 stored elements in Compressed Sparse Row format>, array([    0,   175,   360,   535,   702,   899,  1070,  1235,  1432,\n",
      "        1601,  1800,  1983,  2150,  2335,  2528,  2711,  2890,  3079,\n",
      "        3272,  3471,  3654,  3843,  4016,  4201,  4370,  4567,  4736,\n",
      "        4925,  5116,  5309,  5506,  5675,  5868,  6053,  6230,  6407,\n",
      "        6576,  6743,  6928,  7105,  7290,  7461,  7654,  7827,  8000,\n",
      "        8193,  8370,  8543,  8746,  8931,  9108,  9297,  9460,  9645,\n",
      "        9832, 10013, 10196, 10383, 10570, 10755, 10934, 11117, 11290,\n",
      "       11461, 11634, 11801]))\n"
     ]
    },
    {
     "name": "stderr",
     "output_type": "stream",
     "text": [
      "[Parallel(n_jobs=-1)]: Done  42 tasks      | elapsed:    0.1s\n",
      "[Parallel(n_jobs=-1)]: Done  65 out of  65 | elapsed:    0.1s finished\n",
      "[Parallel(n_jobs=4)]: Done  42 tasks      | elapsed:    0.0s\n",
      "[Parallel(n_jobs=4)]: Done  65 out of  65 | elapsed:    0.0s finished\n",
      "[Parallel(n_jobs=4)]: Done  42 tasks      | elapsed:    0.0s\n",
      "[Parallel(n_jobs=4)]: Done  65 out of  65 | elapsed:    0.0s finished\n",
      "[Parallel(n_jobs=-1)]: Done  42 tasks      | elapsed:    0.0s\n",
      "[Parallel(n_jobs=-1)]: Done  65 out of  65 | elapsed:    0.1s finished\n"
     ]
    },
    {
     "name": "stdout",
     "output_type": "stream",
     "text": [
      "(<392x25213 sparse matrix of type '<class 'numpy.int64'>'\n",
      "\twith 237267 stored elements in Compressed Sparse Row format>, array([    0,   397,   768,  1185,  1580,  1957,  2344,  2765,  3132,\n",
      "        3505,  3880,  4277,  4666,  5053,  5436,  5803,  6186,  6561,\n",
      "        6932,  7297,  7704,  8081,  8474,  8863,  9260,  9637, 10014,\n",
      "       10375, 10752, 11165, 11556, 11949, 12348, 12731, 13128, 13511,\n",
      "       13880, 14247, 14642, 15041, 15440, 15821, 16240, 16631, 17022,\n",
      "       17439, 17834, 18227, 18634, 19001, 19388, 19775, 20162, 20541,\n",
      "       20930, 21339, 21728, 22123, 22532, 22933, 23298, 23683, 24068,\n",
      "       24435, 24822, 25213]))\n"
     ]
    },
    {
     "name": "stderr",
     "output_type": "stream",
     "text": [
      "[Parallel(n_jobs=-1)]: Done  42 tasks      | elapsed:    0.1s\n",
      "[Parallel(n_jobs=-1)]: Done  65 out of  65 | elapsed:    0.1s finished\n",
      "[Parallel(n_jobs=4)]: Done  42 tasks      | elapsed:    0.0s\n",
      "[Parallel(n_jobs=4)]: Done  65 out of  65 | elapsed:    0.0s finished\n",
      "[Parallel(n_jobs=4)]: Done  42 tasks      | elapsed:    0.0s\n",
      "[Parallel(n_jobs=4)]: Done  65 out of  65 | elapsed:    0.0s finished\n",
      "[Parallel(n_jobs=-1)]: Done  42 tasks      | elapsed:    0.0s\n",
      "[Parallel(n_jobs=-1)]: Done  65 out of  65 | elapsed:    0.1s finished\n"
     ]
    },
    {
     "name": "stdout",
     "output_type": "stream",
     "text": [
      "(<408x24551 sparse matrix of type '<class 'numpy.int64'>'\n",
      "\twith 237891 stored elements in Compressed Sparse Row format>, array([    0,   365,   722,  1125,  1482,  1835,  2224,  2591,  3002,\n",
      "        3383,  3756,  4131,  4476,  4859,  5244,  5609,  5988,  6363,\n",
      "        6750,  7117,  7494,  7853,  8256,  8619,  8996,  9397,  9786,\n",
      "       10125, 10508, 10871, 11248, 11613, 11988, 12357, 12708, 13087,\n",
      "       13466, 13851, 14246, 14617, 14988, 15343, 15722, 16113, 16518,\n",
      "       16905, 17270, 17671, 18030, 18397, 18780, 19143, 19550, 19931,\n",
      "       20312, 20691, 21084, 21461, 21840, 22197, 22576, 22989, 23376,\n",
      "       23759, 24156, 24551]))\n"
     ]
    },
    {
     "name": "stderr",
     "output_type": "stream",
     "text": [
      "[Parallel(n_jobs=-1)]: Done  42 tasks      | elapsed:    0.1s\n",
      "[Parallel(n_jobs=-1)]: Done  65 out of  65 | elapsed:    0.1s finished\n",
      "[Parallel(n_jobs=4)]: Done  42 tasks      | elapsed:    0.0s\n",
      "[Parallel(n_jobs=4)]: Done  65 out of  65 | elapsed:    0.0s finished\n",
      "[Parallel(n_jobs=4)]: Done  42 tasks      | elapsed:    0.0s\n",
      "[Parallel(n_jobs=4)]: Done  65 out of  65 | elapsed:    0.0s finished\n",
      "[Parallel(n_jobs=-1)]: Done  42 tasks      | elapsed:    0.0s\n",
      "[Parallel(n_jobs=-1)]: Done  65 out of  65 | elapsed:    0.1s finished\n"
     ]
    },
    {
     "name": "stdout",
     "output_type": "stream",
     "text": [
      "(<383x25035 sparse matrix of type '<class 'numpy.int64'>'\n",
      "\twith 229612 stored elements in Compressed Sparse Row format>, array([    0,   369,   758,  1139,  1526,  1945,  2332,  2701,  3084,\n",
      "        3483,  3852,  4257,  4636,  5015,  5414,  5819,  6194,  6595,\n",
      "        6976,  7381,  7760,  8141,  8510,  8915,  9320,  9707, 10090,\n",
      "       10471, 10816, 11189, 11580, 11919, 12292, 12681, 13076, 13451,\n",
      "       13828, 14217, 14610, 14985, 15376, 15765, 16164, 16573, 16958,\n",
      "       17347, 17746, 18125, 18490, 18877, 19258, 19641, 19998, 20385,\n",
      "       20784, 21135, 21528, 21949, 22350, 22711, 23092, 23463, 23836,\n",
      "       24209, 24630, 25035]))\n"
     ]
    },
    {
     "name": "stderr",
     "output_type": "stream",
     "text": [
      "[Parallel(n_jobs=-1)]: Done  42 tasks      | elapsed:    0.1s\n",
      "[Parallel(n_jobs=-1)]: Done  65 out of  65 | elapsed:    0.2s finished\n",
      "[Parallel(n_jobs=4)]: Done  42 tasks      | elapsed:    0.0s\n",
      "[Parallel(n_jobs=4)]: Done  65 out of  65 | elapsed:    0.0s finished\n",
      "[Parallel(n_jobs=4)]: Done  42 tasks      | elapsed:    0.0s\n",
      "[Parallel(n_jobs=4)]: Done  65 out of  65 | elapsed:    0.0s finished\n",
      "[Parallel(n_jobs=-1)]: Done  42 tasks      | elapsed:    0.0s\n",
      "[Parallel(n_jobs=-1)]: Done  65 out of  65 | elapsed:    0.1s finished\n"
     ]
    },
    {
     "name": "stdout",
     "output_type": "stream",
     "text": [
      "(<375x26257 sparse matrix of type '<class 'numpy.int64'>'\n",
      "\twith 226138 stored elements in Compressed Sparse Row format>, array([    0,   405,   798,  1163,  1538,  1975,  2380,  2801,  3208,\n",
      "        3599,  4014,  4395,  4786,  5191,  5602,  5973,  6390,  6767,\n",
      "        7188,  7611,  8032,  8439,  8840,  9223,  9688, 10107, 10520,\n",
      "       10885, 11286, 11713, 12088, 12493, 12884, 13317, 13716, 14089,\n",
      "       14508, 14921, 15304, 15711, 16114, 16517, 16910, 17291, 17680,\n",
      "       18059, 18464, 18855, 19254, 19697, 20122, 20557, 20978, 21395,\n",
      "       21818, 22223, 22626, 23003, 23386, 23805, 24212, 24605, 25020,\n",
      "       25443, 25848, 26257]))\n"
     ]
    },
    {
     "name": "stderr",
     "output_type": "stream",
     "text": [
      "[Parallel(n_jobs=-1)]: Done  42 tasks      | elapsed:    0.1s\n",
      "[Parallel(n_jobs=-1)]: Done  65 out of  65 | elapsed:    0.2s finished\n",
      "[Parallel(n_jobs=4)]: Done  42 tasks      | elapsed:    0.0s\n",
      "[Parallel(n_jobs=4)]: Done  65 out of  65 | elapsed:    0.0s finished\n",
      "[Parallel(n_jobs=4)]: Done  42 tasks      | elapsed:    0.0s\n",
      "[Parallel(n_jobs=4)]: Done  65 out of  65 | elapsed:    0.0s finished\n",
      "[Parallel(n_jobs=-1)]: Done  42 tasks      | elapsed:    0.0s\n",
      "[Parallel(n_jobs=-1)]: Done  65 out of  65 | elapsed:    0.1s finished\n"
     ]
    },
    {
     "name": "stdout",
     "output_type": "stream",
     "text": [
      "(<367x26035 sparse matrix of type '<class 'numpy.int64'>'\n",
      "\twith 218587 stored elements in Compressed Sparse Row format>, array([    0,   409,   810,  1203,  1642,  2051,  2444,  2829,  3216,\n",
      "        3627,  4058,  4465,  4854,  5233,  5634,  6035,  6428,  6879,\n",
      "        7260,  7647,  8050,  8445,  8850,  9227,  9624, 10003, 10378,\n",
      "       10765, 11178, 11593, 11966, 12357, 12746, 13165, 13556, 13957,\n",
      "       14360, 14771, 15176, 15617, 15982, 16403, 16814, 17207, 17610,\n",
      "       18023, 18404, 18797, 19184, 19585, 19974, 20385, 20808, 21213,\n",
      "       21574, 21985, 22372, 22777, 23190, 23593, 23990, 24375, 24772,\n",
      "       25203, 25636, 26035]))\n"
     ]
    },
    {
     "name": "stderr",
     "output_type": "stream",
     "text": [
      "[Parallel(n_jobs=-1)]: Done  42 tasks      | elapsed:    0.1s\n",
      "[Parallel(n_jobs=-1)]: Done  65 out of  65 | elapsed:    0.1s finished\n",
      "[Parallel(n_jobs=4)]: Done  42 tasks      | elapsed:    0.0s\n",
      "[Parallel(n_jobs=4)]: Done  65 out of  65 | elapsed:    0.0s finished\n",
      "[Parallel(n_jobs=4)]: Done  42 tasks      | elapsed:    0.0s\n",
      "[Parallel(n_jobs=4)]: Done  65 out of  65 | elapsed:    0.0s finished\n",
      "[Parallel(n_jobs=-1)]: Done  42 tasks      | elapsed:    0.0s\n",
      "[Parallel(n_jobs=-1)]: Done  65 out of  65 | elapsed:    0.1s finished\n"
     ]
    },
    {
     "name": "stdout",
     "output_type": "stream",
     "text": [
      "(<374x26353 sparse matrix of type '<class 'numpy.int64'>'\n",
      "\twith 227153 stored elements in Compressed Sparse Row format>, array([    0,   421,   830,  1241,  1652,  2085,  2486,  2871,  3292,\n",
      "        3695,  4092,  4515,  4924,  5347,  5762,  6173,  6558,  6967,\n",
      "        7382,  7811,  8204,  8613,  9016,  9423,  9860, 10275, 10666,\n",
      "       11065, 11472, 11859, 12260, 12659, 13060, 13459, 13858, 14219,\n",
      "       14614, 14995, 15408, 15821, 16226, 16659, 17068, 17491, 17922,\n",
      "       18311, 18688, 19107, 19472, 19861, 20254, 20653, 21062, 21481,\n",
      "       21882, 22261, 22664, 23081, 23504, 23911, 24308, 24707, 25140,\n",
      "       25539, 25934, 26353]))\n"
     ]
    },
    {
     "name": "stderr",
     "output_type": "stream",
     "text": [
      "[Parallel(n_jobs=-1)]: Done  42 tasks      | elapsed:    0.1s\n",
      "[Parallel(n_jobs=-1)]: Done  65 out of  65 | elapsed:    0.1s finished\n",
      "[Parallel(n_jobs=4)]: Done  42 tasks      | elapsed:    0.0s\n",
      "[Parallel(n_jobs=4)]: Done  65 out of  65 | elapsed:    0.0s finished\n",
      "[Parallel(n_jobs=4)]: Done  42 tasks      | elapsed:    0.0s\n",
      "[Parallel(n_jobs=4)]: Done  65 out of  65 | elapsed:    0.0s finished\n",
      "[Parallel(n_jobs=-1)]: Done  42 tasks      | elapsed:    0.0s\n",
      "[Parallel(n_jobs=-1)]: Done  65 out of  65 | elapsed:    0.1s finished\n"
     ]
    },
    {
     "name": "stdout",
     "output_type": "stream",
     "text": [
      "(<396x25495 sparse matrix of type '<class 'numpy.int64'>'\n",
      "\twith 232527 stored elements in Compressed Sparse Row format>, array([    0,   357,   784,  1157,  1572,  1943,  2314,  2717,  3102,\n",
      "        3495,  3898,  4285,  4696,  5089,  5474,  5885,  6276,  6643,\n",
      "        7012,  7379,  7778,  8179,  8588,  8989,  9378,  9801, 10190,\n",
      "       10575, 10962, 11355, 11746, 12163, 12570, 12967, 13362, 13759,\n",
      "       14134, 14509, 14900, 15305, 15704, 16125, 16520, 16903, 17318,\n",
      "       17707, 18108, 18465, 18852, 19249, 19650, 20033, 20392, 20775,\n",
      "       21146, 21535, 21936, 22313, 22716, 23091, 23490, 23885, 24294,\n",
      "       24703, 25074, 25495]))\n"
     ]
    },
    {
     "name": "stderr",
     "output_type": "stream",
     "text": [
      "[Parallel(n_jobs=-1)]: Done  42 tasks      | elapsed:    0.1s\n",
      "[Parallel(n_jobs=-1)]: Done  65 out of  65 | elapsed:    0.1s finished\n",
      "[Parallel(n_jobs=4)]: Done  42 tasks      | elapsed:    0.0s\n",
      "[Parallel(n_jobs=4)]: Done  65 out of  65 | elapsed:    0.0s finished\n",
      "[Parallel(n_jobs=4)]: Done  42 tasks      | elapsed:    0.0s\n",
      "[Parallel(n_jobs=4)]: Done  65 out of  65 | elapsed:    0.0s finished\n",
      "[Parallel(n_jobs=-1)]: Done  42 tasks      | elapsed:    0.0s\n",
      "[Parallel(n_jobs=-1)]: Done  65 out of  65 | elapsed:    0.1s finished\n"
     ]
    },
    {
     "name": "stdout",
     "output_type": "stream",
     "text": [
      "(<375x24347 sparse matrix of type '<class 'numpy.int64'>'\n",
      "\twith 211871 stored elements in Compressed Sparse Row format>, array([    0,   357,   730,  1087,  1442,  1813,  2190,  2577,  2950,\n",
      "        3321,  3686,  4043,  4442,  4809,  5152,  5519,  5876,  6267,\n",
      "        6626,  6999,  7398,  7763,  8128,  8495,  8854,  9243,  9632,\n",
      "        9989, 10350, 10731, 11106, 11485, 11870, 12279, 12674, 13021,\n",
      "       13398, 13785, 14178, 14553, 14946, 15329, 15722, 16105, 16496,\n",
      "       16853, 17230, 17581, 17968, 18337, 18738, 19091, 19478, 19851,\n",
      "       20212, 20619, 20996, 21367, 21754, 22115, 22502, 22853, 23242,\n",
      "       23599, 23982, 24347]))\n"
     ]
    },
    {
     "name": "stderr",
     "output_type": "stream",
     "text": [
      "[Parallel(n_jobs=-1)]: Done  42 tasks      | elapsed:    0.0s\n",
      "[Parallel(n_jobs=-1)]: Done  65 out of  65 | elapsed:    0.1s finished\n",
      "[Parallel(n_jobs=4)]: Done  42 tasks      | elapsed:    0.0s\n",
      "[Parallel(n_jobs=4)]: Done  65 out of  65 | elapsed:    0.0s finished\n",
      "[Parallel(n_jobs=4)]: Done  42 tasks      | elapsed:    0.0s\n",
      "[Parallel(n_jobs=4)]: Done  65 out of  65 | elapsed:    0.0s finished\n",
      "[Parallel(n_jobs=-1)]: Done  42 tasks      | elapsed:    0.0s\n",
      "[Parallel(n_jobs=-1)]: Done  65 out of  65 | elapsed:    0.1s finished\n"
     ]
    },
    {
     "name": "stdout",
     "output_type": "stream",
     "text": [
      "(<10x26273 sparse matrix of type '<class 'numpy.int64'>'\n",
      "\twith 5390 stored elements in Compressed Sparse Row format>, array([    0,   387,   802,  1213,  1594,  2001,  2424,  2813,  3242,\n",
      "        3659,  4038,  4459,  4854,  5225,  5668,  6089,  6498,  6923,\n",
      "        7338,  7737,  8118,  8537,  8960,  9349,  9724, 10149, 10536,\n",
      "       10971, 11362, 11753, 12150, 12551, 12948, 13307, 13702, 14133,\n",
      "       14546, 14955, 15362, 15777, 16184, 16569, 16980, 17373, 17786,\n",
      "       18177, 18570, 18959, 19312, 19725, 20116, 20541, 20940, 21313,\n",
      "       21734, 22159, 22600, 22995, 23402, 23813, 24226, 24655, 25056,\n",
      "       25481, 25892, 26273]))\n"
     ]
    },
    {
     "name": "stderr",
     "output_type": "stream",
     "text": [
      "[Parallel(n_jobs=-1)]: Done  42 tasks      | elapsed:    0.1s\n",
      "[Parallel(n_jobs=-1)]: Done  65 out of  65 | elapsed:    0.1s finished\n",
      "[Parallel(n_jobs=4)]: Done  42 tasks      | elapsed:    0.0s\n",
      "[Parallel(n_jobs=4)]: Done  65 out of  65 | elapsed:    0.0s finished\n",
      "[Parallel(n_jobs=4)]: Done  42 tasks      | elapsed:    0.0s\n",
      "[Parallel(n_jobs=4)]: Done  65 out of  65 | elapsed:    0.0s finished\n",
      "[Parallel(n_jobs=-1)]: Done  42 tasks      | elapsed:    0.0s\n",
      "[Parallel(n_jobs=-1)]: Done  65 out of  65 | elapsed:    0.1s finished\n"
     ]
    },
    {
     "name": "stdout",
     "output_type": "stream",
     "text": [
      "(<378x499 sparse matrix of type '<class 'numpy.int64'>'\n",
      "\twith 71830 stored elements in Compressed Sparse Row format>, array([  0,   7,  14,  21,  28,  39,  44,  49,  58,  67,  78,  87,  94,\n",
      "       107, 116, 123, 134, 141, 146, 157, 162, 171, 178, 183, 190, 197,\n",
      "       206, 213, 218, 223, 234, 241, 248, 257, 266, 273, 282, 289, 300,\n",
      "       307, 314, 323, 332, 341, 348, 355, 360, 367, 378, 385, 394, 401,\n",
      "       408, 415, 420, 427, 434, 443, 450, 457, 466, 473, 480, 487, 494, 499]))\n"
     ]
    },
    {
     "name": "stderr",
     "output_type": "stream",
     "text": [
      "[Parallel(n_jobs=-1)]: Done  42 tasks      | elapsed:    0.1s\n",
      "[Parallel(n_jobs=-1)]: Done  65 out of  65 | elapsed:    0.1s finished\n",
      "[Parallel(n_jobs=4)]: Done  42 tasks      | elapsed:    0.0s\n",
      "[Parallel(n_jobs=4)]: Done  65 out of  65 | elapsed:    0.0s finished\n",
      "[Parallel(n_jobs=4)]: Done  42 tasks      | elapsed:    0.0s\n",
      "[Parallel(n_jobs=4)]: Done  65 out of  65 | elapsed:    0.0s finished\n",
      "[Parallel(n_jobs=-1)]: Done  42 tasks      | elapsed:    0.0s\n",
      "[Parallel(n_jobs=-1)]: Done  65 out of  65 | elapsed:    0.1s finished\n"
     ]
    },
    {
     "name": "stdout",
     "output_type": "stream",
     "text": [
      "(<159x24353 sparse matrix of type '<class 'numpy.int64'>'\n",
      "\twith 89362 stored elements in Compressed Sparse Row format>, array([    0,   373,   738,  1113,  1492,  1839,  2192,  2527,  2918,\n",
      "        3307,  3670,  4063,  4456,  4835,  5198,  5523,  5886,  6257,\n",
      "        6612,  6999,  7396,  7771,  8132,  8539,  8908,  9287,  9642,\n",
      "       10033, 10408, 10785, 11170, 11545, 11916, 12307, 12690, 13061,\n",
      "       13452, 13819, 14186, 14571, 14926, 15311, 15714, 16075, 16458,\n",
      "       16815, 17210, 17619, 17988, 18377, 18730, 19091, 19468, 19843,\n",
      "       20230, 20591, 20962, 21351, 21718, 22073, 22450, 22851, 23218,\n",
      "       23603, 23962, 24353]))\n"
     ]
    },
    {
     "name": "stderr",
     "output_type": "stream",
     "text": [
      "[Parallel(n_jobs=-1)]: Done  42 tasks      | elapsed:    0.1s\n",
      "[Parallel(n_jobs=-1)]: Done  65 out of  65 | elapsed:    0.2s finished\n",
      "[Parallel(n_jobs=4)]: Done  42 tasks      | elapsed:    0.0s\n",
      "[Parallel(n_jobs=4)]: Done  65 out of  65 | elapsed:    0.0s finished\n",
      "[Parallel(n_jobs=4)]: Done  42 tasks      | elapsed:    0.0s\n",
      "[Parallel(n_jobs=4)]: Done  65 out of  65 | elapsed:    0.0s finished\n",
      "[Parallel(n_jobs=-1)]: Done  42 tasks      | elapsed:    0.0s\n",
      "[Parallel(n_jobs=-1)]: Done  65 out of  65 | elapsed:    0.1s finished\n"
     ]
    },
    {
     "name": "stdout",
     "output_type": "stream",
     "text": [
      "(<354x12379 sparse matrix of type '<class 'numpy.int64'>'\n",
      "\twith 183739 stored elements in Compressed Sparse Row format>, array([    0,   187,   362,   537,   706,   897,  1074,  1257,  1446,\n",
      "        1637,  1818,  2001,  2172,  2367,  2560,  2739,  2922,  3097,\n",
      "        3282,  3477,  3700,  3875,  4078,  4269,  4458,  4647,  4842,\n",
      "        5007,  5200,  5395,  5580,  5777,  5964,  6149,  6346,  6533,\n",
      "        6710,  6897,  7108,  7303,  7494,  7683,  7884,  8105,  8282,\n",
      "        8455,  8648,  8835,  9024,  9223,  9436,  9623,  9814, 10011,\n",
      "       10230, 10417, 10620, 10807, 10994, 11193, 11400, 11591, 11778,\n",
      "       11979, 12174, 12379]))\n"
     ]
    },
    {
     "name": "stderr",
     "output_type": "stream",
     "text": [
      "[Parallel(n_jobs=-1)]: Done  42 tasks      | elapsed:    0.1s\n",
      "[Parallel(n_jobs=-1)]: Done  65 out of  65 | elapsed:    0.1s finished\n",
      "[Parallel(n_jobs=4)]: Done  42 tasks      | elapsed:    0.0s\n",
      "[Parallel(n_jobs=4)]: Done  65 out of  65 | elapsed:    0.0s finished\n",
      "[Parallel(n_jobs=4)]: Done  42 tasks      | elapsed:    0.0s\n",
      "[Parallel(n_jobs=4)]: Done  65 out of  65 | elapsed:    0.0s finished\n",
      "[Parallel(n_jobs=-1)]: Done  42 tasks      | elapsed:    0.0s\n",
      "[Parallel(n_jobs=-1)]: Done  65 out of  65 | elapsed:    0.0s finished\n"
     ]
    },
    {
     "name": "stdout",
     "output_type": "stream",
     "text": [
      "(<41x25895 sparse matrix of type '<class 'numpy.int64'>'\n",
      "\twith 25928 stored elements in Compressed Sparse Row format>, array([    0,   407,   808,  1197,  1624,  2017,  2390,  2813,  3190,\n",
      "        3569,  3960,  4363,  4748,  5133,  5548,  5955,  6360,  6711,\n",
      "        7118,  7495,  7888,  8307,  8696,  9071,  9456,  9871, 10298,\n",
      "       10703, 11066, 11507, 11888, 12249, 12640, 13063, 13508, 13875,\n",
      "       14292, 14739, 15142, 15541, 15954, 16339, 16736, 17103, 17510,\n",
      "       17917, 18290, 18681, 19074, 19485, 19892, 20277, 20682, 21091,\n",
      "       21484, 21887, 22284, 22679, 23088, 23481, 23880, 24295, 24696,\n",
      "       25113, 25500, 25895]))\n"
     ]
    },
    {
     "name": "stderr",
     "output_type": "stream",
     "text": [
      "[Parallel(n_jobs=-1)]: Done  42 tasks      | elapsed:    0.1s\n",
      "[Parallel(n_jobs=-1)]: Done  65 out of  65 | elapsed:    0.1s finished\n",
      "[Parallel(n_jobs=4)]: Done  42 tasks      | elapsed:    0.0s\n",
      "[Parallel(n_jobs=4)]: Done  65 out of  65 | elapsed:    0.0s finished\n",
      "[Parallel(n_jobs=4)]: Done  42 tasks      | elapsed:    0.0s\n",
      "[Parallel(n_jobs=4)]: Done  65 out of  65 | elapsed:    0.0s finished\n",
      "[Parallel(n_jobs=-1)]: Done  42 tasks      | elapsed:    0.0s\n",
      "[Parallel(n_jobs=-1)]: Done  65 out of  65 | elapsed:    0.1s finished\n"
     ]
    },
    {
     "name": "stdout",
     "output_type": "stream",
     "text": [
      "(<382x3367 sparse matrix of type '<class 'numpy.int64'>'\n",
      "\twith 149674 stored elements in Compressed Sparse Row format>, array([   0,   53,  100,  149,  204,  257,  316,  367,  424,  483,  522,\n",
      "        573,  630,  683,  738,  785,  826,  883,  940,  989, 1044, 1101,\n",
      "       1144, 1193, 1244, 1309, 1358, 1417, 1480, 1527, 1590, 1649, 1690,\n",
      "       1743, 1790, 1847, 1898, 1959, 2018, 2067, 2122, 2169, 2218, 2271,\n",
      "       2318, 2365, 2410, 2465, 2510, 2557, 2600, 2663, 2702, 2743, 2804,\n",
      "       2849, 2890, 2937, 2984, 3039, 3090, 3145, 3204, 3253, 3310, 3367]))\n"
     ]
    },
    {
     "name": "stderr",
     "output_type": "stream",
     "text": [
      "[Parallel(n_jobs=-1)]: Done  42 tasks      | elapsed:    0.1s\n",
      "[Parallel(n_jobs=-1)]: Done  65 out of  65 | elapsed:    0.2s finished\n",
      "[Parallel(n_jobs=4)]: Done  42 tasks      | elapsed:    0.0s\n",
      "[Parallel(n_jobs=4)]: Done  65 out of  65 | elapsed:    0.0s finished\n",
      "[Parallel(n_jobs=4)]: Done  42 tasks      | elapsed:    0.0s\n",
      "[Parallel(n_jobs=4)]: Done  65 out of  65 | elapsed:    0.0s finished\n",
      "[Parallel(n_jobs=-1)]: Done  42 tasks      | elapsed:    0.0s\n",
      "[Parallel(n_jobs=-1)]: Done  65 out of  65 | elapsed:    0.1s finished\n"
     ]
    },
    {
     "name": "stdout",
     "output_type": "stream",
     "text": [
      "(<339x26091 sparse matrix of type '<class 'numpy.int64'>'\n",
      "\twith 200274 stored elements in Compressed Sparse Row format>, array([    0,   413,   824,  1233,  1634,  2009,  2400,  2761,  3142,\n",
      "        3511,  3920,  4337,  4756,  5175,  5586,  5983,  6396,  6817,\n",
      "        7222,  7625,  8060,  8479,  8888,  9285,  9674, 10091, 10476,\n",
      "       10853, 11248, 11685, 12094, 12495, 12888, 13295, 13692, 14089,\n",
      "       14516, 14909, 15356, 15745, 16148, 16527, 16938, 17333, 17704,\n",
      "       18107, 18520, 18899, 19278, 19687, 20082, 20475, 20876, 21271,\n",
      "       21690, 22111, 22516, 22899, 23286, 23687, 24088, 24483, 24898,\n",
      "       25277, 25714, 26091]))\n"
     ]
    },
    {
     "name": "stderr",
     "output_type": "stream",
     "text": [
      "[Parallel(n_jobs=-1)]: Done  42 tasks      | elapsed:    0.1s\n",
      "[Parallel(n_jobs=-1)]: Done  65 out of  65 | elapsed:    0.1s finished\n",
      "[Parallel(n_jobs=4)]: Done  42 tasks      | elapsed:    0.0s\n",
      "[Parallel(n_jobs=4)]: Done  65 out of  65 | elapsed:    0.0s finished\n",
      "[Parallel(n_jobs=4)]: Done  42 tasks      | elapsed:    0.0s\n",
      "[Parallel(n_jobs=4)]: Done  65 out of  65 | elapsed:    0.0s finished\n",
      "[Parallel(n_jobs=-1)]: Done  42 tasks      | elapsed:    0.0s\n",
      "[Parallel(n_jobs=-1)]: Done  65 out of  65 | elapsed:    0.1s finished\n"
     ]
    },
    {
     "name": "stdout",
     "output_type": "stream",
     "text": [
      "(<368x27435 sparse matrix of type '<class 'numpy.int64'>'\n",
      "\twith 229238 stored elements in Compressed Sparse Row format>, array([    0,   417,   840,  1251,  1698,  2117,  2544,  2973,  3410,\n",
      "        3853,  4264,  4707,  5142,  5539,  5956,  6361,  6790,  7219,\n",
      "        7622,  8047,  8468,  8881,  9308,  9745, 10194, 10601, 11028,\n",
      "       11449, 11878, 12303, 12730, 13125, 13546, 13965, 14366, 14767,\n",
      "       15236, 15655, 16052, 16505, 16912, 17337, 17774, 18193, 18588,\n",
      "       19007, 19450, 19889, 20290, 20727, 21158, 21595, 22002, 22431,\n",
      "       22832, 23265, 23694, 24127, 24508, 24913, 25328, 25751, 26198,\n",
      "       26605, 27050, 27435]))\n"
     ]
    },
    {
     "name": "stderr",
     "output_type": "stream",
     "text": [
      "[Parallel(n_jobs=-1)]: Done  42 tasks      | elapsed:    0.1s\n",
      "[Parallel(n_jobs=-1)]: Done  65 out of  65 | elapsed:    0.1s finished\n",
      "[Parallel(n_jobs=4)]: Done  42 tasks      | elapsed:    0.0s\n",
      "[Parallel(n_jobs=4)]: Done  65 out of  65 | elapsed:    0.0s finished\n",
      "[Parallel(n_jobs=4)]: Done  42 tasks      | elapsed:    0.0s\n",
      "[Parallel(n_jobs=4)]: Done  65 out of  65 | elapsed:    0.0s finished\n",
      "[Parallel(n_jobs=-1)]: Done  42 tasks      | elapsed:    0.0s\n",
      "[Parallel(n_jobs=-1)]: Done  65 out of  65 | elapsed:    0.1s finished\n"
     ]
    },
    {
     "name": "stdout",
     "output_type": "stream",
     "text": [
      "(<365x28175 sparse matrix of type '<class 'numpy.int64'>'\n",
      "\twith 228092 stored elements in Compressed Sparse Row format>, array([    0,   401,   812,  1269,  1728,  2157,  2608,  3021,  3418,\n",
      "        3881,  4298,  4769,  5178,  5587,  6046,  6475,  6898,  7335,\n",
      "        7772,  8201,  8638,  9077,  9492,  9917, 10382, 10817, 11272,\n",
      "       11705, 12136, 12567, 13012, 13431, 13856, 14293, 14734, 15173,\n",
      "       15610, 16071, 16518, 16945, 17384, 17823, 18252, 18707, 19166,\n",
      "       19581, 19998, 20435, 20862, 21283, 21698, 22123, 22554, 22999,\n",
      "       23416, 23829, 24284, 24709, 25164, 25597, 26028, 26455, 26864,\n",
      "       27295, 27730, 28175]))\n"
     ]
    },
    {
     "name": "stderr",
     "output_type": "stream",
     "text": [
      "[Parallel(n_jobs=-1)]: Done  42 tasks      | elapsed:    0.1s\n",
      "[Parallel(n_jobs=-1)]: Done  65 out of  65 | elapsed:    0.1s finished\n",
      "[Parallel(n_jobs=4)]: Done  42 tasks      | elapsed:    0.0s\n",
      "[Parallel(n_jobs=4)]: Done  65 out of  65 | elapsed:    0.0s finished\n",
      "[Parallel(n_jobs=4)]: Done  42 tasks      | elapsed:    0.0s\n",
      "[Parallel(n_jobs=4)]: Done  65 out of  65 | elapsed:    0.0s finished\n",
      "[Parallel(n_jobs=-1)]: Done  42 tasks      | elapsed:    0.0s\n",
      "[Parallel(n_jobs=-1)]: Done  65 out of  65 | elapsed:    0.1s finished\n"
     ]
    },
    {
     "name": "stdout",
     "output_type": "stream",
     "text": [
      "(<369x26011 sparse matrix of type '<class 'numpy.int64'>'\n",
      "\twith 220117 stored elements in Compressed Sparse Row format>, array([    0,   387,   762,  1187,  1564,  1967,  2398,  2791,  3224,\n",
      "        3637,  4062,  4477,  4872,  5299,  5662,  6067,  6452,  6863,\n",
      "        7246,  7645,  8030,  8443,  8850,  9221,  9592,  9993, 10422,\n",
      "       10829, 11250, 11641, 12002, 12405, 12814, 13197, 13590, 13971,\n",
      "       14372, 14801, 15190, 15605, 15998, 16387, 16798, 17225, 17614,\n",
      "       18009, 18402, 18835, 19268, 19647, 20064, 20463, 20870, 21235,\n",
      "       21618, 22035, 22436, 22851, 23228, 23623, 24006, 24415, 24816,\n",
      "       25199, 25594, 26011]))\n"
     ]
    },
    {
     "name": "stderr",
     "output_type": "stream",
     "text": [
      "[Parallel(n_jobs=-1)]: Done  42 tasks      | elapsed:    0.1s\n",
      "[Parallel(n_jobs=-1)]: Done  65 out of  65 | elapsed:    0.1s finished\n",
      "[Parallel(n_jobs=4)]: Done  42 tasks      | elapsed:    0.0s\n",
      "[Parallel(n_jobs=4)]: Done  65 out of  65 | elapsed:    0.0s finished\n",
      "[Parallel(n_jobs=4)]: Done  42 tasks      | elapsed:    0.0s\n",
      "[Parallel(n_jobs=4)]: Done  65 out of  65 | elapsed:    0.0s finished\n",
      "[Parallel(n_jobs=-1)]: Done  42 tasks      | elapsed:    0.0s\n",
      "[Parallel(n_jobs=-1)]: Done  65 out of  65 | elapsed:    0.1s finished\n"
     ]
    },
    {
     "name": "stdout",
     "output_type": "stream",
     "text": [
      "(<362x26497 sparse matrix of type '<class 'numpy.int64'>'\n",
      "\twith 209243 stored elements in Compressed Sparse Row format>, array([    0,   415,   826,  1239,  1658,  2061,  2480,  2883,  3294,\n",
      "        3735,  4112,  4503,  4918,  5323,  5736,  6145,  6530,  6927,\n",
      "        7384,  7797,  8228,  8651,  9078,  9467,  9898, 10313, 10720,\n",
      "       11125, 11544, 11949, 12350, 12763, 13180, 13571, 14016, 14421,\n",
      "       14818, 15241, 15648, 16071, 16460, 16845, 17256, 17669, 18056,\n",
      "       18461, 18886, 19279, 19668, 20071, 20486, 20873, 21302, 21673,\n",
      "       22086, 22461, 22846, 23273, 23654, 24047, 24462, 24875, 25282,\n",
      "       25673, 26076, 26497]))\n"
     ]
    },
    {
     "name": "stderr",
     "output_type": "stream",
     "text": [
      "[Parallel(n_jobs=-1)]: Done  42 tasks      | elapsed:    0.1s\n",
      "[Parallel(n_jobs=-1)]: Done  65 out of  65 | elapsed:    0.1s finished\n",
      "[Parallel(n_jobs=4)]: Done  42 tasks      | elapsed:    0.0s\n",
      "[Parallel(n_jobs=4)]: Done  65 out of  65 | elapsed:    0.0s finished\n",
      "[Parallel(n_jobs=4)]: Done  42 tasks      | elapsed:    0.0s\n",
      "[Parallel(n_jobs=4)]: Done  65 out of  65 | elapsed:    0.0s finished\n",
      "[Parallel(n_jobs=-1)]: Done  42 tasks      | elapsed:    0.0s\n",
      "[Parallel(n_jobs=-1)]: Done  65 out of  65 | elapsed:    0.1s finished\n"
     ]
    },
    {
     "name": "stdout",
     "output_type": "stream",
     "text": [
      "(<369x24943 sparse matrix of type '<class 'numpy.int64'>'\n",
      "\twith 226155 stored elements in Compressed Sparse Row format>, array([    0,   367,   746,  1097,  1476,  1843,  2246,  2621,  3014,\n",
      "        3393,  3804,  4201,  4598,  4967,  5358,  5727,  6090,  6479,\n",
      "        6876,  7271,  7664,  8025,  8404,  8803,  9186,  9567,  9968,\n",
      "       10343, 10744, 11115, 11524, 11905, 12294, 12659, 13028, 13395,\n",
      "       13796, 14183, 14536, 14935, 15298, 15665, 16040, 16431, 16828,\n",
      "       17211, 17604, 18007, 18352, 18779, 19162, 19569, 19986, 20355,\n",
      "       20746, 21153, 21554, 21909, 22272, 22651, 23038, 23429, 23832,\n",
      "       24209, 24554, 24943]))\n"
     ]
    },
    {
     "name": "stderr",
     "output_type": "stream",
     "text": [
      "[Parallel(n_jobs=-1)]: Done  42 tasks      | elapsed:    0.1s\n",
      "[Parallel(n_jobs=-1)]: Done  65 out of  65 | elapsed:    0.1s finished\n",
      "[Parallel(n_jobs=4)]: Done  42 tasks      | elapsed:    0.0s\n",
      "[Parallel(n_jobs=4)]: Done  65 out of  65 | elapsed:    0.0s finished\n",
      "[Parallel(n_jobs=4)]: Done  42 tasks      | elapsed:    0.0s\n",
      "[Parallel(n_jobs=4)]: Done  65 out of  65 | elapsed:    0.0s finished\n",
      "[Parallel(n_jobs=-1)]: Done  42 tasks      | elapsed:    0.0s\n",
      "[Parallel(n_jobs=-1)]: Done  65 out of  65 | elapsed:    0.1s finished\n"
     ]
    },
    {
     "name": "stdout",
     "output_type": "stream",
     "text": [
      "(<327x25669 sparse matrix of type '<class 'numpy.int64'>'\n",
      "\twith 192488 stored elements in Compressed Sparse Row format>, array([    0,   391,   788,  1179,  1596,  1983,  2412,  2817,  3220,\n",
      "        3615,  3978,  4389,  4796,  5191,  5572,  5949,  6374,  6777,\n",
      "        7206,  7587,  7956,  8347,  8774,  9159,  9550,  9947, 10318,\n",
      "       10697, 11094, 11517, 11892, 12319, 12728, 13149, 13538, 13953,\n",
      "       14364, 14755, 15158, 15561, 15948, 16329, 16730, 17131, 17514,\n",
      "       17931, 18326, 18749, 19140, 19533, 19904, 20291, 20666, 21055,\n",
      "       21400, 21799, 22198, 22583, 22948, 23339, 23738, 24107, 24490,\n",
      "       24879, 25282, 25669]))\n"
     ]
    },
    {
     "name": "stderr",
     "output_type": "stream",
     "text": [
      "[Parallel(n_jobs=-1)]: Done  42 tasks      | elapsed:    0.0s\n",
      "[Parallel(n_jobs=-1)]: Done  65 out of  65 | elapsed:    0.1s finished\n",
      "[Parallel(n_jobs=4)]: Done  42 tasks      | elapsed:    0.0s\n",
      "[Parallel(n_jobs=4)]: Done  65 out of  65 | elapsed:    0.0s finished\n",
      "[Parallel(n_jobs=4)]: Done  42 tasks      | elapsed:    0.0s\n",
      "[Parallel(n_jobs=4)]: Done  65 out of  65 | elapsed:    0.0s finished\n",
      "[Parallel(n_jobs=-1)]: Done  42 tasks      | elapsed:    0.0s\n",
      "[Parallel(n_jobs=-1)]: Done  65 out of  65 | elapsed:    0.0s finished\n"
     ]
    },
    {
     "name": "stdout",
     "output_type": "stream",
     "text": [
      "(<2x26833 sparse matrix of type '<class 'numpy.int64'>'\n",
      "\twith 1090 stored elements in Compressed Sparse Row format>, array([    0,   415,   834,  1227,  1640,  2039,  2484,  2887,  3278,\n",
      "        3691,  4114,  4537,  4962,  5377,  5806,  6235,  6632,  7029,\n",
      "        7426,  7845,  8222,  8613,  9054,  9469,  9880, 10311, 10720,\n",
      "       11143, 11546, 11941, 12354, 12749, 13162, 13589, 13990, 14375,\n",
      "       14782, 15203, 15610, 16027, 16472, 16895, 17328, 17753, 18150,\n",
      "       18553, 18956, 19377, 19790, 20199, 20620, 21029, 21444, 21871,\n",
      "       22292, 22681, 23100, 23511, 23944, 24357, 24758, 25199, 25596,\n",
      "       26015, 26422, 26833]))\n"
     ]
    },
    {
     "name": "stderr",
     "output_type": "stream",
     "text": [
      "[Parallel(n_jobs=-1)]: Done  42 tasks      | elapsed:    0.0s\n",
      "[Parallel(n_jobs=-1)]: Done  65 out of  65 | elapsed:    0.1s finished\n",
      "[Parallel(n_jobs=4)]: Done  42 tasks      | elapsed:    0.0s\n",
      "[Parallel(n_jobs=4)]: Done  65 out of  65 | elapsed:    0.0s finished\n",
      "[Parallel(n_jobs=4)]: Done  42 tasks      | elapsed:    0.0s\n",
      "[Parallel(n_jobs=4)]: Done  65 out of  65 | elapsed:    0.0s finished\n",
      "[Parallel(n_jobs=-1)]: Done  42 tasks      | elapsed:    0.0s\n",
      "[Parallel(n_jobs=-1)]: Done  65 out of  65 | elapsed:    0.1s finished\n"
     ]
    },
    {
     "name": "stdout",
     "output_type": "stream",
     "text": [
      "(<126x389 sparse matrix of type '<class 'numpy.int64'>'\n",
      "\twith 22548 stored elements in Compressed Sparse Row format>, array([  0,   5,  10,  15,  20,  25,  30,  35,  40,  45,  52,  61,  68,\n",
      "        71,  78,  83,  86,  91,  98, 103, 108, 111, 116, 123, 128, 137,\n",
      "       142, 147, 154, 161, 166, 175, 184, 189, 196, 203, 212, 221, 226,\n",
      "       233, 238, 245, 252, 257, 262, 269, 274, 279, 284, 289, 294, 299,\n",
      "       304, 313, 322, 329, 336, 343, 346, 351, 356, 365, 374, 379, 384, 389]))\n"
     ]
    },
    {
     "name": "stderr",
     "output_type": "stream",
     "text": [
      "[Parallel(n_jobs=-1)]: Done  42 tasks      | elapsed:    0.0s\n",
      "[Parallel(n_jobs=-1)]: Done  65 out of  65 | elapsed:    0.1s finished\n",
      "[Parallel(n_jobs=4)]: Done  42 tasks      | elapsed:    0.0s\n",
      "[Parallel(n_jobs=4)]: Done  65 out of  65 | elapsed:    0.0s finished\n",
      "[Parallel(n_jobs=4)]: Done  42 tasks      | elapsed:    0.0s\n",
      "[Parallel(n_jobs=4)]: Done  65 out of  65 | elapsed:    0.0s finished\n",
      "[Parallel(n_jobs=-1)]: Done  42 tasks      | elapsed:    0.0s\n",
      "[Parallel(n_jobs=-1)]: Done  65 out of  65 | elapsed:    0.1s finished\n"
     ]
    },
    {
     "name": "stdout",
     "output_type": "stream",
     "text": [
      "(<160x9431 sparse matrix of type '<class 'numpy.int64'>'\n",
      "\twith 70486 stored elements in Compressed Sparse Row format>, array([   0,  147,  296,  427,  576,  739,  866, 1027, 1170, 1307, 1468,\n",
      "       1611, 1756, 1897, 2050, 2197, 2338, 2467, 2612, 2757, 2884, 3021,\n",
      "       3176, 3337, 3502, 3647, 3790, 3927, 4074, 4233, 4362, 4501, 4646,\n",
      "       4783, 4942, 5099, 5234, 5381, 5530, 5653, 5796, 5923, 6088, 6231,\n",
      "       6388, 6541, 6688, 6823, 6976, 7119, 7274, 7403, 7550, 7711, 7852,\n",
      "       8001, 8136, 8277, 8416, 8555, 8692, 8825, 8968, 9123, 9278, 9431]))\n"
     ]
    },
    {
     "name": "stderr",
     "output_type": "stream",
     "text": [
      "[Parallel(n_jobs=-1)]: Done  42 tasks      | elapsed:    0.1s\n",
      "[Parallel(n_jobs=-1)]: Done  65 out of  65 | elapsed:    0.2s finished\n",
      "[Parallel(n_jobs=4)]: Done  42 tasks      | elapsed:    0.0s\n",
      "[Parallel(n_jobs=4)]: Done  65 out of  65 | elapsed:    0.0s finished\n",
      "[Parallel(n_jobs=4)]: Done  42 tasks      | elapsed:    0.0s\n",
      "[Parallel(n_jobs=4)]: Done  65 out of  65 | elapsed:    0.0s finished\n",
      "[Parallel(n_jobs=-1)]: Done  42 tasks      | elapsed:    0.0s\n",
      "[Parallel(n_jobs=-1)]: Done  65 out of  65 | elapsed:    0.1s finished\n"
     ]
    },
    {
     "name": "stdout",
     "output_type": "stream",
     "text": [
      "(<364x11281 sparse matrix of type '<class 'numpy.int64'>'\n",
      "\twith 180285 stored elements in Compressed Sparse Row format>, array([    0,   193,   372,   567,   748,   907,  1078,  1245,  1438,\n",
      "        1603,  1762,  1927,  2110,  2295,  2440,  2611,  2790,  2953,\n",
      "        3140,  3319,  3476,  3637,  3812,  3971,  4158,  4347,  4526,\n",
      "        4705,  4880,  5065,  5212,  5387,  5560,  5711,  5876,  6045,\n",
      "        6206,  6385,  6554,  6745,  6932,  7083,  7256,  7437,  7604,\n",
      "        7799,  7950,  8129,  8316,  8513,  8692,  8875,  9028,  9219,\n",
      "        9406,  9587,  9748,  9917, 10080, 10251, 10438, 10609, 10768,\n",
      "       10941, 11114, 11281]))\n"
     ]
    },
    {
     "name": "stderr",
     "output_type": "stream",
     "text": [
      "[Parallel(n_jobs=-1)]: Done  42 tasks      | elapsed:    0.1s\n",
      "[Parallel(n_jobs=-1)]: Done  65 out of  65 | elapsed:    0.1s finished\n",
      "[Parallel(n_jobs=4)]: Done  42 tasks      | elapsed:    0.0s\n",
      "[Parallel(n_jobs=4)]: Done  65 out of  65 | elapsed:    0.0s finished\n",
      "[Parallel(n_jobs=4)]: Done  42 tasks      | elapsed:    0.0s\n",
      "[Parallel(n_jobs=4)]: Done  65 out of  65 | elapsed:    0.0s finished\n",
      "[Parallel(n_jobs=-1)]: Done  42 tasks      | elapsed:    0.0s\n",
      "[Parallel(n_jobs=-1)]: Done  65 out of  65 | elapsed:    0.1s finished\n"
     ]
    },
    {
     "name": "stdout",
     "output_type": "stream",
     "text": [
      "(<381x26049 sparse matrix of type '<class 'numpy.int64'>'\n",
      "\twith 231792 stored elements in Compressed Sparse Row format>, array([    0,   375,   782,  1193,  1594,  2007,  2372,  2765,  3168,\n",
      "        3563,  3954,  4359,  4742,  5117,  5526,  5913,  6296,  6715,\n",
      "        7148,  7585,  7992,  8377,  8786,  9181,  9558,  9949, 10366,\n",
      "       10759, 11152, 11555, 11956, 12363, 12806, 13221, 13600, 14007,\n",
      "       14406, 14799, 15188, 15605, 16000, 16401, 16802, 17185, 17616,\n",
      "       18041, 18456, 18879, 19296, 19671, 20088, 20509, 20884, 21293,\n",
      "       21692, 22057, 22466, 22887, 23262, 23659, 24060, 24439, 24834,\n",
      "       25259, 25646, 26049]))\n"
     ]
    },
    {
     "name": "stderr",
     "output_type": "stream",
     "text": [
      "[Parallel(n_jobs=-1)]: Done  42 tasks      | elapsed:    0.1s\n",
      "[Parallel(n_jobs=-1)]: Done  65 out of  65 | elapsed:    0.2s finished\n",
      "[Parallel(n_jobs=4)]: Done  42 tasks      | elapsed:    0.0s\n",
      "[Parallel(n_jobs=4)]: Done  65 out of  65 | elapsed:    0.0s finished\n",
      "[Parallel(n_jobs=4)]: Done  42 tasks      | elapsed:    0.0s\n",
      "[Parallel(n_jobs=4)]: Done  65 out of  65 | elapsed:    0.0s finished\n",
      "[Parallel(n_jobs=-1)]: Done  42 tasks      | elapsed:    0.0s\n",
      "[Parallel(n_jobs=-1)]: Done  65 out of  65 | elapsed:    0.1s finished\n"
     ]
    },
    {
     "name": "stdout",
     "output_type": "stream",
     "text": [
      "(<370x25989 sparse matrix of type '<class 'numpy.int64'>'\n",
      "\twith 229760 stored elements in Compressed Sparse Row format>, array([    0,   423,   804,  1191,  1588,  2007,  2420,  2807,  3202,\n",
      "        3619,  4030,  4439,  4822,  5241,  5638,  6035,  6430,  6829,\n",
      "        7228,  7637,  8056,  8445,  8872,  9263,  9660, 10071, 10476,\n",
      "       10859, 11232, 11627, 12048, 12445, 12856, 13227, 13616, 14023,\n",
      "       14432, 14817, 15202, 15611, 15992, 16383, 16786, 17167, 17608,\n",
      "       18013, 18414, 18815, 19184, 19603, 19986, 20407, 20780, 21209,\n",
      "       21598, 21995, 22384, 22795, 23208, 23627, 24046, 24451, 24822,\n",
      "       25219, 25590, 25989]))\n"
     ]
    },
    {
     "name": "stderr",
     "output_type": "stream",
     "text": [
      "[Parallel(n_jobs=-1)]: Done  42 tasks      | elapsed:    0.1s\n",
      "[Parallel(n_jobs=-1)]: Done  65 out of  65 | elapsed:    0.1s finished\n",
      "[Parallel(n_jobs=4)]: Done  42 tasks      | elapsed:    0.0s\n",
      "[Parallel(n_jobs=4)]: Done  65 out of  65 | elapsed:    0.0s finished\n",
      "[Parallel(n_jobs=4)]: Done  42 tasks      | elapsed:    0.0s\n",
      "[Parallel(n_jobs=4)]: Done  65 out of  65 | elapsed:    0.0s finished\n",
      "[Parallel(n_jobs=-1)]: Done  42 tasks      | elapsed:    0.0s\n",
      "[Parallel(n_jobs=-1)]: Done  65 out of  65 | elapsed:    0.0s finished\n"
     ]
    },
    {
     "name": "stdout",
     "output_type": "stream",
     "text": [
      "(<138x25715 sparse matrix of type '<class 'numpy.int64'>'\n",
      "\twith 86616 stored elements in Compressed Sparse Row format>, array([    0,   393,   822,  1235,  1586,  1969,  2388,  2787,  3196,\n",
      "        3617,  3998,  4393,  4774,  5183,  5602,  5979,  6372,  6753,\n",
      "        7144,  7527,  7928,  8311,  8684,  9085,  9500,  9875, 10260,\n",
      "       10653, 11090, 11457, 11818, 12237, 12626, 13037, 13436, 13835,\n",
      "       14234, 14623, 15020, 15425, 15828, 16215, 16628, 16993, 17380,\n",
      "       17759, 18148, 18549, 18894, 19307, 19694, 20099, 20496, 20885,\n",
      "       21272, 21669, 22066, 22463, 22860, 23295, 23682, 24087, 24506,\n",
      "       24909, 25312, 25715]))\n"
     ]
    },
    {
     "name": "stderr",
     "output_type": "stream",
     "text": [
      "[Parallel(n_jobs=-1)]: Done  42 tasks      | elapsed:    0.1s\n",
      "[Parallel(n_jobs=-1)]: Done  65 out of  65 | elapsed:    0.2s finished\n",
      "[Parallel(n_jobs=4)]: Done  42 tasks      | elapsed:    0.0s\n",
      "[Parallel(n_jobs=4)]: Done  65 out of  65 | elapsed:    0.0s finished\n",
      "[Parallel(n_jobs=4)]: Done  42 tasks      | elapsed:    0.0s\n",
      "[Parallel(n_jobs=4)]: Done  65 out of  65 | elapsed:    0.0s finished\n",
      "[Parallel(n_jobs=-1)]: Done  42 tasks      | elapsed:    0.0s\n",
      "[Parallel(n_jobs=-1)]: Done  65 out of  65 | elapsed:    0.1s finished\n"
     ]
    },
    {
     "name": "stdout",
     "output_type": "stream",
     "text": [
      "(<371x10541 sparse matrix of type '<class 'numpy.int64'>'\n",
      "\twith 184576 stored elements in Compressed Sparse Row format>, array([    0,   167,   312,   467,   608,   773,   946,  1109,  1254,\n",
      "        1417,  1570,  1731,  1892,  2063,  2226,  2399,  2570,  2733,\n",
      "        2892,  3071,  3232,  3407,  3578,  3723,  3892,  4051,  4210,\n",
      "        4361,  4560,  4729,  4894,  5039,  5200,  5347,  5508,  5669,\n",
      "        5844,  5997,  6150,  6313,  6458,  6633,  6770,  6929,  7108,\n",
      "        7277,  7420,  7585,  7740,  7893,  8048,  8215,  8386,  8559,\n",
      "        8704,  8883,  9064,  9209,  9358,  9539,  9700,  9867, 10028,\n",
      "       10183, 10364, 10541]))\n"
     ]
    },
    {
     "name": "stderr",
     "output_type": "stream",
     "text": [
      "[Parallel(n_jobs=-1)]: Done  42 tasks      | elapsed:    0.1s\n",
      "[Parallel(n_jobs=-1)]: Done  65 out of  65 | elapsed:    0.1s finished\n",
      "[Parallel(n_jobs=4)]: Done  42 tasks      | elapsed:    0.0s\n",
      "[Parallel(n_jobs=4)]: Done  65 out of  65 | elapsed:    0.0s finished\n",
      "[Parallel(n_jobs=4)]: Done  42 tasks      | elapsed:    0.0s\n",
      "[Parallel(n_jobs=4)]: Done  65 out of  65 | elapsed:    0.0s finished\n",
      "[Parallel(n_jobs=-1)]: Done  42 tasks      | elapsed:    0.0s\n",
      "[Parallel(n_jobs=-1)]: Done  65 out of  65 | elapsed:    0.0s finished\n"
     ]
    },
    {
     "name": "stdout",
     "output_type": "stream",
     "text": [
      "(<381x27213 sparse matrix of type '<class 'numpy.int64'>'\n",
      "\twith 235986 stored elements in Compressed Sparse Row format>, array([    0,   373,   776,  1217,  1616,  2037,  2490,  2887,  3292,\n",
      "        3713,  4120,  4519,  4938,  5377,  5790,  6203,  6600,  7003,\n",
      "        7444,  7893,  8310,  8709,  9132,  9537,  9954, 10357, 10776,\n",
      "       11199, 11602, 12025, 12470, 12887, 13326, 13763, 14212, 14639,\n",
      "       15074, 15479, 15912, 16329, 16736, 17183, 17626, 18027, 18452,\n",
      "       18879, 19304, 19697, 20110, 20517, 20946, 21371, 21766, 22159,\n",
      "       22604, 23013, 23418, 23823, 24260, 24691, 25104, 25517, 25934,\n",
      "       26347, 26768, 27213]))\n"
     ]
    },
    {
     "name": "stderr",
     "output_type": "stream",
     "text": [
      "[Parallel(n_jobs=-1)]: Done  42 tasks      | elapsed:    0.1s\n",
      "[Parallel(n_jobs=-1)]: Done  65 out of  65 | elapsed:    0.2s finished\n",
      "[Parallel(n_jobs=4)]: Done  42 tasks      | elapsed:    0.0s\n",
      "[Parallel(n_jobs=4)]: Done  65 out of  65 | elapsed:    0.0s finished\n",
      "[Parallel(n_jobs=4)]: Done  42 tasks      | elapsed:    0.0s\n",
      "[Parallel(n_jobs=4)]: Done  65 out of  65 | elapsed:    0.0s finished\n",
      "[Parallel(n_jobs=-1)]: Done  42 tasks      | elapsed:    0.0s\n",
      "[Parallel(n_jobs=-1)]: Done  65 out of  65 | elapsed:    0.1s finished\n"
     ]
    },
    {
     "name": "stdout",
     "output_type": "stream",
     "text": [
      "(<370x26557 sparse matrix of type '<class 'numpy.int64'>'\n",
      "\twith 215598 stored elements in Compressed Sparse Row format>, array([    0,   409,   790,  1207,  1636,  2039,  2446,  2819,  3254,\n",
      "        3655,  4084,  4509,  4918,  5337,  5764,  6177,  6578,  6943,\n",
      "        7342,  7755,  8174,  8607,  9034,  9417,  9818, 10239, 10668,\n",
      "       11093, 11480, 11885, 12272, 12693, 13120, 13533, 13958, 14379,\n",
      "       14768, 15163, 15574, 15981, 16370, 16779, 17222, 17611, 18046,\n",
      "       18489, 18868, 19285, 19696, 20119, 20528, 20935, 21332, 21743,\n",
      "       22138, 22531, 22958, 23331, 23738, 24129, 24520, 24905, 25340,\n",
      "       25771, 26174, 26557]))\n"
     ]
    },
    {
     "name": "stderr",
     "output_type": "stream",
     "text": [
      "[Parallel(n_jobs=-1)]: Done  42 tasks      | elapsed:    0.0s\n",
      "[Parallel(n_jobs=-1)]: Done  65 out of  65 | elapsed:    0.1s finished\n",
      "[Parallel(n_jobs=4)]: Done  42 tasks      | elapsed:    0.0s\n",
      "[Parallel(n_jobs=4)]: Done  65 out of  65 | elapsed:    0.0s finished\n",
      "[Parallel(n_jobs=4)]: Done  42 tasks      | elapsed:    0.0s\n",
      "[Parallel(n_jobs=4)]: Done  65 out of  65 | elapsed:    0.0s finished\n",
      "[Parallel(n_jobs=-1)]: Done  42 tasks      | elapsed:    0.0s\n",
      "[Parallel(n_jobs=-1)]: Done  65 out of  65 | elapsed:    0.1s finished\n"
     ]
    },
    {
     "name": "stdout",
     "output_type": "stream",
     "text": [
      "(<49x27567 sparse matrix of type '<class 'numpy.int64'>'\n",
      "\twith 31313 stored elements in Compressed Sparse Row format>, array([    0,   409,   864,  1313,  1752,  2209,  2628,  3071,  3504,\n",
      "        3915,  4340,  4745,  5192,  5583,  6002,  6433,  6814,  7219,\n",
      "        7612,  8049,  8492,  8947,  9362,  9811, 10244, 10663, 11096,\n",
      "       11495, 11898, 12321, 12734, 13171, 13604, 14031, 14454, 14891,\n",
      "       15306, 15701, 16108, 16529, 16958, 17369, 17794, 18239, 18662,\n",
      "       19103, 19526, 19931, 20390, 20825, 21270, 21715, 22128, 22569,\n",
      "       22982, 23375, 23806, 24229, 24644, 25097, 25502, 25915, 26330,\n",
      "       26759, 27172, 27567]))\n"
     ]
    },
    {
     "name": "stderr",
     "output_type": "stream",
     "text": [
      "[Parallel(n_jobs=-1)]: Done  42 tasks      | elapsed:    0.1s\n",
      "[Parallel(n_jobs=-1)]: Done  65 out of  65 | elapsed:    0.1s finished\n",
      "[Parallel(n_jobs=4)]: Done  42 tasks      | elapsed:    0.0s\n",
      "[Parallel(n_jobs=4)]: Done  65 out of  65 | elapsed:    0.0s finished\n",
      "[Parallel(n_jobs=4)]: Done  42 tasks      | elapsed:    0.0s\n",
      "[Parallel(n_jobs=4)]: Done  65 out of  65 | elapsed:    0.0s finished\n",
      "[Parallel(n_jobs=-1)]: Done  42 tasks      | elapsed:    0.0s\n",
      "[Parallel(n_jobs=-1)]: Done  65 out of  65 | elapsed:    0.1s finished\n"
     ]
    },
    {
     "name": "stdout",
     "output_type": "stream",
     "text": [
      "(<359x4015 sparse matrix of type '<class 'numpy.int64'>'\n",
      "\twith 142140 stored elements in Compressed Sparse Row format>, array([   0,   59,  120,  191,  256,  313,  368,  433,  490,  555,  612,\n",
      "        669,  730,  795,  858,  921,  992, 1057, 1122, 1191, 1256, 1317,\n",
      "       1382, 1439, 1508, 1571, 1632, 1691, 1756, 1825, 1880, 1937, 2016,\n",
      "       2079, 2128, 2193, 2248, 2299, 2360, 2413, 2482, 2531, 2586, 2641,\n",
      "       2704, 2775, 2844, 2921, 2982, 3041, 3096, 3159, 3216, 3275, 3330,\n",
      "       3393, 3460, 3527, 3582, 3633, 3692, 3753, 3826, 3893, 3954, 4015]))\n"
     ]
    },
    {
     "name": "stderr",
     "output_type": "stream",
     "text": [
      "[Parallel(n_jobs=-1)]: Done  42 tasks      | elapsed:    0.1s\n",
      "[Parallel(n_jobs=-1)]: Done  65 out of  65 | elapsed:    0.1s finished\n",
      "[Parallel(n_jobs=4)]: Done  42 tasks      | elapsed:    0.0s\n",
      "[Parallel(n_jobs=4)]: Done  65 out of  65 | elapsed:    0.0s finished\n",
      "[Parallel(n_jobs=4)]: Done  42 tasks      | elapsed:    0.0s\n",
      "[Parallel(n_jobs=4)]: Done  65 out of  65 | elapsed:    0.0s finished\n",
      "[Parallel(n_jobs=-1)]: Done  42 tasks      | elapsed:    0.0s\n",
      "[Parallel(n_jobs=-1)]: Done  65 out of  65 | elapsed:    0.1s finished\n"
     ]
    },
    {
     "name": "stdout",
     "output_type": "stream",
     "text": [
      "(<381x24987 sparse matrix of type '<class 'numpy.int64'>'\n",
      "\twith 227631 stored elements in Compressed Sparse Row format>, array([    0,   413,   790,  1159,  1552,  1957,  2310,  2699,  3066,\n",
      "        3435,  3858,  4233,  4612,  5003,  5392,  5795,  6172,  6541,\n",
      "        6920,  7323,  7708,  8123,  8508,  8877,  9296,  9677, 10080,\n",
      "       10433, 10792, 11195, 11584, 11973, 12338, 12731, 13094, 13477,\n",
      "       13892, 14307, 14708, 15077, 15446, 15799, 16198, 16559, 16944,\n",
      "       17331, 17708, 18099, 18454, 18833, 19216, 19597, 20000, 20383,\n",
      "       20752, 21133, 21528, 21911, 22294, 22675, 23072, 23459, 23826,\n",
      "       24207, 24606, 24987]))\n"
     ]
    },
    {
     "name": "stderr",
     "output_type": "stream",
     "text": [
      "[Parallel(n_jobs=-1)]: Done  42 tasks      | elapsed:    0.1s\n",
      "[Parallel(n_jobs=-1)]: Done  65 out of  65 | elapsed:    0.2s finished\n",
      "[Parallel(n_jobs=4)]: Done  42 tasks      | elapsed:    0.0s\n",
      "[Parallel(n_jobs=4)]: Done  65 out of  65 | elapsed:    0.0s finished\n",
      "[Parallel(n_jobs=4)]: Done  42 tasks      | elapsed:    0.0s\n",
      "[Parallel(n_jobs=4)]: Done  65 out of  65 | elapsed:    0.0s finished\n",
      "[Parallel(n_jobs=-1)]: Done  42 tasks      | elapsed:    0.0s\n",
      "[Parallel(n_jobs=-1)]: Done  65 out of  65 | elapsed:    0.0s finished\n"
     ]
    },
    {
     "name": "stdout",
     "output_type": "stream",
     "text": [
      "(<396x24351 sparse matrix of type '<class 'numpy.int64'>'\n",
      "\twith 235378 stored elements in Compressed Sparse Row format>, array([    0,   363,   742,  1135,  1500,  1893,  2264,  2635,  3008,\n",
      "        3347,  3736,  4083,  4482,  4863,  5232,  5607,  5996,  6355,\n",
      "        6726,  7111,  7466,  7847,  8222,  8595,  8962,  9325,  9708,\n",
      "       10079, 10452, 10833, 11202, 11573, 11942, 12313, 12680, 13049,\n",
      "       13446, 13799, 14160, 14573, 14930, 15263, 15652, 16033, 16398,\n",
      "       16781, 17136, 17507, 17910, 18283, 18660, 19039, 19394, 19773,\n",
      "       20164, 20519, 20944, 21337, 21702, 22093, 22472, 22839, 23222,\n",
      "       23581, 23954, 24351]))\n"
     ]
    },
    {
     "name": "stderr",
     "output_type": "stream",
     "text": [
      "[Parallel(n_jobs=-1)]: Done  42 tasks      | elapsed:    0.1s\n",
      "[Parallel(n_jobs=-1)]: Done  65 out of  65 | elapsed:    0.2s finished\n",
      "[Parallel(n_jobs=4)]: Done  42 tasks      | elapsed:    0.0s\n",
      "[Parallel(n_jobs=4)]: Done  65 out of  65 | elapsed:    0.0s finished\n",
      "[Parallel(n_jobs=4)]: Done  42 tasks      | elapsed:    0.0s\n",
      "[Parallel(n_jobs=4)]: Done  65 out of  65 | elapsed:    0.0s finished\n",
      "[Parallel(n_jobs=-1)]: Done  42 tasks      | elapsed:    0.0s\n",
      "[Parallel(n_jobs=-1)]: Done  65 out of  65 | elapsed:    0.1s finished\n"
     ]
    },
    {
     "name": "stdout",
     "output_type": "stream",
     "text": [
      "(<358x25857 sparse matrix of type '<class 'numpy.int64'>'\n",
      "\twith 211301 stored elements in Compressed Sparse Row format>, array([    0,   399,   802,  1203,  1606,  1995,  2392,  2799,  3218,\n",
      "        3599,  4006,  4371,  4768,  5175,  5572,  5949,  6350,  6761,\n",
      "        7132,  7535,  7942,  8363,  8750,  9175,  9562,  9957, 10350,\n",
      "       10755, 11174, 11567, 11966, 12379, 12754, 13123, 13520, 13925,\n",
      "       14318, 14737, 15148, 15535, 15966, 16359, 16770, 17177, 17580,\n",
      "       17999, 18386, 18781, 19194, 19597, 19962, 20335, 20698, 21077,\n",
      "       21490, 21895, 22280, 22677, 23064, 23451, 23862, 24275, 24678,\n",
      "       25073, 25464, 25857]))\n"
     ]
    },
    {
     "name": "stderr",
     "output_type": "stream",
     "text": [
      "[Parallel(n_jobs=-1)]: Done  42 tasks      | elapsed:    0.1s\n",
      "[Parallel(n_jobs=-1)]: Done  65 out of  65 | elapsed:    0.2s finished\n",
      "[Parallel(n_jobs=4)]: Done  42 tasks      | elapsed:    0.0s\n",
      "[Parallel(n_jobs=4)]: Done  65 out of  65 | elapsed:    0.0s finished\n",
      "[Parallel(n_jobs=4)]: Done  42 tasks      | elapsed:    0.0s\n",
      "[Parallel(n_jobs=4)]: Done  65 out of  65 | elapsed:    0.0s finished\n",
      "[Parallel(n_jobs=-1)]: Done  42 tasks      | elapsed:    0.0s\n",
      "[Parallel(n_jobs=-1)]: Done  65 out of  65 | elapsed:    0.1s finished\n"
     ]
    },
    {
     "name": "stdout",
     "output_type": "stream",
     "text": [
      "(<351x24777 sparse matrix of type '<class 'numpy.int64'>'\n",
      "\twith 205354 stored elements in Compressed Sparse Row format>, array([    0,   377,   756,  1135,  1506,  1899,  2276,  2673,  3042,\n",
      "        3411,  3792,  4151,  4560,  4945,  5336,  5701,  6054,  6453,\n",
      "        6830,  7209,  7554,  7913,  8316,  8661,  9054,  9437,  9842,\n",
      "       10237, 10610, 11007, 11356, 11733, 12100, 12499, 12900, 13285,\n",
      "       13686, 14081, 14448, 14855, 15224, 15595, 16024, 16397, 16778,\n",
      "       17165, 17530, 17907, 18282, 18673, 19032, 19401, 19780, 20155,\n",
      "       20528, 20875, 21278, 21693, 22100, 22477, 22854, 23229, 23608,\n",
      "       24011, 24404, 24777]))\n"
     ]
    },
    {
     "name": "stderr",
     "output_type": "stream",
     "text": [
      "[Parallel(n_jobs=-1)]: Done  42 tasks      | elapsed:    0.1s\n",
      "[Parallel(n_jobs=-1)]: Done  65 out of  65 | elapsed:    0.2s finished\n",
      "[Parallel(n_jobs=4)]: Done  42 tasks      | elapsed:    0.0s\n",
      "[Parallel(n_jobs=4)]: Done  65 out of  65 | elapsed:    0.0s finished\n",
      "[Parallel(n_jobs=4)]: Done  42 tasks      | elapsed:    0.0s\n",
      "[Parallel(n_jobs=4)]: Done  65 out of  65 | elapsed:    0.0s finished\n",
      "[Parallel(n_jobs=-1)]: Done  42 tasks      | elapsed:    0.0s\n",
      "[Parallel(n_jobs=-1)]: Done  65 out of  65 | elapsed:    0.1s finished\n"
     ]
    },
    {
     "name": "stdout",
     "output_type": "stream",
     "text": [
      "(<386x25881 sparse matrix of type '<class 'numpy.int64'>'\n",
      "\twith 228504 stored elements in Compressed Sparse Row format>, array([    0,   387,   798,  1195,  1574,  1961,  2338,  2745,  3162,\n",
      "        3565,  3990,  4383,  4774,  5175,  5552,  5965,  6362,  6763,\n",
      "        7136,  7549,  7944,  8383,  8790,  9197,  9610,  9989, 10384,\n",
      "       10759, 11166, 11547, 11968, 12349, 12758, 13139, 13540, 13925,\n",
      "       14328, 14709, 15100, 15495, 15906, 16307, 16670, 17069, 17480,\n",
      "       17883, 18286, 18707, 19108, 19513, 19924, 20317, 20724, 21069,\n",
      "       21474, 21865, 22278, 22685, 23084, 23509, 23922, 24309, 24686,\n",
      "       25085, 25480, 25881]))\n"
     ]
    },
    {
     "name": "stderr",
     "output_type": "stream",
     "text": [
      "[Parallel(n_jobs=-1)]: Done  42 tasks      | elapsed:    0.1s\n",
      "[Parallel(n_jobs=-1)]: Done  65 out of  65 | elapsed:    0.2s finished\n",
      "[Parallel(n_jobs=4)]: Done  42 tasks      | elapsed:    0.0s\n",
      "[Parallel(n_jobs=4)]: Done  65 out of  65 | elapsed:    0.0s finished\n",
      "[Parallel(n_jobs=4)]: Done  42 tasks      | elapsed:    0.0s\n",
      "[Parallel(n_jobs=4)]: Done  65 out of  65 | elapsed:    0.0s finished\n",
      "[Parallel(n_jobs=-1)]: Done  42 tasks      | elapsed:    0.0s\n",
      "[Parallel(n_jobs=-1)]: Done  65 out of  65 | elapsed:    0.1s finished\n"
     ]
    },
    {
     "name": "stdout",
     "output_type": "stream",
     "text": [
      "(<403x26657 sparse matrix of type '<class 'numpy.int64'>'\n",
      "\twith 240249 stored elements in Compressed Sparse Row format>, array([    0,   385,   802,  1245,  1642,  2021,  2446,  2833,  3266,\n",
      "        3689,  4096,  4497,  4894,  5291,  5688,  6111,  6564,  6971,\n",
      "        7372,  7783,  8164,  8607,  9016,  9421,  9826, 10257, 10680,\n",
      "       11083, 11484, 11917, 12348, 12751, 13160, 13603, 14020, 14405,\n",
      "       14850, 15257, 15638, 16017, 16402, 16779, 17182, 17575, 17996,\n",
      "       18391, 18786, 19181, 19578, 20005, 20428, 20843, 21260, 21675,\n",
      "       22086, 22501, 22944, 23365, 23794, 24199, 24584, 24983, 25392,\n",
      "       25831, 26234, 26657]))\n"
     ]
    },
    {
     "name": "stderr",
     "output_type": "stream",
     "text": [
      "[Parallel(n_jobs=-1)]: Done  42 tasks      | elapsed:    0.1s\n",
      "[Parallel(n_jobs=-1)]: Done  65 out of  65 | elapsed:    0.2s finished\n",
      "[Parallel(n_jobs=4)]: Done  42 tasks      | elapsed:    0.0s\n",
      "[Parallel(n_jobs=4)]: Done  65 out of  65 | elapsed:    0.0s finished\n",
      "[Parallel(n_jobs=4)]: Done  42 tasks      | elapsed:    0.0s\n",
      "[Parallel(n_jobs=4)]: Done  65 out of  65 | elapsed:    0.0s finished\n",
      "[Parallel(n_jobs=-1)]: Done  42 tasks      | elapsed:    0.0s\n",
      "[Parallel(n_jobs=-1)]: Done  65 out of  65 | elapsed:    0.1s finished\n"
     ]
    },
    {
     "name": "stdout",
     "output_type": "stream",
     "text": [
      "(<362x26247 sparse matrix of type '<class 'numpy.int64'>'\n",
      "\twith 226891 stored elements in Compressed Sparse Row format>, array([    0,   413,   840,  1255,  1636,  2049,  2466,  2861,  3266,\n",
      "        3703,  4110,  4491,  4924,  5291,  5690,  6091,  6476,  6887,\n",
      "        7308,  7709,  8110,  8491,  8920,  9335,  9766, 10209, 10632,\n",
      "       11005, 11376, 11775, 12192, 12585, 12976, 13383, 13760, 14181,\n",
      "       14560, 14961, 15346, 15743, 16176, 16579, 17022, 17433, 17836,\n",
      "       18231, 18656, 19069, 19450, 19849, 20274, 20655, 21034, 21469,\n",
      "       21870, 22249, 22674, 23053, 23426, 23823, 24244, 24645, 25072,\n",
      "       25443, 25840, 26247]))\n"
     ]
    },
    {
     "name": "stderr",
     "output_type": "stream",
     "text": [
      "[Parallel(n_jobs=-1)]: Done  42 tasks      | elapsed:    0.1s\n",
      "[Parallel(n_jobs=-1)]: Done  65 out of  65 | elapsed:    0.1s finished\n",
      "[Parallel(n_jobs=4)]: Done  42 tasks      | elapsed:    0.0s\n",
      "[Parallel(n_jobs=4)]: Done  65 out of  65 | elapsed:    0.0s finished\n",
      "[Parallel(n_jobs=4)]: Done  42 tasks      | elapsed:    0.0s\n",
      "[Parallel(n_jobs=4)]: Done  65 out of  65 | elapsed:    0.0s finished\n",
      "[Parallel(n_jobs=-1)]: Done  42 tasks      | elapsed:    0.0s\n",
      "[Parallel(n_jobs=-1)]: Done  65 out of  65 | elapsed:    0.1s finished\n"
     ]
    },
    {
     "name": "stdout",
     "output_type": "stream",
     "text": [
      "(<34x25793 sparse matrix of type '<class 'numpy.int64'>'\n",
      "\twith 20640 stored elements in Compressed Sparse Row format>, array([    0,   395,   786,  1169,  1550,  1937,  2362,  2757,  3156,\n",
      "        3555,  3970,  4357,  4740,  5165,  5562,  5937,  6336,  6713,\n",
      "        7118,  7491,  7896,  8281,  8698,  9109,  9508,  9903, 10282,\n",
      "       10677, 11068, 11465, 11864, 12233, 12616, 13029, 13430, 13813,\n",
      "       14200, 14603, 15010, 15431, 15820, 16223, 16630, 17047, 17434,\n",
      "       17827, 18256, 18663, 19048, 19439, 19846, 20265, 20672, 21079,\n",
      "       21462, 21853, 22272, 22665, 23082, 23483, 23878, 24253, 24638,\n",
      "       25043, 25416, 25793]))\n"
     ]
    },
    {
     "name": "stderr",
     "output_type": "stream",
     "text": [
      "[Parallel(n_jobs=-1)]: Done  42 tasks      | elapsed:    0.0s\n",
      "[Parallel(n_jobs=-1)]: Done  65 out of  65 | elapsed:    0.1s finished\n",
      "[Parallel(n_jobs=4)]: Done  42 tasks      | elapsed:    0.0s\n",
      "[Parallel(n_jobs=4)]: Done  65 out of  65 | elapsed:    0.0s finished\n",
      "[Parallel(n_jobs=4)]: Done  42 tasks      | elapsed:    0.0s\n",
      "[Parallel(n_jobs=4)]: Done  65 out of  65 | elapsed:    0.0s finished\n",
      "[Parallel(n_jobs=-1)]: Done  42 tasks      | elapsed:    0.0s\n",
      "[Parallel(n_jobs=-1)]: Done  65 out of  65 | elapsed:    0.1s finished\n"
     ]
    },
    {
     "name": "stdout",
     "output_type": "stream",
     "text": [
      "(<74x5317 sparse matrix of type '<class 'numpy.int64'>'\n",
      "\twith 25844 stored elements in Compressed Sparse Row format>, array([   0,   79,  164,  249,  324,  407,  484,  569,  652,  733,  814,\n",
      "        889,  968, 1049, 1124, 1205, 1292, 1377, 1470, 1551, 1634, 1717,\n",
      "       1796, 1881, 1960, 2047, 2132, 2205, 2286, 2367, 2450, 2533, 2612,\n",
      "       2691, 2762, 2845, 2922, 3009, 3102, 3199, 3282, 3359, 3434, 3515,\n",
      "       3586, 3669, 3750, 3841, 3926, 3999, 4088, 4183, 4266, 4349, 4432,\n",
      "       4511, 4578, 4661, 4732, 4817, 4898, 4981, 5062, 5143, 5230, 5317]))\n"
     ]
    },
    {
     "name": "stderr",
     "output_type": "stream",
     "text": [
      "[Parallel(n_jobs=-1)]: Done  42 tasks      | elapsed:    0.1s\n",
      "[Parallel(n_jobs=-1)]: Done  65 out of  65 | elapsed:    0.1s finished\n",
      "[Parallel(n_jobs=4)]: Done  42 tasks      | elapsed:    0.0s\n",
      "[Parallel(n_jobs=4)]: Done  65 out of  65 | elapsed:    0.0s finished\n",
      "[Parallel(n_jobs=4)]: Done  42 tasks      | elapsed:    0.0s\n",
      "[Parallel(n_jobs=4)]: Done  65 out of  65 | elapsed:    0.0s finished\n",
      "[Parallel(n_jobs=-1)]: Done  42 tasks      | elapsed:    0.0s\n",
      "[Parallel(n_jobs=-1)]: Done  65 out of  65 | elapsed:    0.1s finished\n"
     ]
    },
    {
     "name": "stdout",
     "output_type": "stream",
     "text": [
      "(<356x6197 sparse matrix of type '<class 'numpy.int64'>'\n",
      "\twith 175814 stored elements in Compressed Sparse Row format>, array([   0,   95,  196,  285,  366,  463,  564,  657,  762,  857,  956,\n",
      "       1045, 1138, 1233, 1322, 1417, 1526, 1635, 1730, 1829, 1926, 2023,\n",
      "       2122, 2213, 2310, 2395, 2496, 2577, 2666, 2759, 2846, 2931, 3018,\n",
      "       3119, 3212, 3309, 3410, 3501, 3602, 3705, 3800, 3891, 3998, 4097,\n",
      "       4200, 4297, 4386, 4475, 4566, 4679, 4772, 4857, 4944, 5041, 5140,\n",
      "       5219, 5320, 5417, 5518, 5629, 5726, 5815, 5908, 6003, 6104, 6197]))\n"
     ]
    },
    {
     "name": "stderr",
     "output_type": "stream",
     "text": [
      "[Parallel(n_jobs=-1)]: Done  42 tasks      | elapsed:    0.0s\n",
      "[Parallel(n_jobs=-1)]: Done  65 out of  65 | elapsed:    0.1s finished\n",
      "[Parallel(n_jobs=4)]: Done  42 tasks      | elapsed:    0.0s\n",
      "[Parallel(n_jobs=4)]: Done  65 out of  65 | elapsed:    0.0s finished\n",
      "[Parallel(n_jobs=4)]: Done  42 tasks      | elapsed:    0.0s\n",
      "[Parallel(n_jobs=4)]: Done  65 out of  65 | elapsed:    0.0s finished\n",
      "[Parallel(n_jobs=-1)]: Done  42 tasks      | elapsed:    0.0s\n",
      "[Parallel(n_jobs=-1)]: Done  65 out of  65 | elapsed:    0.1s finished\n"
     ]
    },
    {
     "name": "stdout",
     "output_type": "stream",
     "text": [
      "(<43x25179 sparse matrix of type '<class 'numpy.int64'>'\n",
      "\twith 24648 stored elements in Compressed Sparse Row format>, array([    0,   391,   762,  1163,  1560,  1961,  2336,  2743,  3124,\n",
      "        3493,  3896,  4293,  4694,  5085,  5478,  5865,  6274,  6681,\n",
      "        7030,  7421,  7786,  8179,  8546,  8913,  9292,  9683, 10100,\n",
      "       10465, 10830, 11209, 11634, 12025, 12352, 12725, 13116, 13493,\n",
      "       13884, 14289, 14688, 15081, 15458, 15837, 16194, 16609, 17028,\n",
      "       17401, 17788, 18183, 18586, 18955, 19336, 19741, 20128, 20517,\n",
      "       20912, 21323, 21680, 22115, 22496, 22881, 23242, 23613, 24008,\n",
      "       24405, 24786, 25179]))\n"
     ]
    },
    {
     "name": "stderr",
     "output_type": "stream",
     "text": [
      "[Parallel(n_jobs=-1)]: Done  42 tasks      | elapsed:    0.1s\n",
      "[Parallel(n_jobs=-1)]: Done  65 out of  65 | elapsed:    0.2s finished\n",
      "[Parallel(n_jobs=4)]: Done  42 tasks      | elapsed:    0.0s\n",
      "[Parallel(n_jobs=4)]: Done  65 out of  65 | elapsed:    0.0s finished\n",
      "[Parallel(n_jobs=4)]: Done  42 tasks      | elapsed:    0.0s\n",
      "[Parallel(n_jobs=4)]: Done  65 out of  65 | elapsed:    0.0s finished\n",
      "[Parallel(n_jobs=-1)]: Done  42 tasks      | elapsed:    0.0s\n",
      "[Parallel(n_jobs=-1)]: Done  65 out of  65 | elapsed:    0.1s finished\n"
     ]
    },
    {
     "name": "stdout",
     "output_type": "stream",
     "text": [
      "(<389x3145 sparse matrix of type '<class 'numpy.int64'>'\n",
      "\twith 155280 stored elements in Compressed Sparse Row format>, array([   0,   39,   92,  147,  200,  247,  308,  347,  388,  433,  486,\n",
      "        537,  592,  645,  686,  737,  776,  827,  872,  917,  972, 1017,\n",
      "       1064, 1109, 1156, 1201, 1256, 1317, 1364, 1401, 1452, 1507, 1568,\n",
      "       1619, 1672, 1713, 1758, 1813, 1860, 1899, 1946, 2003, 2036, 2095,\n",
      "       2136, 2185, 2228, 2279, 2320, 2363, 2410, 2459, 2516, 2561, 2608,\n",
      "       2649, 2698, 2749, 2792, 2847, 2898, 2955, 3004, 3051, 3100, 3145]))\n"
     ]
    },
    {
     "name": "stderr",
     "output_type": "stream",
     "text": [
      "[Parallel(n_jobs=-1)]: Done  42 tasks      | elapsed:    0.1s\n",
      "[Parallel(n_jobs=-1)]: Done  65 out of  65 | elapsed:    0.2s finished\n",
      "[Parallel(n_jobs=4)]: Done  42 tasks      | elapsed:    0.0s\n",
      "[Parallel(n_jobs=4)]: Done  65 out of  65 | elapsed:    0.0s finished\n",
      "[Parallel(n_jobs=4)]: Done  42 tasks      | elapsed:    0.0s\n",
      "[Parallel(n_jobs=4)]: Done  65 out of  65 | elapsed:    0.0s finished\n",
      "[Parallel(n_jobs=-1)]: Done  42 tasks      | elapsed:    0.0s\n",
      "[Parallel(n_jobs=-1)]: Done  65 out of  65 | elapsed:    0.1s finished\n"
     ]
    },
    {
     "name": "stdout",
     "output_type": "stream",
     "text": [
      "(<358x26119 sparse matrix of type '<class 'numpy.int64'>'\n",
      "\twith 214634 stored elements in Compressed Sparse Row format>, array([    0,   385,   776,  1179,  1576,  1983,  2402,  2805,  3214,\n",
      "        3605,  4012,  4403,  4764,  5155,  5528,  5941,  6352,  6769,\n",
      "        7170,  7595,  7984,  8383,  8782,  9223,  9636, 10025, 10396,\n",
      "       10785, 11188, 11573, 12000, 12405, 12814, 13223, 13646, 14049,\n",
      "       14496, 14909, 15304, 15711, 16142, 16543, 16940, 17351, 17750,\n",
      "       18169, 18540, 18953, 19350, 19721, 20114, 20513, 20890, 21275,\n",
      "       21696, 22107, 22490, 22911, 23322, 23729, 24132, 24535, 24932,\n",
      "       25317, 25702, 26119]))\n"
     ]
    },
    {
     "name": "stderr",
     "output_type": "stream",
     "text": [
      "[Parallel(n_jobs=-1)]: Done  42 tasks      | elapsed:    0.1s\n",
      "[Parallel(n_jobs=-1)]: Done  65 out of  65 | elapsed:    0.2s finished\n",
      "[Parallel(n_jobs=4)]: Done  42 tasks      | elapsed:    0.0s\n",
      "[Parallel(n_jobs=4)]: Done  65 out of  65 | elapsed:    0.0s finished\n",
      "[Parallel(n_jobs=4)]: Done  42 tasks      | elapsed:    0.0s\n",
      "[Parallel(n_jobs=4)]: Done  65 out of  65 | elapsed:    0.0s finished\n",
      "[Parallel(n_jobs=-1)]: Done  42 tasks      | elapsed:    0.0s\n",
      "[Parallel(n_jobs=-1)]: Done  65 out of  65 | elapsed:    0.0s finished\n"
     ]
    },
    {
     "name": "stdout",
     "output_type": "stream",
     "text": [
      "(<381x26079 sparse matrix of type '<class 'numpy.int64'>'\n",
      "\twith 233776 stored elements in Compressed Sparse Row format>, array([    0,   417,   818,  1217,  1652,  2045,  2438,  2839,  3238,\n",
      "        3623,  4008,  4401,  4822,  5239,  5630,  6017,  6428,  6835,\n",
      "        7242,  7629,  8020,  8445,  8868,  9277,  9708, 10131, 10516,\n",
      "       10923, 11340, 11695, 12078, 12459, 12868, 13245, 13602, 14001,\n",
      "       14400, 14815, 15232, 15647, 16060, 16463, 16858, 17253, 17612,\n",
      "       18043, 18424, 18833, 19222, 19605, 20022, 20447, 20848, 21279,\n",
      "       21674, 22109, 22498, 22877, 23282, 23689, 24108, 24497, 24914,\n",
      "       25297, 25718, 26079]))\n"
     ]
    },
    {
     "name": "stderr",
     "output_type": "stream",
     "text": [
      "[Parallel(n_jobs=-1)]: Done  42 tasks      | elapsed:    0.1s\n",
      "[Parallel(n_jobs=-1)]: Done  65 out of  65 | elapsed:    0.2s finished\n",
      "[Parallel(n_jobs=4)]: Done  42 tasks      | elapsed:    0.0s\n",
      "[Parallel(n_jobs=4)]: Done  65 out of  65 | elapsed:    0.0s finished\n",
      "[Parallel(n_jobs=4)]: Done  42 tasks      | elapsed:    0.0s\n",
      "[Parallel(n_jobs=4)]: Done  65 out of  65 | elapsed:    0.0s finished\n",
      "[Parallel(n_jobs=-1)]: Done  42 tasks      | elapsed:    0.0s\n",
      "[Parallel(n_jobs=-1)]: Done  65 out of  65 | elapsed:    0.1s finished\n"
     ]
    },
    {
     "name": "stdout",
     "output_type": "stream",
     "text": [
      "(<368x26111 sparse matrix of type '<class 'numpy.int64'>'\n",
      "\twith 233242 stored elements in Compressed Sparse Row format>, array([    0,   393,   812,  1207,  1614,  2017,  2424,  2843,  3238,\n",
      "        3639,  4024,  4457,  4866,  5243,  5660,  6061,  6454,  6841,\n",
      "        7258,  7687,  8102,  8459,  8844,  9247,  9654, 10035, 10422,\n",
      "       10823, 11236, 11647, 12058, 12461, 12862, 13271, 13668, 14063,\n",
      "       14468, 14861, 15266, 15679, 16066, 16471, 16848, 17279, 17684,\n",
      "       18107, 18512, 18915, 19312, 19677, 20078, 20481, 20906, 21313,\n",
      "       21754, 22155, 22546, 22917, 23300, 23687, 24160, 24555, 24956,\n",
      "       25345, 25710, 26111]))\n"
     ]
    },
    {
     "name": "stderr",
     "output_type": "stream",
     "text": [
      "[Parallel(n_jobs=-1)]: Done  42 tasks      | elapsed:    0.1s\n",
      "[Parallel(n_jobs=-1)]: Done  65 out of  65 | elapsed:    0.1s finished\n",
      "[Parallel(n_jobs=4)]: Done  42 tasks      | elapsed:    0.0s\n",
      "[Parallel(n_jobs=4)]: Done  65 out of  65 | elapsed:    0.0s finished\n",
      "[Parallel(n_jobs=4)]: Done  42 tasks      | elapsed:    0.0s\n",
      "[Parallel(n_jobs=4)]: Done  65 out of  65 | elapsed:    0.0s finished\n",
      "[Parallel(n_jobs=-1)]: Done  42 tasks      | elapsed:    0.0s\n",
      "[Parallel(n_jobs=-1)]: Done  65 out of  65 | elapsed:    0.1s finished\n"
     ]
    },
    {
     "name": "stdout",
     "output_type": "stream",
     "text": [
      "(<198x26271 sparse matrix of type '<class 'numpy.int64'>'\n",
      "\twith 117135 stored elements in Compressed Sparse Row format>, array([    0,   419,   806,  1213,  1634,  2061,  2458,  2851,  3292,\n",
      "        3719,  4116,  4497,  4886,  5307,  5702,  6113,  6508,  6935,\n",
      "        7326,  7747,  8146,  8551,  8952,  9343,  9750, 10153, 10558,\n",
      "       10969, 11380, 11791, 12174, 12585, 13000, 13441, 13838, 14219,\n",
      "       14612, 15023, 15444, 15847, 16252, 16635, 17020, 17443, 17844,\n",
      "       18251, 18662, 19039, 19454, 19875, 20284, 20701, 21106, 21489,\n",
      "       21880, 22295, 22692, 23097, 23500, 23883, 24260, 24649, 25040,\n",
      "       25441, 25858, 26271]))\n"
     ]
    },
    {
     "name": "stderr",
     "output_type": "stream",
     "text": [
      "[Parallel(n_jobs=-1)]: Done  42 tasks      | elapsed:    0.1s\n",
      "[Parallel(n_jobs=-1)]: Done  65 out of  65 | elapsed:    0.1s finished\n",
      "[Parallel(n_jobs=4)]: Done  42 tasks      | elapsed:    0.0s\n",
      "[Parallel(n_jobs=4)]: Done  65 out of  65 | elapsed:    0.0s finished\n",
      "[Parallel(n_jobs=4)]: Done  42 tasks      | elapsed:    0.0s\n",
      "[Parallel(n_jobs=4)]: Done  65 out of  65 | elapsed:    0.0s finished\n",
      "[Parallel(n_jobs=-1)]: Done  42 tasks      | elapsed:    0.0s\n",
      "[Parallel(n_jobs=-1)]: Done  65 out of  65 | elapsed:    0.1s finished\n"
     ]
    },
    {
     "name": "stdout",
     "output_type": "stream",
     "text": [
      "(<370x15283 sparse matrix of type '<class 'numpy.int64'>'\n",
      "\twith 207138 stored elements in Compressed Sparse Row format>, array([    0,   249,   486,   707,   926,  1173,  1398,  1635,  1862,\n",
      "        2081,  2290,  2503,  2744,  2967,  3188,  3397,  3632,  3857,\n",
      "        4086,  4323,  4568,  4809,  5038,  5283,  5538,  5781,  6014,\n",
      "        6247,  6484,  6733,  6980,  7211,  7454,  7679,  7916,  8157,\n",
      "        8372,  8623,  8856,  9093,  9318,  9543,  9782, 10029, 10276,\n",
      "       10521, 10726, 10953, 11228, 11467, 11690, 11937, 12168, 12395,\n",
      "       12624, 12859, 13108, 13349, 13606, 13871, 14094, 14317, 14554,\n",
      "       14801, 15052, 15283]))\n"
     ]
    },
    {
     "name": "stderr",
     "output_type": "stream",
     "text": [
      "[Parallel(n_jobs=-1)]: Done  42 tasks      | elapsed:    0.1s\n",
      "[Parallel(n_jobs=-1)]: Done  65 out of  65 | elapsed:    0.2s finished\n",
      "[Parallel(n_jobs=4)]: Done  42 tasks      | elapsed:    0.0s\n",
      "[Parallel(n_jobs=4)]: Done  65 out of  65 | elapsed:    0.0s finished\n",
      "[Parallel(n_jobs=4)]: Done  42 tasks      | elapsed:    0.0s\n",
      "[Parallel(n_jobs=4)]: Done  65 out of  65 | elapsed:    0.0s finished\n",
      "[Parallel(n_jobs=-1)]: Done  42 tasks      | elapsed:    0.0s\n",
      "[Parallel(n_jobs=-1)]: Done  65 out of  65 | elapsed:    0.1s finished\n"
     ]
    },
    {
     "name": "stdout",
     "output_type": "stream",
     "text": [
      "(<350x25647 sparse matrix of type '<class 'numpy.int64'>'\n",
      "\twith 205897 stored elements in Compressed Sparse Row format>, array([    0,   405,   820,  1203,  1574,  2021,  2412,  2839,  3194,\n",
      "        3585,  3982,  4379,  4778,  5155,  5528,  5925,  6314,  6693,\n",
      "        7086,  7483,  7898,  8297,  8710,  9097,  9492,  9893, 10306,\n",
      "       10661, 11068, 11419, 11798, 12201, 12572, 12967, 13354, 13755,\n",
      "       14118, 14509, 14904, 15295, 15660, 16071, 16476, 16865, 17274,\n",
      "       17661, 18050, 18453, 18852, 19231, 19628, 20023, 20460, 20835,\n",
      "       21216, 21627, 22048, 22447, 22838, 23257, 23650, 24043, 24418,\n",
      "       24835, 25240, 25647]))\n"
     ]
    },
    {
     "name": "stderr",
     "output_type": "stream",
     "text": [
      "[Parallel(n_jobs=-1)]: Done  42 tasks      | elapsed:    0.0s\n",
      "[Parallel(n_jobs=-1)]: Done  65 out of  65 | elapsed:    0.1s finished\n",
      "[Parallel(n_jobs=4)]: Done  42 tasks      | elapsed:    0.0s\n",
      "[Parallel(n_jobs=4)]: Done  65 out of  65 | elapsed:    0.0s finished\n",
      "[Parallel(n_jobs=4)]: Done  42 tasks      | elapsed:    0.0s\n",
      "[Parallel(n_jobs=4)]: Done  65 out of  65 | elapsed:    0.0s finished\n",
      "[Parallel(n_jobs=-1)]: Done  42 tasks      | elapsed:    0.0s\n",
      "[Parallel(n_jobs=-1)]: Done  65 out of  65 | elapsed:    0.0s finished\n"
     ]
    },
    {
     "name": "stdout",
     "output_type": "stream",
     "text": [
      "(<73x28151 sparse matrix of type '<class 'numpy.int64'>'\n",
      "\twith 41769 stored elements in Compressed Sparse Row format>, array([    0,   439,   864,  1285,  1718,  2159,  2570,  3009,  3426,\n",
      "        3837,  4260,  4685,  5112,  5539,  5990,  6399,  6792,  7265,\n",
      "        7696,  8143,  8580,  8989,  9430,  9871, 10310, 10727, 11168,\n",
      "       11609, 12074, 12501, 12924, 13385, 13820, 14253, 14666, 15079,\n",
      "       15546, 15971, 16400, 16839, 17266, 17721, 18146, 18575, 19040,\n",
      "       19467, 19918, 20371, 20790, 21225, 21644, 22063, 22504, 22935,\n",
      "       23354, 23787, 24230, 24663, 25082, 25511, 25940, 26393, 26830,\n",
      "       27257, 27698, 28151]))\n"
     ]
    },
    {
     "name": "stderr",
     "output_type": "stream",
     "text": [
      "[Parallel(n_jobs=-1)]: Done  42 tasks      | elapsed:    0.1s\n",
      "[Parallel(n_jobs=-1)]: Done  65 out of  65 | elapsed:    0.2s finished\n",
      "[Parallel(n_jobs=4)]: Done  42 tasks      | elapsed:    0.0s\n",
      "[Parallel(n_jobs=4)]: Done  65 out of  65 | elapsed:    0.0s finished\n",
      "[Parallel(n_jobs=4)]: Done  42 tasks      | elapsed:    0.0s\n",
      "[Parallel(n_jobs=4)]: Done  65 out of  65 | elapsed:    0.0s finished\n",
      "[Parallel(n_jobs=-1)]: Done  42 tasks      | elapsed:    0.0s\n",
      "[Parallel(n_jobs=-1)]: Done  65 out of  65 | elapsed:    0.1s finished\n"
     ]
    },
    {
     "name": "stdout",
     "output_type": "stream",
     "text": [
      "(<373x6063 sparse matrix of type '<class 'numpy.int64'>'\n",
      "\twith 168449 stored elements in Compressed Sparse Row format>, array([   0,   97,  182,  279,  378,  451,  556,  661,  756,  843,  940,\n",
      "       1033, 1128, 1221, 1312, 1395, 1474, 1573, 1674, 1765, 1866, 1965,\n",
      "       2058, 2149, 2242, 2333, 2422, 2513, 2602, 2697, 2786, 2891, 2978,\n",
      "       3063, 3152, 3243, 3336, 3421, 3522, 3623, 3724, 3815, 3906, 3989,\n",
      "       4088, 4187, 4280, 4379, 4480, 4571, 4668, 4769, 4860, 4949, 5040,\n",
      "       5141, 5228, 5315, 5404, 5493, 5590, 5693, 5772, 5869, 5964, 6063]))\n"
     ]
    },
    {
     "name": "stderr",
     "output_type": "stream",
     "text": [
      "[Parallel(n_jobs=-1)]: Done  42 tasks      | elapsed:    0.1s\n",
      "[Parallel(n_jobs=-1)]: Done  65 out of  65 | elapsed:    0.2s finished\n",
      "[Parallel(n_jobs=4)]: Done  42 tasks      | elapsed:    0.0s\n",
      "[Parallel(n_jobs=4)]: Done  65 out of  65 | elapsed:    0.0s finished\n",
      "[Parallel(n_jobs=4)]: Done  42 tasks      | elapsed:    0.0s\n",
      "[Parallel(n_jobs=4)]: Done  65 out of  65 | elapsed:    0.0s finished\n",
      "[Parallel(n_jobs=-1)]: Done  42 tasks      | elapsed:    0.0s\n",
      "[Parallel(n_jobs=-1)]: Done  65 out of  65 | elapsed:    0.1s finished\n"
     ]
    },
    {
     "name": "stdout",
     "output_type": "stream",
     "text": [
      "(<373x25923 sparse matrix of type '<class 'numpy.int64'>'\n",
      "\twith 227115 stored elements in Compressed Sparse Row format>, array([    0,   393,   822,  1215,  1620,  2039,  2440,  2819,  3238,\n",
      "        3657,  4026,  4423,  4832,  5227,  5596,  5965,  6380,  6789,\n",
      "        7168,  7555,  7944,  8329,  8712,  9109,  9508,  9901, 10312,\n",
      "       10709, 11088, 11487, 11878, 12283, 12696, 13083, 13504, 13921,\n",
      "       14318, 14707, 15104, 15477, 15886, 16293, 16718, 17105, 17498,\n",
      "       17925, 18318, 18737, 19152, 19555, 19940, 20331, 20728, 21115,\n",
      "       21530, 21919, 22338, 22749, 23138, 23553, 23952, 24345, 24740,\n",
      "       25131, 25518, 25923]))\n"
     ]
    },
    {
     "name": "stderr",
     "output_type": "stream",
     "text": [
      "[Parallel(n_jobs=-1)]: Done  42 tasks      | elapsed:    0.1s\n",
      "[Parallel(n_jobs=-1)]: Done  65 out of  65 | elapsed:    0.2s finished\n",
      "[Parallel(n_jobs=4)]: Done  42 tasks      | elapsed:    0.0s\n",
      "[Parallel(n_jobs=4)]: Done  65 out of  65 | elapsed:    0.0s finished\n",
      "[Parallel(n_jobs=4)]: Done  42 tasks      | elapsed:    0.0s\n",
      "[Parallel(n_jobs=4)]: Done  65 out of  65 | elapsed:    0.0s finished\n",
      "[Parallel(n_jobs=-1)]: Done  42 tasks      | elapsed:    0.0s\n",
      "[Parallel(n_jobs=-1)]: Done  65 out of  65 | elapsed:    0.1s finished\n"
     ]
    },
    {
     "name": "stdout",
     "output_type": "stream",
     "text": [
      "(<366x26839 sparse matrix of type '<class 'numpy.int64'>'\n",
      "\twith 233094 stored elements in Compressed Sparse Row format>, array([    0,   411,   808,  1233,  1648,  2043,  2458,  2889,  3306,\n",
      "        3697,  4114,  4519,  4902,  5321,  5724,  6153,  6568,  6971,\n",
      "        7390,  7787,  8188,  8635,  9044,  9477,  9862, 10293, 10700,\n",
      "       11093, 11520, 11919, 12332, 12739, 13128, 13547, 13984, 14397,\n",
      "       14830, 15269, 15678, 16085, 16506, 16919, 17350, 17751, 18146,\n",
      "       18575, 18984, 19371, 19792, 20209, 20616, 21003, 21404, 21817,\n",
      "       22212, 22637, 23078, 23499, 23924, 24363, 24760, 25165, 25594,\n",
      "       25995, 26410, 26839]))\n"
     ]
    },
    {
     "name": "stderr",
     "output_type": "stream",
     "text": [
      "[Parallel(n_jobs=-1)]: Done  42 tasks      | elapsed:    0.1s\n",
      "[Parallel(n_jobs=-1)]: Done  65 out of  65 | elapsed:    0.2s finished\n",
      "[Parallel(n_jobs=4)]: Done  42 tasks      | elapsed:    0.0s\n",
      "[Parallel(n_jobs=4)]: Done  65 out of  65 | elapsed:    0.0s finished\n",
      "[Parallel(n_jobs=4)]: Done  42 tasks      | elapsed:    0.0s\n",
      "[Parallel(n_jobs=4)]: Done  65 out of  65 | elapsed:    0.0s finished\n",
      "[Parallel(n_jobs=-1)]: Done  42 tasks      | elapsed:    0.0s\n",
      "[Parallel(n_jobs=-1)]: Done  65 out of  65 | elapsed:    0.1s finished\n"
     ]
    },
    {
     "name": "stdout",
     "output_type": "stream",
     "text": [
      "(<351x25953 sparse matrix of type '<class 'numpy.int64'>'\n",
      "\twith 225075 stored elements in Compressed Sparse Row format>, array([    0,   387,   776,  1187,  1566,  1975,  2378,  2801,  3234,\n",
      "        3603,  4010,  4425,  4818,  5227,  5664,  6025,  6406,  6845,\n",
      "        7242,  7633,  8056,  8453,  8858,  9235,  9636, 10021, 10430,\n",
      "       10817, 11220, 11603, 11992, 12365, 12762, 13145, 13542, 13959,\n",
      "       14354, 14733, 15142, 15559, 15958, 16337, 16734, 17107, 17512,\n",
      "       17919, 18348, 18779, 19184, 19571, 19974, 20367, 20776, 21175,\n",
      "       21562, 21961, 22350, 22739, 23118, 23533, 23924, 24309, 24718,\n",
      "       25131, 25518, 25953]))\n"
     ]
    },
    {
     "name": "stderr",
     "output_type": "stream",
     "text": [
      "[Parallel(n_jobs=-1)]: Done  42 tasks      | elapsed:    0.1s\n",
      "[Parallel(n_jobs=-1)]: Done  65 out of  65 | elapsed:    0.1s finished\n",
      "[Parallel(n_jobs=4)]: Done  42 tasks      | elapsed:    0.0s\n",
      "[Parallel(n_jobs=4)]: Done  65 out of  65 | elapsed:    0.0s finished\n",
      "[Parallel(n_jobs=4)]: Done  42 tasks      | elapsed:    0.0s\n",
      "[Parallel(n_jobs=4)]: Done  65 out of  65 | elapsed:    0.0s finished\n",
      "[Parallel(n_jobs=-1)]: Done  42 tasks      | elapsed:    0.0s\n",
      "[Parallel(n_jobs=-1)]: Done  65 out of  65 | elapsed:    0.1s finished\n"
     ]
    },
    {
     "name": "stdout",
     "output_type": "stream",
     "text": [
      "(<353x26691 sparse matrix of type '<class 'numpy.int64'>'\n",
      "\twith 219625 stored elements in Compressed Sparse Row format>, array([    0,   421,   816,  1241,  1648,  2047,  2490,  2873,  3334,\n",
      "        3769,  4182,  4577,  4978,  5391,  5760,  6187,  6596,  6999,\n",
      "        7418,  7829,  8236,  8647,  9056,  9449,  9862, 10279, 10700,\n",
      "       11113, 11506, 11927, 12326, 12793, 13172, 13547, 13948, 14371,\n",
      "       14768, 15171, 15598, 16029, 16432, 16851, 17242, 17671, 18094,\n",
      "       18489, 18900, 19299, 19720, 20115, 20522, 20933, 21344, 21743,\n",
      "       22138, 22529, 22948, 23367, 23782, 24227, 24606, 25051, 25466,\n",
      "       25881, 26282, 26691]))\n"
     ]
    },
    {
     "name": "stderr",
     "output_type": "stream",
     "text": [
      "[Parallel(n_jobs=-1)]: Done  42 tasks      | elapsed:    0.0s\n",
      "[Parallel(n_jobs=-1)]: Done  65 out of  65 | elapsed:    0.1s finished\n",
      "[Parallel(n_jobs=4)]: Done  42 tasks      | elapsed:    0.0s\n",
      "[Parallel(n_jobs=4)]: Done  65 out of  65 | elapsed:    0.0s finished\n",
      "[Parallel(n_jobs=4)]: Done  42 tasks      | elapsed:    0.0s\n",
      "[Parallel(n_jobs=4)]: Done  65 out of  65 | elapsed:    0.0s finished\n",
      "[Parallel(n_jobs=-1)]: Done  42 tasks      | elapsed:    0.0s\n",
      "[Parallel(n_jobs=-1)]: Done  65 out of  65 | elapsed:    0.1s finished\n"
     ]
    },
    {
     "name": "stdout",
     "output_type": "stream",
     "text": [
      "(<77x26017 sparse matrix of type '<class 'numpy.int64'>'\n",
      "\twith 47175 stored elements in Compressed Sparse Row format>, array([    0,   395,   800,  1197,  1576,  1979,  2390,  2815,  3230,\n",
      "        3629,  4038,  4441,  4832,  5247,  5650,  6055,  6448,  6869,\n",
      "        7276,  7685,  8092,  8515,  8930,  9345,  9752, 10133, 10526,\n",
      "       10919, 11342, 11749, 12134, 12525, 12936, 13377, 13754, 14129,\n",
      "       14556, 14939, 15308, 15717, 16134, 16511, 16892, 17323, 17716,\n",
      "       18133, 18516, 18925, 19324, 19717, 20114, 20507, 20920, 21339,\n",
      "       21730, 22111, 22504, 22915, 23290, 23669, 24034, 24427, 24818,\n",
      "       25229, 25630, 26017]))\n"
     ]
    },
    {
     "name": "stderr",
     "output_type": "stream",
     "text": [
      "[Parallel(n_jobs=-1)]: Done  42 tasks      | elapsed:    0.1s\n",
      "[Parallel(n_jobs=-1)]: Done  65 out of  65 | elapsed:    0.1s finished\n",
      "[Parallel(n_jobs=4)]: Done  42 tasks      | elapsed:    0.0s\n",
      "[Parallel(n_jobs=4)]: Done  65 out of  65 | elapsed:    0.0s finished\n",
      "[Parallel(n_jobs=4)]: Done  42 tasks      | elapsed:    0.0s\n",
      "[Parallel(n_jobs=4)]: Done  65 out of  65 | elapsed:    0.0s finished\n",
      "[Parallel(n_jobs=-1)]: Done  42 tasks      | elapsed:    0.0s\n",
      "[Parallel(n_jobs=-1)]: Done  65 out of  65 | elapsed:    0.1s finished\n"
     ]
    },
    {
     "name": "stdout",
     "output_type": "stream",
     "text": [
      "(<384x5021 sparse matrix of type '<class 'numpy.int64'>'\n",
      "\twith 171547 stored elements in Compressed Sparse Row format>, array([   0,   79,  150,  227,  310,  391,  466,  533,  604,  683,  758,\n",
      "        823,  894,  969, 1054, 1127, 1198, 1275, 1352, 1421, 1496, 1577,\n",
      "       1634, 1711, 1792, 1863, 1934, 2025, 2108, 2181, 2266, 2345, 2424,\n",
      "       2509, 2582, 2663, 2748, 2831, 2902, 2975, 3038, 3127, 3198, 3271,\n",
      "       3350, 3429, 3516, 3591, 3670, 3741, 3810, 3893, 3954, 4033, 4120,\n",
      "       4185, 4264, 4339, 4422, 4515, 4604, 4695, 4776, 4863, 4932, 5021]))\n"
     ]
    },
    {
     "name": "stderr",
     "output_type": "stream",
     "text": [
      "[Parallel(n_jobs=-1)]: Done  42 tasks      | elapsed:    0.1s\n",
      "[Parallel(n_jobs=-1)]: Done  65 out of  65 | elapsed:    0.2s finished\n",
      "[Parallel(n_jobs=4)]: Done  42 tasks      | elapsed:    0.0s\n",
      "[Parallel(n_jobs=4)]: Done  65 out of  65 | elapsed:    0.0s finished\n",
      "[Parallel(n_jobs=4)]: Done  42 tasks      | elapsed:    0.0s\n",
      "[Parallel(n_jobs=4)]: Done  65 out of  65 | elapsed:    0.0s finished\n",
      "[Parallel(n_jobs=-1)]: Done  42 tasks      | elapsed:    0.0s\n",
      "[Parallel(n_jobs=-1)]: Done  65 out of  65 | elapsed:    0.1s finished\n"
     ]
    },
    {
     "name": "stdout",
     "output_type": "stream",
     "text": [
      "(<357x23917 sparse matrix of type '<class 'numpy.int64'>'\n",
      "\twith 214059 stored elements in Compressed Sparse Row format>, array([    0,   383,   774,  1149,  1522,  1883,  2262,  2655,  3012,\n",
      "        3365,  3762,  4113,  4466,  4795,  5154,  5509,  5900,  6269,\n",
      "        6644,  7015,  7420,  7763,  8146,  8519,  8888,  9289,  9674,\n",
      "       10013, 10382, 10753, 11108, 11475, 11842, 12195, 12526, 12897,\n",
      "       13252, 13633, 14012, 14383, 14724, 15113, 15476, 15841, 16198,\n",
      "       16579, 16946, 17327, 17680, 18077, 18434, 18819, 19140, 19511,\n",
      "       19842, 20237, 20604, 20985, 21362, 21729, 22110, 22461, 22826,\n",
      "       23205, 23550, 23917]))\n"
     ]
    },
    {
     "name": "stderr",
     "output_type": "stream",
     "text": [
      "[Parallel(n_jobs=-1)]: Done  42 tasks      | elapsed:    0.1s\n",
      "[Parallel(n_jobs=-1)]: Done  65 out of  65 | elapsed:    0.2s finished\n",
      "[Parallel(n_jobs=4)]: Done  42 tasks      | elapsed:    0.0s\n",
      "[Parallel(n_jobs=4)]: Done  65 out of  65 | elapsed:    0.0s finished\n",
      "[Parallel(n_jobs=4)]: Done  42 tasks      | elapsed:    0.0s\n",
      "[Parallel(n_jobs=4)]: Done  65 out of  65 | elapsed:    0.0s finished\n",
      "[Parallel(n_jobs=-1)]: Done  42 tasks      | elapsed:    0.0s\n",
      "[Parallel(n_jobs=-1)]: Done  65 out of  65 | elapsed:    0.1s finished\n"
     ]
    },
    {
     "name": "stdout",
     "output_type": "stream",
     "text": [
      "(<361x25755 sparse matrix of type '<class 'numpy.int64'>'\n",
      "\twith 224200 stored elements in Compressed Sparse Row format>, array([    0,   413,   818,  1227,  1622,  2017,  2396,  2799,  3180,\n",
      "        3591,  3982,  4375,  4754,  5185,  5572,  5967,  6408,  6805,\n",
      "        7172,  7567,  7948,  8369,  8764,  9151,  9566,  9975, 10390,\n",
      "       10773, 11166, 11563, 11936, 12351, 12722, 13143, 13540, 13935,\n",
      "       14328, 14707, 15118, 15523, 15914, 16307, 16688, 17087, 17496,\n",
      "       17895, 18280, 18645, 19036, 19415, 19802, 20233, 20620, 21017,\n",
      "       21400, 21789, 22220, 22621, 22994, 23375, 23766, 24167, 24574,\n",
      "       24983, 25366, 25755]))\n"
     ]
    },
    {
     "name": "stderr",
     "output_type": "stream",
     "text": [
      "[Parallel(n_jobs=-1)]: Done  42 tasks      | elapsed:    0.1s\n",
      "[Parallel(n_jobs=-1)]: Done  65 out of  65 | elapsed:    0.1s finished\n",
      "[Parallel(n_jobs=4)]: Done  42 tasks      | elapsed:    0.0s\n",
      "[Parallel(n_jobs=4)]: Done  65 out of  65 | elapsed:    0.0s finished\n",
      "[Parallel(n_jobs=4)]: Done  42 tasks      | elapsed:    0.0s\n",
      "[Parallel(n_jobs=4)]: Done  65 out of  65 | elapsed:    0.0s finished\n",
      "[Parallel(n_jobs=-1)]: Done  42 tasks      | elapsed:    0.0s\n",
      "[Parallel(n_jobs=-1)]: Done  65 out of  65 | elapsed:    0.0s finished\n"
     ]
    },
    {
     "name": "stdout",
     "output_type": "stream",
     "text": [
      "(<365x26165 sparse matrix of type '<class 'numpy.int64'>'\n",
      "\twith 218445 stored elements in Compressed Sparse Row format>, array([    0,   405,   812,  1221,  1626,  2031,  2442,  2855,  3246,\n",
      "        3639,  4036,  4407,  4818,  5225,  5608,  5989,  6370,  6775,\n",
      "        7170,  7567,  7970,  8395,  8772,  9197,  9582,  9971, 10358,\n",
      "       10777, 11186, 11559, 11940, 12361, 12764, 13149, 13552, 14007,\n",
      "       14402, 14759, 15182, 15563, 15968, 16405, 16814, 17213, 17626,\n",
      "       18013, 18410, 18813, 19200, 19609, 19964, 20391, 20788, 21187,\n",
      "       21606, 21987, 22412, 22797, 23232, 23675, 24068, 24473, 24890,\n",
      "       25333, 25736, 26165]))\n"
     ]
    },
    {
     "name": "stderr",
     "output_type": "stream",
     "text": [
      "[Parallel(n_jobs=-1)]: Done  42 tasks      | elapsed:    0.1s\n",
      "[Parallel(n_jobs=-1)]: Done  65 out of  65 | elapsed:    0.2s finished\n",
      "[Parallel(n_jobs=4)]: Done  42 tasks      | elapsed:    0.0s\n",
      "[Parallel(n_jobs=4)]: Done  65 out of  65 | elapsed:    0.0s finished\n",
      "[Parallel(n_jobs=4)]: Done  42 tasks      | elapsed:    0.0s\n",
      "[Parallel(n_jobs=4)]: Done  65 out of  65 | elapsed:    0.0s finished\n",
      "[Parallel(n_jobs=-1)]: Done  42 tasks      | elapsed:    0.0s\n",
      "[Parallel(n_jobs=-1)]: Done  65 out of  65 | elapsed:    0.1s finished\n"
     ]
    },
    {
     "name": "stdout",
     "output_type": "stream",
     "text": [
      "(<351x26303 sparse matrix of type '<class 'numpy.int64'>'\n",
      "\twith 205558 stored elements in Compressed Sparse Row format>, array([    0,   407,   824,  1259,  1656,  2081,  2494,  2901,  3314,\n",
      "        3737,  4124,  4509,  4878,  5259,  5648,  6021,  6432,  6823,\n",
      "        7236,  7645,  8062,  8473,  8874,  9265,  9670, 10091, 10500,\n",
      "       10893, 11322, 11727, 12144, 12557, 12956, 13349, 13760, 14139,\n",
      "       14542, 14931, 15336, 15753, 16154, 16553, 16952, 17403, 17810,\n",
      "       18245, 18652, 19031, 19424, 19839, 20216, 20641, 21056, 21427,\n",
      "       21826, 22213, 22628, 23049, 23448, 23833, 24254, 24665, 25080,\n",
      "       25491, 25896, 26303]))\n"
     ]
    },
    {
     "name": "stderr",
     "output_type": "stream",
     "text": [
      "[Parallel(n_jobs=-1)]: Done  42 tasks      | elapsed:    0.1s\n",
      "[Parallel(n_jobs=-1)]: Done  65 out of  65 | elapsed:    0.1s finished\n",
      "[Parallel(n_jobs=4)]: Done  42 tasks      | elapsed:    0.0s\n",
      "[Parallel(n_jobs=4)]: Done  65 out of  65 | elapsed:    0.0s finished\n",
      "[Parallel(n_jobs=4)]: Done  42 tasks      | elapsed:    0.0s\n",
      "[Parallel(n_jobs=4)]: Done  65 out of  65 | elapsed:    0.0s finished\n",
      "[Parallel(n_jobs=-1)]: Done  42 tasks      | elapsed:    0.0s\n",
      "[Parallel(n_jobs=-1)]: Done  65 out of  65 | elapsed:    0.0s finished\n"
     ]
    },
    {
     "name": "stdout",
     "output_type": "stream",
     "text": [
      "(<399x25411 sparse matrix of type '<class 'numpy.int64'>'\n",
      "\twith 240133 stored elements in Compressed Sparse Row format>, array([    0,   391,   770,  1145,  1530,  1935,  2328,  2729,  3110,\n",
      "        3507,  3876,  4249,  4620,  4989,  5356,  5781,  6180,  6567,\n",
      "        6938,  7325,  7726,  8101,  8494,  8903,  9260,  9651, 10038,\n",
      "       10441, 10824, 11179, 11610, 12013, 12418, 12819, 13210, 13603,\n",
      "       14006, 14397, 14784, 15191, 15574, 15971, 16382, 16803, 17156,\n",
      "       17559, 17918, 18309, 18702, 19063, 19448, 19833, 20236, 20653,\n",
      "       21068, 21449, 21860, 22235, 22618, 23013, 23420, 23799, 24208,\n",
      "       24625, 25014, 25411]))\n"
     ]
    },
    {
     "name": "stderr",
     "output_type": "stream",
     "text": [
      "[Parallel(n_jobs=-1)]: Done  42 tasks      | elapsed:    0.1s\n",
      "[Parallel(n_jobs=-1)]: Done  65 out of  65 | elapsed:    0.2s finished\n",
      "[Parallel(n_jobs=4)]: Done  42 tasks      | elapsed:    0.0s\n",
      "[Parallel(n_jobs=4)]: Done  65 out of  65 | elapsed:    0.0s finished\n",
      "[Parallel(n_jobs=4)]: Done  42 tasks      | elapsed:    0.0s\n",
      "[Parallel(n_jobs=4)]: Done  65 out of  65 | elapsed:    0.0s finished\n",
      "[Parallel(n_jobs=-1)]: Done  42 tasks      | elapsed:    0.0s\n",
      "[Parallel(n_jobs=-1)]: Done  65 out of  65 | elapsed:    0.1s finished\n"
     ]
    },
    {
     "name": "stdout",
     "output_type": "stream",
     "text": [
      "(<348x25207 sparse matrix of type '<class 'numpy.int64'>'\n",
      "\twith 211580 stored elements in Compressed Sparse Row format>, array([    0,   367,   738,  1121,  1516,  1901,  2304,  2675,  3094,\n",
      "        3479,  3890,  4261,  4628,  5007,  5396,  5789,  6184,  6567,\n",
      "        6918,  7307,  7698,  8053,  8428,  8821,  9194,  9607,  9988,\n",
      "       10361, 10756, 11155, 11532, 11915, 12308, 12711, 13096, 13477,\n",
      "       13856, 14205, 14598, 15033, 15418, 15815, 16226, 16603, 16990,\n",
      "       17359, 17774, 18179, 18540, 18971, 19356, 19749, 20142, 20533,\n",
      "       20920, 21309, 21678, 22073, 22472, 22873, 23268, 23655, 24052,\n",
      "       24447, 24838, 25207]))\n"
     ]
    },
    {
     "name": "stderr",
     "output_type": "stream",
     "text": [
      "[Parallel(n_jobs=-1)]: Done  42 tasks      | elapsed:    0.1s\n",
      "[Parallel(n_jobs=-1)]: Done  65 out of  65 | elapsed:    0.2s finished\n",
      "[Parallel(n_jobs=4)]: Done  42 tasks      | elapsed:    0.0s\n",
      "[Parallel(n_jobs=4)]: Done  65 out of  65 | elapsed:    0.0s finished\n",
      "[Parallel(n_jobs=4)]: Done  42 tasks      | elapsed:    0.0s\n",
      "[Parallel(n_jobs=4)]: Done  65 out of  65 | elapsed:    0.0s finished\n",
      "[Parallel(n_jobs=-1)]: Done  42 tasks      | elapsed:    0.0s\n",
      "[Parallel(n_jobs=-1)]: Done  65 out of  65 | elapsed:    0.1s finished\n"
     ]
    },
    {
     "name": "stdout",
     "output_type": "stream",
     "text": [
      "(<353x26493 sparse matrix of type '<class 'numpy.int64'>'\n",
      "\twith 211843 stored elements in Compressed Sparse Row format>, array([    0,   409,   822,  1255,  1646,  2077,  2454,  2857,  3270,\n",
      "        3695,  4124,  4537,  4936,  5359,  5796,  6235,  6652,  7035,\n",
      "        7464,  7841,  8250,  8671,  9066,  9461,  9856, 10239, 10684,\n",
      "       11101, 11494, 11873, 12280, 12713, 13118, 13501, 13894, 14285,\n",
      "       14678, 15065, 15490, 15899, 16330, 16739, 17152, 17561, 17962,\n",
      "       18383, 18804, 19207, 19644, 20049, 20422, 20793, 21190, 21575,\n",
      "       21986, 22407, 22806, 23233, 23624, 24031, 24438, 24827, 25220,\n",
      "       25649, 26092, 26493]))\n"
     ]
    },
    {
     "name": "stderr",
     "output_type": "stream",
     "text": [
      "[Parallel(n_jobs=-1)]: Done  42 tasks      | elapsed:    0.1s\n",
      "[Parallel(n_jobs=-1)]: Done  65 out of  65 | elapsed:    0.1s finished\n",
      "[Parallel(n_jobs=4)]: Done  42 tasks      | elapsed:    0.0s\n",
      "[Parallel(n_jobs=4)]: Done  65 out of  65 | elapsed:    0.0s finished\n",
      "[Parallel(n_jobs=4)]: Done  42 tasks      | elapsed:    0.0s\n",
      "[Parallel(n_jobs=4)]: Done  65 out of  65 | elapsed:    0.0s finished\n",
      "[Parallel(n_jobs=-1)]: Done  42 tasks      | elapsed:    0.0s\n",
      "[Parallel(n_jobs=-1)]: Done  65 out of  65 | elapsed:    0.1s finished\n"
     ]
    },
    {
     "name": "stdout",
     "output_type": "stream",
     "text": [
      "(<24x25317 sparse matrix of type '<class 'numpy.int64'>'\n",
      "\twith 14188 stored elements in Compressed Sparse Row format>, array([    0,   379,   766,  1163,  1540,  1933,  2306,  2691,  3066,\n",
      "        3455,  3818,  4189,  4556,  4967,  5336,  5711,  6100,  6451,\n",
      "        6866,  7283,  7698,  8103,  8516,  8883,  9286,  9679, 10080,\n",
      "       10465, 10856, 11251, 11652, 12057, 12460, 12863, 13244, 13657,\n",
      "       14068, 14453, 14814, 15213, 15576, 15943, 16328, 16721, 17086,\n",
      "       17479, 17874, 18273, 18674, 19045, 19440, 19837, 20202, 20567,\n",
      "       20966, 21359, 21740, 22165, 22562, 22961, 23348, 23731, 24132,\n",
      "       24519, 24924, 25317]))\n"
     ]
    },
    {
     "name": "stderr",
     "output_type": "stream",
     "text": [
      "[Parallel(n_jobs=-1)]: Done  42 tasks      | elapsed:    0.1s\n",
      "[Parallel(n_jobs=-1)]: Done  65 out of  65 | elapsed:    0.2s finished\n",
      "[Parallel(n_jobs=4)]: Done  42 tasks      | elapsed:    0.0s\n",
      "[Parallel(n_jobs=4)]: Done  65 out of  65 | elapsed:    0.0s finished\n",
      "[Parallel(n_jobs=4)]: Done  42 tasks      | elapsed:    0.0s\n",
      "[Parallel(n_jobs=4)]: Done  65 out of  65 | elapsed:    0.0s finished\n",
      "[Parallel(n_jobs=-1)]: Done  42 tasks      | elapsed:    0.0s\n",
      "[Parallel(n_jobs=-1)]: Done  65 out of  65 | elapsed:    0.1s finished\n"
     ]
    },
    {
     "name": "stdout",
     "output_type": "stream",
     "text": [
      "(<383x1783 sparse matrix of type '<class 'numpy.int64'>'\n",
      "\twith 129148 stored elements in Compressed Sparse Row format>, array([   0,   29,   54,   85,  116,  139,  166,  195,  220,  245,  278,\n",
      "        307,  338,  363,  398,  425,  450,  479,  516,  551,  568,  591,\n",
      "        620,  645,  676,  711,  738,  769,  796,  817,  844,  867,  892,\n",
      "        923,  946,  975, 1000, 1027, 1048, 1077, 1112, 1135, 1152, 1179,\n",
      "       1220, 1245, 1272, 1305, 1334, 1359, 1384, 1407, 1426, 1459, 1482,\n",
      "       1511, 1538, 1563, 1598, 1625, 1654, 1691, 1712, 1737, 1758, 1783]))\n"
     ]
    },
    {
     "name": "stderr",
     "output_type": "stream",
     "text": [
      "[Parallel(n_jobs=-1)]: Done  42 tasks      | elapsed:    0.1s\n",
      "[Parallel(n_jobs=-1)]: Done  65 out of  65 | elapsed:    0.2s finished\n",
      "[Parallel(n_jobs=4)]: Done  42 tasks      | elapsed:    0.0s\n",
      "[Parallel(n_jobs=4)]: Done  65 out of  65 | elapsed:    0.0s finished\n",
      "[Parallel(n_jobs=4)]: Done  42 tasks      | elapsed:    0.0s\n",
      "[Parallel(n_jobs=4)]: Done  65 out of  65 | elapsed:    0.0s finished\n",
      "[Parallel(n_jobs=-1)]: Done  42 tasks      | elapsed:    0.0s\n",
      "[Parallel(n_jobs=-1)]: Done  65 out of  65 | elapsed:    0.1s finished\n"
     ]
    },
    {
     "name": "stdout",
     "output_type": "stream",
     "text": [
      "(<372x26741 sparse matrix of type '<class 'numpy.int64'>'\n",
      "\twith 232231 stored elements in Compressed Sparse Row format>, array([    0,   407,   806,  1221,  1608,  2023,  2436,  2847,  3284,\n",
      "        3675,  4058,  4487,  4886,  5295,  5716,  6105,  6520,  6955,\n",
      "        7384,  7815,  8224,  8599,  9004,  9417,  9816, 10229, 10636,\n",
      "       11037, 11474, 11879, 12282, 12705, 13104, 13499, 13882, 14279,\n",
      "       14684, 15085, 15476, 15887, 16300, 16727, 17156, 17579, 17980,\n",
      "       18401, 18810, 19235, 19684, 20115, 20528, 20967, 21366, 21787,\n",
      "       22174, 22579, 22990, 23417, 23820, 24231, 24652, 25073, 25490,\n",
      "       25917, 26334, 26741]))\n"
     ]
    },
    {
     "name": "stderr",
     "output_type": "stream",
     "text": [
      "[Parallel(n_jobs=-1)]: Done  42 tasks      | elapsed:    0.1s\n",
      "[Parallel(n_jobs=-1)]: Done  65 out of  65 | elapsed:    0.2s finished\n",
      "[Parallel(n_jobs=4)]: Done  42 tasks      | elapsed:    0.0s\n",
      "[Parallel(n_jobs=4)]: Done  65 out of  65 | elapsed:    0.0s finished\n",
      "[Parallel(n_jobs=4)]: Done  42 tasks      | elapsed:    0.0s\n",
      "[Parallel(n_jobs=4)]: Done  65 out of  65 | elapsed:    0.0s finished\n",
      "[Parallel(n_jobs=-1)]: Done  42 tasks      | elapsed:    0.0s\n",
      "[Parallel(n_jobs=-1)]: Done  65 out of  65 | elapsed:    0.1s finished\n"
     ]
    },
    {
     "name": "stdout",
     "output_type": "stream",
     "text": [
      "(<383x27185 sparse matrix of type '<class 'numpy.int64'>'\n",
      "\twith 236876 stored elements in Compressed Sparse Row format>, array([    0,   459,   868,  1303,  1716,  2131,  2570,  2997,  3374,\n",
      "        3805,  4190,  4603,  5038,  5455,  5860,  6281,  6712,  7131,\n",
      "        7552,  7965,  8372,  8805,  9220,  9637, 10066, 10435, 10882,\n",
      "       11293, 11700, 12095, 12488, 12897, 13348, 13787, 14212, 14613,\n",
      "       15066, 15477, 15890, 16315, 16704, 17129, 17564, 17969, 18378,\n",
      "       18803, 19230, 19663, 20084, 20485, 20910, 21347, 21748, 22161,\n",
      "       22596, 22999, 23438, 23851, 24266, 24671, 25102, 25507, 25936,\n",
      "       26341, 26752, 27185]))\n"
     ]
    },
    {
     "name": "stderr",
     "output_type": "stream",
     "text": [
      "[Parallel(n_jobs=-1)]: Done  42 tasks      | elapsed:    0.1s\n",
      "[Parallel(n_jobs=-1)]: Done  65 out of  65 | elapsed:    0.1s finished\n",
      "[Parallel(n_jobs=4)]: Done  42 tasks      | elapsed:    0.0s\n",
      "[Parallel(n_jobs=4)]: Done  65 out of  65 | elapsed:    0.0s finished\n",
      "[Parallel(n_jobs=4)]: Done  42 tasks      | elapsed:    0.0s\n",
      "[Parallel(n_jobs=4)]: Done  65 out of  65 | elapsed:    0.0s finished\n",
      "[Parallel(n_jobs=-1)]: Done  42 tasks      | elapsed:    0.0s\n",
      "[Parallel(n_jobs=-1)]: Done  65 out of  65 | elapsed:    0.1s finished\n"
     ]
    },
    {
     "name": "stdout",
     "output_type": "stream",
     "text": [
      "(<252x26059 sparse matrix of type '<class 'numpy.int64'>'\n",
      "\twith 159524 stored elements in Compressed Sparse Row format>, array([    0,   403,   804,  1213,  1614,  2017,  2416,  2811,  3196,\n",
      "        3593,  3978,  4385,  4778,  5177,  5596,  6019,  6462,  6867,\n",
      "        7258,  7667,  8040,  8439,  8850,  9223,  9652, 10019, 10422,\n",
      "       10811, 11208, 11615, 12036, 12467, 12872, 13263, 13660, 14029,\n",
      "       14412, 14819, 15226, 15627, 16030, 16423, 16796, 17193, 17614,\n",
      "       18007, 18406, 18801, 19186, 19577, 19964, 20337, 20770, 21177,\n",
      "       21588, 22003, 22412, 22799, 23190, 23621, 24032, 24431, 24834,\n",
      "       25221, 25658, 26059]))\n"
     ]
    },
    {
     "name": "stderr",
     "output_type": "stream",
     "text": [
      "[Parallel(n_jobs=-1)]: Done  42 tasks      | elapsed:    0.0s\n",
      "[Parallel(n_jobs=-1)]: Done  65 out of  65 | elapsed:    0.1s finished\n",
      "[Parallel(n_jobs=4)]: Done  42 tasks      | elapsed:    0.0s\n",
      "[Parallel(n_jobs=4)]: Done  65 out of  65 | elapsed:    0.0s finished\n",
      "[Parallel(n_jobs=4)]: Done  42 tasks      | elapsed:    0.0s\n",
      "[Parallel(n_jobs=4)]: Done  65 out of  65 | elapsed:    0.0s finished\n",
      "[Parallel(n_jobs=-1)]: Done  42 tasks      | elapsed:    0.0s\n",
      "[Parallel(n_jobs=-1)]: Done  65 out of  65 | elapsed:    0.1s finished\n"
     ]
    },
    {
     "name": "stdout",
     "output_type": "stream",
     "text": [
      "(<138x19899 sparse matrix of type '<class 'numpy.int64'>'\n",
      "\twith 74875 stored elements in Compressed Sparse Row format>, array([    0,   297,   608,   935,  1256,  1543,  1830,  2107,  2434,\n",
      "        2747,  3040,  3391,  3678,  3999,  4326,  4641,  4962,  5275,\n",
      "        5606,  5903,  6204,  6507,  6782,  7089,  7378,  7685,  7978,\n",
      "        8297,  8600,  8901,  9220,  9545,  9840, 10129, 10434, 10733,\n",
      "       11058, 11361, 11650, 11945, 12228, 12547, 12854, 13169, 13472,\n",
      "       13789, 14094, 14403, 14684, 14993, 15276, 15591, 15898, 16217,\n",
      "       16532, 16861, 17156, 17467, 17738, 18045, 18360, 18681, 19002,\n",
      "       19309, 19616, 19899]))\n"
     ]
    },
    {
     "name": "stderr",
     "output_type": "stream",
     "text": [
      "[Parallel(n_jobs=-1)]: Done  42 tasks      | elapsed:    0.1s\n",
      "[Parallel(n_jobs=-1)]: Done  65 out of  65 | elapsed:    0.2s finished\n",
      "[Parallel(n_jobs=4)]: Done  42 tasks      | elapsed:    0.0s\n",
      "[Parallel(n_jobs=4)]: Done  65 out of  65 | elapsed:    0.0s finished\n",
      "[Parallel(n_jobs=4)]: Done  42 tasks      | elapsed:    0.0s\n",
      "[Parallel(n_jobs=4)]: Done  65 out of  65 | elapsed:    0.0s finished\n",
      "[Parallel(n_jobs=-1)]: Done  42 tasks      | elapsed:    0.0s\n",
      "[Parallel(n_jobs=-1)]: Done  65 out of  65 | elapsed:    0.1s finished\n"
     ]
    },
    {
     "name": "stdout",
     "output_type": "stream",
     "text": [
      "(<396x12973 sparse matrix of type '<class 'numpy.int64'>'\n",
      "\twith 207491 stored elements in Compressed Sparse Row format>, array([    0,   193,   390,   585,   812,   997,  1190,  1411,  1620,\n",
      "        1817,  2004,  2201,  2390,  2597,  2796,  2983,  3200,  3389,\n",
      "        3600,  3827,  4006,  4197,  4388,  4581,  4806,  4995,  5208,\n",
      "        5409,  5610,  5789,  6016,  6219,  6410,  6603,  6810,  7013,\n",
      "        7218,  7413,  7602,  7809,  8002,  8205,  8392,  8593,  8804,\n",
      "        8997,  9198,  9403,  9600,  9791,  9958, 10169, 10362, 10581,\n",
      "       10754, 10941, 11144, 11345, 11550, 11757, 11970, 12167, 12364,\n",
      "       12571, 12754, 12973]))\n"
     ]
    },
    {
     "name": "stderr",
     "output_type": "stream",
     "text": [
      "[Parallel(n_jobs=-1)]: Done  42 tasks      | elapsed:    0.1s\n",
      "[Parallel(n_jobs=-1)]: Done  65 out of  65 | elapsed:    0.2s finished\n",
      "[Parallel(n_jobs=4)]: Done  42 tasks      | elapsed:    0.0s\n",
      "[Parallel(n_jobs=4)]: Done  65 out of  65 | elapsed:    0.0s finished\n",
      "[Parallel(n_jobs=4)]: Done  42 tasks      | elapsed:    0.0s\n",
      "[Parallel(n_jobs=4)]: Done  65 out of  65 | elapsed:    0.0s finished\n",
      "[Parallel(n_jobs=-1)]: Done  42 tasks      | elapsed:    0.0s\n",
      "[Parallel(n_jobs=-1)]: Done  65 out of  65 | elapsed:    0.1s finished\n"
     ]
    },
    {
     "name": "stdout",
     "output_type": "stream",
     "text": [
      "(<341x25173 sparse matrix of type '<class 'numpy.int64'>'\n",
      "\twith 211252 stored elements in Compressed Sparse Row format>, array([    0,   395,   772,  1207,  1604,  1989,  2396,  2765,  3152,\n",
      "        3501,  3860,  4219,  4616,  5007,  5380,  5761,  6152,  6525,\n",
      "        6912,  7301,  7698,  8069,  8478,  8881,  9256,  9639, 10004,\n",
      "       10401, 10792, 11167, 11554, 11939, 12348, 12711, 13084, 13491,\n",
      "       13856, 14263, 14660, 15045, 15452, 15817, 16202, 16593, 16978,\n",
      "       17375, 17750, 18157, 18544, 18929, 19350, 19725, 20078, 20471,\n",
      "       20864, 21247, 21636, 22037, 22438, 22827, 23224, 23623, 23988,\n",
      "       24365, 24766, 25173]))\n"
     ]
    },
    {
     "name": "stderr",
     "output_type": "stream",
     "text": [
      "[Parallel(n_jobs=-1)]: Done  42 tasks      | elapsed:    0.1s\n",
      "[Parallel(n_jobs=-1)]: Done  65 out of  65 | elapsed:    0.2s finished\n",
      "[Parallel(n_jobs=4)]: Done  42 tasks      | elapsed:    0.0s\n",
      "[Parallel(n_jobs=4)]: Done  65 out of  65 | elapsed:    0.0s finished\n",
      "[Parallel(n_jobs=4)]: Done  42 tasks      | elapsed:    0.0s\n",
      "[Parallel(n_jobs=4)]: Done  65 out of  65 | elapsed:    0.0s finished\n",
      "[Parallel(n_jobs=-1)]: Done  42 tasks      | elapsed:    0.0s\n",
      "[Parallel(n_jobs=-1)]: Done  65 out of  65 | elapsed:    0.1s finished\n"
     ]
    },
    {
     "name": "stdout",
     "output_type": "stream",
     "text": [
      "(<378x26845 sparse matrix of type '<class 'numpy.int64'>'\n",
      "\twith 225506 stored elements in Compressed Sparse Row format>, array([    0,   435,   842,  1261,  1630,  2061,  2488,  2891,  3294,\n",
      "        3711,  4118,  4497,  4930,  5351,  5752,  6173,  6592,  7007,\n",
      "        7408,  7811,  8236,  8639,  9030,  9419,  9830, 10283, 10696,\n",
      "       11101, 11498, 11911, 12320, 12753, 13148, 13591, 14028, 14431,\n",
      "       14858, 15259, 15638, 16085, 16498, 16897, 17314, 17775, 18210,\n",
      "       18617, 19028, 19475, 19894, 20269, 20700, 21067, 21490, 21899,\n",
      "       22310, 22719, 23146, 23583, 23998, 24431, 24856, 25291, 25666,\n",
      "       26083, 26440, 26845]))\n"
     ]
    },
    {
     "name": "stderr",
     "output_type": "stream",
     "text": [
      "[Parallel(n_jobs=-1)]: Done  42 tasks      | elapsed:    0.1s\n",
      "[Parallel(n_jobs=-1)]: Done  65 out of  65 | elapsed:    0.2s finished\n",
      "[Parallel(n_jobs=4)]: Done  42 tasks      | elapsed:    0.0s\n",
      "[Parallel(n_jobs=4)]: Done  65 out of  65 | elapsed:    0.0s finished\n",
      "[Parallel(n_jobs=4)]: Done  42 tasks      | elapsed:    0.0s\n",
      "[Parallel(n_jobs=4)]: Done  65 out of  65 | elapsed:    0.0s finished\n",
      "[Parallel(n_jobs=-1)]: Done  42 tasks      | elapsed:    0.0s\n",
      "[Parallel(n_jobs=-1)]: Done  65 out of  65 | elapsed:    0.1s finished\n"
     ]
    },
    {
     "name": "stdout",
     "output_type": "stream",
     "text": [
      "(<354x26319 sparse matrix of type '<class 'numpy.int64'>'\n",
      "\twith 216901 stored elements in Compressed Sparse Row format>, array([    0,   419,   824,  1225,  1644,  2055,  2482,  2935,  3320,\n",
      "        3707,  4094,  4513,  4904,  5281,  5702,  6101,  6512,  6939,\n",
      "        7336,  7751,  8162,  8559,  8950,  9351,  9736, 10129, 10524,\n",
      "       10963, 11358, 11771, 12190, 12593, 12976, 13385, 13776, 14211,\n",
      "       14600, 15029, 15466, 15881, 16298, 16677, 17070, 17473, 17850,\n",
      "       18291, 18716, 19097, 19520, 19911, 20320, 20719, 21130, 21511,\n",
      "       21908, 22305, 22706, 23081, 23518, 23915, 24322, 24725, 25094,\n",
      "       25489, 25900, 26319]))\n"
     ]
    },
    {
     "name": "stderr",
     "output_type": "stream",
     "text": [
      "[Parallel(n_jobs=-1)]: Done  42 tasks      | elapsed:    0.1s\n",
      "[Parallel(n_jobs=-1)]: Done  65 out of  65 | elapsed:    0.2s finished\n",
      "[Parallel(n_jobs=4)]: Done  42 tasks      | elapsed:    0.0s\n",
      "[Parallel(n_jobs=4)]: Done  65 out of  65 | elapsed:    0.0s finished\n",
      "[Parallel(n_jobs=4)]: Done  42 tasks      | elapsed:    0.0s\n",
      "[Parallel(n_jobs=4)]: Done  65 out of  65 | elapsed:    0.0s finished\n",
      "[Parallel(n_jobs=-1)]: Done  42 tasks      | elapsed:    0.0s\n",
      "[Parallel(n_jobs=-1)]: Done  65 out of  65 | elapsed:    0.1s finished\n"
     ]
    },
    {
     "name": "stdout",
     "output_type": "stream",
     "text": [
      "(<354x25445 sparse matrix of type '<class 'numpy.int64'>'\n",
      "\twith 223196 stored elements in Compressed Sparse Row format>, array([    0,   395,   794,  1179,  1576,  1967,  2336,  2711,  3086,\n",
      "        3481,  3882,  4243,  4636,  5055,  5450,  5829,  6230,  6605,\n",
      "        6992,  7397,  7790,  8195,  8572,  8971,  9404,  9791, 10166,\n",
      "       10551, 10934, 11315, 11722, 12123, 12516, 12917, 13322, 13725,\n",
      "       14136, 14507, 14934, 15337, 15724, 16115, 16484, 16863, 17260,\n",
      "       17649, 18050, 18435, 18826, 19237, 19620, 20023, 20404, 20789,\n",
      "       21178, 21585, 21956, 22329, 22730, 23119, 23532, 23921, 24298,\n",
      "       24665, 25042, 25445]))\n"
     ]
    },
    {
     "name": "stderr",
     "output_type": "stream",
     "text": [
      "[Parallel(n_jobs=-1)]: Done  42 tasks      | elapsed:    0.1s\n",
      "[Parallel(n_jobs=-1)]: Done  65 out of  65 | elapsed:    0.2s finished\n",
      "[Parallel(n_jobs=4)]: Done  42 tasks      | elapsed:    0.0s\n",
      "[Parallel(n_jobs=4)]: Done  65 out of  65 | elapsed:    0.0s finished\n",
      "[Parallel(n_jobs=4)]: Done  42 tasks      | elapsed:    0.0s\n",
      "[Parallel(n_jobs=4)]: Done  65 out of  65 | elapsed:    0.0s finished\n",
      "[Parallel(n_jobs=-1)]: Done  42 tasks      | elapsed:    0.0s\n",
      "[Parallel(n_jobs=-1)]: Done  65 out of  65 | elapsed:    0.1s finished\n"
     ]
    },
    {
     "name": "stdout",
     "output_type": "stream",
     "text": [
      "(<380x26137 sparse matrix of type '<class 'numpy.int64'>'\n",
      "\twith 228962 stored elements in Compressed Sparse Row format>, array([    0,   389,   780,  1197,  1610,  2021,  2404,  2793,  3206,\n",
      "        3621,  4014,  4437,  4830,  5219,  5632,  6037,  6440,  6829,\n",
      "        7256,  7657,  8058,  8453,  8858,  9279,  9666, 10075, 10506,\n",
      "       10911, 11320, 11721, 12106, 12477, 12862, 13251, 13670, 14055,\n",
      "       14430, 14833, 15266, 15675, 16070, 16461, 16846, 17265, 17658,\n",
      "       18059, 18440, 18839, 19236, 19649, 20048, 20423, 20802, 21217,\n",
      "       21622, 22057, 22436, 22859, 23260, 23649, 24058, 24491, 24896,\n",
      "       25305, 25716, 26137]))\n"
     ]
    },
    {
     "name": "stderr",
     "output_type": "stream",
     "text": [
      "[Parallel(n_jobs=-1)]: Done  42 tasks      | elapsed:    0.1s\n",
      "[Parallel(n_jobs=-1)]: Done  65 out of  65 | elapsed:    0.1s finished\n",
      "[Parallel(n_jobs=4)]: Done  42 tasks      | elapsed:    0.0s\n",
      "[Parallel(n_jobs=4)]: Done  65 out of  65 | elapsed:    0.0s finished\n",
      "[Parallel(n_jobs=4)]: Done  42 tasks      | elapsed:    0.0s\n",
      "[Parallel(n_jobs=4)]: Done  65 out of  65 | elapsed:    0.0s finished\n",
      "[Parallel(n_jobs=-1)]: Done  42 tasks      | elapsed:    0.0s\n",
      "[Parallel(n_jobs=-1)]: Done  65 out of  65 | elapsed:    0.1s finished\n"
     ]
    },
    {
     "name": "stdout",
     "output_type": "stream",
     "text": [
      "(<371x25381 sparse matrix of type '<class 'numpy.int64'>'\n",
      "\twith 224285 stored elements in Compressed Sparse Row format>, array([    0,   369,   750,  1153,  1558,  1947,  2358,  2759,  3134,\n",
      "        3525,  3898,  4295,  4672,  5071,  5462,  5873,  6254,  6657,\n",
      "        7070,  7463,  7866,  8275,  8698,  9055,  9456,  9847, 10204,\n",
      "       10581, 11004, 11415, 11826, 12177, 12568, 12979, 13372, 13761,\n",
      "       14142, 14549, 14952, 15311, 15676, 16073, 16460, 16855, 17212,\n",
      "       17603, 17994, 18389, 18786, 19169, 19560, 19951, 20360, 20749,\n",
      "       21138, 21519, 21898, 22291, 22710, 23089, 23472, 23869, 24246,\n",
      "       24613, 25022, 25381]))\n"
     ]
    },
    {
     "name": "stderr",
     "output_type": "stream",
     "text": [
      "[Parallel(n_jobs=-1)]: Done  42 tasks      | elapsed:    0.1s\n",
      "[Parallel(n_jobs=-1)]: Done  65 out of  65 | elapsed:    0.2s finished\n",
      "[Parallel(n_jobs=4)]: Done  42 tasks      | elapsed:    0.0s\n",
      "[Parallel(n_jobs=4)]: Done  65 out of  65 | elapsed:    0.0s finished\n",
      "[Parallel(n_jobs=4)]: Done  42 tasks      | elapsed:    0.0s\n",
      "[Parallel(n_jobs=4)]: Done  65 out of  65 | elapsed:    0.0s finished\n",
      "[Parallel(n_jobs=-1)]: Done  42 tasks      | elapsed:    0.0s\n",
      "[Parallel(n_jobs=-1)]: Done  65 out of  65 | elapsed:    0.1s finished\n"
     ]
    },
    {
     "name": "stdout",
     "output_type": "stream",
     "text": [
      "(<338x27845 sparse matrix of type '<class 'numpy.int64'>'\n",
      "\twith 207986 stored elements in Compressed Sparse Row format>, array([    0,   449,   882,  1307,  1752,  2167,  2560,  3017,  3474,\n",
      "        3907,  4322,  4769,  5190,  5589,  6004,  6405,  6840,  7285,\n",
      "        7720,  8109,  8546,  9001,  9440,  9871, 10322, 10779, 11216,\n",
      "       11677, 12118, 12539, 12974, 13395, 13810, 14253, 14682, 15075,\n",
      "       15496, 15953, 16374, 16801, 17248, 17701, 18118, 18573, 19002,\n",
      "       19411, 19824, 20269, 20678, 21111, 21538, 21963, 22404, 22779,\n",
      "       23218, 23625, 24072, 24513, 24940, 25359, 25790, 26215, 26624,\n",
      "       27041, 27434, 27845]))\n"
     ]
    },
    {
     "name": "stderr",
     "output_type": "stream",
     "text": [
      "[Parallel(n_jobs=-1)]: Done  42 tasks      | elapsed:    0.1s\n",
      "[Parallel(n_jobs=-1)]: Done  65 out of  65 | elapsed:    0.2s finished\n",
      "[Parallel(n_jobs=4)]: Done  42 tasks      | elapsed:    0.0s\n",
      "[Parallel(n_jobs=4)]: Done  65 out of  65 | elapsed:    0.0s finished\n",
      "[Parallel(n_jobs=4)]: Done  42 tasks      | elapsed:    0.0s\n",
      "[Parallel(n_jobs=4)]: Done  65 out of  65 | elapsed:    0.0s finished\n",
      "[Parallel(n_jobs=-1)]: Done  42 tasks      | elapsed:    0.0s\n",
      "[Parallel(n_jobs=-1)]: Done  65 out of  65 | elapsed:    0.1s finished\n"
     ]
    },
    {
     "name": "stdout",
     "output_type": "stream",
     "text": [
      "(<355x26821 sparse matrix of type '<class 'numpy.int64'>'\n",
      "\twith 215362 stored elements in Compressed Sparse Row format>, array([    0,   387,   790,  1179,  1576,  1999,  2440,  2835,  3268,\n",
      "        3665,  4058,  4479,  4892,  5303,  5692,  6121,  6560,  6969,\n",
      "        7354,  7787,  8194,  8643,  9074,  9485,  9886, 10315, 10726,\n",
      "       11127, 11526, 11931, 12336, 12741, 13148, 13555, 13962, 14359,\n",
      "       14760, 15163, 15574, 15991, 16444, 16859, 17252, 17643, 18050,\n",
      "       18491, 18926, 19325, 19750, 20187, 20606, 20975, 21400, 21819,\n",
      "       22224, 22649, 23076, 23521, 23904, 24343, 24760, 25169, 25574,\n",
      "       25993, 26404, 26821]))\n"
     ]
    },
    {
     "name": "stderr",
     "output_type": "stream",
     "text": [
      "[Parallel(n_jobs=-1)]: Done  42 tasks      | elapsed:    0.0s\n",
      "[Parallel(n_jobs=-1)]: Done  65 out of  65 | elapsed:    0.1s finished\n",
      "[Parallel(n_jobs=4)]: Done  42 tasks      | elapsed:    0.0s\n",
      "[Parallel(n_jobs=4)]: Done  65 out of  65 | elapsed:    0.0s finished\n",
      "[Parallel(n_jobs=4)]: Done  42 tasks      | elapsed:    0.0s\n",
      "[Parallel(n_jobs=4)]: Done  65 out of  65 | elapsed:    0.0s finished\n",
      "[Parallel(n_jobs=-1)]: Done  42 tasks      | elapsed:    0.0s\n",
      "[Parallel(n_jobs=-1)]: Done  65 out of  65 | elapsed:    0.1s finished\n"
     ]
    },
    {
     "name": "stdout",
     "output_type": "stream",
     "text": [
      "(<35x26143 sparse matrix of type '<class 'numpy.int64'>'\n",
      "\twith 19071 stored elements in Compressed Sparse Row format>, array([    0,   399,   830,  1213,  1584,  2005,  2436,  2817,  3206,\n",
      "        3595,  4002,  4403,  4818,  5235,  5664,  6081,  6470,  6855,\n",
      "        7236,  7641,  8044,  8443,  8864,  9273,  9662, 10049, 10440,\n",
      "       10831, 11248, 11631, 12010, 12405, 12806, 13215, 13602, 13999,\n",
      "       14400, 14823, 15212, 15603, 16010, 16415, 16854, 17281, 17696,\n",
      "       18093, 18528, 18967, 19376, 19783, 20190, 20555, 20940, 21335,\n",
      "       21726, 22139, 22508, 22899, 23290, 23679, 24096, 24521, 24958,\n",
      "       25349, 25714, 26143]))\n"
     ]
    },
    {
     "name": "stderr",
     "output_type": "stream",
     "text": [
      "[Parallel(n_jobs=-1)]: Done  42 tasks      | elapsed:    0.1s\n",
      "[Parallel(n_jobs=-1)]: Done  65 out of  65 | elapsed:    0.2s finished\n",
      "[Parallel(n_jobs=4)]: Done  42 tasks      | elapsed:    0.0s\n",
      "[Parallel(n_jobs=4)]: Done  65 out of  65 | elapsed:    0.0s finished\n",
      "[Parallel(n_jobs=4)]: Done  42 tasks      | elapsed:    0.0s\n",
      "[Parallel(n_jobs=4)]: Done  65 out of  65 | elapsed:    0.0s finished\n",
      "[Parallel(n_jobs=-1)]: Done  42 tasks      | elapsed:    0.0s\n",
      "[Parallel(n_jobs=-1)]: Done  65 out of  65 | elapsed:    0.1s finished\n"
     ]
    },
    {
     "name": "stdout",
     "output_type": "stream",
     "text": [
      "(<366x4281 sparse matrix of type '<class 'numpy.int64'>'\n",
      "\twith 98920 stored elements in Compressed Sparse Row format>, array([   0,   75,  142,  203,  258,  317,  388,  463,  534,  599,  658,\n",
      "        727,  806,  871,  938,  989, 1052, 1117, 1184, 1253, 1326, 1389,\n",
      "       1466, 1529, 1596, 1665, 1738, 1803, 1868, 1937, 2004, 2069, 2152,\n",
      "       2217, 2290, 2353, 2414, 2477, 2540, 2617, 2670, 2727, 2790, 2841,\n",
      "       2898, 2967, 3018, 3097, 3166, 3237, 3302, 3375, 3434, 3501, 3572,\n",
      "       3627, 3692, 3755, 3818, 3885, 3954, 4009, 4086, 4163, 4218, 4281]))\n"
     ]
    },
    {
     "name": "stderr",
     "output_type": "stream",
     "text": [
      "[Parallel(n_jobs=-1)]: Done  42 tasks      | elapsed:    0.1s\n",
      "[Parallel(n_jobs=-1)]: Done  65 out of  65 | elapsed:    0.2s finished\n",
      "[Parallel(n_jobs=4)]: Done  42 tasks      | elapsed:    0.0s\n",
      "[Parallel(n_jobs=4)]: Done  65 out of  65 | elapsed:    0.0s finished\n",
      "[Parallel(n_jobs=4)]: Done  42 tasks      | elapsed:    0.0s\n",
      "[Parallel(n_jobs=4)]: Done  65 out of  65 | elapsed:    0.0s finished\n",
      "[Parallel(n_jobs=-1)]: Done  42 tasks      | elapsed:    0.0s\n",
      "[Parallel(n_jobs=-1)]: Done  65 out of  65 | elapsed:    0.1s finished\n"
     ]
    },
    {
     "name": "stdout",
     "output_type": "stream",
     "text": [
      "(<367x26627 sparse matrix of type '<class 'numpy.int64'>'\n",
      "\twith 222490 stored elements in Compressed Sparse Row format>, array([    0,   397,   792,  1203,  1636,  2057,  2438,  2837,  3236,\n",
      "        3661,  4076,  4487,  4920,  5305,  5740,  6171,  6582,  7007,\n",
      "        7400,  7785,  8204,  8609,  9038,  9427,  9836, 10235, 10648,\n",
      "       11077, 11484, 11907, 12314, 12691, 13108, 13525, 13926, 14309,\n",
      "       14710, 15121, 15524, 15941, 16370, 16777, 17174, 17571, 18000,\n",
      "       18429, 18864, 19233, 19638, 20047, 20490, 20899, 21316, 21705,\n",
      "       22112, 22517, 22922, 23355, 23752, 24135, 24572, 24993, 25402,\n",
      "       25815, 26212, 26627]))\n"
     ]
    },
    {
     "name": "stderr",
     "output_type": "stream",
     "text": [
      "[Parallel(n_jobs=-1)]: Done  42 tasks      | elapsed:    0.1s\n",
      "[Parallel(n_jobs=-1)]: Done  65 out of  65 | elapsed:    0.1s finished\n",
      "[Parallel(n_jobs=4)]: Done  42 tasks      | elapsed:    0.0s\n",
      "[Parallel(n_jobs=4)]: Done  65 out of  65 | elapsed:    0.0s finished\n",
      "[Parallel(n_jobs=4)]: Done  42 tasks      | elapsed:    0.0s\n",
      "[Parallel(n_jobs=4)]: Done  65 out of  65 | elapsed:    0.0s finished\n",
      "[Parallel(n_jobs=-1)]: Done  42 tasks      | elapsed:    0.0s\n",
      "[Parallel(n_jobs=-1)]: Done  65 out of  65 | elapsed:    0.1s finished\n"
     ]
    },
    {
     "name": "stdout",
     "output_type": "stream",
     "text": [
      "(<373x26165 sparse matrix of type '<class 'numpy.int64'>'\n",
      "\twith 223495 stored elements in Compressed Sparse Row format>, array([    0,   397,   768,  1161,  1580,  2005,  2424,  2821,  3238,\n",
      "        3635,  4058,  4473,  4864,  5261,  5680,  6067,  6460,  6877,\n",
      "        7264,  7685,  8056,  8469,  8862,  9263,  9648, 10055, 10432,\n",
      "       10821, 11212, 11607, 12046, 12443, 12856, 13247, 13644, 14035,\n",
      "       14450, 14869, 15254, 15653, 16086, 16499, 16892, 17283, 17686,\n",
      "       18075, 18484, 18873, 19280, 19713, 20106, 20477, 20896, 21321,\n",
      "       21710, 22109, 22506, 22899, 23312, 23717, 24114, 24529, 24944,\n",
      "       25357, 25748, 26165]))\n"
     ]
    },
    {
     "name": "stderr",
     "output_type": "stream",
     "text": [
      "[Parallel(n_jobs=-1)]: Done  42 tasks      | elapsed:    0.1s\n",
      "[Parallel(n_jobs=-1)]: Done  65 out of  65 | elapsed:    0.1s finished\n",
      "[Parallel(n_jobs=4)]: Done  42 tasks      | elapsed:    0.0s\n",
      "[Parallel(n_jobs=4)]: Done  65 out of  65 | elapsed:    0.0s finished\n",
      "[Parallel(n_jobs=4)]: Done  42 tasks      | elapsed:    0.0s\n",
      "[Parallel(n_jobs=4)]: Done  65 out of  65 | elapsed:    0.0s finished\n",
      "[Parallel(n_jobs=-1)]: Done  42 tasks      | elapsed:    0.0s\n",
      "[Parallel(n_jobs=-1)]: Done  65 out of  65 | elapsed:    0.1s finished\n"
     ]
    },
    {
     "name": "stdout",
     "output_type": "stream",
     "text": [
      "(<354x24321 sparse matrix of type '<class 'numpy.int64'>'\n",
      "\twith 214386 stored elements in Compressed Sparse Row format>, array([    0,   389,   778,  1139,  1506,  1891,  2282,  2679,  3078,\n",
      "        3479,  3794,  4167,  4524,  4921,  5296,  5671,  6066,  6473,\n",
      "        6824,  7175,  7554,  7923,  8274,  8641,  9016,  9415,  9778,\n",
      "       10165, 10518, 10869, 11254, 11637, 12010, 12385, 12774, 13153,\n",
      "       13524, 13907, 14276, 14639, 15010, 15389, 15778, 16107, 16508,\n",
      "       16893, 17276, 17659, 18030, 18391, 18780, 19125, 19488, 19879,\n",
      "       20272, 20637, 21018, 21369, 21764, 22123, 22476, 22817, 23216,\n",
      "       23591, 23962, 24321]))\n"
     ]
    },
    {
     "name": "stderr",
     "output_type": "stream",
     "text": [
      "[Parallel(n_jobs=-1)]: Done  42 tasks      | elapsed:    0.0s\n",
      "[Parallel(n_jobs=-1)]: Done  65 out of  65 | elapsed:    0.1s finished\n",
      "[Parallel(n_jobs=4)]: Done  42 tasks      | elapsed:    0.0s\n",
      "[Parallel(n_jobs=4)]: Done  65 out of  65 | elapsed:    0.0s finished\n",
      "[Parallel(n_jobs=4)]: Done  42 tasks      | elapsed:    0.0s\n",
      "[Parallel(n_jobs=4)]: Done  65 out of  65 | elapsed:    0.0s finished\n",
      "[Parallel(n_jobs=-1)]: Done  42 tasks      | elapsed:    0.0s\n",
      "[Parallel(n_jobs=-1)]: Done  65 out of  65 | elapsed:    0.1s finished\n"
     ]
    },
    {
     "name": "stdout",
     "output_type": "stream",
     "text": [
      "(<69x25489 sparse matrix of type '<class 'numpy.int64'>'\n",
      "\twith 39930 stored elements in Compressed Sparse Row format>, array([    0,   401,   798,  1199,  1600,  1999,  2376,  2725,  3116,\n",
      "        3531,  3936,  4321,  4700,  5087,  5454,  5825,  6226,  6587,\n",
      "        6972,  7353,  7756,  8153,  8546,  8941,  9324,  9701, 10100,\n",
      "       10487, 10866, 11241, 11632, 12041, 12450, 12843, 13226, 13637,\n",
      "       14022, 14425, 14806, 15237, 15620, 16017, 16418, 16813, 17204,\n",
      "       17581, 17998, 18385, 18788, 19197, 19598, 19971, 20374, 20791,\n",
      "       21178, 21563, 21896, 22271, 22662, 23089, 23470, 23881, 24308,\n",
      "       24705, 25100, 25489]))\n"
     ]
    },
    {
     "name": "stderr",
     "output_type": "stream",
     "text": [
      "[Parallel(n_jobs=-1)]: Done  42 tasks      | elapsed:    0.1s\n",
      "[Parallel(n_jobs=-1)]: Done  65 out of  65 | elapsed:    0.1s finished\n",
      "[Parallel(n_jobs=4)]: Done  42 tasks      | elapsed:    0.0s\n",
      "[Parallel(n_jobs=4)]: Done  65 out of  65 | elapsed:    0.0s finished\n",
      "[Parallel(n_jobs=4)]: Done  42 tasks      | elapsed:    0.0s\n",
      "[Parallel(n_jobs=4)]: Done  65 out of  65 | elapsed:    0.0s finished\n",
      "[Parallel(n_jobs=-1)]: Done  42 tasks      | elapsed:    0.0s\n",
      "[Parallel(n_jobs=-1)]: Done  65 out of  65 | elapsed:    0.1s finished\n"
     ]
    },
    {
     "name": "stdout",
     "output_type": "stream",
     "text": [
      "(<388x4203 sparse matrix of type '<class 'numpy.int64'>'\n",
      "\twith 165439 stored elements in Compressed Sparse Row format>, array([   0,   63,  128,  179,  236,  305,  352,  423,  486,  545,  614,\n",
      "        689,  750,  805,  880,  943, 1004, 1069, 1142, 1215, 1268, 1327,\n",
      "       1400, 1475, 1546, 1611, 1672, 1737, 1804, 1873, 1938, 2007, 2078,\n",
      "       2141, 2202, 2275, 2342, 2415, 2492, 2557, 2616, 2667, 2732, 2803,\n",
      "       2856, 2915, 2984, 3051, 3110, 3183, 3244, 3301, 3356, 3421, 3480,\n",
      "       3553, 3610, 3667, 3734, 3813, 3878, 3945, 4002, 4067, 4138, 4203]))\n"
     ]
    },
    {
     "name": "stderr",
     "output_type": "stream",
     "text": [
      "[Parallel(n_jobs=-1)]: Done  42 tasks      | elapsed:    0.1s\n",
      "[Parallel(n_jobs=-1)]: Done  65 out of  65 | elapsed:    0.2s finished\n",
      "[Parallel(n_jobs=4)]: Done  42 tasks      | elapsed:    0.0s\n",
      "[Parallel(n_jobs=4)]: Done  65 out of  65 | elapsed:    0.0s finished\n",
      "[Parallel(n_jobs=4)]: Done  42 tasks      | elapsed:    0.0s\n",
      "[Parallel(n_jobs=4)]: Done  65 out of  65 | elapsed:    0.0s finished\n",
      "[Parallel(n_jobs=-1)]: Done  42 tasks      | elapsed:    0.0s\n",
      "[Parallel(n_jobs=-1)]: Done  65 out of  65 | elapsed:    0.1s finished\n"
     ]
    },
    {
     "name": "stdout",
     "output_type": "stream",
     "text": [
      "(<374x24571 sparse matrix of type '<class 'numpy.int64'>'\n",
      "\twith 224952 stored elements in Compressed Sparse Row format>, array([    0,   379,   740,  1103,  1456,  1829,  2200,  2571,  2918,\n",
      "        3263,  3656,  4075,  4470,  4847,  5212,  5599,  5988,  6367,\n",
      "        6720,  7123,  7500,  7875,  8258,  8623,  8998,  9381,  9780,\n",
      "       10145, 10514, 10901, 11250, 11637, 12010, 12375, 12768, 13135,\n",
      "       13518, 13909, 14278, 14635, 15018, 15415, 15804, 16185, 16576,\n",
      "       16979, 17366, 17757, 18140, 18531, 18910, 19283, 19654, 20003,\n",
      "       20390, 20785, 21134, 21499, 21890, 22255, 22640, 23025, 23426,\n",
      "       23829, 24188, 24571]))\n"
     ]
    },
    {
     "name": "stderr",
     "output_type": "stream",
     "text": [
      "[Parallel(n_jobs=-1)]: Done  42 tasks      | elapsed:    0.1s\n",
      "[Parallel(n_jobs=-1)]: Done  65 out of  65 | elapsed:    0.2s finished\n",
      "[Parallel(n_jobs=4)]: Done  42 tasks      | elapsed:    0.0s\n",
      "[Parallel(n_jobs=4)]: Done  65 out of  65 | elapsed:    0.0s finished\n",
      "[Parallel(n_jobs=4)]: Done  42 tasks      | elapsed:    0.0s\n",
      "[Parallel(n_jobs=4)]: Done  65 out of  65 | elapsed:    0.0s finished\n",
      "[Parallel(n_jobs=-1)]: Done  42 tasks      | elapsed:    0.0s\n",
      "[Parallel(n_jobs=-1)]: Done  65 out of  65 | elapsed:    0.1s finished\n"
     ]
    },
    {
     "name": "stdout",
     "output_type": "stream",
     "text": [
      "(<364x25705 sparse matrix of type '<class 'numpy.int64'>'\n",
      "\twith 231106 stored elements in Compressed Sparse Row format>, array([    0,   407,   794,  1179,  1598,  1967,  2350,  2753,  3158,\n",
      "        3541,  3924,  4315,  4718,  5083,  5456,  5841,  6234,  6623,\n",
      "        7022,  7413,  7806,  8197,  8610,  9029,  9400,  9785, 10162,\n",
      "       10535, 10950, 11357, 11786, 12165, 12570, 12975, 13376, 13787,\n",
      "       14200, 14607, 15014, 15415, 15780, 16147, 16540, 16939, 17318,\n",
      "       17707, 18102, 18497, 18900, 19317, 19702, 20087, 20502, 20921,\n",
      "       21326, 21713, 22086, 22483, 22872, 23265, 23678, 24083, 24468,\n",
      "       24875, 25272, 25705]))\n"
     ]
    },
    {
     "name": "stderr",
     "output_type": "stream",
     "text": [
      "[Parallel(n_jobs=-1)]: Done  42 tasks      | elapsed:    0.1s\n",
      "[Parallel(n_jobs=-1)]: Done  65 out of  65 | elapsed:    0.1s finished\n",
      "[Parallel(n_jobs=4)]: Done  42 tasks      | elapsed:    0.0s\n",
      "[Parallel(n_jobs=4)]: Done  65 out of  65 | elapsed:    0.0s finished\n",
      "[Parallel(n_jobs=4)]: Done  42 tasks      | elapsed:    0.0s\n",
      "[Parallel(n_jobs=4)]: Done  65 out of  65 | elapsed:    0.0s finished\n",
      "[Parallel(n_jobs=-1)]: Done  42 tasks      | elapsed:    0.0s\n",
      "[Parallel(n_jobs=-1)]: Done  65 out of  65 | elapsed:    0.1s finished\n"
     ]
    },
    {
     "name": "stdout",
     "output_type": "stream",
     "text": [
      "(<248x25843 sparse matrix of type '<class 'numpy.int64'>'\n",
      "\twith 149512 stored elements in Compressed Sparse Row format>, array([    0,   373,   774,  1155,  1570,  1951,  2362,  2773,  3176,\n",
      "        3545,  3940,  4331,  4714,  5107,  5504,  5889,  6290,  6665,\n",
      "        7062,  7459,  7854,  8265,  8688,  9087,  9466,  9851, 10250,\n",
      "       10653, 11056, 11481, 11900, 12293, 12688, 13093, 13476, 13839,\n",
      "       14242, 14649, 15024, 15405, 15808, 16215, 16612, 17021, 17412,\n",
      "       17805, 18238, 18629, 19050, 19441, 19836, 20253, 20654, 21051,\n",
      "       21418, 21823, 22214, 22595, 23014, 23429, 23826, 24229, 24642,\n",
      "       25047, 25458, 25843]))\n"
     ]
    },
    {
     "name": "stderr",
     "output_type": "stream",
     "text": [
      "[Parallel(n_jobs=-1)]: Done  42 tasks      | elapsed:    0.1s\n",
      "[Parallel(n_jobs=-1)]: Done  65 out of  65 | elapsed:    0.2s finished\n",
      "[Parallel(n_jobs=4)]: Done  42 tasks      | elapsed:    0.0s\n",
      "[Parallel(n_jobs=4)]: Done  65 out of  65 | elapsed:    0.0s finished\n",
      "[Parallel(n_jobs=4)]: Done  42 tasks      | elapsed:    0.0s\n",
      "[Parallel(n_jobs=4)]: Done  65 out of  65 | elapsed:    0.0s finished\n",
      "[Parallel(n_jobs=-1)]: Done  42 tasks      | elapsed:    0.0s\n",
      "[Parallel(n_jobs=-1)]: Done  65 out of  65 | elapsed:    0.1s finished\n"
     ]
    },
    {
     "name": "stdout",
     "output_type": "stream",
     "text": [
      "(<343x18461 sparse matrix of type '<class 'numpy.int64'>'\n",
      "\twith 199039 stored elements in Compressed Sparse Row format>, array([    0,   291,   572,   837,  1158,  1413,  1686,  1967,  2260,\n",
      "        2513,  2788,  3069,  3350,  3627,  3910,  4199,  4482,  4787,\n",
      "        5066,  5333,  5646,  5905,  6206,  6477,  6776,  7063,  7322,\n",
      "        7609,  7900,  8205,  8504,  8789,  9080,  9359,  9640,  9913,\n",
      "       10206, 10525, 10810, 11087, 11388, 11671, 11944, 12217, 12492,\n",
      "       12761, 13044, 13305, 13586, 13865, 14144, 14431, 14716, 15005,\n",
      "       15282, 15561, 15826, 16125, 16424, 16701, 16988, 17283, 17564,\n",
      "       17861, 18162, 18461]))\n"
     ]
    },
    {
     "name": "stderr",
     "output_type": "stream",
     "text": [
      "[Parallel(n_jobs=-1)]: Done  42 tasks      | elapsed:    0.0s\n",
      "[Parallel(n_jobs=-1)]: Done  65 out of  65 | elapsed:    0.1s finished\n",
      "[Parallel(n_jobs=4)]: Done  42 tasks      | elapsed:    0.0s\n",
      "[Parallel(n_jobs=4)]: Done  65 out of  65 | elapsed:    0.0s finished\n",
      "[Parallel(n_jobs=4)]: Done  42 tasks      | elapsed:    0.0s\n",
      "[Parallel(n_jobs=4)]: Done  65 out of  65 | elapsed:    0.0s finished\n",
      "[Parallel(n_jobs=-1)]: Done  42 tasks      | elapsed:    0.0s\n",
      "[Parallel(n_jobs=-1)]: Done  65 out of  65 | elapsed:    0.1s finished\n"
     ]
    },
    {
     "name": "stdout",
     "output_type": "stream",
     "text": [
      "(<142x25523 sparse matrix of type '<class 'numpy.int64'>'\n",
      "\twith 88637 stored elements in Compressed Sparse Row format>, array([    0,   377,   766,  1161,  1558,  1949,  2340,  2729,  3118,\n",
      "        3523,  3910,  4293,  4678,  5063,  5416,  5819,  6222,  6629,\n",
      "        7004,  7381,  7794,  8205,  8594,  8995,  9400,  9795, 10184,\n",
      "       10589, 10990, 11401, 11806, 12183, 12574, 12969, 13350, 13719,\n",
      "       14096, 14489, 14886, 15311, 15662, 16051, 16430, 16829, 17218,\n",
      "       17589, 17980, 18375, 18762, 19191, 19586, 19977, 20336, 20733,\n",
      "       21124, 21535, 21958, 22325, 22698, 23129, 23524, 23937, 24340,\n",
      "       24763, 25136, 25523]))\n"
     ]
    },
    {
     "name": "stderr",
     "output_type": "stream",
     "text": [
      "[Parallel(n_jobs=-1)]: Done  42 tasks      | elapsed:    0.1s\n",
      "[Parallel(n_jobs=-1)]: Done  65 out of  65 | elapsed:    0.2s finished\n",
      "[Parallel(n_jobs=4)]: Done  42 tasks      | elapsed:    0.0s\n",
      "[Parallel(n_jobs=4)]: Done  65 out of  65 | elapsed:    0.0s finished\n",
      "[Parallel(n_jobs=4)]: Done  42 tasks      | elapsed:    0.0s\n",
      "[Parallel(n_jobs=4)]: Done  65 out of  65 | elapsed:    0.0s finished\n",
      "[Parallel(n_jobs=-1)]: Done  42 tasks      | elapsed:    0.0s\n",
      "[Parallel(n_jobs=-1)]: Done  65 out of  65 | elapsed:    0.1s finished\n"
     ]
    },
    {
     "name": "stdout",
     "output_type": "stream",
     "text": [
      "(<402x8239 sparse matrix of type '<class 'numpy.int64'>'\n",
      "\twith 196937 stored elements in Compressed Sparse Row format>, array([   0,  137,  256,  387,  506,  613,  744,  883, 1012, 1145, 1272,\n",
      "       1411, 1558, 1703, 1820, 1935, 2064, 2179, 2300, 2415, 2550, 2673,\n",
      "       2798, 2911, 3034, 3177, 3300, 3425, 3554, 3681, 3802, 3937, 4074,\n",
      "       4197, 4340, 4455, 4572, 4709, 4844, 4955, 5088, 5223, 5354, 5495,\n",
      "       5626, 5749, 5882, 5999, 6118, 6231, 6348, 6467, 6590, 6711, 6842,\n",
      "       6967, 7108, 7233, 7364, 7499, 7622, 7733, 7874, 7985, 8112, 8239]))\n"
     ]
    },
    {
     "name": "stderr",
     "output_type": "stream",
     "text": [
      "[Parallel(n_jobs=-1)]: Done  42 tasks      | elapsed:    0.0s\n",
      "[Parallel(n_jobs=-1)]: Done  65 out of  65 | elapsed:    0.1s finished\n",
      "[Parallel(n_jobs=4)]: Done  42 tasks      | elapsed:    0.0s\n",
      "[Parallel(n_jobs=4)]: Done  65 out of  65 | elapsed:    0.0s finished\n",
      "[Parallel(n_jobs=4)]: Done  42 tasks      | elapsed:    0.0s\n",
      "[Parallel(n_jobs=4)]: Done  65 out of  65 | elapsed:    0.0s finished\n",
      "[Parallel(n_jobs=-1)]: Done  42 tasks      | elapsed:    0.0s\n",
      "[Parallel(n_jobs=-1)]: Done  65 out of  65 | elapsed:    0.1s finished\n"
     ]
    },
    {
     "name": "stdout",
     "output_type": "stream",
     "text": [
      "(<44x26139 sparse matrix of type '<class 'numpy.int64'>'\n",
      "\twith 25745 stored elements in Compressed Sparse Row format>, array([    0,   411,   796,  1217,  1614,  2039,  2460,  2861,  3232,\n",
      "        3617,  4012,  4415,  4796,  5233,  5638,  6039,  6442,  6855,\n",
      "        7280,  7669,  8056,  8505,  8932,  9297,  9690, 10083, 10478,\n",
      "       10879, 11308, 11695, 12084, 12485, 12902, 13315, 13716, 14113,\n",
      "       14546, 14949, 15336, 15759, 16176, 16577, 16966, 17369, 17772,\n",
      "       18167, 18552, 18951, 19364, 19755, 20166, 20575, 20982, 21389,\n",
      "       21772, 22155, 22566, 23001, 23406, 23807, 24216, 24611, 25006,\n",
      "       25359, 25742, 26139]))\n"
     ]
    },
    {
     "name": "stderr",
     "output_type": "stream",
     "text": [
      "[Parallel(n_jobs=-1)]: Done  42 tasks      | elapsed:    0.1s\n",
      "[Parallel(n_jobs=-1)]: Done  65 out of  65 | elapsed:    0.1s finished\n",
      "[Parallel(n_jobs=4)]: Done  42 tasks      | elapsed:    0.0s\n",
      "[Parallel(n_jobs=4)]: Done  65 out of  65 | elapsed:    0.0s finished\n",
      "[Parallel(n_jobs=4)]: Done  42 tasks      | elapsed:    0.0s\n",
      "[Parallel(n_jobs=4)]: Done  65 out of  65 | elapsed:    0.0s finished\n",
      "[Parallel(n_jobs=-1)]: Done  42 tasks      | elapsed:    0.0s\n",
      "[Parallel(n_jobs=-1)]: Done  65 out of  65 | elapsed:    0.1s finished\n"
     ]
    },
    {
     "name": "stdout",
     "output_type": "stream",
     "text": [
      "(<383x3567 sparse matrix of type '<class 'numpy.int64'>'\n",
      "\twith 146530 stored elements in Compressed Sparse Row format>, array([   0,   55,  102,  159,  218,  279,  344,  389,  440,  499,  560,\n",
      "        617,  672,  733,  792,  853,  916,  967, 1014, 1053, 1102, 1159,\n",
      "       1212, 1263, 1328, 1375, 1426, 1489, 1538, 1593, 1644, 1705, 1764,\n",
      "       1823, 1884, 1933, 1992, 2045, 2094, 2139, 2202, 2255, 2308, 2361,\n",
      "       2416, 2473, 2520, 2577, 2632, 2683, 2744, 2797, 2846, 2893, 2952,\n",
      "       3035, 3086, 3139, 3190, 3237, 3288, 3345, 3402, 3453, 3516, 3567]))\n"
     ]
    },
    {
     "name": "stderr",
     "output_type": "stream",
     "text": [
      "[Parallel(n_jobs=-1)]: Done  42 tasks      | elapsed:    0.1s\n",
      "[Parallel(n_jobs=-1)]: Done  65 out of  65 | elapsed:    0.1s finished\n",
      "[Parallel(n_jobs=4)]: Done  42 tasks      | elapsed:    0.0s\n",
      "[Parallel(n_jobs=4)]: Done  65 out of  65 | elapsed:    0.0s finished\n",
      "[Parallel(n_jobs=4)]: Done  42 tasks      | elapsed:    0.0s\n",
      "[Parallel(n_jobs=4)]: Done  65 out of  65 | elapsed:    0.0s finished\n",
      "[Parallel(n_jobs=-1)]: Done  42 tasks      | elapsed:    0.0s\n",
      "[Parallel(n_jobs=-1)]: Done  65 out of  65 | elapsed:    0.1s finished\n"
     ]
    },
    {
     "name": "stdout",
     "output_type": "stream",
     "text": [
      "(<409x24289 sparse matrix of type '<class 'numpy.int64'>'\n",
      "\twith 238427 stored elements in Compressed Sparse Row format>, array([    0,   353,   700,  1083,  1460,  1825,  2184,  2587,  2966,\n",
      "        3329,  3716,  4089,  4458,  4829,  5200,  5561,  5928,  6321,\n",
      "        6702,  7065,  7440,  7797,  8158,  8549,  8920,  9301,  9674,\n",
      "       10047, 10408, 10779, 11160, 11547, 11934, 12285, 12642, 13015,\n",
      "       13416, 13775, 14100, 14463, 14818, 15195, 15560, 15941, 16322,\n",
      "       16703, 17084, 17451, 17824, 18201, 18598, 18983, 19348, 19727,\n",
      "       20092, 20475, 20848, 21255, 21626, 22035, 22438, 22801, 23184,\n",
      "       23527, 23904, 24289]))\n"
     ]
    },
    {
     "name": "stderr",
     "output_type": "stream",
     "text": [
      "[Parallel(n_jobs=-1)]: Done  42 tasks      | elapsed:    0.1s\n",
      "[Parallel(n_jobs=-1)]: Done  65 out of  65 | elapsed:    0.2s finished\n",
      "[Parallel(n_jobs=4)]: Done  42 tasks      | elapsed:    0.0s\n",
      "[Parallel(n_jobs=4)]: Done  65 out of  65 | elapsed:    0.0s finished\n",
      "[Parallel(n_jobs=4)]: Done  42 tasks      | elapsed:    0.0s\n",
      "[Parallel(n_jobs=4)]: Done  65 out of  65 | elapsed:    0.0s finished\n",
      "[Parallel(n_jobs=-1)]: Done  42 tasks      | elapsed:    0.0s\n",
      "[Parallel(n_jobs=-1)]: Done  65 out of  65 | elapsed:    0.1s finished\n"
     ]
    },
    {
     "name": "stdout",
     "output_type": "stream",
     "text": [
      "(<365x24869 sparse matrix of type '<class 'numpy.int64'>'\n",
      "\twith 208941 stored elements in Compressed Sparse Row format>, array([    0,   351,   760,  1147,  1526,  1889,  2272,  2673,  3062,\n",
      "        3415,  3756,  4129,  4528,  4897,  5266,  5665,  6046,  6457,\n",
      "        6838,  7205,  7570,  7953,  8346,  8741,  9122,  9513,  9918,\n",
      "       10305, 10686, 11069, 11458, 11849, 12226, 12617, 13024, 13437,\n",
      "       13832, 14207, 14572, 14951, 15338, 15727, 16104, 16513, 16902,\n",
      "       17289, 17678, 18045, 18460, 18837, 19248, 19635, 20012, 20393,\n",
      "       20784, 21147, 21528, 21927, 22276, 22661, 23014, 23389, 23780,\n",
      "       24151, 24522, 24869]))\n"
     ]
    },
    {
     "name": "stderr",
     "output_type": "stream",
     "text": [
      "[Parallel(n_jobs=-1)]: Done  42 tasks      | elapsed:    0.1s\n",
      "[Parallel(n_jobs=-1)]: Done  65 out of  65 | elapsed:    0.2s finished\n",
      "[Parallel(n_jobs=4)]: Done  42 tasks      | elapsed:    0.0s\n",
      "[Parallel(n_jobs=4)]: Done  65 out of  65 | elapsed:    0.0s finished\n",
      "[Parallel(n_jobs=4)]: Done  42 tasks      | elapsed:    0.0s\n",
      "[Parallel(n_jobs=4)]: Done  65 out of  65 | elapsed:    0.0s finished\n",
      "[Parallel(n_jobs=-1)]: Done  42 tasks      | elapsed:    0.0s\n",
      "[Parallel(n_jobs=-1)]: Done  65 out of  65 | elapsed:    0.1s finished\n"
     ]
    },
    {
     "name": "stdout",
     "output_type": "stream",
     "text": [
      "(<381x26341 sparse matrix of type '<class 'numpy.int64'>'\n",
      "\twith 224715 stored elements in Compressed Sparse Row format>, array([    0,   427,   830,  1195,  1604,  2013,  2400,  2803,  3182,\n",
      "        3605,  4016,  4425,  4822,  5205,  5608,  5989,  6376,  6803,\n",
      "        7208,  7611,  7990,  8363,  8752,  9137,  9552,  9965, 10350,\n",
      "       10761, 11178, 11589, 12030, 12437, 12852, 13253, 13676, 14085,\n",
      "       14494, 14887, 15298, 15695, 16096, 16515, 16910, 17333, 17760,\n",
      "       18161, 18526, 18957, 19388, 19791, 20220, 20615, 21002, 21409,\n",
      "       21806, 22239, 22670, 23081, 23506, 23935, 24330, 24751, 25158,\n",
      "       25547, 25956, 26341]))\n"
     ]
    },
    {
     "name": "stderr",
     "output_type": "stream",
     "text": [
      "[Parallel(n_jobs=-1)]: Done  42 tasks      | elapsed:    0.1s\n",
      "[Parallel(n_jobs=-1)]: Done  65 out of  65 | elapsed:    0.1s finished\n",
      "[Parallel(n_jobs=4)]: Done  42 tasks      | elapsed:    0.0s\n",
      "[Parallel(n_jobs=4)]: Done  65 out of  65 | elapsed:    0.0s finished\n",
      "[Parallel(n_jobs=4)]: Done  42 tasks      | elapsed:    0.0s\n",
      "[Parallel(n_jobs=4)]: Done  65 out of  65 | elapsed:    0.0s finished\n",
      "[Parallel(n_jobs=-1)]: Done  42 tasks      | elapsed:    0.0s\n",
      "[Parallel(n_jobs=-1)]: Done  65 out of  65 | elapsed:    0.1s finished\n"
     ]
    },
    {
     "name": "stdout",
     "output_type": "stream",
     "text": [
      "(<244x27423 sparse matrix of type '<class 'numpy.int64'>'\n",
      "\twith 148587 stored elements in Compressed Sparse Row format>, array([    0,   415,   844,  1281,  1676,  2085,  2514,  2947,  3348,\n",
      "        3767,  4172,  4593,  4996,  5419,  5830,  6267,  6668,  7087,\n",
      "        7492,  7925,  8336,  8759,  9186,  9607, 10032, 10459, 10886,\n",
      "       11315, 11750, 12205, 12606, 13029, 13460, 13907, 14344, 14809,\n",
      "       15228, 15645, 16084, 16513, 16932, 17335, 17740, 18151, 18556,\n",
      "       18977, 19416, 19869, 20282, 20695, 21130, 21527, 21960, 22387,\n",
      "       22812, 23219, 23630, 24071, 24494, 24895, 25300, 25747, 26158,\n",
      "       26553, 27018, 27423]))\n"
     ]
    },
    {
     "name": "stderr",
     "output_type": "stream",
     "text": [
      "[Parallel(n_jobs=-1)]: Done  42 tasks      | elapsed:    0.1s\n",
      "[Parallel(n_jobs=-1)]: Done  65 out of  65 | elapsed:    0.1s finished\n",
      "[Parallel(n_jobs=4)]: Done  42 tasks      | elapsed:    0.0s\n",
      "[Parallel(n_jobs=4)]: Done  65 out of  65 | elapsed:    0.0s finished\n",
      "[Parallel(n_jobs=4)]: Done  42 tasks      | elapsed:    0.0s\n",
      "[Parallel(n_jobs=4)]: Done  65 out of  65 | elapsed:    0.0s finished\n",
      "[Parallel(n_jobs=-1)]: Done  42 tasks      | elapsed:    0.0s\n",
      "[Parallel(n_jobs=-1)]: Done  65 out of  65 | elapsed:    0.1s finished\n"
     ]
    },
    {
     "name": "stdout",
     "output_type": "stream",
     "text": [
      "(<382x15507 sparse matrix of type '<class 'numpy.int64'>'\n",
      "\twith 209430 stored elements in Compressed Sparse Row format>, array([    0,   219,   460,   679,   922,  1185,  1416,  1661,  1914,\n",
      "        2143,  2370,  2605,  2858,  3099,  3328,  3567,  3806,  4061,\n",
      "        4284,  4519,  4774,  5013,  5254,  5489,  5722,  5937,  6170,\n",
      "        6419,  6646,  6893,  7160,  7411,  7646,  7895,  8152,  8395,\n",
      "        8634,  8881,  9132,  9383,  9620,  9843, 10064, 10295, 10560,\n",
      "       10797, 11032, 11281, 11504, 11717, 11954, 12189, 12410, 12659,\n",
      "       12892, 13133, 13382, 13611, 13844, 14093, 14322, 14565, 14798,\n",
      "       15039, 15274, 15507]))\n"
     ]
    },
    {
     "name": "stderr",
     "output_type": "stream",
     "text": [
      "[Parallel(n_jobs=-1)]: Done  42 tasks      | elapsed:    0.0s\n",
      "[Parallel(n_jobs=-1)]: Done  65 out of  65 | elapsed:    0.1s finished\n",
      "[Parallel(n_jobs=4)]: Done  42 tasks      | elapsed:    0.0s\n",
      "[Parallel(n_jobs=4)]: Done  65 out of  65 | elapsed:    0.0s finished\n",
      "[Parallel(n_jobs=4)]: Done  42 tasks      | elapsed:    0.0s\n",
      "[Parallel(n_jobs=4)]: Done  65 out of  65 | elapsed:    0.0s finished\n",
      "[Parallel(n_jobs=-1)]: Done  42 tasks      | elapsed:    0.0s\n",
      "[Parallel(n_jobs=-1)]: Done  65 out of  65 | elapsed:    0.1s finished\n"
     ]
    },
    {
     "name": "stdout",
     "output_type": "stream",
     "text": [
      "(<25x25299 sparse matrix of type '<class 'numpy.int64'>'\n",
      "\twith 16378 stored elements in Compressed Sparse Row format>, array([    0,   393,   796,  1155,  1542,  1943,  2312,  2685,  3070,\n",
      "        3487,  3852,  4241,  4652,  5073,  5454,  5859,  6232,  6631,\n",
      "        7028,  7427,  7828,  8219,  8604,  8989,  9370,  9755, 10148,\n",
      "       10549, 10926, 11361, 11758, 12133, 12498, 12889, 13272, 13639,\n",
      "       14016, 14425, 14836, 15241, 15646, 16047, 16418, 16801, 17206,\n",
      "       17599, 17964, 18353, 18700, 19069, 19472, 19887, 20256, 20663,\n",
      "       21060, 21425, 21812, 22183, 22566, 22959, 23342, 23721, 24136,\n",
      "       24529, 24898, 25299]))\n"
     ]
    },
    {
     "name": "stderr",
     "output_type": "stream",
     "text": [
      "[Parallel(n_jobs=-1)]: Done  42 tasks      | elapsed:    0.1s\n",
      "[Parallel(n_jobs=-1)]: Done  65 out of  65 | elapsed:    0.2s finished\n",
      "[Parallel(n_jobs=4)]: Done  42 tasks      | elapsed:    0.0s\n",
      "[Parallel(n_jobs=4)]: Done  65 out of  65 | elapsed:    0.0s finished\n",
      "[Parallel(n_jobs=4)]: Done  42 tasks      | elapsed:    0.0s\n",
      "[Parallel(n_jobs=4)]: Done  65 out of  65 | elapsed:    0.0s finished\n",
      "[Parallel(n_jobs=-1)]: Done  42 tasks      | elapsed:    0.0s\n",
      "[Parallel(n_jobs=-1)]: Done  65 out of  65 | elapsed:    0.1s finished\n"
     ]
    },
    {
     "name": "stdout",
     "output_type": "stream",
     "text": [
      "(<358x1843 sparse matrix of type '<class 'numpy.int64'>'\n",
      "\twith 101459 stored elements in Compressed Sparse Row format>, array([   0,   31,   64,   93,  120,  147,  174,  209,  232,  261,  292,\n",
      "        319,  344,  369,  402,  425,  454,  481,  514,  543,  574,  603,\n",
      "        638,  661,  696,  721,  764,  793,  816,  843,  880,  909,  944,\n",
      "        969,  988, 1013, 1040, 1065, 1092, 1127, 1152, 1181, 1206, 1235,\n",
      "       1260, 1287, 1314, 1343, 1376, 1399, 1432, 1455, 1486, 1515, 1548,\n",
      "       1579, 1612, 1639, 1670, 1697, 1720, 1745, 1772, 1795, 1820, 1843]))\n"
     ]
    },
    {
     "name": "stderr",
     "output_type": "stream",
     "text": [
      "[Parallel(n_jobs=-1)]: Done  42 tasks      | elapsed:    0.1s\n",
      "[Parallel(n_jobs=-1)]: Done  65 out of  65 | elapsed:    0.1s finished\n",
      "[Parallel(n_jobs=4)]: Done  42 tasks      | elapsed:    0.0s\n",
      "[Parallel(n_jobs=4)]: Done  65 out of  65 | elapsed:    0.0s finished\n",
      "[Parallel(n_jobs=4)]: Done  42 tasks      | elapsed:    0.0s\n",
      "[Parallel(n_jobs=4)]: Done  65 out of  65 | elapsed:    0.0s finished\n",
      "[Parallel(n_jobs=-1)]: Done  42 tasks      | elapsed:    0.0s\n",
      "[Parallel(n_jobs=-1)]: Done  65 out of  65 | elapsed:    0.1s finished\n"
     ]
    },
    {
     "name": "stdout",
     "output_type": "stream",
     "text": [
      "(<381x27077 sparse matrix of type '<class 'numpy.int64'>'\n",
      "\twith 241672 stored elements in Compressed Sparse Row format>, array([    0,   387,   798,  1225,  1648,  2049,  2472,  2903,  3326,\n",
      "        3723,  4154,  4563,  4992,  5395,  5804,  6229,  6652,  7079,\n",
      "        7452,  7841,  8246,  8657,  9040,  9437,  9854, 10291, 10712,\n",
      "       11103, 11514, 11921, 12344, 12773, 13178, 13579, 14006, 14391,\n",
      "       14824, 15231, 15652, 16063, 16498, 16899, 17338, 17741, 18174,\n",
      "       18567, 19020, 19411, 19836, 20263, 20700, 21119, 21540, 21989,\n",
      "       22424, 22857, 23268, 23731, 24132, 24549, 24948, 25391, 25810,\n",
      "       26257, 26642, 27077]))\n"
     ]
    },
    {
     "name": "stderr",
     "output_type": "stream",
     "text": [
      "[Parallel(n_jobs=-1)]: Done  42 tasks      | elapsed:    0.1s\n",
      "[Parallel(n_jobs=-1)]: Done  65 out of  65 | elapsed:    0.1s finished\n",
      "[Parallel(n_jobs=4)]: Done  42 tasks      | elapsed:    0.0s\n",
      "[Parallel(n_jobs=4)]: Done  65 out of  65 | elapsed:    0.0s finished\n",
      "[Parallel(n_jobs=4)]: Done  42 tasks      | elapsed:    0.0s\n",
      "[Parallel(n_jobs=4)]: Done  65 out of  65 | elapsed:    0.0s finished\n",
      "[Parallel(n_jobs=-1)]: Done  42 tasks      | elapsed:    0.0s\n",
      "[Parallel(n_jobs=-1)]: Done  65 out of  65 | elapsed:    0.1s finished\n"
     ]
    },
    {
     "name": "stdout",
     "output_type": "stream",
     "text": [
      "(<385x26223 sparse matrix of type '<class 'numpy.int64'>'\n",
      "\twith 232333 stored elements in Compressed Sparse Row format>, array([    0,   397,   786,  1201,  1602,  2013,  2436,  2813,  3222,\n",
      "        3625,  4056,  4469,  4854,  5267,  5664,  6073,  6462,  6875,\n",
      "        7282,  7685,  8078,  8515,  8948,  9371,  9772, 10195, 10590,\n",
      "       11025, 11434, 11811, 12218, 12633, 13016, 13411, 13812, 14191,\n",
      "       14608, 15011, 15408, 15797, 16216, 16623, 16998, 17383, 17790,\n",
      "       18177, 18584, 18967, 19388, 19763, 20158, 20563, 20962, 21391,\n",
      "       21796, 22207, 22598, 23011, 23410, 23803, 24226, 24635, 25058,\n",
      "       25453, 25868, 26223]))\n"
     ]
    },
    {
     "name": "stderr",
     "output_type": "stream",
     "text": [
      "[Parallel(n_jobs=-1)]: Done  42 tasks      | elapsed:    0.1s\n",
      "[Parallel(n_jobs=-1)]: Done  65 out of  65 | elapsed:    0.2s finished\n",
      "[Parallel(n_jobs=4)]: Done  42 tasks      | elapsed:    0.0s\n",
      "[Parallel(n_jobs=4)]: Done  65 out of  65 | elapsed:    0.0s finished\n",
      "[Parallel(n_jobs=4)]: Done  42 tasks      | elapsed:    0.0s\n",
      "[Parallel(n_jobs=4)]: Done  65 out of  65 | elapsed:    0.0s finished\n",
      "[Parallel(n_jobs=-1)]: Done  42 tasks      | elapsed:    0.0s\n",
      "[Parallel(n_jobs=-1)]: Done  65 out of  65 | elapsed:    0.1s finished\n"
     ]
    },
    {
     "name": "stdout",
     "output_type": "stream",
     "text": [
      "(<403x24711 sparse matrix of type '<class 'numpy.int64'>'\n",
      "\twith 240880 stored elements in Compressed Sparse Row format>, array([    0,   343,   716,  1073,  1486,  1895,  2272,  2649,  3042,\n",
      "        3429,  3794,  4149,  4540,  4929,  5320,  5715,  6090,  6475,\n",
      "        6864,  7245,  7616,  8005,  8384,  8761,  9154,  9515,  9876,\n",
      "       10289, 10660, 11015, 11414, 11783, 12162, 12537, 12902, 13263,\n",
      "       13642, 14011, 14390, 14777, 15140, 15505, 15906, 16309, 16672,\n",
      "       17031, 17426, 17805, 18168, 18545, 18920, 19289, 19688, 20053,\n",
      "       20444, 20827, 21220, 21625, 22022, 22413, 22776, 23149, 23496,\n",
      "       23891, 24282, 24711]))\n"
     ]
    },
    {
     "name": "stderr",
     "output_type": "stream",
     "text": [
      "[Parallel(n_jobs=-1)]: Done  42 tasks      | elapsed:    0.1s\n",
      "[Parallel(n_jobs=-1)]: Done  65 out of  65 | elapsed:    0.2s finished\n",
      "[Parallel(n_jobs=4)]: Done  42 tasks      | elapsed:    0.0s\n",
      "[Parallel(n_jobs=4)]: Done  65 out of  65 | elapsed:    0.0s finished\n",
      "[Parallel(n_jobs=4)]: Done  42 tasks      | elapsed:    0.0s\n",
      "[Parallel(n_jobs=4)]: Done  65 out of  65 | elapsed:    0.0s finished\n",
      "[Parallel(n_jobs=-1)]: Done  42 tasks      | elapsed:    0.0s\n",
      "[Parallel(n_jobs=-1)]: Done  65 out of  65 | elapsed:    0.1s finished\n"
     ]
    },
    {
     "name": "stdout",
     "output_type": "stream",
     "text": [
      "(<385x25985 sparse matrix of type '<class 'numpy.int64'>'\n",
      "\twith 225575 stored elements in Compressed Sparse Row format>, array([    0,   397,   782,  1193,  1584,  1981,  2386,  2811,  3236,\n",
      "        3611,  4034,  4431,  4870,  5259,  5654,  6053,  6454,  6835,\n",
      "        7232,  7641,  8022,  8403,  8786,  9137,  9536,  9917, 10292,\n",
      "       10671, 11092, 11493, 11924, 12331, 12750, 13165, 13584, 13989,\n",
      "       14384, 14753, 15160, 15593, 15984, 16345, 16746, 17135, 17502,\n",
      "       17905, 18332, 18731, 19134, 19521, 19942, 20335, 20722, 21117,\n",
      "       21528, 21923, 22328, 22729, 23108, 23503, 23914, 24335, 24738,\n",
      "       25163, 25596, 25985]))\n"
     ]
    },
    {
     "name": "stderr",
     "output_type": "stream",
     "text": [
      "[Parallel(n_jobs=-1)]: Done  42 tasks      | elapsed:    0.1s\n",
      "[Parallel(n_jobs=-1)]: Done  65 out of  65 | elapsed:    0.2s finished\n",
      "[Parallel(n_jobs=4)]: Done  42 tasks      | elapsed:    0.0s\n",
      "[Parallel(n_jobs=4)]: Done  65 out of  65 | elapsed:    0.0s finished\n",
      "[Parallel(n_jobs=4)]: Done  42 tasks      | elapsed:    0.0s\n",
      "[Parallel(n_jobs=4)]: Done  65 out of  65 | elapsed:    0.0s finished\n",
      "[Parallel(n_jobs=-1)]: Done  42 tasks      | elapsed:    0.0s\n",
      "[Parallel(n_jobs=-1)]: Done  65 out of  65 | elapsed:    0.1s finished\n"
     ]
    },
    {
     "name": "stdout",
     "output_type": "stream",
     "text": [
      "(<360x28463 sparse matrix of type '<class 'numpy.int64'>'\n",
      "\twith 216774 stored elements in Compressed Sparse Row format>, array([    0,   453,   888,  1325,  1746,  2165,  2620,  3047,  3472,\n",
      "        3915,  4350,  4813,  5268,  5695,  6136,  6599,  7064,  7529,\n",
      "        7940,  8395,  8824,  9263,  9676, 10107, 10524, 10935, 11388,\n",
      "       11835, 12252, 12683, 13114, 13573, 14000, 14451, 14888, 15317,\n",
      "       15744, 16155, 16602, 17021, 17428, 17861, 18330, 18729, 19178,\n",
      "       19647, 20092, 20541, 21002, 21425, 21862, 22347, 22760, 23207,\n",
      "       23668, 24097, 24554, 24987, 25396, 25839, 26284, 26735, 27184,\n",
      "       27599, 28002, 28463]))\n"
     ]
    },
    {
     "name": "stderr",
     "output_type": "stream",
     "text": [
      "[Parallel(n_jobs=-1)]: Done  42 tasks      | elapsed:    0.1s\n",
      "[Parallel(n_jobs=-1)]: Done  65 out of  65 | elapsed:    0.1s finished\n",
      "[Parallel(n_jobs=4)]: Done  42 tasks      | elapsed:    0.0s\n",
      "[Parallel(n_jobs=4)]: Done  65 out of  65 | elapsed:    0.0s finished\n",
      "[Parallel(n_jobs=4)]: Done  42 tasks      | elapsed:    0.0s\n",
      "[Parallel(n_jobs=4)]: Done  65 out of  65 | elapsed:    0.0s finished\n",
      "[Parallel(n_jobs=-1)]: Done  42 tasks      | elapsed:    0.0s\n",
      "[Parallel(n_jobs=-1)]: Done  65 out of  65 | elapsed:    0.1s finished\n"
     ]
    },
    {
     "name": "stdout",
     "output_type": "stream",
     "text": [
      "(<261x27601 sparse matrix of type '<class 'numpy.int64'>'\n",
      "\twith 155240 stored elements in Compressed Sparse Row format>, array([    0,   435,   870,  1297,  1716,  2093,  2538,  2965,  3406,\n",
      "        3821,  4250,  4679,  5080,  5503,  5960,  6389,  6800,  7209,\n",
      "        7650,  8059,  8488,  8915,  9330,  9735, 10166, 10589, 11014,\n",
      "       11445, 11848, 12303, 12680, 13111, 13548, 13995, 14422, 14873,\n",
      "       15298, 15717, 16128, 16533, 16952, 17393, 17814, 18233, 18668,\n",
      "       19125, 19552, 19965, 20362, 20763, 21174, 21657, 22086, 22535,\n",
      "       22944, 23355, 23774, 24215, 24650, 25053, 25440, 25853, 26290,\n",
      "       26729, 27190, 27601]))\n"
     ]
    },
    {
     "name": "stderr",
     "output_type": "stream",
     "text": [
      "[Parallel(n_jobs=-1)]: Done  42 tasks      | elapsed:    0.1s\n",
      "[Parallel(n_jobs=-1)]: Done  65 out of  65 | elapsed:    0.1s finished\n",
      "[Parallel(n_jobs=4)]: Done  42 tasks      | elapsed:    0.0s\n",
      "[Parallel(n_jobs=4)]: Done  65 out of  65 | elapsed:    0.0s finished\n",
      "[Parallel(n_jobs=4)]: Done  42 tasks      | elapsed:    0.0s\n",
      "[Parallel(n_jobs=4)]: Done  65 out of  65 | elapsed:    0.0s finished\n",
      "[Parallel(n_jobs=-1)]: Done  42 tasks      | elapsed:    0.0s\n",
      "[Parallel(n_jobs=-1)]: Done  65 out of  65 | elapsed:    0.1s finished\n"
     ]
    },
    {
     "name": "stdout",
     "output_type": "stream",
     "text": [
      "(<307x18547 sparse matrix of type '<class 'numpy.int64'>'\n",
      "\twith 176485 stored elements in Compressed Sparse Row format>, array([    0,   271,   578,   865,  1138,  1449,  1728,  2017,  2294,\n",
      "        2587,  2884,  3165,  3454,  3735,  4024,  4283,  4580,  4843,\n",
      "        5130,  5399,  5668,  5947,  6220,  6511,  6794,  7079,  7372,\n",
      "        7661,  7954,  8237,  8550,  8837,  9126,  9393,  9684,  9955,\n",
      "       10252, 10547, 10826, 11133, 11434, 11707, 12018, 12305, 12570,\n",
      "       12835, 13150, 13459, 13750, 14029, 14308, 14611, 14894, 15193,\n",
      "       15474, 15757, 16030, 16311, 16582, 16849, 17120, 17421, 17698,\n",
      "       17967, 18250, 18547]))\n"
     ]
    },
    {
     "name": "stderr",
     "output_type": "stream",
     "text": [
      "[Parallel(n_jobs=-1)]: Done  42 tasks      | elapsed:    0.1s\n",
      "[Parallel(n_jobs=-1)]: Done  65 out of  65 | elapsed:    0.2s finished\n",
      "[Parallel(n_jobs=4)]: Done  42 tasks      | elapsed:    0.0s\n",
      "[Parallel(n_jobs=4)]: Done  65 out of  65 | elapsed:    0.0s finished\n",
      "[Parallel(n_jobs=4)]: Done  42 tasks      | elapsed:    0.0s\n",
      "[Parallel(n_jobs=4)]: Done  65 out of  65 | elapsed:    0.0s finished\n",
      "[Parallel(n_jobs=-1)]: Done  42 tasks      | elapsed:    0.0s\n",
      "[Parallel(n_jobs=-1)]: Done  65 out of  65 | elapsed:    0.1s finished\n"
     ]
    },
    {
     "name": "stdout",
     "output_type": "stream",
     "text": [
      "(<361x19349 sparse matrix of type '<class 'numpy.int64'>'\n",
      "\twith 203169 stored elements in Compressed Sparse Row format>, array([    0,   309,   612,   919,  1216,  1511,  1822,  2119,  2412,\n",
      "        2707,  3016,  3303,  3590,  3917,  4198,  4485,  4788,  5063,\n",
      "        5350,  5657,  5974,  6277,  6586,  6883,  7180,  7473,  7756,\n",
      "        8041,  8330,  8641,  8940,  9247,  9546,  9817, 10112, 10427,\n",
      "       10746, 11035, 11316, 11635, 11932, 12215, 12550, 12845, 13146,\n",
      "       13407, 13692, 13985, 14284, 14583, 14900, 15179, 15470, 15779,\n",
      "       16084, 16359, 16656, 16957, 17250, 17555, 17852, 18167, 18460,\n",
      "       18757, 19060, 19349]))\n"
     ]
    },
    {
     "name": "stderr",
     "output_type": "stream",
     "text": [
      "[Parallel(n_jobs=-1)]: Done  42 tasks      | elapsed:    0.1s\n",
      "[Parallel(n_jobs=-1)]: Done  65 out of  65 | elapsed:    0.1s finished\n",
      "[Parallel(n_jobs=4)]: Done  42 tasks      | elapsed:    0.0s\n",
      "[Parallel(n_jobs=4)]: Done  65 out of  65 | elapsed:    0.0s finished\n",
      "[Parallel(n_jobs=4)]: Done  42 tasks      | elapsed:    0.0s\n",
      "[Parallel(n_jobs=4)]: Done  65 out of  65 | elapsed:    0.0s finished\n",
      "[Parallel(n_jobs=-1)]: Done  42 tasks      | elapsed:    0.0s\n",
      "[Parallel(n_jobs=-1)]: Done  65 out of  65 | elapsed:    0.1s finished\n"
     ]
    },
    {
     "name": "stdout",
     "output_type": "stream",
     "text": [
      "(<401x29149 sparse matrix of type '<class 'numpy.int64'>'\n",
      "\twith 234426 stored elements in Compressed Sparse Row format>, array([    0,   469,   918,  1397,  1836,  2275,  2716,  3157,  3600,\n",
      "        4061,  4508,  4943,  5388,  5845,  6302,  6777,  7232,  7693,\n",
      "        8140,  8575,  9002,  9437,  9864, 10333, 10766, 11209, 11672,\n",
      "       12121, 12608, 13065, 13522, 13953, 14398, 14849, 15278, 15757,\n",
      "       16216, 16631, 17074, 17523, 17982, 18417, 18850, 19269, 19714,\n",
      "       20163, 20618, 21089, 21532, 21979, 22428, 22897, 23384, 23815,\n",
      "       24250, 24691, 25124, 25591, 26058, 26511, 26928, 27381, 27826,\n",
      "       28305, 28726, 29149]))\n"
     ]
    },
    {
     "name": "stderr",
     "output_type": "stream",
     "text": [
      "[Parallel(n_jobs=-1)]: Done  42 tasks      | elapsed:    0.1s\n",
      "[Parallel(n_jobs=-1)]: Done  65 out of  65 | elapsed:    0.2s finished\n",
      "[Parallel(n_jobs=4)]: Done  42 tasks      | elapsed:    0.0s\n",
      "[Parallel(n_jobs=4)]: Done  65 out of  65 | elapsed:    0.0s finished\n",
      "[Parallel(n_jobs=4)]: Done  42 tasks      | elapsed:    0.0s\n",
      "[Parallel(n_jobs=4)]: Done  65 out of  65 | elapsed:    0.0s finished\n",
      "[Parallel(n_jobs=-1)]: Done  42 tasks      | elapsed:    0.0s\n",
      "[Parallel(n_jobs=-1)]: Done  65 out of  65 | elapsed:    0.1s finished\n"
     ]
    },
    {
     "name": "stdout",
     "output_type": "stream",
     "text": [
      "(<378x24851 sparse matrix of type '<class 'numpy.int64'>'\n",
      "\twith 222960 stored elements in Compressed Sparse Row format>, array([    0,   387,   790,  1159,  1518,  1907,  2290,  2651,  3018,\n",
      "        3377,  3760,  4139,  4562,  4929,  5348,  5761,  6144,  6535,\n",
      "        6910,  7281,  7642,  8013,  8402,  8789,  9178,  9517,  9906,\n",
      "       10267, 10660, 11041, 11430, 11817, 12206, 12581, 12938, 13321,\n",
      "       13732, 14099, 14478, 14867, 15242, 15629, 16024, 16391, 16756,\n",
      "       17117, 17496, 17913, 18328, 18725, 19092, 19495, 19838, 20213,\n",
      "       20596, 20967, 21372, 21751, 22116, 22509, 22892, 23253, 23650,\n",
      "       24055, 24450, 24851]))\n"
     ]
    },
    {
     "name": "stderr",
     "output_type": "stream",
     "text": [
      "[Parallel(n_jobs=-1)]: Done  42 tasks      | elapsed:    0.1s\n",
      "[Parallel(n_jobs=-1)]: Done  65 out of  65 | elapsed:    0.2s finished\n",
      "[Parallel(n_jobs=4)]: Done  42 tasks      | elapsed:    0.0s\n",
      "[Parallel(n_jobs=4)]: Done  65 out of  65 | elapsed:    0.0s finished\n",
      "[Parallel(n_jobs=4)]: Done  42 tasks      | elapsed:    0.0s\n",
      "[Parallel(n_jobs=4)]: Done  65 out of  65 | elapsed:    0.0s finished\n",
      "[Parallel(n_jobs=-1)]: Done  42 tasks      | elapsed:    0.0s\n",
      "[Parallel(n_jobs=-1)]: Done  65 out of  65 | elapsed:    0.1s finished\n"
     ]
    },
    {
     "name": "stdout",
     "output_type": "stream",
     "text": [
      "(<357x26053 sparse matrix of type '<class 'numpy.int64'>'\n",
      "\twith 211859 stored elements in Compressed Sparse Row format>, array([    0,   411,   798,  1185,  1592,  1967,  2372,  2771,  3160,\n",
      "        3595,  4014,  4395,  4814,  5189,  5604,  6031,  6404,  6803,\n",
      "        7192,  7603,  8034,  8445,  8852,  9253,  9666, 10039, 10452,\n",
      "       10829, 11230, 11623, 12032, 12415, 12824, 13213, 13596, 13973,\n",
      "       14392, 14833, 15222, 15661, 16066, 16463, 16850, 17265, 17674,\n",
      "       18097, 18486, 18883, 19264, 19677, 20054, 20473, 20842, 21253,\n",
      "       21644, 22037, 22464, 22893, 23274, 23681, 24096, 24481, 24858,\n",
      "       25259, 25646, 26053]))\n"
     ]
    },
    {
     "name": "stderr",
     "output_type": "stream",
     "text": [
      "[Parallel(n_jobs=-1)]: Done  42 tasks      | elapsed:    0.1s\n",
      "[Parallel(n_jobs=-1)]: Done  65 out of  65 | elapsed:    0.2s finished\n",
      "[Parallel(n_jobs=4)]: Done  42 tasks      | elapsed:    0.0s\n",
      "[Parallel(n_jobs=4)]: Done  65 out of  65 | elapsed:    0.0s finished\n",
      "[Parallel(n_jobs=4)]: Done  42 tasks      | elapsed:    0.0s\n",
      "[Parallel(n_jobs=4)]: Done  65 out of  65 | elapsed:    0.0s finished\n",
      "[Parallel(n_jobs=-1)]: Done  42 tasks      | elapsed:    0.0s\n",
      "[Parallel(n_jobs=-1)]: Done  65 out of  65 | elapsed:    0.1s finished\n"
     ]
    },
    {
     "name": "stdout",
     "output_type": "stream",
     "text": [
      "(<367x26327 sparse matrix of type '<class 'numpy.int64'>'\n",
      "\twith 230051 stored elements in Compressed Sparse Row format>, array([    0,   407,   818,  1227,  1634,  2011,  2450,  2887,  3268,\n",
      "        3649,  4028,  4431,  4860,  5249,  5662,  6081,  6474,  6877,\n",
      "        7284,  7703,  8118,  8539,  8934,  9337,  9732, 10139, 10534,\n",
      "       10945, 11364, 11745, 12158, 12533, 12966, 13389, 13828, 14231,\n",
      "       14644, 15071, 15470, 15867, 16276, 16689, 17114, 17515, 17918,\n",
      "       18307, 18698, 19087, 19490, 19879, 20294, 20693, 21098, 21501,\n",
      "       21932, 22345, 22758, 23139, 23552, 23947, 24334, 24715, 25128,\n",
      "       25503, 25918, 26327]))\n"
     ]
    },
    {
     "name": "stderr",
     "output_type": "stream",
     "text": [
      "[Parallel(n_jobs=-1)]: Done  42 tasks      | elapsed:    0.1s\n",
      "[Parallel(n_jobs=-1)]: Done  65 out of  65 | elapsed:    0.2s finished\n",
      "[Parallel(n_jobs=4)]: Done  42 tasks      | elapsed:    0.0s\n",
      "[Parallel(n_jobs=4)]: Done  65 out of  65 | elapsed:    0.0s finished\n",
      "[Parallel(n_jobs=4)]: Done  42 tasks      | elapsed:    0.0s\n",
      "[Parallel(n_jobs=4)]: Done  65 out of  65 | elapsed:    0.0s finished\n",
      "[Parallel(n_jobs=-1)]: Done  42 tasks      | elapsed:    0.0s\n",
      "[Parallel(n_jobs=-1)]: Done  65 out of  65 | elapsed:    0.1s finished\n"
     ]
    },
    {
     "name": "stdout",
     "output_type": "stream",
     "text": [
      "(<382x26651 sparse matrix of type '<class 'numpy.int64'>'\n",
      "\twith 246463 stored elements in Compressed Sparse Row format>, array([    0,   391,   762,  1163,  1558,  1973,  2400,  2811,  3218,\n",
      "        3607,  4024,  4443,  4832,  5267,  5654,  6089,  6488,  6889,\n",
      "        7294,  7693,  8082,  8459,  8860,  9301,  9698, 10119, 10544,\n",
      "       10951, 11392, 11783, 12186, 12573, 12980, 13421, 13816, 14211,\n",
      "       14624, 15041, 15450, 15869, 16280, 16701, 17132, 17551, 17956,\n",
      "       18395, 18798, 19229, 19642, 20063, 20466, 20895, 21284, 21709,\n",
      "       22128, 22519, 22938, 23365, 23792, 24189, 24576, 24977, 25370,\n",
      "       25819, 26256, 26651]))\n"
     ]
    },
    {
     "name": "stderr",
     "output_type": "stream",
     "text": [
      "[Parallel(n_jobs=-1)]: Done  42 tasks      | elapsed:    0.1s\n",
      "[Parallel(n_jobs=-1)]: Done  65 out of  65 | elapsed:    0.1s finished\n",
      "[Parallel(n_jobs=4)]: Done  42 tasks      | elapsed:    0.0s\n",
      "[Parallel(n_jobs=4)]: Done  65 out of  65 | elapsed:    0.0s finished\n",
      "[Parallel(n_jobs=4)]: Done  42 tasks      | elapsed:    0.0s\n",
      "[Parallel(n_jobs=4)]: Done  65 out of  65 | elapsed:    0.0s finished\n",
      "[Parallel(n_jobs=-1)]: Done  42 tasks      | elapsed:    0.0s\n",
      "[Parallel(n_jobs=-1)]: Done  65 out of  65 | elapsed:    0.1s finished\n"
     ]
    },
    {
     "name": "stdout",
     "output_type": "stream",
     "text": [
      "(<375x25453 sparse matrix of type '<class 'numpy.int64'>'\n",
      "\twith 220417 stored elements in Compressed Sparse Row format>, array([    0,   373,   762,  1197,  1590,  1943,  2316,  2709,  3112,\n",
      "        3517,  3874,  4273,  4684,  5075,  5456,  5825,  6216,  6601,\n",
      "        7008,  7379,  7782,  8153,  8518,  8919,  9332,  9709, 10080,\n",
      "       10453, 10854, 11285, 11664, 12041, 12410, 12809, 13224, 13599,\n",
      "       13990, 14395, 14788, 15183, 15630, 16011, 16382, 16771, 17160,\n",
      "       17549, 17950, 18335, 18762, 19153, 19540, 19923, 20340, 20765,\n",
      "       21162, 21531, 21928, 22331, 22722, 23089, 23480, 23869, 24262,\n",
      "       24639, 25068, 25453]))\n"
     ]
    },
    {
     "name": "stderr",
     "output_type": "stream",
     "text": [
      "[Parallel(n_jobs=-1)]: Done  42 tasks      | elapsed:    0.1s\n",
      "[Parallel(n_jobs=-1)]: Done  65 out of  65 | elapsed:    0.2s finished\n",
      "[Parallel(n_jobs=4)]: Done  42 tasks      | elapsed:    0.0s\n",
      "[Parallel(n_jobs=4)]: Done  65 out of  65 | elapsed:    0.0s finished\n",
      "[Parallel(n_jobs=4)]: Done  42 tasks      | elapsed:    0.0s\n",
      "[Parallel(n_jobs=4)]: Done  65 out of  65 | elapsed:    0.0s finished\n",
      "[Parallel(n_jobs=-1)]: Done  42 tasks      | elapsed:    0.0s\n",
      "[Parallel(n_jobs=-1)]: Done  65 out of  65 | elapsed:    0.1s finished\n"
     ]
    },
    {
     "name": "stdout",
     "output_type": "stream",
     "text": [
      "(<403x25825 sparse matrix of type '<class 'numpy.int64'>'\n",
      "\twith 240051 stored elements in Compressed Sparse Row format>, array([    0,   383,   772,  1181,  1564,  1963,  2356,  2777,  3144,\n",
      "        3567,  3970,  4335,  4696,  5077,  5472,  5861,  6260,  6679,\n",
      "        7084,  7473,  7868,  8243,  8620,  9019,  9402,  9783, 10194,\n",
      "       10607, 11002, 11393, 11764, 12181, 12552, 12945, 13360, 13781,\n",
      "       14192, 14603, 15012, 15369, 15756, 16127, 16540, 16965, 17332,\n",
      "       17713, 18148, 18555, 18960, 19361, 19764, 20171, 20582, 20997,\n",
      "       21390, 21817, 22194, 22611, 23028, 23407, 23800, 24221, 24630,\n",
      "       25013, 25426, 25825]))\n"
     ]
    },
    {
     "name": "stderr",
     "output_type": "stream",
     "text": [
      "[Parallel(n_jobs=-1)]: Done  42 tasks      | elapsed:    0.1s\n",
      "[Parallel(n_jobs=-1)]: Done  65 out of  65 | elapsed:    0.2s finished\n",
      "[Parallel(n_jobs=4)]: Done  42 tasks      | elapsed:    0.0s\n",
      "[Parallel(n_jobs=4)]: Done  65 out of  65 | elapsed:    0.0s finished\n",
      "[Parallel(n_jobs=4)]: Done  42 tasks      | elapsed:    0.0s\n",
      "[Parallel(n_jobs=4)]: Done  65 out of  65 | elapsed:    0.0s finished\n",
      "[Parallel(n_jobs=-1)]: Done  42 tasks      | elapsed:    0.0s\n",
      "[Parallel(n_jobs=-1)]: Done  65 out of  65 | elapsed:    0.1s finished\n"
     ]
    },
    {
     "name": "stdout",
     "output_type": "stream",
     "text": [
      "(<382x24773 sparse matrix of type '<class 'numpy.int64'>'\n",
      "\twith 229283 stored elements in Compressed Sparse Row format>, array([    0,   369,   756,  1143,  1520,  1937,  2280,  2659,  3022,\n",
      "        3409,  3778,  4177,  4544,  4939,  5314,  5713,  6102,  6469,\n",
      "        6856,  7243,  7636,  8029,  8430,  8797,  9150,  9533,  9920,\n",
      "       10323, 10688, 11075, 11460, 11831, 12228, 12597, 12970, 13345,\n",
      "       13748, 14121, 14488, 14863, 15234, 15579, 15948, 16325, 16724,\n",
      "       17117, 17480, 17879, 18264, 18633, 19006, 19385, 19764, 20159,\n",
      "       20558, 20935, 21362, 21737, 22122, 22527, 22902, 23275, 23632,\n",
      "       24001, 24392, 24773]))\n"
     ]
    },
    {
     "name": "stderr",
     "output_type": "stream",
     "text": [
      "[Parallel(n_jobs=-1)]: Done  42 tasks      | elapsed:    0.1s\n",
      "[Parallel(n_jobs=-1)]: Done  65 out of  65 | elapsed:    0.1s finished\n",
      "[Parallel(n_jobs=4)]: Done  42 tasks      | elapsed:    0.0s\n",
      "[Parallel(n_jobs=4)]: Done  65 out of  65 | elapsed:    0.0s finished\n",
      "[Parallel(n_jobs=4)]: Done  42 tasks      | elapsed:    0.0s\n",
      "[Parallel(n_jobs=4)]: Done  65 out of  65 | elapsed:    0.0s finished\n",
      "[Parallel(n_jobs=-1)]: Done  42 tasks      | elapsed:    0.0s\n",
      "[Parallel(n_jobs=-1)]: Done  65 out of  65 | elapsed:    0.1s finished\n"
     ]
    },
    {
     "name": "stdout",
     "output_type": "stream",
     "text": [
      "(<365x25945 sparse matrix of type '<class 'numpy.int64'>'\n",
      "\twith 221560 stored elements in Compressed Sparse Row format>, array([    0,   423,   802,  1189,  1572,  1973,  2360,  2757,  3152,\n",
      "        3535,  3972,  4369,  4794,  5193,  5590,  5981,  6372,  6757,\n",
      "        7174,  7593,  7970,  8337,  8728,  9129,  9518,  9929, 10332,\n",
      "       10707, 11134, 11541, 11934, 12305, 12676, 13095, 13516, 13917,\n",
      "       14306, 14747, 15136, 15495, 15880, 16263, 16650, 17071, 17478,\n",
      "       17883, 18286, 18695, 19104, 19495, 19902, 20317, 20720, 21131,\n",
      "       21520, 21937, 22354, 22765, 23150, 23543, 23960, 24377, 24736,\n",
      "       25127, 25524, 25945]))\n"
     ]
    },
    {
     "name": "stderr",
     "output_type": "stream",
     "text": [
      "[Parallel(n_jobs=-1)]: Done  42 tasks      | elapsed:    0.1s\n",
      "[Parallel(n_jobs=-1)]: Done  65 out of  65 | elapsed:    0.2s finished\n",
      "[Parallel(n_jobs=4)]: Done  42 tasks      | elapsed:    0.0s\n",
      "[Parallel(n_jobs=4)]: Done  65 out of  65 | elapsed:    0.0s finished\n",
      "[Parallel(n_jobs=4)]: Done  42 tasks      | elapsed:    0.0s\n",
      "[Parallel(n_jobs=4)]: Done  65 out of  65 | elapsed:    0.0s finished\n",
      "[Parallel(n_jobs=-1)]: Done  42 tasks      | elapsed:    0.0s\n",
      "[Parallel(n_jobs=-1)]: Done  65 out of  65 | elapsed:    0.1s finished\n"
     ]
    },
    {
     "name": "stdout",
     "output_type": "stream",
     "text": [
      "(<374x25353 sparse matrix of type '<class 'numpy.int64'>'\n",
      "\twith 229375 stored elements in Compressed Sparse Row format>, array([    0,   403,   782,  1161,  1538,  1941,  2336,  2743,  3144,\n",
      "        3513,  3922,  4303,  4702,  5073,  5460,  5843,  6264,  6671,\n",
      "        7072,  7459,  7840,  8249,  8616,  9037,  9388,  9759, 10146,\n",
      "       10513, 10890, 11263, 11650, 12063, 12446, 12823, 13228, 13617,\n",
      "       13976, 14395, 14766, 15149, 15512, 15907, 16294, 16673, 17064,\n",
      "       17475, 17872, 18273, 18660, 19065, 19460, 19853, 20226, 20649,\n",
      "       21038, 21451, 21824, 22227, 22616, 23039, 23378, 23765, 24166,\n",
      "       24555, 24954, 25353]))\n"
     ]
    },
    {
     "name": "stderr",
     "output_type": "stream",
     "text": [
      "[Parallel(n_jobs=-1)]: Done  42 tasks      | elapsed:    0.1s\n",
      "[Parallel(n_jobs=-1)]: Done  65 out of  65 | elapsed:    0.2s finished\n",
      "[Parallel(n_jobs=4)]: Done  42 tasks      | elapsed:    0.0s\n",
      "[Parallel(n_jobs=4)]: Done  65 out of  65 | elapsed:    0.0s finished\n",
      "[Parallel(n_jobs=4)]: Done  42 tasks      | elapsed:    0.0s\n",
      "[Parallel(n_jobs=4)]: Done  65 out of  65 | elapsed:    0.0s finished\n",
      "[Parallel(n_jobs=-1)]: Done  42 tasks      | elapsed:    0.0s\n",
      "[Parallel(n_jobs=-1)]: Done  65 out of  65 | elapsed:    0.1s finished\n"
     ]
    },
    {
     "name": "stdout",
     "output_type": "stream",
     "text": [
      "(<391x27199 sparse matrix of type '<class 'numpy.int64'>'\n",
      "\twith 246899 stored elements in Compressed Sparse Row format>, array([    0,   407,   804,  1201,  1646,  2053,  2468,  2881,  3330,\n",
      "        3747,  4132,  4561,  4984,  5441,  5852,  6261,  6670,  7091,\n",
      "        7510,  7917,  8330,  8763,  9186,  9605, 10002, 10407, 10828,\n",
      "       11241, 11662, 12103, 12516, 12939, 13376, 13805, 14224, 14655,\n",
      "       15072, 15511, 15944, 16393, 16812, 17225, 17652, 18085, 18518,\n",
      "       18943, 19374, 19789, 20200, 20619, 21030, 21461, 21852, 22283,\n",
      "       22704, 23107, 23520, 23931, 24338, 24731, 25158, 25547, 25942,\n",
      "       26369, 26796, 27199]))\n"
     ]
    },
    {
     "name": "stderr",
     "output_type": "stream",
     "text": [
      "[Parallel(n_jobs=-1)]: Done  42 tasks      | elapsed:    0.1s\n",
      "[Parallel(n_jobs=-1)]: Done  65 out of  65 | elapsed:    0.2s finished\n",
      "[Parallel(n_jobs=4)]: Done  42 tasks      | elapsed:    0.0s\n",
      "[Parallel(n_jobs=4)]: Done  65 out of  65 | elapsed:    0.0s finished\n",
      "[Parallel(n_jobs=4)]: Done  42 tasks      | elapsed:    0.0s\n",
      "[Parallel(n_jobs=4)]: Done  65 out of  65 | elapsed:    0.0s finished\n",
      "[Parallel(n_jobs=-1)]: Done  42 tasks      | elapsed:    0.0s\n",
      "[Parallel(n_jobs=-1)]: Done  65 out of  65 | elapsed:    0.1s finished\n"
     ]
    },
    {
     "name": "stdout",
     "output_type": "stream",
     "text": [
      "(<364x27071 sparse matrix of type '<class 'numpy.int64'>'\n",
      "\twith 219656 stored elements in Compressed Sparse Row format>, array([    0,   431,   846,  1259,  1680,  2089,  2490,  2923,  3332,\n",
      "        3773,  4184,  4595,  5002,  5401,  5818,  6225,  6616,  7041,\n",
      "        7496,  7925,  8342,  8749,  9138,  9557,  9944, 10361, 10794,\n",
      "       11189, 11628, 12045, 12474, 12871, 13286, 13687, 14120, 14529,\n",
      "       14944, 15351, 15746, 16187, 16606, 17019, 17402, 17833, 18266,\n",
      "       18675, 19082, 19467, 19896, 20297, 20734, 21153, 21580, 21999,\n",
      "       22418, 22821, 23250, 23669, 24060, 24505, 24942, 25385, 25830,\n",
      "       26257, 26670, 27071]))\n"
     ]
    },
    {
     "name": "stderr",
     "output_type": "stream",
     "text": [
      "[Parallel(n_jobs=-1)]: Done  42 tasks      | elapsed:    0.1s\n",
      "[Parallel(n_jobs=-1)]: Done  65 out of  65 | elapsed:    0.2s finished\n",
      "[Parallel(n_jobs=4)]: Done  42 tasks      | elapsed:    0.0s\n",
      "[Parallel(n_jobs=4)]: Done  65 out of  65 | elapsed:    0.0s finished\n",
      "[Parallel(n_jobs=4)]: Done  42 tasks      | elapsed:    0.0s\n",
      "[Parallel(n_jobs=4)]: Done  65 out of  65 | elapsed:    0.0s finished\n",
      "[Parallel(n_jobs=-1)]: Done  42 tasks      | elapsed:    0.0s\n",
      "[Parallel(n_jobs=-1)]: Done  65 out of  65 | elapsed:    0.1s finished\n"
     ]
    },
    {
     "name": "stdout",
     "output_type": "stream",
     "text": [
      "(<373x26433 sparse matrix of type '<class 'numpy.int64'>'\n",
      "\twith 232038 stored elements in Compressed Sparse Row format>, array([    0,   429,   864,  1251,  1636,  2023,  2416,  2839,  3264,\n",
      "        3649,  4062,  4475,  4866,  5287,  5682,  6107,  6504,  6907,\n",
      "        7302,  7693,  8096,  8449,  8892,  9285,  9728, 10131, 10514,\n",
      "       10909, 11304, 11707, 12134, 12553, 12984, 13395, 13802, 14227,\n",
      "       14616, 15019, 15426, 15827, 16286, 16695, 17074, 17519, 17932,\n",
      "       18335, 18718, 19131, 19536, 19931, 20332, 20767, 21146, 21539,\n",
      "       21924, 22339, 22744, 23135, 23544, 23955, 24346, 24779, 25204,\n",
      "       25611, 26036, 26433]))\n"
     ]
    },
    {
     "name": "stderr",
     "output_type": "stream",
     "text": [
      "[Parallel(n_jobs=-1)]: Done  42 tasks      | elapsed:    0.1s\n",
      "[Parallel(n_jobs=-1)]: Done  65 out of  65 | elapsed:    0.2s finished\n",
      "[Parallel(n_jobs=4)]: Done  42 tasks      | elapsed:    0.0s\n",
      "[Parallel(n_jobs=4)]: Done  65 out of  65 | elapsed:    0.0s finished\n",
      "[Parallel(n_jobs=4)]: Done  42 tasks      | elapsed:    0.0s\n",
      "[Parallel(n_jobs=4)]: Done  65 out of  65 | elapsed:    0.0s finished\n",
      "[Parallel(n_jobs=-1)]: Done  42 tasks      | elapsed:    0.0s\n",
      "[Parallel(n_jobs=-1)]: Done  65 out of  65 | elapsed:    0.0s finished\n"
     ]
    },
    {
     "name": "stdout",
     "output_type": "stream",
     "text": [
      "(<356x26051 sparse matrix of type '<class 'numpy.int64'>'\n",
      "\twith 211476 stored elements in Compressed Sparse Row format>, array([    0,   413,   818,  1239,  1642,  2053,  2454,  2865,  3274,\n",
      "        3659,  4036,  4441,  4836,  5253,  5656,  6075,  6488,  6901,\n",
      "        7314,  7673,  8050,  8479,  8866,  9257,  9644, 10073, 10500,\n",
      "       10887, 11310, 11715, 12112, 12507, 12914, 13315, 13720, 14101,\n",
      "       14514, 14907, 15298, 15699, 16098, 16521, 16924, 17311, 17712,\n",
      "       18119, 18502, 18917, 19292, 19715, 20140, 20537, 20926, 21339,\n",
      "       21754, 22121, 22500, 22905, 23322, 23697, 24092, 24503, 24902,\n",
      "       25275, 25664, 26051]))\n"
     ]
    },
    {
     "name": "stderr",
     "output_type": "stream",
     "text": [
      "[Parallel(n_jobs=-1)]: Done  42 tasks      | elapsed:    0.0s\n",
      "[Parallel(n_jobs=-1)]: Done  65 out of  65 | elapsed:    0.1s finished\n",
      "[Parallel(n_jobs=4)]: Done  42 tasks      | elapsed:    0.0s\n",
      "[Parallel(n_jobs=4)]: Done  65 out of  65 | elapsed:    0.0s finished\n",
      "[Parallel(n_jobs=4)]: Done  42 tasks      | elapsed:    0.0s\n",
      "[Parallel(n_jobs=4)]: Done  65 out of  65 | elapsed:    0.0s finished\n",
      "[Parallel(n_jobs=-1)]: Done  42 tasks      | elapsed:    0.0s\n",
      "[Parallel(n_jobs=-1)]: Done  65 out of  65 | elapsed:    0.0s finished\n"
     ]
    },
    {
     "name": "stdout",
     "output_type": "stream",
     "text": [
      "(<14x25465 sparse matrix of type '<class 'numpy.int64'>'\n",
      "\twith 8383 stored elements in Compressed Sparse Row format>, array([    0,   367,   718,  1125,  1532,  1963,  2364,  2765,  3134,\n",
      "        3509,  3904,  4297,  4678,  5069,  5490,  5857,  6246,  6635,\n",
      "        7010,  7423,  7824,  8229,  8644,  9027,  9424,  9801, 10146,\n",
      "       10521, 10924, 11305, 11720, 12103, 12474, 12861, 13244, 13661,\n",
      "       14044, 14417, 14804, 15175, 15572, 15965, 16354, 16745, 17142,\n",
      "       17529, 17958, 18355, 18762, 19145, 19550, 19943, 20348, 20737,\n",
      "       21166, 21561, 21942, 22347, 22724, 23125, 23522, 23915, 24312,\n",
      "       24693, 25088, 25465]))\n"
     ]
    },
    {
     "name": "stderr",
     "output_type": "stream",
     "text": [
      "[Parallel(n_jobs=-1)]: Done  42 tasks      | elapsed:    0.0s\n",
      "[Parallel(n_jobs=-1)]: Done  65 out of  65 | elapsed:    0.1s finished\n",
      "[Parallel(n_jobs=4)]: Done  42 tasks      | elapsed:    0.0s\n",
      "[Parallel(n_jobs=4)]: Done  65 out of  65 | elapsed:    0.0s finished\n",
      "[Parallel(n_jobs=4)]: Done  42 tasks      | elapsed:    0.0s\n",
      "[Parallel(n_jobs=4)]: Done  65 out of  65 | elapsed:    0.0s finished\n",
      "[Parallel(n_jobs=-1)]: Done  42 tasks      | elapsed:    0.0s\n",
      "[Parallel(n_jobs=-1)]: Done  65 out of  65 | elapsed:    0.1s finished\n"
     ]
    },
    {
     "name": "stdout",
     "output_type": "stream",
     "text": [
      "(<50x1517 sparse matrix of type '<class 'numpy.int64'>'\n",
      "\twith 16138 stored elements in Compressed Sparse Row format>, array([   0,   23,   46,   69,   92,  121,  144,  167,  184,  211,  234,\n",
      "        249,  270,  291,  316,  333,  352,  375,  398,  419,  444,  471,\n",
      "        494,  517,  544,  567,  592,  617,  640,  665,  694,  719,  742,\n",
      "        775,  796,  821,  848,  867,  888,  915,  938,  957,  974,  999,\n",
      "       1030, 1053, 1076, 1101, 1120, 1143, 1168, 1193, 1224, 1241, 1264,\n",
      "       1287, 1310, 1335, 1358, 1379, 1406, 1435, 1460, 1481, 1504, 1517]))\n"
     ]
    },
    {
     "name": "stderr",
     "output_type": "stream",
     "text": [
      "[Parallel(n_jobs=-1)]: Done  42 tasks      | elapsed:    0.1s\n",
      "[Parallel(n_jobs=-1)]: Done  65 out of  65 | elapsed:    0.2s finished\n",
      "[Parallel(n_jobs=4)]: Done  42 tasks      | elapsed:    0.0s\n",
      "[Parallel(n_jobs=4)]: Done  65 out of  65 | elapsed:    0.0s finished\n",
      "[Parallel(n_jobs=4)]: Done  42 tasks      | elapsed:    0.0s\n",
      "[Parallel(n_jobs=4)]: Done  65 out of  65 | elapsed:    0.0s finished\n",
      "[Parallel(n_jobs=-1)]: Done  42 tasks      | elapsed:    0.0s\n",
      "[Parallel(n_jobs=-1)]: Done  65 out of  65 | elapsed:    0.0s finished\n"
     ]
    },
    {
     "name": "stdout",
     "output_type": "stream",
     "text": [
      "(<362x3601 sparse matrix of type '<class 'numpy.int64'>'\n",
      "\twith 160732 stored elements in Compressed Sparse Row format>, array([   0,   55,  102,  157,  212,  263,  316,  375,  426,  475,  538,\n",
      "        597,  660,  719,  780,  819,  866,  919,  966, 1021, 1072, 1129,\n",
      "       1188, 1243, 1302, 1363, 1422, 1483, 1538, 1599, 1654, 1711, 1758,\n",
      "       1803, 1870, 1919, 1976, 2029, 2090, 2143, 2196, 2255, 2310, 2369,\n",
      "       2422, 2475, 2536, 2593, 2646, 2691, 2744, 2797, 2856, 2907, 2962,\n",
      "       3009, 3076, 3125, 3196, 3257, 3318, 3381, 3432, 3489, 3546, 3601]))\n"
     ]
    },
    {
     "name": "stderr",
     "output_type": "stream",
     "text": [
      "[Parallel(n_jobs=-1)]: Done  42 tasks      | elapsed:    0.1s\n",
      "[Parallel(n_jobs=-1)]: Done  65 out of  65 | elapsed:    0.2s finished\n",
      "[Parallel(n_jobs=4)]: Done  42 tasks      | elapsed:    0.0s\n",
      "[Parallel(n_jobs=4)]: Done  65 out of  65 | elapsed:    0.0s finished\n",
      "[Parallel(n_jobs=4)]: Done  42 tasks      | elapsed:    0.0s\n",
      "[Parallel(n_jobs=4)]: Done  65 out of  65 | elapsed:    0.0s finished\n",
      "[Parallel(n_jobs=-1)]: Done  42 tasks      | elapsed:    0.0s\n",
      "[Parallel(n_jobs=-1)]: Done  65 out of  65 | elapsed:    0.1s finished\n"
     ]
    },
    {
     "name": "stdout",
     "output_type": "stream",
     "text": [
      "(<387x25505 sparse matrix of type '<class 'numpy.int64'>'\n",
      "\twith 223070 stored elements in Compressed Sparse Row format>, array([    0,   381,   796,  1159,  1548,  1943,  2370,  2731,  3098,\n",
      "        3491,  3884,  4273,  4684,  5085,  5486,  5887,  6266,  6665,\n",
      "        7070,  7499,  7868,  8271,  8670,  9077,  9494,  9851, 10238,\n",
      "       10627, 11044, 11445, 11870, 12301, 12682, 13093, 13480, 13863,\n",
      "       14256, 14641, 15028, 15419, 15834, 16215, 16600, 16993, 17378,\n",
      "       17769, 18168, 18579, 18938, 19323, 19708, 20103, 20506, 20909,\n",
      "       21298, 21715, 22078, 22445, 22834, 23241, 23608, 24003, 24382,\n",
      "       24757, 25128, 25505]))\n"
     ]
    },
    {
     "name": "stderr",
     "output_type": "stream",
     "text": [
      "[Parallel(n_jobs=-1)]: Done  42 tasks      | elapsed:    0.1s\n",
      "[Parallel(n_jobs=-1)]: Done  65 out of  65 | elapsed:    0.1s finished\n",
      "[Parallel(n_jobs=4)]: Done  42 tasks      | elapsed:    0.0s\n",
      "[Parallel(n_jobs=4)]: Done  65 out of  65 | elapsed:    0.0s finished\n",
      "[Parallel(n_jobs=4)]: Done  42 tasks      | elapsed:    0.0s\n",
      "[Parallel(n_jobs=4)]: Done  65 out of  65 | elapsed:    0.0s finished\n",
      "[Parallel(n_jobs=-1)]: Done  42 tasks      | elapsed:    0.0s\n",
      "[Parallel(n_jobs=-1)]: Done  65 out of  65 | elapsed:    0.1s finished\n"
     ]
    },
    {
     "name": "stdout",
     "output_type": "stream",
     "text": [
      "(<355x28183 sparse matrix of type '<class 'numpy.int64'>'\n",
      "\twith 218876 stored elements in Compressed Sparse Row format>, array([    0,   443,   888,  1323,  1740,  2183,  2630,  3055,  3486,\n",
      "        3907,  4350,  4779,  5182,  5643,  6068,  6499,  6922,  7349,\n",
      "        7772,  8189,  8640,  9075,  9512,  9971, 10414, 10847, 11272,\n",
      "       11719, 12152, 12601, 13030, 13479, 13914, 14337, 14788, 15223,\n",
      "       15664, 16111, 16558, 16987, 17410, 17829, 18248, 18671, 19106,\n",
      "       19547, 19986, 20429, 20854, 21289, 21712, 22123, 22558, 23013,\n",
      "       23444, 23893, 24330, 24777, 25152, 25587, 26026, 26471, 26908,\n",
      "       27309, 27734, 28183]))\n"
     ]
    },
    {
     "name": "stderr",
     "output_type": "stream",
     "text": [
      "[Parallel(n_jobs=-1)]: Done  42 tasks      | elapsed:    0.1s\n",
      "[Parallel(n_jobs=-1)]: Done  65 out of  65 | elapsed:    0.2s finished\n",
      "[Parallel(n_jobs=4)]: Done  42 tasks      | elapsed:    0.0s\n",
      "[Parallel(n_jobs=4)]: Done  65 out of  65 | elapsed:    0.0s finished\n",
      "[Parallel(n_jobs=4)]: Done  42 tasks      | elapsed:    0.0s\n",
      "[Parallel(n_jobs=4)]: Done  65 out of  65 | elapsed:    0.0s finished\n",
      "[Parallel(n_jobs=-1)]: Done  42 tasks      | elapsed:    0.0s\n",
      "[Parallel(n_jobs=-1)]: Done  65 out of  65 | elapsed:    0.1s finished\n"
     ]
    },
    {
     "name": "stdout",
     "output_type": "stream",
     "text": [
      "(<394x27121 sparse matrix of type '<class 'numpy.int64'>'\n",
      "\twith 235755 stored elements in Compressed Sparse Row format>, array([    0,   421,   852,  1253,  1632,  2029,  2454,  2887,  3276,\n",
      "        3681,  4110,  4525,  4922,  5339,  5754,  6183,  6600,  7011,\n",
      "        7438,  7849,  8280,  8711,  9134,  9571,  9964, 10389, 10788,\n",
      "       11213, 11638, 12063, 12454, 12879, 13316, 13755, 14180, 14587,\n",
      "       15008, 15445, 15874, 16263, 16668, 17111, 17552, 17969, 18380,\n",
      "       18805, 19260, 19681, 20092, 20511, 20904, 21325, 21734, 22143,\n",
      "       22564, 22937, 23356, 23757, 24178, 24619, 25022, 25433, 25854,\n",
      "       26279, 26696, 27121]))\n"
     ]
    },
    {
     "name": "stderr",
     "output_type": "stream",
     "text": [
      "[Parallel(n_jobs=-1)]: Done  42 tasks      | elapsed:    0.1s\n",
      "[Parallel(n_jobs=-1)]: Done  65 out of  65 | elapsed:    0.1s finished\n",
      "[Parallel(n_jobs=4)]: Done  42 tasks      | elapsed:    0.0s\n",
      "[Parallel(n_jobs=4)]: Done  65 out of  65 | elapsed:    0.0s finished\n",
      "[Parallel(n_jobs=4)]: Done  42 tasks      | elapsed:    0.0s\n",
      "[Parallel(n_jobs=4)]: Done  65 out of  65 | elapsed:    0.0s finished\n",
      "[Parallel(n_jobs=-1)]: Done  42 tasks      | elapsed:    0.0s\n",
      "[Parallel(n_jobs=-1)]: Done  65 out of  65 | elapsed:    0.1s finished\n"
     ]
    },
    {
     "name": "stdout",
     "output_type": "stream",
     "text": [
      "(<308x25475 sparse matrix of type '<class 'numpy.int64'>'\n",
      "\twith 194113 stored elements in Compressed Sparse Row format>, array([    0,   395,   784,  1199,  1604,  1983,  2406,  2823,  3212,\n",
      "        3611,  4000,  4385,  4792,  5179,  5580,  5963,  6344,  6761,\n",
      "        7180,  7575,  7974,  8375,  8780,  9169,  9570,  9949, 10362,\n",
      "       10741, 11130, 11519, 11914, 12315, 12716, 13065, 13460, 13865,\n",
      "       14268, 14649, 15034, 15441, 15828, 16213, 16604, 16995, 17404,\n",
      "       17799, 18204, 18577, 18956, 19359, 19752, 20143, 20534, 20923,\n",
      "       21314, 21703, 22080, 22479, 22854, 23225, 23590, 23967, 24328,\n",
      "       24685, 25074, 25475]))\n"
     ]
    },
    {
     "name": "stderr",
     "output_type": "stream",
     "text": [
      "[Parallel(n_jobs=-1)]: Done  42 tasks      | elapsed:    0.1s\n",
      "[Parallel(n_jobs=-1)]: Done  65 out of  65 | elapsed:    0.1s finished\n",
      "[Parallel(n_jobs=4)]: Done  42 tasks      | elapsed:    0.0s\n",
      "[Parallel(n_jobs=4)]: Done  65 out of  65 | elapsed:    0.0s finished\n",
      "[Parallel(n_jobs=4)]: Done  42 tasks      | elapsed:    0.0s\n",
      "[Parallel(n_jobs=4)]: Done  65 out of  65 | elapsed:    0.0s finished\n",
      "[Parallel(n_jobs=-1)]: Done  42 tasks      | elapsed:    0.0s\n",
      "[Parallel(n_jobs=-1)]: Done  65 out of  65 | elapsed:    0.1s finished\n"
     ]
    },
    {
     "name": "stdout",
     "output_type": "stream",
     "text": [
      "(<157x22937 sparse matrix of type '<class 'numpy.int64'>'\n",
      "\twith 90409 stored elements in Compressed Sparse Row format>, array([    0,   363,   734,  1081,  1452,  1821,  2178,  2527,  2904,\n",
      "        3239,  3584,  3945,  4308,  4677,  5016,  5385,  5770,  6121,\n",
      "        6506,  6841,  7186,  7533,  7888,  8243,  8602,  8965,  9316,\n",
      "        9663, 10024, 10375, 10692, 11063, 11422, 11773, 12130, 12465,\n",
      "       12822, 13177, 13534, 13887, 14240, 14605, 14968, 15325, 15700,\n",
      "       16039, 16404, 16749, 17078, 17415, 17746, 18071, 18420, 18777,\n",
      "       19154, 19505, 19844, 20185, 20514, 20853, 21194, 21531, 21872,\n",
      "       22211, 22572, 22937]))\n"
     ]
    },
    {
     "name": "stderr",
     "output_type": "stream",
     "text": [
      "[Parallel(n_jobs=-1)]: Done  42 tasks      | elapsed:    0.1s\n",
      "[Parallel(n_jobs=-1)]: Done  65 out of  65 | elapsed:    0.2s finished\n",
      "[Parallel(n_jobs=4)]: Done  42 tasks      | elapsed:    0.0s\n",
      "[Parallel(n_jobs=4)]: Done  65 out of  65 | elapsed:    0.0s finished\n",
      "[Parallel(n_jobs=4)]: Done  42 tasks      | elapsed:    0.0s\n",
      "[Parallel(n_jobs=4)]: Done  65 out of  65 | elapsed:    0.0s finished\n",
      "[Parallel(n_jobs=-1)]: Done  42 tasks      | elapsed:    0.0s\n",
      "[Parallel(n_jobs=-1)]: Done  65 out of  65 | elapsed:    0.1s finished\n"
     ]
    },
    {
     "name": "stdout",
     "output_type": "stream",
     "text": [
      "(<357x12049 sparse matrix of type '<class 'numpy.int64'>'\n",
      "\twith 191586 stored elements in Compressed Sparse Row format>, array([    0,   179,   370,   541,   728,   919,  1100,  1273,  1466,\n",
      "        1643,  1848,  2033,  2214,  2389,  2580,  2749,  2926,  3139,\n",
      "        3314,  3515,  3692,  3877,  4058,  4243,  4442,  4617,  4804,\n",
      "        4975,  5148,  5325,  5494,  5669,  5854,  6053,  6254,  6435,\n",
      "        6612,  6809,  7002,  7167,  7344,  7529,  7696,  7889,  8070,\n",
      "        8271,  8474,  8669,  8852,  9035,  9234,  9433,  9636,  9819,\n",
      "       10028, 10213, 10392, 10585, 10768, 10939, 11124, 11321, 11500,\n",
      "       11695, 11868, 12049]))\n"
     ]
    },
    {
     "name": "stderr",
     "output_type": "stream",
     "text": [
      "[Parallel(n_jobs=-1)]: Done  42 tasks      | elapsed:    0.0s\n",
      "[Parallel(n_jobs=-1)]: Done  65 out of  65 | elapsed:    0.1s finished\n",
      "[Parallel(n_jobs=4)]: Done  42 tasks      | elapsed:    0.0s\n",
      "[Parallel(n_jobs=4)]: Done  65 out of  65 | elapsed:    0.0s finished\n",
      "[Parallel(n_jobs=4)]: Done  42 tasks      | elapsed:    0.0s\n",
      "[Parallel(n_jobs=4)]: Done  65 out of  65 | elapsed:    0.0s finished\n",
      "[Parallel(n_jobs=-1)]: Done  42 tasks      | elapsed:    0.0s\n",
      "[Parallel(n_jobs=-1)]: Done  65 out of  65 | elapsed:    0.1s finished\n"
     ]
    },
    {
     "name": "stdout",
     "output_type": "stream",
     "text": [
      "(<11x26255 sparse matrix of type '<class 'numpy.int64'>'\n",
      "\twith 6263 stored elements in Compressed Sparse Row format>, array([    0,   419,   818,  1199,  1638,  2055,  2438,  2851,  3220,\n",
      "        3625,  4036,  4433,  4836,  5255,  5644,  6049,  6482,  6885,\n",
      "        7268,  7673,  8052,  8455,  8844,  9239,  9638, 10071, 10480,\n",
      "       10923, 11290, 11689, 12110, 12507, 12896, 13311, 13748, 14131,\n",
      "       14534, 14949, 15356, 15769, 16132, 16509, 16888, 17285, 17702,\n",
      "       18111, 18526, 18929, 19318, 19717, 20130, 20521, 20922, 21313,\n",
      "       21698, 22085, 22544, 22955, 23390, 23811, 24200, 24609, 25010,\n",
      "       25427, 25814, 26255]))\n"
     ]
    },
    {
     "name": "stderr",
     "output_type": "stream",
     "text": [
      "[Parallel(n_jobs=-1)]: Done  42 tasks      | elapsed:    0.1s\n",
      "[Parallel(n_jobs=-1)]: Done  65 out of  65 | elapsed:    0.2s finished\n",
      "[Parallel(n_jobs=4)]: Done  42 tasks      | elapsed:    0.0s\n",
      "[Parallel(n_jobs=4)]: Done  65 out of  65 | elapsed:    0.0s finished\n",
      "[Parallel(n_jobs=4)]: Done  42 tasks      | elapsed:    0.0s\n",
      "[Parallel(n_jobs=4)]: Done  65 out of  65 | elapsed:    0.0s finished\n",
      "[Parallel(n_jobs=-1)]: Done  42 tasks      | elapsed:    0.0s\n",
      "[Parallel(n_jobs=-1)]: Done  65 out of  65 | elapsed:    0.1s finished\n"
     ]
    },
    {
     "name": "stdout",
     "output_type": "stream",
     "text": [
      "(<410x745 sparse matrix of type '<class 'numpy.int64'>'\n",
      "\twith 91000 stored elements in Compressed Sparse Row format>, array([  0,   9,  26,  39,  54,  63,  72,  83,  92, 103, 114, 125, 134,\n",
      "       143, 154, 163, 174, 181, 196, 207, 214, 231, 240, 253, 266, 273,\n",
      "       284, 295, 306, 319, 330, 339, 350, 357, 370, 383, 396, 407, 420,\n",
      "       435, 448, 457, 470, 483, 492, 505, 516, 529, 544, 555, 566, 581,\n",
      "       594, 605, 620, 635, 646, 653, 664, 675, 686, 703, 714, 725, 736, 745]))\n"
     ]
    },
    {
     "name": "stderr",
     "output_type": "stream",
     "text": [
      "[Parallel(n_jobs=-1)]: Done  42 tasks      | elapsed:    0.1s\n",
      "[Parallel(n_jobs=-1)]: Done  65 out of  65 | elapsed:    0.2s finished\n",
      "[Parallel(n_jobs=4)]: Done  42 tasks      | elapsed:    0.0s\n",
      "[Parallel(n_jobs=4)]: Done  65 out of  65 | elapsed:    0.0s finished\n",
      "[Parallel(n_jobs=4)]: Done  42 tasks      | elapsed:    0.0s\n",
      "[Parallel(n_jobs=4)]: Done  65 out of  65 | elapsed:    0.0s finished\n",
      "[Parallel(n_jobs=-1)]: Done  42 tasks      | elapsed:    0.0s\n",
      "[Parallel(n_jobs=-1)]: Done  65 out of  65 | elapsed:    0.1s finished\n"
     ]
    },
    {
     "name": "stdout",
     "output_type": "stream",
     "text": [
      "(<373x25963 sparse matrix of type '<class 'numpy.int64'>'\n",
      "\twith 225151 stored elements in Compressed Sparse Row format>, array([    0,   411,   800,  1241,  1648,  2039,  2436,  2857,  3280,\n",
      "        3675,  4068,  4443,  4846,  5257,  5658,  6041,  6408,  6781,\n",
      "        7188,  7601,  8000,  8391,  8758,  9167,  9566,  9983, 10362,\n",
      "       10769, 11158, 11547, 11934, 12297, 12700, 13113, 13524, 13913,\n",
      "       14342, 14757, 15174, 15581, 15982, 16391, 16790, 17217, 17628,\n",
      "       18011, 18388, 18783, 19184, 19589, 19968, 20365, 20798, 21195,\n",
      "       21608, 21979, 22372, 22757, 23126, 23539, 23960, 24353, 24756,\n",
      "       25151, 25576, 25963]))\n"
     ]
    },
    {
     "name": "stderr",
     "output_type": "stream",
     "text": [
      "[Parallel(n_jobs=-1)]: Done  42 tasks      | elapsed:    0.1s\n",
      "[Parallel(n_jobs=-1)]: Done  65 out of  65 | elapsed:    0.2s finished\n",
      "[Parallel(n_jobs=4)]: Done  42 tasks      | elapsed:    0.0s\n",
      "[Parallel(n_jobs=4)]: Done  65 out of  65 | elapsed:    0.0s finished\n",
      "[Parallel(n_jobs=4)]: Done  42 tasks      | elapsed:    0.0s\n",
      "[Parallel(n_jobs=4)]: Done  65 out of  65 | elapsed:    0.0s finished\n",
      "[Parallel(n_jobs=-1)]: Done  42 tasks      | elapsed:    0.0s\n",
      "[Parallel(n_jobs=-1)]: Done  65 out of  65 | elapsed:    0.1s finished\n"
     ]
    },
    {
     "name": "stdout",
     "output_type": "stream",
     "text": [
      "(<347x26321 sparse matrix of type '<class 'numpy.int64'>'\n",
      "\twith 207063 stored elements in Compressed Sparse Row format>, array([    0,   403,   794,  1179,  1560,  1983,  2426,  2843,  3254,\n",
      "        3683,  4084,  4475,  4896,  5299,  5712,  6141,  6550,  6943,\n",
      "        7350,  7767,  8160,  8575,  8972,  9397,  9764, 10149, 10582,\n",
      "       10971, 11366, 11787, 12186, 12595, 13028, 13409, 13814, 14197,\n",
      "       14596, 14963, 15372, 15759, 16158, 16589, 16986, 17399, 17790,\n",
      "       18211, 18592, 18999, 19424, 19843, 20256, 20651, 21040, 21449,\n",
      "       21828, 22227, 22656, 23081, 23520, 23911, 24306, 24727, 25130,\n",
      "       25529, 25920, 26321]))\n"
     ]
    },
    {
     "name": "stderr",
     "output_type": "stream",
     "text": [
      "[Parallel(n_jobs=-1)]: Done  42 tasks      | elapsed:    0.1s\n",
      "[Parallel(n_jobs=-1)]: Done  65 out of  65 | elapsed:    0.2s finished\n",
      "[Parallel(n_jobs=4)]: Done  42 tasks      | elapsed:    0.0s\n",
      "[Parallel(n_jobs=4)]: Done  65 out of  65 | elapsed:    0.0s finished\n",
      "[Parallel(n_jobs=4)]: Done  42 tasks      | elapsed:    0.0s\n",
      "[Parallel(n_jobs=4)]: Done  65 out of  65 | elapsed:    0.0s finished\n",
      "[Parallel(n_jobs=-1)]: Done  42 tasks      | elapsed:    0.0s\n",
      "[Parallel(n_jobs=-1)]: Done  65 out of  65 | elapsed:    0.1s finished\n"
     ]
    },
    {
     "name": "stdout",
     "output_type": "stream",
     "text": [
      "(<387x26701 sparse matrix of type '<class 'numpy.int64'>'\n",
      "\twith 225914 stored elements in Compressed Sparse Row format>, array([    0,   399,   830,  1241,  1662,  2055,  2462,  2889,  3302,\n",
      "        3689,  4088,  4519,  4920,  5335,  5760,  6169,  6576,  7019,\n",
      "        7392,  7797,  8218,  8647,  9066,  9469,  9882, 10293, 10684,\n",
      "       11071, 11466, 11897, 12316, 12733, 13158, 13569, 13942, 14369,\n",
      "       14778, 15193, 15602, 15999, 16396, 16791, 17192, 17603, 18024,\n",
      "       18421, 18844, 19263, 19670, 20073, 20496, 20907, 21342, 21755,\n",
      "       22182, 22597, 22974, 23387, 23792, 24221, 24624, 25041, 25416,\n",
      "       25835, 26268, 26701]))\n"
     ]
    },
    {
     "name": "stderr",
     "output_type": "stream",
     "text": [
      "[Parallel(n_jobs=-1)]: Done  42 tasks      | elapsed:    0.1s\n",
      "[Parallel(n_jobs=-1)]: Done  65 out of  65 | elapsed:    0.1s finished\n",
      "[Parallel(n_jobs=4)]: Done  42 tasks      | elapsed:    0.0s\n",
      "[Parallel(n_jobs=4)]: Done  65 out of  65 | elapsed:    0.0s finished\n",
      "[Parallel(n_jobs=4)]: Done  42 tasks      | elapsed:    0.0s\n",
      "[Parallel(n_jobs=4)]: Done  65 out of  65 | elapsed:    0.0s finished\n",
      "[Parallel(n_jobs=-1)]: Done  42 tasks      | elapsed:    0.0s\n",
      "[Parallel(n_jobs=-1)]: Done  65 out of  65 | elapsed:    0.1s finished\n"
     ]
    },
    {
     "name": "stdout",
     "output_type": "stream",
     "text": [
      "(<373x25259 sparse matrix of type '<class 'numpy.int64'>'\n",
      "\twith 231360 stored elements in Compressed Sparse Row format>, array([    0,   391,   810,  1169,  1558,  1969,  2316,  2707,  3104,\n",
      "        3485,  3854,  4255,  4670,  5075,  5474,  5879,  6276,  6687,\n",
      "        7094,  7491,  7890,  8271,  8648,  9037,  9458,  9853, 10222,\n",
      "       10615, 10992, 11367, 11738, 12137, 12572, 12965, 13362, 13771,\n",
      "       14156, 14529, 14916, 15311, 15708, 16095, 16456, 16853, 17266,\n",
      "       17677, 18064, 18459, 18830, 19215, 19612, 19985, 20362, 20749,\n",
      "       21140, 21505, 21872, 22203, 22604, 22997, 23348, 23733, 24124,\n",
      "       24501, 24884, 25259]))\n"
     ]
    },
    {
     "name": "stderr",
     "output_type": "stream",
     "text": [
      "[Parallel(n_jobs=-1)]: Done  42 tasks      | elapsed:    0.1s\n",
      "[Parallel(n_jobs=-1)]: Done  65 out of  65 | elapsed:    0.2s finished\n",
      "[Parallel(n_jobs=4)]: Done  42 tasks      | elapsed:    0.0s\n",
      "[Parallel(n_jobs=4)]: Done  65 out of  65 | elapsed:    0.0s finished\n",
      "[Parallel(n_jobs=4)]: Done  42 tasks      | elapsed:    0.0s\n",
      "[Parallel(n_jobs=4)]: Done  65 out of  65 | elapsed:    0.0s finished\n",
      "[Parallel(n_jobs=-1)]: Done  42 tasks      | elapsed:    0.0s\n",
      "[Parallel(n_jobs=-1)]: Done  65 out of  65 | elapsed:    0.1s finished\n"
     ]
    },
    {
     "name": "stdout",
     "output_type": "stream",
     "text": [
      "(<353x27065 sparse matrix of type '<class 'numpy.int64'>'\n",
      "\twith 208557 stored elements in Compressed Sparse Row format>, array([    0,   409,   822,  1215,  1624,  2055,  2484,  2891,  3282,\n",
      "        3719,  4122,  4595,  5028,  5443,  5846,  6301,  6680,  7105,\n",
      "        7524,  7915,  8328,  8739,  9146,  9579,  9988, 10399, 10856,\n",
      "       11263, 11670, 12065, 12472, 12897, 13350, 13761, 14168, 14587,\n",
      "       15006, 15401, 15830, 16263, 16676, 17093, 17518, 17915, 18314,\n",
      "       18733, 19166, 19563, 20012, 20447, 20872, 21291, 21706, 22115,\n",
      "       22506, 22931, 23358, 23803, 24214, 24635, 25032, 25435, 25860,\n",
      "       26271, 26676, 27065]))\n"
     ]
    },
    {
     "name": "stderr",
     "output_type": "stream",
     "text": [
      "[Parallel(n_jobs=-1)]: Done  42 tasks      | elapsed:    0.0s\n",
      "[Parallel(n_jobs=-1)]: Done  65 out of  65 | elapsed:    0.1s finished\n",
      "[Parallel(n_jobs=4)]: Done  42 tasks      | elapsed:    0.0s\n",
      "[Parallel(n_jobs=4)]: Done  65 out of  65 | elapsed:    0.0s finished\n",
      "[Parallel(n_jobs=4)]: Done  42 tasks      | elapsed:    0.0s\n",
      "[Parallel(n_jobs=4)]: Done  65 out of  65 | elapsed:    0.0s finished\n",
      "[Parallel(n_jobs=-1)]: Done  42 tasks      | elapsed:    0.0s\n",
      "[Parallel(n_jobs=-1)]: Done  65 out of  65 | elapsed:    0.1s finished\n"
     ]
    },
    {
     "name": "stdout",
     "output_type": "stream",
     "text": [
      "(<126x26645 sparse matrix of type '<class 'numpy.int64'>'\n",
      "\twith 73479 stored elements in Compressed Sparse Row format>, array([    0,   425,   810,  1255,  1650,  2075,  2482,  2907,  3304,\n",
      "        3725,  4108,  4529,  4928,  5303,  5724,  6107,  6550,  6973,\n",
      "        7352,  7789,  8208,  8597,  8994,  9415,  9812, 10229, 10654,\n",
      "       11027, 11440, 11867, 12264, 12683, 13104, 13539, 13958, 14369,\n",
      "       14766, 15193, 15618, 16015, 16400, 16811, 17212, 17623, 18022,\n",
      "       18459, 18864, 19281, 19690, 20109, 20510, 20901, 21324, 21763,\n",
      "       22172, 22549, 22932, 23325, 23762, 24165, 24576, 24991, 25398,\n",
      "       25797, 26200, 26645]))\n"
     ]
    },
    {
     "name": "stderr",
     "output_type": "stream",
     "text": [
      "[Parallel(n_jobs=-1)]: Done  42 tasks      | elapsed:    0.1s\n",
      "[Parallel(n_jobs=-1)]: Done  65 out of  65 | elapsed:    0.1s finished\n",
      "[Parallel(n_jobs=4)]: Done  42 tasks      | elapsed:    0.0s\n",
      "[Parallel(n_jobs=4)]: Done  65 out of  65 | elapsed:    0.0s finished\n",
      "[Parallel(n_jobs=4)]: Done  42 tasks      | elapsed:    0.0s\n",
      "[Parallel(n_jobs=4)]: Done  65 out of  65 | elapsed:    0.0s finished\n",
      "[Parallel(n_jobs=-1)]: Done  42 tasks      | elapsed:    0.0s\n",
      "[Parallel(n_jobs=-1)]: Done  65 out of  65 | elapsed:    0.1s finished\n"
     ]
    },
    {
     "name": "stdout",
     "output_type": "stream",
     "text": [
      "(<395x10121 sparse matrix of type '<class 'numpy.int64'>'\n",
      "\twith 192966 stored elements in Compressed Sparse Row format>, array([    0,   135,   294,   447,   578,   725,   896,  1039,  1192,\n",
      "        1341,  1508,  1665,  1830,  1971,  2142,  2295,  2432,  2593,\n",
      "        2740,  2893,  3060,  3211,  3364,  3523,  3686,  3839,  4018,\n",
      "        4171,  4338,  4497,  4648,  4829,  4978,  5141,  5294,  5467,\n",
      "        5624,  5791,  5954,  6095,  6228,  6375,  6526,  6685,  6832,\n",
      "        6977,  7124,  7283,  7438,  7593,  7764,  7927,  8100,  8259,\n",
      "        8408,  8559,  8718,  8859,  9016,  9181,  9348,  9511,  9668,\n",
      "        9831,  9986, 10121]))\n"
     ]
    },
    {
     "name": "stderr",
     "output_type": "stream",
     "text": [
      "[Parallel(n_jobs=-1)]: Done  42 tasks      | elapsed:    0.1s\n",
      "[Parallel(n_jobs=-1)]: Done  65 out of  65 | elapsed:    0.2s finished\n",
      "[Parallel(n_jobs=4)]: Done  42 tasks      | elapsed:    0.0s\n",
      "[Parallel(n_jobs=4)]: Done  65 out of  65 | elapsed:    0.0s finished\n",
      "[Parallel(n_jobs=4)]: Done  42 tasks      | elapsed:    0.0s\n",
      "[Parallel(n_jobs=4)]: Done  65 out of  65 | elapsed:    0.0s finished\n",
      "[Parallel(n_jobs=-1)]: Done  42 tasks      | elapsed:    0.0s\n",
      "[Parallel(n_jobs=-1)]: Done  65 out of  65 | elapsed:    0.0s finished\n"
     ]
    },
    {
     "name": "stdout",
     "output_type": "stream",
     "text": [
      "(<369x26815 sparse matrix of type '<class 'numpy.int64'>'\n",
      "\twith 214015 stored elements in Compressed Sparse Row format>, array([    0,   411,   786,  1193,  1588,  2005,  2444,  2851,  3272,\n",
      "        3693,  4120,  4517,  4938,  5327,  5726,  6117,  6514,  6957,\n",
      "        7374,  7777,  8180,  8595,  9000,  9413,  9812, 10235, 10658,\n",
      "       11095, 11510, 11931, 12330, 12743, 13140, 13559, 13980, 14371,\n",
      "       14786, 15183, 15610, 16021, 16448, 16863, 17262, 17653, 18080,\n",
      "       18489, 18882, 19295, 19704, 20107, 20512, 20909, 21390, 21803,\n",
      "       22256, 22659, 23080, 23489, 23914, 24335, 24750, 25177, 25574,\n",
      "       25977, 26396, 26815]))\n"
     ]
    },
    {
     "name": "stderr",
     "output_type": "stream",
     "text": [
      "[Parallel(n_jobs=-1)]: Done  42 tasks      | elapsed:    0.1s\n",
      "[Parallel(n_jobs=-1)]: Done  65 out of  65 | elapsed:    0.1s finished\n",
      "[Parallel(n_jobs=4)]: Done  42 tasks      | elapsed:    0.0s\n",
      "[Parallel(n_jobs=4)]: Done  65 out of  65 | elapsed:    0.0s finished\n",
      "[Parallel(n_jobs=4)]: Done  42 tasks      | elapsed:    0.0s\n",
      "[Parallel(n_jobs=4)]: Done  65 out of  65 | elapsed:    0.0s finished\n",
      "[Parallel(n_jobs=-1)]: Done  42 tasks      | elapsed:    0.0s\n",
      "[Parallel(n_jobs=-1)]: Done  65 out of  65 | elapsed:    0.1s finished\n"
     ]
    },
    {
     "name": "stdout",
     "output_type": "stream",
     "text": [
      "(<274x27699 sparse matrix of type '<class 'numpy.int64'>'\n",
      "\twith 174297 stored elements in Compressed Sparse Row format>, array([    0,   433,   878,  1329,  1780,  2201,  2650,  3089,  3532,\n",
      "        3961,  4368,  4749,  5184,  5631,  6056,  6513,  6964,  7371,\n",
      "        7802,  8241,  8666,  9123,  9538,  9921, 10342, 10767, 11188,\n",
      "       11595, 12004, 12405, 12828, 13261, 13684, 14117, 14552, 14945,\n",
      "       15398, 15805, 16210, 16647, 17082, 17517, 17948, 18369, 18832,\n",
      "       19271, 19676, 20075, 20482, 20905, 21308, 21733, 22188, 22629,\n",
      "       23044, 23471, 23878, 24297, 24682, 25127, 25572, 26015, 26436,\n",
      "       26847, 27268, 27699]))\n"
     ]
    },
    {
     "name": "stderr",
     "output_type": "stream",
     "text": [
      "[Parallel(n_jobs=-1)]: Done  42 tasks      | elapsed:    0.1s\n",
      "[Parallel(n_jobs=-1)]: Done  65 out of  65 | elapsed:    0.2s finished\n",
      "[Parallel(n_jobs=4)]: Done  42 tasks      | elapsed:    0.0s\n",
      "[Parallel(n_jobs=4)]: Done  65 out of  65 | elapsed:    0.0s finished\n",
      "[Parallel(n_jobs=4)]: Done  42 tasks      | elapsed:    0.0s\n",
      "[Parallel(n_jobs=4)]: Done  65 out of  65 | elapsed:    0.0s finished\n",
      "[Parallel(n_jobs=-1)]: Done  42 tasks      | elapsed:    0.0s\n",
      "[Parallel(n_jobs=-1)]: Done  65 out of  65 | elapsed:    0.1s finished\n"
     ]
    },
    {
     "name": "stdout",
     "output_type": "stream",
     "text": [
      "(<374x22027 sparse matrix of type '<class 'numpy.int64'>'\n",
      "\twith 226888 stored elements in Compressed Sparse Row format>, array([    0,   319,   662,   993,  1324,  1671,  2006,  2337,  2682,\n",
      "        3027,  3374,  3753,  4080,  4397,  4742,  5055,  5414,  5747,\n",
      "        6084,  6439,  6784,  7139,  7448,  7771,  8124,  8445,  8796,\n",
      "        9147,  9482,  9809, 10134, 10493, 10822, 11191, 11530, 11863,\n",
      "       12198, 12557, 12908, 13239, 13560, 13867, 14184, 14527, 14864,\n",
      "       15213, 15568, 15913, 16242, 16571, 16900, 17249, 17598, 17933,\n",
      "       18278, 18623, 18940, 19279, 19634, 19997, 20336, 20673, 21028,\n",
      "       21367, 21700, 22027]))\n"
     ]
    },
    {
     "name": "stderr",
     "output_type": "stream",
     "text": [
      "[Parallel(n_jobs=-1)]: Done  42 tasks      | elapsed:    0.1s\n",
      "[Parallel(n_jobs=-1)]: Done  65 out of  65 | elapsed:    0.2s finished\n",
      "[Parallel(n_jobs=4)]: Done  42 tasks      | elapsed:    0.0s\n",
      "[Parallel(n_jobs=4)]: Done  65 out of  65 | elapsed:    0.0s finished\n",
      "[Parallel(n_jobs=4)]: Done  42 tasks      | elapsed:    0.0s\n",
      "[Parallel(n_jobs=4)]: Done  65 out of  65 | elapsed:    0.0s finished\n",
      "[Parallel(n_jobs=-1)]: Done  42 tasks      | elapsed:    0.0s\n",
      "[Parallel(n_jobs=-1)]: Done  65 out of  65 | elapsed:    0.1s finished\n"
     ]
    },
    {
     "name": "stdout",
     "output_type": "stream",
     "text": [
      "(<380x27331 sparse matrix of type '<class 'numpy.int64'>'\n",
      "\twith 228721 stored elements in Compressed Sparse Row format>, array([    0,   437,   866,  1289,  1744,  2185,  2610,  3057,  3494,\n",
      "        3901,  4306,  4737,  5162,  5597,  6014,  6427,  6860,  7269,\n",
      "        7694,  8129,  8536,  8961,  9376,  9783, 10180, 10627, 11056,\n",
      "       11457, 11894, 12309, 12722, 13137, 13564, 13961, 14392, 14821,\n",
      "       15240, 15691, 16108, 16505, 16922, 17351, 17764, 18159, 18594,\n",
      "       19011, 19410, 19859, 20252, 20663, 21060, 21509, 21926, 22335,\n",
      "       22762, 23195, 23614, 24015, 24448, 24847, 25274, 25709, 26134,\n",
      "       26549, 26944, 27331]))\n"
     ]
    },
    {
     "name": "stderr",
     "output_type": "stream",
     "text": [
      "[Parallel(n_jobs=-1)]: Done  42 tasks      | elapsed:    0.1s\n",
      "[Parallel(n_jobs=-1)]: Done  65 out of  65 | elapsed:    0.2s finished\n",
      "[Parallel(n_jobs=4)]: Done  42 tasks      | elapsed:    0.0s\n",
      "[Parallel(n_jobs=4)]: Done  65 out of  65 | elapsed:    0.0s finished\n",
      "[Parallel(n_jobs=4)]: Done  42 tasks      | elapsed:    0.0s\n",
      "[Parallel(n_jobs=4)]: Done  65 out of  65 | elapsed:    0.0s finished\n",
      "[Parallel(n_jobs=-1)]: Done  42 tasks      | elapsed:    0.0s\n",
      "[Parallel(n_jobs=-1)]: Done  65 out of  65 | elapsed:    0.1s finished\n"
     ]
    },
    {
     "name": "stdout",
     "output_type": "stream",
     "text": [
      "(<357x25815 sparse matrix of type '<class 'numpy.int64'>'\n",
      "\twith 207794 stored elements in Compressed Sparse Row format>, array([    0,   405,   802,  1175,  1580,  1973,  2368,  2765,  3156,\n",
      "        3547,  3956,  4379,  4786,  5225,  5638,  6069,  6472,  6881,\n",
      "        7286,  7669,  8042,  8463,  8862,  9269,  9686, 10071, 10480,\n",
      "       10871, 11250, 11655, 12046, 12419, 12832, 13259, 13644, 14011,\n",
      "       14386, 14739, 15136, 15503, 15890, 16297, 16704, 17095, 17492,\n",
      "       17893, 18326, 18733, 19120, 19503, 19884, 20255, 20646, 21035,\n",
      "       21458, 21819, 22220, 22599, 23002, 23415, 23846, 24225, 24602,\n",
      "       24997, 25392, 25815]))\n"
     ]
    },
    {
     "name": "stderr",
     "output_type": "stream",
     "text": [
      "[Parallel(n_jobs=-1)]: Done  42 tasks      | elapsed:    0.1s\n",
      "[Parallel(n_jobs=-1)]: Done  65 out of  65 | elapsed:    0.1s finished\n",
      "[Parallel(n_jobs=4)]: Done  42 tasks      | elapsed:    0.0s\n",
      "[Parallel(n_jobs=4)]: Done  65 out of  65 | elapsed:    0.0s finished\n",
      "[Parallel(n_jobs=4)]: Done  42 tasks      | elapsed:    0.0s\n",
      "[Parallel(n_jobs=4)]: Done  65 out of  65 | elapsed:    0.0s finished\n",
      "[Parallel(n_jobs=-1)]: Done  42 tasks      | elapsed:    0.0s\n",
      "[Parallel(n_jobs=-1)]: Done  65 out of  65 | elapsed:    0.1s finished\n"
     ]
    },
    {
     "name": "stdout",
     "output_type": "stream",
     "text": [
      "(<372x24919 sparse matrix of type '<class 'numpy.int64'>'\n",
      "\twith 225282 stored elements in Compressed Sparse Row format>, array([    0,   381,   776,  1149,  1514,  1899,  2296,  2663,  3054,\n",
      "        3437,  3820,  4173,  4566,  4929,  5304,  5687,  6078,  6451,\n",
      "        6838,  7235,  7604,  7977,  8356,  8735,  9138,  9557,  9930,\n",
      "       10341, 10744, 11129, 11494, 11877, 12266, 12659, 13026, 13437,\n",
      "       13828, 14203, 14574, 14961, 15316, 15727, 16070, 16459, 16866,\n",
      "       17251, 17650, 18023, 18432, 18821, 19210, 19597, 19982, 20329,\n",
      "       20702, 21119, 21518, 21927, 22304, 22713, 23112, 23473, 23838,\n",
      "       24199, 24552, 24919]))\n"
     ]
    },
    {
     "name": "stderr",
     "output_type": "stream",
     "text": [
      "[Parallel(n_jobs=-1)]: Done  42 tasks      | elapsed:    0.2s\n",
      "[Parallel(n_jobs=-1)]: Done  65 out of  65 | elapsed:    0.2s finished\n",
      "[Parallel(n_jobs=4)]: Done  42 tasks      | elapsed:    0.0s\n",
      "[Parallel(n_jobs=4)]: Done  65 out of  65 | elapsed:    0.0s finished\n",
      "[Parallel(n_jobs=4)]: Done  42 tasks      | elapsed:    0.0s\n",
      "[Parallel(n_jobs=4)]: Done  65 out of  65 | elapsed:    0.0s finished\n",
      "[Parallel(n_jobs=-1)]: Done  42 tasks      | elapsed:    0.0s\n",
      "[Parallel(n_jobs=-1)]: Done  65 out of  65 | elapsed:    0.1s finished\n"
     ]
    },
    {
     "name": "stdout",
     "output_type": "stream",
     "text": [
      "(<385x25171 sparse matrix of type '<class 'numpy.int64'>'\n",
      "\twith 223501 stored elements in Compressed Sparse Row format>, array([    0,   431,   828,  1215,  1640,  2037,  2406,  2803,  3204,\n",
      "        3601,  3982,  4353,  4708,  5051,  5440,  5809,  6194,  6567,\n",
      "        6984,  7355,  7790,  8173,  8530,  8915,  9304,  9699, 10088,\n",
      "       10477, 10836, 11225, 11636, 12029, 12434, 12823, 13226, 13581,\n",
      "       13970, 14345, 14712, 15065, 15434, 15835, 16234, 16657, 17044,\n",
      "       17465, 17866, 18235, 18598, 18967, 19390, 19743, 20116, 20501,\n",
      "       20906, 21291, 21708, 22083, 22478, 22855, 23220, 23591, 23970,\n",
      "       24353, 24770, 25171]))\n"
     ]
    },
    {
     "name": "stderr",
     "output_type": "stream",
     "text": [
      "[Parallel(n_jobs=-1)]: Done  42 tasks      | elapsed:    0.0s\n",
      "[Parallel(n_jobs=-1)]: Done  65 out of  65 | elapsed:    0.1s finished\n",
      "[Parallel(n_jobs=4)]: Done  42 tasks      | elapsed:    0.0s\n",
      "[Parallel(n_jobs=4)]: Done  65 out of  65 | elapsed:    0.0s finished\n",
      "[Parallel(n_jobs=4)]: Done  42 tasks      | elapsed:    0.0s\n",
      "[Parallel(n_jobs=4)]: Done  65 out of  65 | elapsed:    0.0s finished\n",
      "[Parallel(n_jobs=-1)]: Done  42 tasks      | elapsed:    0.0s\n",
      "[Parallel(n_jobs=-1)]: Done  65 out of  65 | elapsed:    0.1s finished\n"
     ]
    },
    {
     "name": "stdout",
     "output_type": "stream",
     "text": [
      "(<29x23557 sparse matrix of type '<class 'numpy.int64'>'\n",
      "\twith 17257 stored elements in Compressed Sparse Row format>, array([    0,   407,   752,  1109,  1494,  1867,  2240,  2583,  2916,\n",
      "        3241,  3588,  3949,  4348,  4713,  5072,  5425,  5788,  6131,\n",
      "        6480,  6831,  7226,  7579,  7940,  8291,  8646,  8985,  9354,\n",
      "        9711, 10078, 10433, 10830, 11171, 11530, 11911, 12258, 12619,\n",
      "       12998, 13375, 13744, 14115, 14476, 14809, 15176, 15549, 15886,\n",
      "       16251, 16604, 16963, 17320, 17679, 18078, 18447, 18822, 19187,\n",
      "       19562, 19919, 20266, 20633, 20990, 21347, 21716, 22073, 22438,\n",
      "       22813, 23160, 23557]))\n"
     ]
    },
    {
     "name": "stderr",
     "output_type": "stream",
     "text": [
      "[Parallel(n_jobs=-1)]: Done  42 tasks      | elapsed:    0.1s\n",
      "[Parallel(n_jobs=-1)]: Done  65 out of  65 | elapsed:    0.2s finished\n",
      "[Parallel(n_jobs=4)]: Done  42 tasks      | elapsed:    0.0s\n",
      "[Parallel(n_jobs=4)]: Done  65 out of  65 | elapsed:    0.0s finished\n",
      "[Parallel(n_jobs=4)]: Done  42 tasks      | elapsed:    0.0s\n",
      "[Parallel(n_jobs=4)]: Done  65 out of  65 | elapsed:    0.0s finished\n",
      "[Parallel(n_jobs=-1)]: Done  42 tasks      | elapsed:    0.0s\n",
      "[Parallel(n_jobs=-1)]: Done  65 out of  65 | elapsed:    0.1s finished\n"
     ]
    },
    {
     "name": "stdout",
     "output_type": "stream",
     "text": [
      "(<371x3521 sparse matrix of type '<class 'numpy.int64'>'\n",
      "\twith 149699 stored elements in Compressed Sparse Row format>, array([   0,   45,  100,  153,  212,  269,  328,  375,  422,  471,  532,\n",
      "        587,  640,  691,  756,  821,  886,  935,  990, 1047, 1098, 1147,\n",
      "       1196, 1245, 1306, 1375, 1422, 1481, 1530, 1579, 1632, 1683, 1740,\n",
      "       1793, 1834, 1887, 1938, 1993, 2048, 2105, 2166, 2223, 2272, 2331,\n",
      "       2386, 2439, 2492, 2547, 2606, 2661, 2702, 2753, 2804, 2863, 2912,\n",
      "       2965, 3018, 3071, 3124, 3185, 3230, 3291, 3346, 3405, 3466, 3521]))\n"
     ]
    },
    {
     "name": "stderr",
     "output_type": "stream",
     "text": [
      "[Parallel(n_jobs=-1)]: Done  42 tasks      | elapsed:    0.2s\n",
      "[Parallel(n_jobs=-1)]: Done  65 out of  65 | elapsed:    0.3s finished\n",
      "[Parallel(n_jobs=4)]: Done  42 tasks      | elapsed:    0.0s\n",
      "[Parallel(n_jobs=4)]: Done  65 out of  65 | elapsed:    0.1s finished\n",
      "[Parallel(n_jobs=4)]: Done  42 tasks      | elapsed:    0.0s\n",
      "[Parallel(n_jobs=4)]: Done  65 out of  65 | elapsed:    0.0s finished\n",
      "[Parallel(n_jobs=-1)]: Done  42 tasks      | elapsed:    0.0s\n",
      "[Parallel(n_jobs=-1)]: Done  65 out of  65 | elapsed:    0.1s finished\n"
     ]
    },
    {
     "name": "stdout",
     "output_type": "stream",
     "text": [
      "(<357x25483 sparse matrix of type '<class 'numpy.int64'>'\n",
      "\twith 218336 stored elements in Compressed Sparse Row format>, array([    0,   387,   792,  1159,  1556,  1949,  2342,  2743,  3130,\n",
      "        3563,  3946,  4365,  4758,  5127,  5508,  5891,  6286,  6707,\n",
      "        7098,  7489,  7894,  8281,  8680,  9067,  9456,  9843, 10220,\n",
      "       10591, 10944, 11341, 11744, 12133, 12542, 12923, 13320, 13709,\n",
      "       14088, 14475, 14892, 15271, 15672, 16091, 16486, 16865, 17304,\n",
      "       17703, 18088, 18471, 18852, 19257, 19662, 20069, 20470, 20853,\n",
      "       21246, 21631, 22036, 22417, 22822, 23177, 23570, 23943, 24346,\n",
      "       24721, 25100, 25483]))\n"
     ]
    },
    {
     "name": "stderr",
     "output_type": "stream",
     "text": [
      "[Parallel(n_jobs=-1)]: Done  42 tasks      | elapsed:    0.1s\n",
      "[Parallel(n_jobs=-1)]: Done  65 out of  65 | elapsed:    0.2s finished\n",
      "[Parallel(n_jobs=4)]: Done  42 tasks      | elapsed:    0.0s\n",
      "[Parallel(n_jobs=4)]: Done  65 out of  65 | elapsed:    0.0s finished\n",
      "[Parallel(n_jobs=4)]: Done  42 tasks      | elapsed:    0.0s\n",
      "[Parallel(n_jobs=4)]: Done  65 out of  65 | elapsed:    0.0s finished\n",
      "[Parallel(n_jobs=-1)]: Done  42 tasks      | elapsed:    0.0s\n",
      "[Parallel(n_jobs=-1)]: Done  65 out of  65 | elapsed:    0.1s finished\n"
     ]
    },
    {
     "name": "stdout",
     "output_type": "stream",
     "text": [
      "(<396x25179 sparse matrix of type '<class 'numpy.int64'>'\n",
      "\twith 237996 stored elements in Compressed Sparse Row format>, array([    0,   409,   772,  1165,  1536,  1917,  2310,  2701,  3070,\n",
      "        3425,  3816,  4213,  4592,  4997,  5400,  5775,  6186,  6577,\n",
      "        6988,  7377,  7764,  8153,  8552,  8925,  9306,  9689, 10068,\n",
      "       10459, 10866, 11261, 11648, 12027, 12398, 12807, 13226, 13611,\n",
      "       13980, 14375, 14750, 15155, 15540, 15925, 16326, 16723, 17096,\n",
      "       17461, 17844, 18235, 18630, 19005, 19358, 19763, 20174, 20583,\n",
      "       20958, 21351, 21730, 22125, 22514, 22897, 23276, 23643, 24046,\n",
      "       24423, 24810, 25179]))\n"
     ]
    },
    {
     "name": "stderr",
     "output_type": "stream",
     "text": [
      "[Parallel(n_jobs=-1)]: Done  42 tasks      | elapsed:    0.0s\n",
      "[Parallel(n_jobs=-1)]: Done  65 out of  65 | elapsed:    0.1s finished\n",
      "[Parallel(n_jobs=4)]: Done  42 tasks      | elapsed:    0.0s\n",
      "[Parallel(n_jobs=4)]: Done  65 out of  65 | elapsed:    0.0s finished\n",
      "[Parallel(n_jobs=4)]: Done  42 tasks      | elapsed:    0.0s\n",
      "[Parallel(n_jobs=4)]: Done  65 out of  65 | elapsed:    0.0s finished\n",
      "[Parallel(n_jobs=-1)]: Done  42 tasks      | elapsed:    0.0s\n",
      "[Parallel(n_jobs=-1)]: Done  65 out of  65 | elapsed:    0.1s finished\n"
     ]
    },
    {
     "name": "stdout",
     "output_type": "stream",
     "text": [
      "(<75x24621 sparse matrix of type '<class 'numpy.int64'>'\n",
      "\twith 44916 stored elements in Compressed Sparse Row format>, array([    0,   379,   780,  1171,  1562,  1909,  2294,  2669,  3028,\n",
      "        3381,  3770,  4157,  4522,  4901,  5288,  5675,  6068,  6455,\n",
      "        6848,  7211,  7598,  8011,  8372,  8729,  9112,  9503,  9858,\n",
      "       10223, 10602, 11003, 11368, 11717, 12136, 12559, 12910, 13287,\n",
      "       13680, 14075, 14472, 14827, 15210, 15601, 15978, 16327, 16710,\n",
      "       17097, 17480, 17885, 18256, 18623, 18996, 19371, 19728, 20089,\n",
      "       20488, 20871, 21258, 21633, 21970, 22345, 22692, 23091, 23468,\n",
      "       23845, 24234, 24621]))\n"
     ]
    },
    {
     "name": "stderr",
     "output_type": "stream",
     "text": [
      "[Parallel(n_jobs=-1)]: Done  42 tasks      | elapsed:    0.1s\n",
      "[Parallel(n_jobs=-1)]: Done  65 out of  65 | elapsed:    0.2s finished\n",
      "[Parallel(n_jobs=4)]: Done  42 tasks      | elapsed:    0.0s\n",
      "[Parallel(n_jobs=4)]: Done  65 out of  65 | elapsed:    0.0s finished\n",
      "[Parallel(n_jobs=4)]: Done  42 tasks      | elapsed:    0.0s\n",
      "[Parallel(n_jobs=4)]: Done  65 out of  65 | elapsed:    0.0s finished\n",
      "[Parallel(n_jobs=-1)]: Done  42 tasks      | elapsed:    0.0s\n",
      "[Parallel(n_jobs=-1)]: Done  65 out of  65 | elapsed:    0.1s finished\n"
     ]
    },
    {
     "name": "stdout",
     "output_type": "stream",
     "text": [
      "(<377x7079 sparse matrix of type '<class 'numpy.int64'>'\n",
      "\twith 175547 stored elements in Compressed Sparse Row format>, array([   0,  111,  224,  327,  440,  549,  652,  779,  894, 1005, 1106,\n",
      "       1213, 1302, 1407, 1516, 1645, 1748, 1861, 1968, 2063, 2170, 2281,\n",
      "       2378, 2493, 2608, 2723, 2842, 2945, 3048, 3151, 3252, 3383, 3482,\n",
      "       3585, 3684, 3783, 3894, 4023, 4138, 4241, 4344, 4455, 4570, 4675,\n",
      "       4774, 4881, 5002, 5113, 5216, 5319, 5430, 5535, 5648, 5763, 5884,\n",
      "       5989, 6094, 6195, 6300, 6413, 6516, 6631, 6750, 6871, 6988, 7079]))\n"
     ]
    },
    {
     "name": "stderr",
     "output_type": "stream",
     "text": [
      "[Parallel(n_jobs=-1)]: Done  42 tasks      | elapsed:    0.1s\n",
      "[Parallel(n_jobs=-1)]: Done  65 out of  65 | elapsed:    0.2s finished\n",
      "[Parallel(n_jobs=4)]: Done  42 tasks      | elapsed:    0.0s\n",
      "[Parallel(n_jobs=4)]: Done  65 out of  65 | elapsed:    0.0s finished\n",
      "[Parallel(n_jobs=4)]: Done  42 tasks      | elapsed:    0.0s\n",
      "[Parallel(n_jobs=4)]: Done  65 out of  65 | elapsed:    0.0s finished\n",
      "[Parallel(n_jobs=-1)]: Done  42 tasks      | elapsed:    0.0s\n",
      "[Parallel(n_jobs=-1)]: Done  65 out of  65 | elapsed:    0.1s finished\n"
     ]
    },
    {
     "name": "stdout",
     "output_type": "stream",
     "text": [
      "(<377x27105 sparse matrix of type '<class 'numpy.int64'>'\n",
      "\twith 230742 stored elements in Compressed Sparse Row format>, array([    0,   427,   864,  1293,  1716,  2151,  2564,  2957,  3362,\n",
      "        3781,  4188,  4597,  5024,  5451,  5858,  6281,  6686,  7081,\n",
      "        7488,  7909,  8322,  8723,  9154,  9593, 10030, 10457, 10888,\n",
      "       11299, 11742, 12167, 12572, 13005, 13422, 13837, 14264, 14661,\n",
      "       15064, 15483, 15936, 16327, 16762, 17193, 17612, 18041, 18434,\n",
      "       18859, 19258, 19669, 20082, 20489, 20916, 21303, 21700, 22141,\n",
      "       22536, 22903, 23314, 23713, 24128, 24563, 25012, 25457, 25886,\n",
      "       26299, 26704, 27105]))\n"
     ]
    },
    {
     "name": "stderr",
     "output_type": "stream",
     "text": [
      "[Parallel(n_jobs=-1)]: Done  42 tasks      | elapsed:    0.1s\n",
      "[Parallel(n_jobs=-1)]: Done  65 out of  65 | elapsed:    0.2s finished\n",
      "[Parallel(n_jobs=4)]: Done  42 tasks      | elapsed:    0.0s\n",
      "[Parallel(n_jobs=4)]: Done  65 out of  65 | elapsed:    0.0s finished\n",
      "[Parallel(n_jobs=4)]: Done  42 tasks      | elapsed:    0.0s\n",
      "[Parallel(n_jobs=4)]: Done  65 out of  65 | elapsed:    0.0s finished\n",
      "[Parallel(n_jobs=-1)]: Done  42 tasks      | elapsed:    0.1s\n",
      "[Parallel(n_jobs=-1)]: Done  65 out of  65 | elapsed:    0.1s finished\n"
     ]
    },
    {
     "name": "stdout",
     "output_type": "stream",
     "text": [
      "(<363x27397 sparse matrix of type '<class 'numpy.int64'>'\n",
      "\twith 222659 stored elements in Compressed Sparse Row format>, array([    0,   405,   826,  1241,  1672,  2087,  2532,  2977,  3416,\n",
      "        3847,  4256,  4659,  5082,  5515,  5928,  6337,  6762,  7149,\n",
      "        7570,  8007,  8418,  8853,  9256,  9625, 10080, 10495, 10904,\n",
      "       11329, 11748, 12163, 12570, 12971, 13388, 13829, 14248, 14669,\n",
      "       15048, 15469, 15900, 16323, 16738, 17131, 17564, 17971, 18406,\n",
      "       18785, 19212, 19641, 20076, 20499, 20920, 21375, 21792, 22221,\n",
      "       22678, 23119, 23534, 23983, 24436, 24835, 25250, 25689, 26104,\n",
      "       26543, 26980, 27397]))\n"
     ]
    },
    {
     "name": "stderr",
     "output_type": "stream",
     "text": [
      "[Parallel(n_jobs=-1)]: Done  42 tasks      | elapsed:    0.1s\n",
      "[Parallel(n_jobs=-1)]: Done  65 out of  65 | elapsed:    0.2s finished\n",
      "[Parallel(n_jobs=4)]: Done  42 tasks      | elapsed:    0.0s\n",
      "[Parallel(n_jobs=4)]: Done  65 out of  65 | elapsed:    0.0s finished\n",
      "[Parallel(n_jobs=4)]: Done  42 tasks      | elapsed:    0.0s\n",
      "[Parallel(n_jobs=4)]: Done  65 out of  65 | elapsed:    0.0s finished\n",
      "[Parallel(n_jobs=-1)]: Done  42 tasks      | elapsed:    0.0s\n",
      "[Parallel(n_jobs=-1)]: Done  65 out of  65 | elapsed:    0.0s finished\n"
     ]
    },
    {
     "name": "stdout",
     "output_type": "stream",
     "text": [
      "(<359x26005 sparse matrix of type '<class 'numpy.int64'>'\n",
      "\twith 216469 stored elements in Compressed Sparse Row format>, array([    0,   391,   812,  1187,  1598,  2011,  2400,  2813,  3202,\n",
      "        3607,  4032,  4465,  4858,  5257,  5662,  6039,  6426,  6813,\n",
      "        7230,  7583,  7978,  8387,  8802,  9211,  9608, 10009, 10412,\n",
      "       10823, 11218, 11649, 12032, 12411, 12816, 13219, 13650, 14059,\n",
      "       14474, 14885, 15300, 15701, 16094, 16507, 16900, 17293, 17734,\n",
      "       18111, 18522, 18903, 19300, 19697, 20088, 20495, 20910, 21293,\n",
      "       21692, 22081, 22488, 22865, 23270, 23659, 24042, 24441, 24834,\n",
      "       25217, 25622, 26005]))\n"
     ]
    },
    {
     "name": "stderr",
     "output_type": "stream",
     "text": [
      "[Parallel(n_jobs=-1)]: Done  42 tasks      | elapsed:    0.1s\n",
      "[Parallel(n_jobs=-1)]: Done  65 out of  65 | elapsed:    0.2s finished\n",
      "[Parallel(n_jobs=4)]: Done  42 tasks      | elapsed:    0.0s\n",
      "[Parallel(n_jobs=4)]: Done  65 out of  65 | elapsed:    0.0s finished\n",
      "[Parallel(n_jobs=4)]: Done  42 tasks      | elapsed:    0.0s\n",
      "[Parallel(n_jobs=4)]: Done  65 out of  65 | elapsed:    0.0s finished\n",
      "[Parallel(n_jobs=-1)]: Done  42 tasks      | elapsed:    0.0s\n",
      "[Parallel(n_jobs=-1)]: Done  65 out of  65 | elapsed:    0.1s finished\n"
     ]
    },
    {
     "name": "stdout",
     "output_type": "stream",
     "text": [
      "(<361x26047 sparse matrix of type '<class 'numpy.int64'>'\n",
      "\twith 214365 stored elements in Compressed Sparse Row format>, array([    0,   393,   774,  1163,  1544,  1937,  2338,  2717,  3130,\n",
      "        3535,  3976,  4389,  4804,  5173,  5594,  5981,  6388,  6775,\n",
      "        7196,  7621,  8022,  8431,  8840,  9267,  9684, 10083, 10514,\n",
      "       10901, 11310, 11713, 12092, 12509, 12894, 13285, 13686, 14065,\n",
      "       14458, 14869, 15254, 15663, 16040, 16463, 16872, 17263, 17652,\n",
      "       18061, 18456, 18845, 19220, 19651, 20068, 20447, 20844, 21237,\n",
      "       21644, 22031, 22448, 22829, 23234, 23631, 24038, 24425, 24810,\n",
      "       25201, 25632, 26047]))\n"
     ]
    },
    {
     "name": "stderr",
     "output_type": "stream",
     "text": [
      "[Parallel(n_jobs=-1)]: Done  42 tasks      | elapsed:    0.1s\n",
      "[Parallel(n_jobs=-1)]: Done  65 out of  65 | elapsed:    0.2s finished\n",
      "[Parallel(n_jobs=4)]: Done  42 tasks      | elapsed:    0.0s\n",
      "[Parallel(n_jobs=4)]: Done  65 out of  65 | elapsed:    0.0s finished\n",
      "[Parallel(n_jobs=4)]: Done  42 tasks      | elapsed:    0.0s\n",
      "[Parallel(n_jobs=4)]: Done  65 out of  65 | elapsed:    0.0s finished\n",
      "[Parallel(n_jobs=-1)]: Done  42 tasks      | elapsed:    0.0s\n",
      "[Parallel(n_jobs=-1)]: Done  65 out of  65 | elapsed:    0.1s finished\n"
     ]
    },
    {
     "name": "stdout",
     "output_type": "stream",
     "text": [
      "(<367x25353 sparse matrix of type '<class 'numpy.int64'>'\n",
      "\twith 211597 stored elements in Compressed Sparse Row format>, array([    0,   399,   770,  1149,  1554,  1939,  2314,  2723,  3086,\n",
      "        3489,  3868,  4243,  4612,  5019,  5406,  5809,  6224,  6617,\n",
      "        7022,  7397,  7792,  8173,  8562,  8953,  9374,  9763, 10148,\n",
      "       10537, 10898, 11301, 11660, 12065, 12428, 12833, 13232, 13633,\n",
      "       14040, 14441, 14828, 15199, 15596, 15971, 16364, 16735, 17132,\n",
      "       17541, 17962, 18317, 18714, 19117, 19492, 19909, 20286, 20671,\n",
      "       21050, 21441, 21820, 22225, 22606, 22995, 23380, 23765, 24164,\n",
      "       24569, 24974, 25353]))\n"
     ]
    },
    {
     "name": "stderr",
     "output_type": "stream",
     "text": [
      "[Parallel(n_jobs=-1)]: Done  42 tasks      | elapsed:    0.1s\n",
      "[Parallel(n_jobs=-1)]: Done  65 out of  65 | elapsed:    0.2s finished\n",
      "[Parallel(n_jobs=4)]: Done  42 tasks      | elapsed:    0.0s\n",
      "[Parallel(n_jobs=4)]: Done  65 out of  65 | elapsed:    0.0s finished\n",
      "[Parallel(n_jobs=4)]: Done  42 tasks      | elapsed:    0.0s\n",
      "[Parallel(n_jobs=4)]: Done  65 out of  65 | elapsed:    0.0s finished\n",
      "[Parallel(n_jobs=-1)]: Done  42 tasks      | elapsed:    0.0s\n",
      "[Parallel(n_jobs=-1)]: Done  65 out of  65 | elapsed:    0.1s finished\n"
     ]
    },
    {
     "name": "stdout",
     "output_type": "stream",
     "text": [
      "(<370x27569 sparse matrix of type '<class 'numpy.int64'>'\n",
      "\twith 231707 stored elements in Compressed Sparse Row format>, array([    0,   415,   828,  1259,  1678,  2073,  2502,  2905,  3336,\n",
      "        3757,  4174,  4597,  4996,  5439,  5862,  6271,  6700,  7163,\n",
      "        7598,  8027,  8450,  8889,  9312,  9725, 10146, 10607, 11034,\n",
      "       11471, 11904, 12323, 12740, 13131, 13536, 13959, 14412, 14817,\n",
      "       15232, 15671, 16078, 16509, 16968, 17419, 17854, 18257, 18670,\n",
      "       19089, 19514, 19925, 20374, 20817, 21226, 21645, 22094, 22521,\n",
      "       22946, 23355, 23748, 24173, 24612, 25033, 25426, 25867, 26294,\n",
      "       26723, 27136, 27569]))\n"
     ]
    },
    {
     "name": "stderr",
     "output_type": "stream",
     "text": [
      "[Parallel(n_jobs=-1)]: Done  42 tasks      | elapsed:    0.0s\n",
      "[Parallel(n_jobs=-1)]: Done  65 out of  65 | elapsed:    0.1s finished\n",
      "[Parallel(n_jobs=4)]: Done  42 tasks      | elapsed:    0.0s\n",
      "[Parallel(n_jobs=4)]: Done  65 out of  65 | elapsed:    0.0s finished\n",
      "[Parallel(n_jobs=4)]: Done  42 tasks      | elapsed:    0.0s\n",
      "[Parallel(n_jobs=4)]: Done  65 out of  65 | elapsed:    0.0s finished\n",
      "[Parallel(n_jobs=-1)]: Done  42 tasks      | elapsed:    0.0s\n",
      "[Parallel(n_jobs=-1)]: Done  65 out of  65 | elapsed:    0.1s finished\n"
     ]
    },
    {
     "name": "stdout",
     "output_type": "stream",
     "text": [
      "(<96x26379 sparse matrix of type '<class 'numpy.int64'>'\n",
      "\twith 57146 stored elements in Compressed Sparse Row format>, array([    0,   393,   792,  1205,  1634,  2055,  2466,  2883,  3286,\n",
      "        3677,  4090,  4495,  4882,  5289,  5680,  6085,  6496,  6901,\n",
      "        7338,  7731,  8134,  8529,  8914,  9281,  9714, 10141, 10540,\n",
      "       10961, 11368, 11755, 12174, 12565, 12962, 13399, 13814, 14235,\n",
      "       14652, 15063, 15456, 15875, 16290, 16685, 17076, 17489, 17872,\n",
      "       18273, 18676, 19095, 19510, 19915, 20324, 20717, 21130, 21551,\n",
      "       21942, 22303, 22726, 23137, 23542, 23941, 24364, 24795, 25180,\n",
      "       25545, 25976, 26379]))\n"
     ]
    },
    {
     "name": "stderr",
     "output_type": "stream",
     "text": [
      "[Parallel(n_jobs=-1)]: Done  42 tasks      | elapsed:    0.1s\n",
      "[Parallel(n_jobs=-1)]: Done  65 out of  65 | elapsed:    0.1s finished\n",
      "[Parallel(n_jobs=4)]: Done  42 tasks      | elapsed:    0.0s\n",
      "[Parallel(n_jobs=4)]: Done  65 out of  65 | elapsed:    0.0s finished\n",
      "[Parallel(n_jobs=4)]: Done  42 tasks      | elapsed:    0.0s\n",
      "[Parallel(n_jobs=4)]: Done  65 out of  65 | elapsed:    0.0s finished\n",
      "[Parallel(n_jobs=-1)]: Done  42 tasks      | elapsed:    0.0s\n",
      "[Parallel(n_jobs=-1)]: Done  65 out of  65 | elapsed:    0.1s finished\n"
     ]
    },
    {
     "name": "stdout",
     "output_type": "stream",
     "text": [
      "(<167x7729 sparse matrix of type '<class 'numpy.int64'>'\n",
      "\twith 81293 stored elements in Compressed Sparse Row format>, array([   0,  119,  238,  365,  484,  591,  694,  807,  926, 1043, 1168,\n",
      "       1279, 1412, 1531, 1640, 1753, 1868, 1979, 2092, 2215, 2340, 2467,\n",
      "       2588, 2707, 2832, 2949, 3090, 3217, 3340, 3439, 3548, 3661, 3774,\n",
      "       3891, 4006, 4141, 4268, 4379, 4496, 4609, 4740, 4867, 4990, 5111,\n",
      "       5226, 5337, 5464, 5599, 5720, 5841, 5956, 6071, 6200, 6325, 6456,\n",
      "       6575, 6684, 6801, 6914, 7033, 7132, 7257, 7368, 7505, 7612, 7729]))\n"
     ]
    },
    {
     "name": "stderr",
     "output_type": "stream",
     "text": [
      "[Parallel(n_jobs=-1)]: Done  42 tasks      | elapsed:    0.1s\n",
      "[Parallel(n_jobs=-1)]: Done  65 out of  65 | elapsed:    0.2s finished\n",
      "[Parallel(n_jobs=4)]: Done  42 tasks      | elapsed:    0.0s\n",
      "[Parallel(n_jobs=4)]: Done  65 out of  65 | elapsed:    0.0s finished\n",
      "[Parallel(n_jobs=4)]: Done  42 tasks      | elapsed:    0.0s\n",
      "[Parallel(n_jobs=4)]: Done  65 out of  65 | elapsed:    0.0s finished\n",
      "[Parallel(n_jobs=-1)]: Done  42 tasks      | elapsed:    0.0s\n",
      "[Parallel(n_jobs=-1)]: Done  65 out of  65 | elapsed:    0.1s finished\n"
     ]
    },
    {
     "name": "stdout",
     "output_type": "stream",
     "text": [
      "(<386x12335 sparse matrix of type '<class 'numpy.int64'>'\n",
      "\twith 203361 stored elements in Compressed Sparse Row format>, array([    0,   203,   378,   577,   762,   957,  1164,  1339,  1532,\n",
      "        1719,  1904,  2113,  2314,  2495,  2676,  2875,  3050,  3251,\n",
      "        3452,  3643,  3828,  4007,  4190,  4371,  4544,  4735,  4946,\n",
      "        5135,  5338,  5535,  5712,  5893,  6082,  6261,  6446,  6635,\n",
      "        6796,  6979,  7156,  7347,  7548,  7721,  7914,  8115,  8286,\n",
      "        8487,  8670,  8873,  9074,  9251,  9452,  9635,  9832, 10015,\n",
      "       10202, 10423, 10632, 10823, 11014, 11205, 11380, 11565, 11776,\n",
      "       11961, 12154, 12335]))\n"
     ]
    },
    {
     "name": "stderr",
     "output_type": "stream",
     "text": [
      "[Parallel(n_jobs=-1)]: Done  42 tasks      | elapsed:    0.1s\n",
      "[Parallel(n_jobs=-1)]: Done  65 out of  65 | elapsed:    0.2s finished\n",
      "[Parallel(n_jobs=4)]: Done  42 tasks      | elapsed:    0.0s\n",
      "[Parallel(n_jobs=4)]: Done  65 out of  65 | elapsed:    0.0s finished\n",
      "[Parallel(n_jobs=4)]: Done  42 tasks      | elapsed:    0.0s\n",
      "[Parallel(n_jobs=4)]: Done  65 out of  65 | elapsed:    0.0s finished\n",
      "[Parallel(n_jobs=-1)]: Done  42 tasks      | elapsed:    0.0s\n",
      "[Parallel(n_jobs=-1)]: Done  65 out of  65 | elapsed:    0.1s finished\n"
     ]
    },
    {
     "name": "stdout",
     "output_type": "stream",
     "text": [
      "(<401x26719 sparse matrix of type '<class 'numpy.int64'>'\n",
      "\twith 260585 stored elements in Compressed Sparse Row format>, array([    0,   405,   810,  1213,  1602,  2015,  2488,  2883,  3310,\n",
      "        3735,  4124,  4529,  4962,  5357,  5768,  6171,  6604,  7013,\n",
      "        7414,  7793,  8244,  8657,  9056,  9487,  9914, 10341, 10746,\n",
      "       11139, 11534, 11989, 12404, 12819, 13224, 13625, 14060, 14481,\n",
      "       14854, 15259, 15676, 16065, 16464, 16867, 17276, 17699, 18112,\n",
      "       18525, 18936, 19353, 19778, 20201, 20612, 21001, 21386, 21771,\n",
      "       22186, 22593, 23010, 23433, 23856, 24293, 24716, 25101, 25522,\n",
      "       25951, 26334, 26719]))\n"
     ]
    },
    {
     "name": "stderr",
     "output_type": "stream",
     "text": [
      "[Parallel(n_jobs=-1)]: Done  42 tasks      | elapsed:    0.1s\n",
      "[Parallel(n_jobs=-1)]: Done  65 out of  65 | elapsed:    0.2s finished\n",
      "[Parallel(n_jobs=4)]: Done  42 tasks      | elapsed:    0.0s\n",
      "[Parallel(n_jobs=4)]: Done  65 out of  65 | elapsed:    0.0s finished\n",
      "[Parallel(n_jobs=4)]: Done  42 tasks      | elapsed:    0.0s\n",
      "[Parallel(n_jobs=4)]: Done  65 out of  65 | elapsed:    0.0s finished\n",
      "[Parallel(n_jobs=-1)]: Done  42 tasks      | elapsed:    0.0s\n",
      "[Parallel(n_jobs=-1)]: Done  65 out of  65 | elapsed:    0.1s finished\n"
     ]
    },
    {
     "name": "stdout",
     "output_type": "stream",
     "text": [
      "(<369x25715 sparse matrix of type '<class 'numpy.int64'>'\n",
      "\twith 227838 stored elements in Compressed Sparse Row format>, array([    0,   385,   800,  1181,  1570,  1973,  2394,  2829,  3244,\n",
      "        3649,  4036,  4445,  4826,  5213,  5594,  5949,  6360,  6785,\n",
      "        7144,  7545,  7944,  8385,  8800,  9181,  9586,  9973, 10370,\n",
      "       10755, 11132, 11507, 11910, 12311, 12730, 13135, 13554, 13949,\n",
      "       14308, 14687, 15092, 15503, 15888, 16265, 16670, 17065, 17452,\n",
      "       17829, 18232, 18633, 19030, 19433, 19824, 20207, 20602, 21023,\n",
      "       21428, 21809, 22218, 22637, 22986, 23391, 23790, 24195, 24580,\n",
      "       24955, 25316, 25715]))\n"
     ]
    },
    {
     "name": "stderr",
     "output_type": "stream",
     "text": [
      "[Parallel(n_jobs=-1)]: Done  42 tasks      | elapsed:    0.1s\n",
      "[Parallel(n_jobs=-1)]: Done  65 out of  65 | elapsed:    0.2s finished\n",
      "[Parallel(n_jobs=4)]: Done  42 tasks      | elapsed:    0.0s\n",
      "[Parallel(n_jobs=4)]: Done  65 out of  65 | elapsed:    0.0s finished\n",
      "[Parallel(n_jobs=4)]: Done  42 tasks      | elapsed:    0.0s\n",
      "[Parallel(n_jobs=4)]: Done  65 out of  65 | elapsed:    0.0s finished\n",
      "[Parallel(n_jobs=-1)]: Done  42 tasks      | elapsed:    0.0s\n",
      "[Parallel(n_jobs=-1)]: Done  65 out of  65 | elapsed:    0.1s finished\n"
     ]
    },
    {
     "name": "stdout",
     "output_type": "stream",
     "text": [
      "(<365x26027 sparse matrix of type '<class 'numpy.int64'>'\n",
      "\twith 222327 stored elements in Compressed Sparse Row format>, array([    0,   407,   796,  1207,  1618,  2035,  2436,  2831,  3226,\n",
      "        3625,  4028,  4431,  4808,  5217,  5608,  6011,  6416,  6793,\n",
      "        7190,  7593,  7984,  8391,  8772,  9195,  9622, 10047, 10438,\n",
      "       10823, 11228, 11623, 12056, 12425, 12832, 13229, 13624, 14027,\n",
      "       14406, 14791, 15178, 15589, 16000, 16379, 16784, 17199, 17596,\n",
      "       18003, 18404, 18779, 19176, 19583, 19978, 20371, 20774, 21199,\n",
      "       21582, 21967, 22364, 22765, 23168, 23557, 23956, 24371, 24782,\n",
      "       25177, 25612, 26027]))\n"
     ]
    },
    {
     "name": "stderr",
     "output_type": "stream",
     "text": [
      "[Parallel(n_jobs=-1)]: Done  42 tasks      | elapsed:    0.1s\n",
      "[Parallel(n_jobs=-1)]: Done  65 out of  65 | elapsed:    0.1s finished\n",
      "[Parallel(n_jobs=4)]: Done  42 tasks      | elapsed:    0.0s\n",
      "[Parallel(n_jobs=4)]: Done  65 out of  65 | elapsed:    0.0s finished\n",
      "[Parallel(n_jobs=4)]: Done  42 tasks      | elapsed:    0.0s\n",
      "[Parallel(n_jobs=4)]: Done  65 out of  65 | elapsed:    0.0s finished\n",
      "[Parallel(n_jobs=-1)]: Done  42 tasks      | elapsed:    0.0s\n",
      "[Parallel(n_jobs=-1)]: Done  65 out of  65 | elapsed:    0.1s finished\n"
     ]
    },
    {
     "name": "stdout",
     "output_type": "stream",
     "text": [
      "(<146x25787 sparse matrix of type '<class 'numpy.int64'>'\n",
      "\twith 91779 stored elements in Compressed Sparse Row format>, array([    0,   389,   786,  1217,  1602,  1987,  2388,  2771,  3178,\n",
      "        3601,  3962,  4355,  4754,  5117,  5502,  5931,  6330,  6725,\n",
      "        7068,  7471,  7884,  8293,  8738,  9157,  9586,  9971, 10364,\n",
      "       10763, 11168, 11605, 11998, 12385, 12772, 13183, 13624, 14019,\n",
      "       14400, 14773, 15184, 15591, 15988, 16371, 16786, 17185, 17562,\n",
      "       17967, 18366, 18741, 19138, 19529, 19930, 20329, 20732, 21137,\n",
      "       21492, 21873, 22252, 22651, 23034, 23467, 23874, 24261, 24634,\n",
      "       25003, 25388, 25787]))\n"
     ]
    },
    {
     "name": "stderr",
     "output_type": "stream",
     "text": [
      "[Parallel(n_jobs=-1)]: Done  42 tasks      | elapsed:    0.1s\n",
      "[Parallel(n_jobs=-1)]: Done  65 out of  65 | elapsed:    0.1s finished\n",
      "[Parallel(n_jobs=4)]: Done  42 tasks      | elapsed:    0.0s\n",
      "[Parallel(n_jobs=4)]: Done  65 out of  65 | elapsed:    0.0s finished\n",
      "[Parallel(n_jobs=4)]: Done  42 tasks      | elapsed:    0.0s\n",
      "[Parallel(n_jobs=4)]: Done  65 out of  65 | elapsed:    0.0s finished\n",
      "[Parallel(n_jobs=-1)]: Done  42 tasks      | elapsed:    0.0s\n",
      "[Parallel(n_jobs=-1)]: Done  65 out of  65 | elapsed:    0.1s finished\n"
     ]
    },
    {
     "name": "stdout",
     "output_type": "stream",
     "text": [
      "(<400x11657 sparse matrix of type '<class 'numpy.int64'>'\n",
      "\twith 210292 stored elements in Compressed Sparse Row format>, array([    0,   183,   354,   515,   684,   875,  1048,  1205,  1370,\n",
      "        1549,  1752,  1951,  2140,  2329,  2512,  2689,  2884,  3067,\n",
      "        3252,  3435,  3638,  3819,  4000,  4163,  4334,  4509,  4664,\n",
      "        4831,  4996,  5177,  5368,  5553,  5726,  5909,  6068,  6267,\n",
      "        6436,  6619,  6816,  6997,  7168,  7345,  7516,  7675,  7852,\n",
      "        8027,  8202,  8385,  8554,  8733,  8920,  9093,  9292,  9479,\n",
      "        9680,  9855, 10040, 10225, 10410, 10567, 10764, 10943, 11124,\n",
      "       11301, 11488, 11657]))\n"
     ]
    },
    {
     "name": "stderr",
     "output_type": "stream",
     "text": [
      "[Parallel(n_jobs=-1)]: Done  42 tasks      | elapsed:    0.1s\n",
      "[Parallel(n_jobs=-1)]: Done  65 out of  65 | elapsed:    0.1s finished\n",
      "[Parallel(n_jobs=4)]: Done  42 tasks      | elapsed:    0.0s\n",
      "[Parallel(n_jobs=4)]: Done  65 out of  65 | elapsed:    0.0s finished\n",
      "[Parallel(n_jobs=4)]: Done  42 tasks      | elapsed:    0.0s\n",
      "[Parallel(n_jobs=4)]: Done  65 out of  65 | elapsed:    0.0s finished\n",
      "[Parallel(n_jobs=-1)]: Done  42 tasks      | elapsed:    0.0s\n",
      "[Parallel(n_jobs=-1)]: Done  65 out of  65 | elapsed:    0.1s finished\n"
     ]
    },
    {
     "name": "stdout",
     "output_type": "stream",
     "text": [
      "(<356x26309 sparse matrix of type '<class 'numpy.int64'>'\n",
      "\twith 210433 stored elements in Compressed Sparse Row format>, array([    0,   437,   834,  1225,  1630,  2027,  2436,  2841,  3252,\n",
      "        3637,  4058,  4465,  4884,  5279,  5690,  6103,  6484,  6869,\n",
      "        7286,  7681,  8090,  8481,  8866,  9269,  9682, 10091, 10500,\n",
      "       10901, 11290, 11701, 12078, 12503, 12900, 13321, 13714, 14111,\n",
      "       14474, 14899, 15300, 15679, 16082, 16479, 16884, 17295, 17704,\n",
      "       18129, 18532, 18959, 19374, 19763, 20172, 20593, 21018, 21421,\n",
      "       21818, 22205, 22592, 22997, 23412, 23849, 24248, 24667, 25096,\n",
      "       25521, 25916, 26309]))\n"
     ]
    },
    {
     "name": "stderr",
     "output_type": "stream",
     "text": [
      "[Parallel(n_jobs=-1)]: Done  42 tasks      | elapsed:    0.1s\n",
      "[Parallel(n_jobs=-1)]: Done  65 out of  65 | elapsed:    0.2s finished\n",
      "[Parallel(n_jobs=4)]: Done  42 tasks      | elapsed:    0.0s\n",
      "[Parallel(n_jobs=4)]: Done  65 out of  65 | elapsed:    0.0s finished\n",
      "[Parallel(n_jobs=4)]: Done  42 tasks      | elapsed:    0.0s\n",
      "[Parallel(n_jobs=4)]: Done  65 out of  65 | elapsed:    0.0s finished\n",
      "[Parallel(n_jobs=-1)]: Done  42 tasks      | elapsed:    0.0s\n",
      "[Parallel(n_jobs=-1)]: Done  65 out of  65 | elapsed:    0.1s finished\n"
     ]
    },
    {
     "name": "stdout",
     "output_type": "stream",
     "text": [
      "(<387x25707 sparse matrix of type '<class 'numpy.int64'>'\n",
      "\twith 235594 stored elements in Compressed Sparse Row format>, array([    0,   409,   798,  1191,  1574,  1959,  2348,  2739,  3116,\n",
      "        3517,  3950,  4383,  4730,  5117,  5500,  5897,  6282,  6677,\n",
      "        7086,  7479,  7870,  8265,  8676,  9079,  9476,  9847, 10274,\n",
      "       10673, 11094, 11493, 11876, 12269, 12646, 13055, 13426, 13865,\n",
      "       14252, 14629, 15054, 15449, 15824, 16227, 16622, 17017, 17434,\n",
      "       17843, 18268, 18659, 19052, 19421, 19826, 20243, 20606, 21007,\n",
      "       21396, 21789, 22184, 22587, 22988, 23385, 23768, 24135, 24532,\n",
      "       24917, 25340, 25707]))\n"
     ]
    },
    {
     "name": "stderr",
     "output_type": "stream",
     "text": [
      "[Parallel(n_jobs=-1)]: Done  42 tasks      | elapsed:    0.1s\n",
      "[Parallel(n_jobs=-1)]: Done  65 out of  65 | elapsed:    0.2s finished\n",
      "[Parallel(n_jobs=4)]: Done  42 tasks      | elapsed:    0.0s\n",
      "[Parallel(n_jobs=4)]: Done  65 out of  65 | elapsed:    0.0s finished\n",
      "[Parallel(n_jobs=4)]: Done  42 tasks      | elapsed:    0.0s\n",
      "[Parallel(n_jobs=4)]: Done  65 out of  65 | elapsed:    0.0s finished\n",
      "[Parallel(n_jobs=-1)]: Done  42 tasks      | elapsed:    0.0s\n",
      "[Parallel(n_jobs=-1)]: Done  65 out of  65 | elapsed:    0.1s finished\n"
     ]
    },
    {
     "name": "stdout",
     "output_type": "stream",
     "text": [
      "(<372x25477 sparse matrix of type '<class 'numpy.int64'>'\n",
      "\twith 227452 stored elements in Compressed Sparse Row format>, array([    0,   419,   816,  1201,  1586,  1981,  2388,  2823,  3210,\n",
      "        3615,  3998,  4409,  4822,  5225,  5636,  6029,  6426,  6815,\n",
      "        7200,  7579,  7956,  8351,  8724,  9127,  9552,  9937, 10312,\n",
      "       10705, 11098, 11517, 11926, 12321, 12718, 13093, 13480, 13869,\n",
      "       14262, 14683, 15050, 15435, 15844, 16229, 16610, 17001, 17368,\n",
      "       17735, 18158, 18537, 18932, 19335, 19734, 20111, 20482, 20867,\n",
      "       21276, 21655, 22042, 22463, 22834, 23235, 23622, 23969, 24366,\n",
      "       24735, 25100, 25477]))\n"
     ]
    },
    {
     "name": "stderr",
     "output_type": "stream",
     "text": [
      "[Parallel(n_jobs=-1)]: Done  42 tasks      | elapsed:    0.1s\n",
      "[Parallel(n_jobs=-1)]: Done  65 out of  65 | elapsed:    0.2s finished\n",
      "[Parallel(n_jobs=4)]: Done  42 tasks      | elapsed:    0.0s\n",
      "[Parallel(n_jobs=4)]: Done  65 out of  65 | elapsed:    0.0s finished\n",
      "[Parallel(n_jobs=4)]: Done  42 tasks      | elapsed:    0.0s\n",
      "[Parallel(n_jobs=4)]: Done  65 out of  65 | elapsed:    0.0s finished\n",
      "[Parallel(n_jobs=-1)]: Done  42 tasks      | elapsed:    0.0s\n",
      "[Parallel(n_jobs=-1)]: Done  65 out of  65 | elapsed:    0.1s finished\n"
     ]
    },
    {
     "name": "stdout",
     "output_type": "stream",
     "text": [
      "(<395x27229 sparse matrix of type '<class 'numpy.int64'>'\n",
      "\twith 242437 stored elements in Compressed Sparse Row format>, array([    0,   405,   848,  1299,  1728,  2147,  2560,  2975,  3394,\n",
      "        3803,  4226,  4641,  5062,  5465,  5866,  6267,  6716,  7103,\n",
      "        7502,  7903,  8330,  8749,  9204,  9623, 10018, 10469, 10876,\n",
      "       11293, 11716, 12137, 12556, 12975, 13410, 13821, 14254, 14667,\n",
      "       15078, 15475, 15906, 16269, 16684, 17085, 17510, 17933, 18344,\n",
      "       18751, 19172, 19605, 20038, 20433, 20868, 21299, 21748, 22185,\n",
      "       22604, 23025, 23460, 23863, 24288, 24687, 25142, 25561, 25952,\n",
      "       26379, 26802, 27229]))\n"
     ]
    },
    {
     "name": "stderr",
     "output_type": "stream",
     "text": [
      "[Parallel(n_jobs=-1)]: Done  42 tasks      | elapsed:    0.0s\n",
      "[Parallel(n_jobs=-1)]: Done  65 out of  65 | elapsed:    0.1s finished\n",
      "[Parallel(n_jobs=4)]: Done  42 tasks      | elapsed:    0.0s\n",
      "[Parallel(n_jobs=4)]: Done  65 out of  65 | elapsed:    0.0s finished\n",
      "[Parallel(n_jobs=4)]: Done  42 tasks      | elapsed:    0.0s\n",
      "[Parallel(n_jobs=4)]: Done  65 out of  65 | elapsed:    0.0s finished\n",
      "[Parallel(n_jobs=-1)]: Done  42 tasks      | elapsed:    0.0s\n",
      "[Parallel(n_jobs=-1)]: Done  65 out of  65 | elapsed:    0.1s finished\n"
     ]
    },
    {
     "name": "stdout",
     "output_type": "stream",
     "text": [
      "(<132x25639 sparse matrix of type '<class 'numpy.int64'>'\n",
      "\twith 86243 stored elements in Compressed Sparse Row format>, array([    0,   391,   768,  1163,  1540,  1955,  2334,  2727,  3102,\n",
      "        3501,  3908,  4345,  4752,  5141,  5548,  5931,  6324,  6707,\n",
      "        7126,  7511,  7892,  8289,  8692,  9099,  9484,  9911, 10296,\n",
      "       10687, 11072, 11459, 11838, 12197, 12582, 12977, 13380, 13743,\n",
      "       14156, 14549, 14940, 15335, 15730, 16131, 16536, 16903, 17308,\n",
      "       17703, 18122, 18527, 18932, 19317, 19742, 20133, 20494, 20909,\n",
      "       21310, 21663, 22034, 22453, 22882, 23299, 23664, 24065, 24446,\n",
      "       24845, 25212, 25639]))\n"
     ]
    },
    {
     "name": "stderr",
     "output_type": "stream",
     "text": [
      "[Parallel(n_jobs=-1)]: Done  42 tasks      | elapsed:    0.1s\n",
      "[Parallel(n_jobs=-1)]: Done  65 out of  65 | elapsed:    0.2s finished\n",
      "[Parallel(n_jobs=4)]: Done  42 tasks      | elapsed:    0.0s\n",
      "[Parallel(n_jobs=4)]: Done  65 out of  65 | elapsed:    0.0s finished\n",
      "[Parallel(n_jobs=4)]: Done  42 tasks      | elapsed:    0.0s\n",
      "[Parallel(n_jobs=4)]: Done  65 out of  65 | elapsed:    0.0s finished\n",
      "[Parallel(n_jobs=-1)]: Done  42 tasks      | elapsed:    0.0s\n",
      "[Parallel(n_jobs=-1)]: Done  65 out of  65 | elapsed:    0.1s finished\n"
     ]
    },
    {
     "name": "stdout",
     "output_type": "stream",
     "text": [
      "(<364x9207 sparse matrix of type '<class 'numpy.int64'>'\n",
      "\twith 179676 stored elements in Compressed Sparse Row format>, array([   0,  141,  282,  421,  560,  703,  844,  995, 1134, 1281, 1420,\n",
      "       1567, 1690, 1833, 1960, 2101, 2240, 2385, 2544, 2693, 2844, 2981,\n",
      "       3116, 3267, 3408, 3555, 3712, 3845, 3988, 4139, 4272, 4421, 4568,\n",
      "       4717, 4860, 4985, 5138, 5263, 5394, 5529, 5674, 5815, 5972, 6105,\n",
      "       6242, 6383, 6512, 6655, 6808, 6935, 7068, 7219, 7378, 7511, 7658,\n",
      "       7783, 7918, 8065, 8192, 8335, 8484, 8615, 8752, 8901, 9054, 9207]))\n"
     ]
    },
    {
     "name": "stderr",
     "output_type": "stream",
     "text": [
      "[Parallel(n_jobs=-1)]: Done  42 tasks      | elapsed:    0.1s\n",
      "[Parallel(n_jobs=-1)]: Done  65 out of  65 | elapsed:    0.2s finished\n",
      "[Parallel(n_jobs=4)]: Done  42 tasks      | elapsed:    0.0s\n",
      "[Parallel(n_jobs=4)]: Done  65 out of  65 | elapsed:    0.0s finished\n",
      "[Parallel(n_jobs=4)]: Done  42 tasks      | elapsed:    0.0s\n",
      "[Parallel(n_jobs=4)]: Done  65 out of  65 | elapsed:    0.0s finished\n",
      "[Parallel(n_jobs=-1)]: Done  42 tasks      | elapsed:    0.0s\n",
      "[Parallel(n_jobs=-1)]: Done  65 out of  65 | elapsed:    0.1s finished\n"
     ]
    },
    {
     "name": "stdout",
     "output_type": "stream",
     "text": [
      "(<392x25737 sparse matrix of type '<class 'numpy.int64'>'\n",
      "\twith 243376 stored elements in Compressed Sparse Row format>, array([    0,   411,   802,  1185,  1602,  2029,  2426,  2825,  3236,\n",
      "        3617,  3998,  4373,  4764,  5169,  5562,  5941,  6352,  6725,\n",
      "        7142,  7555,  7960,  8319,  8688,  9085,  9486,  9867, 10238,\n",
      "       10637, 11028, 11397, 11806, 12211, 12618, 13039, 13468, 13861,\n",
      "       14250, 14633, 15048, 15445, 15842, 16227, 16614, 17023, 17428,\n",
      "       17833, 18242, 18637, 19024, 19419, 19810, 20195, 20578, 20991,\n",
      "       21368, 21759, 22160, 22563, 22946, 23347, 23766, 24177, 24582,\n",
      "       24967, 25370, 25737]))\n"
     ]
    },
    {
     "name": "stderr",
     "output_type": "stream",
     "text": [
      "[Parallel(n_jobs=-1)]: Done  42 tasks      | elapsed:    0.1s\n",
      "[Parallel(n_jobs=-1)]: Done  65 out of  65 | elapsed:    0.1s finished\n",
      "[Parallel(n_jobs=4)]: Done  42 tasks      | elapsed:    0.0s\n",
      "[Parallel(n_jobs=4)]: Done  65 out of  65 | elapsed:    0.0s finished\n",
      "[Parallel(n_jobs=4)]: Done  42 tasks      | elapsed:    0.0s\n",
      "[Parallel(n_jobs=4)]: Done  65 out of  65 | elapsed:    0.0s finished\n",
      "[Parallel(n_jobs=-1)]: Done  42 tasks      | elapsed:    0.0s\n",
      "[Parallel(n_jobs=-1)]: Done  65 out of  65 | elapsed:    0.1s finished\n"
     ]
    },
    {
     "name": "stdout",
     "output_type": "stream",
     "text": [
      "(<366x26133 sparse matrix of type '<class 'numpy.int64'>'\n",
      "\twith 222810 stored elements in Compressed Sparse Row format>, array([    0,   389,   800,  1197,  1618,  2015,  2410,  2815,  3224,\n",
      "        3599,  3982,  4357,  4780,  5177,  5594,  6023,  6412,  6809,\n",
      "        7214,  7601,  7990,  8413,  8814,  9197,  9600, 10009, 10390,\n",
      "       10803, 11200, 11579, 12012, 12409, 12806, 13207, 13588, 13989,\n",
      "       14364, 14763, 15170, 15591, 16028, 16445, 16840, 17227, 17628,\n",
      "       18039, 18448, 18815, 19232, 19635, 20044, 20437, 20850, 21235,\n",
      "       21628, 22053, 22470, 22881, 23280, 23667, 24108, 24527, 24926,\n",
      "       25335, 25750, 26133]))\n"
     ]
    },
    {
     "name": "stderr",
     "output_type": "stream",
     "text": [
      "[Parallel(n_jobs=-1)]: Done  42 tasks      | elapsed:    0.1s\n",
      "[Parallel(n_jobs=-1)]: Done  65 out of  65 | elapsed:    0.2s finished\n",
      "[Parallel(n_jobs=4)]: Done  42 tasks      | elapsed:    0.0s\n",
      "[Parallel(n_jobs=4)]: Done  65 out of  65 | elapsed:    0.0s finished\n",
      "[Parallel(n_jobs=4)]: Done  42 tasks      | elapsed:    0.0s\n",
      "[Parallel(n_jobs=4)]: Done  65 out of  65 | elapsed:    0.0s finished\n",
      "[Parallel(n_jobs=-1)]: Done  42 tasks      | elapsed:    0.0s\n",
      "[Parallel(n_jobs=-1)]: Done  65 out of  65 | elapsed:    0.1s finished\n"
     ]
    },
    {
     "name": "stdout",
     "output_type": "stream",
     "text": [
      "(<370x26669 sparse matrix of type '<class 'numpy.int64'>'\n",
      "\twith 217912 stored elements in Compressed Sparse Row format>, array([    0,   393,   792,  1193,  1610,  2009,  2418,  2819,  3220,\n",
      "        3629,  4028,  4449,  4846,  5241,  5672,  6083,  6474,  6885,\n",
      "        7306,  7743,  8138,  8573,  8970,  9379,  9830, 10209, 10600,\n",
      "       11019, 11414, 11817, 12216, 12625, 13012, 13403, 13784, 14203,\n",
      "       14644, 15053, 15474, 15881, 16294, 16733, 17176, 17593, 17992,\n",
      "       18389, 18824, 19253, 19644, 20055, 20480, 20895, 21332, 21713,\n",
      "       22146, 22529, 22954, 23357, 23786, 24187, 24614, 25027, 25458,\n",
      "       25865, 26268, 26669]))\n"
     ]
    },
    {
     "name": "stderr",
     "output_type": "stream",
     "text": [
      "[Parallel(n_jobs=-1)]: Done  42 tasks      | elapsed:    0.1s\n",
      "[Parallel(n_jobs=-1)]: Done  65 out of  65 | elapsed:    0.2s finished\n",
      "[Parallel(n_jobs=4)]: Done  42 tasks      | elapsed:    0.0s\n",
      "[Parallel(n_jobs=4)]: Done  65 out of  65 | elapsed:    0.0s finished\n",
      "[Parallel(n_jobs=4)]: Done  42 tasks      | elapsed:    0.0s\n",
      "[Parallel(n_jobs=4)]: Done  65 out of  65 | elapsed:    0.0s finished\n",
      "[Parallel(n_jobs=-1)]: Done  42 tasks      | elapsed:    0.0s\n",
      "[Parallel(n_jobs=-1)]: Done  65 out of  65 | elapsed:    0.1s finished\n"
     ]
    },
    {
     "name": "stdout",
     "output_type": "stream",
     "text": [
      "(<398x26277 sparse matrix of type '<class 'numpy.int64'>'\n",
      "\twith 233968 stored elements in Compressed Sparse Row format>, array([    0,   391,   792,  1217,  1636,  2021,  2412,  2849,  3222,\n",
      "        3615,  4016,  4417,  4858,  5263,  5656,  6053,  6470,  6863,\n",
      "        7230,  7661,  8036,  8459,  8842,  9253,  9686, 10101, 10522,\n",
      "       10931, 11334, 11729, 12132, 12519, 12926, 13355, 13746, 14141,\n",
      "       14544, 14965, 15370, 15777, 16154, 16549, 16960, 17365, 17768,\n",
      "       18205, 18592, 19021, 19404, 19815, 20218, 20629, 21050, 21451,\n",
      "       21836, 22231, 22626, 23051, 23452, 23847, 24232, 24619, 25016,\n",
      "       25441, 25846, 26277]))\n"
     ]
    },
    {
     "name": "stderr",
     "output_type": "stream",
     "text": [
      "[Parallel(n_jobs=-1)]: Done  42 tasks      | elapsed:    0.0s\n",
      "[Parallel(n_jobs=-1)]: Done  65 out of  65 | elapsed:    0.1s finished\n",
      "[Parallel(n_jobs=4)]: Done  42 tasks      | elapsed:    0.0s\n",
      "[Parallel(n_jobs=4)]: Done  65 out of  65 | elapsed:    0.0s finished\n",
      "[Parallel(n_jobs=4)]: Done  42 tasks      | elapsed:    0.0s\n",
      "[Parallel(n_jobs=4)]: Done  65 out of  65 | elapsed:    0.0s finished\n",
      "[Parallel(n_jobs=-1)]: Done  42 tasks      | elapsed:    0.0s\n",
      "[Parallel(n_jobs=-1)]: Done  65 out of  65 | elapsed:    0.1s finished\n"
     ]
    },
    {
     "name": "stdout",
     "output_type": "stream",
     "text": [
      "(<126x25187 sparse matrix of type '<class 'numpy.int64'>'\n",
      "\twith 76832 stored elements in Compressed Sparse Row format>, array([    0,   375,   782,  1159,  1552,  1923,  2292,  2689,  3066,\n",
      "        3455,  3826,  4217,  4600,  4993,  5368,  5753,  6136,  6511,\n",
      "        6906,  7301,  7690,  8051,  8412,  8807,  9202,  9593, 10000,\n",
      "       10381, 10758, 11157, 11532, 11911, 12300, 12667, 13050, 13445,\n",
      "       13834, 14215, 14602, 14991, 15410, 15819, 16202, 16591, 16958,\n",
      "       17351, 17762, 18181, 18568, 18957, 19330, 19723, 20100, 20497,\n",
      "       20872, 21271, 21636, 22025, 22434, 22823, 23244, 23645, 24032,\n",
      "       24427, 24798, 25187]))\n"
     ]
    },
    {
     "name": "stderr",
     "output_type": "stream",
     "text": [
      "[Parallel(n_jobs=-1)]: Done  42 tasks      | elapsed:    0.1s\n",
      "[Parallel(n_jobs=-1)]: Done  65 out of  65 | elapsed:    0.2s finished\n",
      "[Parallel(n_jobs=4)]: Done  42 tasks      | elapsed:    0.0s\n",
      "[Parallel(n_jobs=4)]: Done  65 out of  65 | elapsed:    0.0s finished\n",
      "[Parallel(n_jobs=4)]: Done  42 tasks      | elapsed:    0.0s\n",
      "[Parallel(n_jobs=4)]: Done  65 out of  65 | elapsed:    0.0s finished\n",
      "[Parallel(n_jobs=-1)]: Done  42 tasks      | elapsed:    0.0s\n",
      "[Parallel(n_jobs=-1)]: Done  65 out of  65 | elapsed:    0.1s finished\n"
     ]
    },
    {
     "name": "stdout",
     "output_type": "stream",
     "text": [
      "(<367x9499 sparse matrix of type '<class 'numpy.int64'>'\n",
      "\twith 177312 stored elements in Compressed Sparse Row format>, array([   0,  151,  284,  431,  594,  751,  888, 1023, 1154, 1297, 1440,\n",
      "       1567, 1712, 1861, 2006, 2149, 2320, 2481, 2634, 2785, 2918, 3061,\n",
      "       3192, 3337, 3472, 3609, 3734, 3885, 4040, 4177, 4328, 4495, 4646,\n",
      "       4795, 4960, 5099, 5240, 5395, 5544, 5675, 5816, 5961, 6114, 6263,\n",
      "       6404, 6551, 6718, 6867, 7018, 7165, 7316, 7467, 7606, 7761, 7902,\n",
      "       8055, 8184, 8329, 8480, 8615, 8762, 8917, 9066, 9213, 9364, 9499]))\n"
     ]
    },
    {
     "name": "stderr",
     "output_type": "stream",
     "text": [
      "[Parallel(n_jobs=-1)]: Done  42 tasks      | elapsed:    0.1s\n",
      "[Parallel(n_jobs=-1)]: Done  65 out of  65 | elapsed:    0.2s finished\n",
      "[Parallel(n_jobs=4)]: Done  42 tasks      | elapsed:    0.0s\n",
      "[Parallel(n_jobs=4)]: Done  65 out of  65 | elapsed:    0.0s finished\n",
      "[Parallel(n_jobs=4)]: Done  42 tasks      | elapsed:    0.0s\n",
      "[Parallel(n_jobs=4)]: Done  65 out of  65 | elapsed:    0.0s finished\n",
      "[Parallel(n_jobs=-1)]: Done  42 tasks      | elapsed:    0.0s\n",
      "[Parallel(n_jobs=-1)]: Done  65 out of  65 | elapsed:    0.1s finished\n"
     ]
    },
    {
     "name": "stdout",
     "output_type": "stream",
     "text": [
      "(<368x28111 sparse matrix of type '<class 'numpy.int64'>'\n",
      "\twith 218996 stored elements in Compressed Sparse Row format>, array([    0,   471,   894,  1319,  1782,  2203,  2620,  3053,  3470,\n",
      "        3893,  4300,  4751,  5166,  5577,  6018,  6395,  6806,  7229,\n",
      "        7654,  8093,  8548,  8997,  9442,  9877, 10276, 10707, 11140,\n",
      "       11593, 12010, 12433, 12882, 13317, 13788, 14245, 14684, 15087,\n",
      "       15526, 15945, 16420, 16857, 17306, 17761, 18184, 18635, 19080,\n",
      "       19509, 19928, 20347, 20768, 21155, 21562, 21965, 22396, 22867,\n",
      "       23316, 23757, 24206, 24625, 25050, 25479, 25920, 26339, 26780,\n",
      "       27199, 27650, 28111]))\n"
     ]
    },
    {
     "name": "stderr",
     "output_type": "stream",
     "text": [
      "[Parallel(n_jobs=-1)]: Done  42 tasks      | elapsed:    0.1s\n",
      "[Parallel(n_jobs=-1)]: Done  65 out of  65 | elapsed:    0.2s finished\n",
      "[Parallel(n_jobs=4)]: Done  42 tasks      | elapsed:    0.0s\n",
      "[Parallel(n_jobs=4)]: Done  65 out of  65 | elapsed:    0.0s finished\n",
      "[Parallel(n_jobs=4)]: Done  42 tasks      | elapsed:    0.0s\n",
      "[Parallel(n_jobs=4)]: Done  65 out of  65 | elapsed:    0.0s finished\n",
      "[Parallel(n_jobs=-1)]: Done  42 tasks      | elapsed:    0.0s\n",
      "[Parallel(n_jobs=-1)]: Done  65 out of  65 | elapsed:    0.1s finished\n"
     ]
    },
    {
     "name": "stdout",
     "output_type": "stream",
     "text": [
      "(<378x26605 sparse matrix of type '<class 'numpy.int64'>'\n",
      "\twith 223435 stored elements in Compressed Sparse Row format>, array([    0,   405,   820,  1217,  1626,  2031,  2458,  2851,  3268,\n",
      "        3689,  4086,  4509,  4908,  5315,  5706,  6121,  6538,  6931,\n",
      "        7376,  7773,  8206,  8575,  9006,  9431,  9858, 10225, 10614,\n",
      "       11031, 11468, 11891, 12288, 12709, 13130, 13571, 13972, 14405,\n",
      "       14774, 15167, 15572, 15971, 16366, 16741, 17148, 17531, 17956,\n",
      "       18339, 18750, 19147, 19532, 19929, 20342, 20727, 21160, 21561,\n",
      "       21966, 22413, 22856, 23277, 23700, 24109, 24516, 24929, 25334,\n",
      "       25759, 26184, 26605]))\n"
     ]
    },
    {
     "name": "stderr",
     "output_type": "stream",
     "text": [
      "[Parallel(n_jobs=-1)]: Done  42 tasks      | elapsed:    0.1s\n",
      "[Parallel(n_jobs=-1)]: Done  65 out of  65 | elapsed:    0.2s finished\n",
      "[Parallel(n_jobs=4)]: Done  42 tasks      | elapsed:    0.0s\n",
      "[Parallel(n_jobs=4)]: Done  65 out of  65 | elapsed:    0.0s finished\n",
      "[Parallel(n_jobs=4)]: Done  42 tasks      | elapsed:    0.0s\n",
      "[Parallel(n_jobs=4)]: Done  65 out of  65 | elapsed:    0.0s finished\n",
      "[Parallel(n_jobs=-1)]: Done  42 tasks      | elapsed:    0.0s\n",
      "[Parallel(n_jobs=-1)]: Done  65 out of  65 | elapsed:    0.1s finished\n"
     ]
    },
    {
     "name": "stdout",
     "output_type": "stream",
     "text": [
      "(<376x27321 sparse matrix of type '<class 'numpy.int64'>'\n",
      "\twith 226417 stored elements in Compressed Sparse Row format>, array([    0,   409,   792,  1217,  1676,  2091,  2494,  2897,  3326,\n",
      "        3763,  4166,  4585,  5024,  5439,  5836,  6291,  6742,  7151,\n",
      "        7578,  8009,  8440,  8873,  9284,  9691, 10088, 10483, 10906,\n",
      "       11353, 11772, 12203, 12636, 13037, 13444, 13891, 14286, 14699,\n",
      "       15118, 15551, 15962, 16385, 16814, 17249, 17704, 18155, 18568,\n",
      "       18989, 19398, 19819, 20234, 20669, 21050, 21443, 21870, 22317,\n",
      "       22696, 23129, 23538, 23961, 24358, 24767, 25182, 25619, 26040,\n",
      "       26483, 26882, 27321]))\n"
     ]
    },
    {
     "name": "stderr",
     "output_type": "stream",
     "text": [
      "[Parallel(n_jobs=-1)]: Done  42 tasks      | elapsed:    0.1s\n",
      "[Parallel(n_jobs=-1)]: Done  65 out of  65 | elapsed:    0.1s finished\n",
      "[Parallel(n_jobs=4)]: Done  42 tasks      | elapsed:    0.0s\n",
      "[Parallel(n_jobs=4)]: Done  65 out of  65 | elapsed:    0.0s finished\n",
      "[Parallel(n_jobs=4)]: Done  42 tasks      | elapsed:    0.0s\n",
      "[Parallel(n_jobs=4)]: Done  65 out of  65 | elapsed:    0.0s finished\n",
      "[Parallel(n_jobs=-1)]: Done  42 tasks      | elapsed:    0.0s\n",
      "[Parallel(n_jobs=-1)]: Done  65 out of  65 | elapsed:    0.1s finished\n"
     ]
    },
    {
     "name": "stdout",
     "output_type": "stream",
     "text": [
      "(<400x24917 sparse matrix of type '<class 'numpy.int64'>'\n",
      "\twith 226088 stored elements in Compressed Sparse Row format>, array([    0,   393,   760,  1119,  1496,  1841,  2232,  2611,  3002,\n",
      "        3369,  3738,  4113,  4508,  4877,  5256,  5625,  6016,  6393,\n",
      "        6784,  7193,  7598,  7969,  8380,  8779,  9152,  9551,  9922,\n",
      "       10321, 10688, 11065, 11446, 11819, 12194, 12583, 12942, 13351,\n",
      "       13724, 14069, 14464, 14863, 15240, 15611, 15994, 16369, 16750,\n",
      "       17149, 17568, 17959, 18320, 18701, 19078, 19479, 19846, 20245,\n",
      "       20622, 21003, 21392, 21765, 22168, 22523, 22920, 23311, 23694,\n",
      "       24109, 24488, 24917]))\n"
     ]
    },
    {
     "name": "stderr",
     "output_type": "stream",
     "text": [
      "[Parallel(n_jobs=-1)]: Done  42 tasks      | elapsed:    0.1s\n",
      "[Parallel(n_jobs=-1)]: Done  65 out of  65 | elapsed:    0.2s finished\n",
      "[Parallel(n_jobs=4)]: Done  42 tasks      | elapsed:    0.0s\n",
      "[Parallel(n_jobs=4)]: Done  65 out of  65 | elapsed:    0.0s finished\n",
      "[Parallel(n_jobs=4)]: Done  42 tasks      | elapsed:    0.0s\n",
      "[Parallel(n_jobs=4)]: Done  65 out of  65 | elapsed:    0.0s finished\n",
      "[Parallel(n_jobs=-1)]: Done  42 tasks      | elapsed:    0.0s\n",
      "[Parallel(n_jobs=-1)]: Done  65 out of  65 | elapsed:    0.1s finished\n"
     ]
    },
    {
     "name": "stdout",
     "output_type": "stream",
     "text": [
      "(<376x25725 sparse matrix of type '<class 'numpy.int64'>'\n",
      "\twith 234645 stored elements in Compressed Sparse Row format>, array([    0,   411,   794,  1209,  1600,  1995,  2390,  2793,  3196,\n",
      "        3577,  3982,  4405,  4830,  5217,  5622,  6013,  6406,  6789,\n",
      "        7204,  7605,  8024,  8425,  8788,  9167,  9562,  9927, 10354,\n",
      "       10763, 11146, 11525, 11888, 12301, 12708, 13105, 13484, 13857,\n",
      "       14228, 14603, 14966, 15369, 15750, 16127, 16516, 16931, 17322,\n",
      "       17719, 18138, 18531, 18926, 19333, 19696, 20093, 20496, 20877,\n",
      "       21288, 21703, 22100, 22499, 22892, 23297, 23714, 24109, 24496,\n",
      "       24921, 25318, 25725]))\n"
     ]
    },
    {
     "name": "stderr",
     "output_type": "stream",
     "text": [
      "[Parallel(n_jobs=-1)]: Done  42 tasks      | elapsed:    0.0s\n",
      "[Parallel(n_jobs=-1)]: Done  65 out of  65 | elapsed:    0.1s finished\n",
      "[Parallel(n_jobs=4)]: Done  42 tasks      | elapsed:    0.0s\n",
      "[Parallel(n_jobs=4)]: Done  65 out of  65 | elapsed:    0.0s finished\n",
      "[Parallel(n_jobs=4)]: Done  42 tasks      | elapsed:    0.0s\n",
      "[Parallel(n_jobs=4)]: Done  65 out of  65 | elapsed:    0.0s finished\n",
      "[Parallel(n_jobs=-1)]: Done  42 tasks      | elapsed:    0.0s\n",
      "[Parallel(n_jobs=-1)]: Done  65 out of  65 | elapsed:    0.1s finished\n"
     ]
    },
    {
     "name": "stdout",
     "output_type": "stream",
     "text": [
      "(<66x25691 sparse matrix of type '<class 'numpy.int64'>'\n",
      "\twith 35721 stored elements in Compressed Sparse Row format>, array([    0,   393,   796,  1187,  1588,  2001,  2388,  2811,  3190,\n",
      "        3603,  3996,  4379,  4754,  5181,  5580,  5973,  6378,  6785,\n",
      "        7174,  7557,  7974,  8373,  8778,  9167,  9568,  9975, 10380,\n",
      "       10753, 11132, 11489, 11886, 12235, 12624, 13011, 13388, 13777,\n",
      "       14178, 14565, 14978, 15357, 15732, 16139, 16560, 16967, 17374,\n",
      "       17795, 18194, 18585, 18966, 19363, 19760, 20157, 20536, 20917,\n",
      "       21316, 21699, 22108, 22479, 22870, 23273, 23696, 24103, 24516,\n",
      "       24905, 25308, 25691]))\n"
     ]
    },
    {
     "name": "stderr",
     "output_type": "stream",
     "text": [
      "[Parallel(n_jobs=-1)]: Done  42 tasks      | elapsed:    0.0s\n",
      "[Parallel(n_jobs=-1)]: Done  65 out of  65 | elapsed:    0.1s finished\n",
      "[Parallel(n_jobs=4)]: Done  42 tasks      | elapsed:    0.0s\n",
      "[Parallel(n_jobs=4)]: Done  65 out of  65 | elapsed:    0.0s finished\n",
      "[Parallel(n_jobs=4)]: Done  42 tasks      | elapsed:    0.0s\n",
      "[Parallel(n_jobs=4)]: Done  65 out of  65 | elapsed:    0.0s finished\n",
      "[Parallel(n_jobs=-1)]: Done  42 tasks      | elapsed:    0.0s\n",
      "[Parallel(n_jobs=-1)]: Done  65 out of  65 | elapsed:    0.1s finished\n"
     ]
    },
    {
     "name": "stdout",
     "output_type": "stream",
     "text": [
      "(<101x5641 sparse matrix of type '<class 'numpy.int64'>'\n",
      "\twith 41156 stored elements in Compressed Sparse Row format>, array([   0,   83,  166,  257,  352,  431,  512,  611,  694,  785,  868,\n",
      "        959, 1052, 1129, 1208, 1295, 1382, 1477, 1564, 1647, 1738, 1829,\n",
      "       1888, 1971, 2066, 2157, 2236, 2331, 2426, 2517, 2606, 2695, 2774,\n",
      "       2843, 2932, 3019, 3106, 3199, 3286, 3383, 3468, 3551, 3634, 3715,\n",
      "       3804, 3901, 3976, 4069, 4146, 4239, 4334, 4409, 4502, 4599, 4682,\n",
      "       4771, 4846, 4935, 5026, 5097, 5190, 5263, 5346, 5441, 5536, 5641]))\n"
     ]
    },
    {
     "name": "stderr",
     "output_type": "stream",
     "text": [
      "[Parallel(n_jobs=-1)]: Done  42 tasks      | elapsed:    0.1s\n",
      "[Parallel(n_jobs=-1)]: Done  65 out of  65 | elapsed:    0.2s finished\n",
      "[Parallel(n_jobs=4)]: Done  42 tasks      | elapsed:    0.0s\n",
      "[Parallel(n_jobs=4)]: Done  65 out of  65 | elapsed:    0.0s finished\n",
      "[Parallel(n_jobs=4)]: Done  42 tasks      | elapsed:    0.0s\n",
      "[Parallel(n_jobs=4)]: Done  65 out of  65 | elapsed:    0.0s finished\n",
      "[Parallel(n_jobs=-1)]: Done  42 tasks      | elapsed:    0.0s\n",
      "[Parallel(n_jobs=-1)]: Done  65 out of  65 | elapsed:    0.1s finished\n"
     ]
    },
    {
     "name": "stdout",
     "output_type": "stream",
     "text": [
      "(<362x6667 sparse matrix of type '<class 'numpy.int64'>'\n",
      "\twith 163216 stored elements in Compressed Sparse Row format>, array([   0,   99,  222,  303,  406,  513,  632,  725,  830,  943, 1030,\n",
      "       1135, 1232, 1353, 1454, 1547, 1648, 1753, 1862, 1955, 2056, 2153,\n",
      "       2250, 2347, 2442, 2533, 2640, 2745, 2844, 2955, 3068, 3171, 3276,\n",
      "       3367, 3476, 3583, 3672, 3771, 3872, 3989, 4096, 4205, 4298, 4395,\n",
      "       4508, 4613, 4718, 4819, 4922, 5019, 5132, 5227, 5338, 5441, 5548,\n",
      "       5665, 5764, 5865, 5964, 6083, 6174, 6263, 6362, 6465, 6566, 6667]))\n"
     ]
    },
    {
     "name": "stderr",
     "output_type": "stream",
     "text": [
      "[Parallel(n_jobs=-1)]: Done  42 tasks      | elapsed:    0.1s\n",
      "[Parallel(n_jobs=-1)]: Done  65 out of  65 | elapsed:    0.2s finished\n",
      "[Parallel(n_jobs=4)]: Done  42 tasks      | elapsed:    0.0s\n",
      "[Parallel(n_jobs=4)]: Done  65 out of  65 | elapsed:    0.0s finished\n",
      "[Parallel(n_jobs=4)]: Done  42 tasks      | elapsed:    0.0s\n",
      "[Parallel(n_jobs=4)]: Done  65 out of  65 | elapsed:    0.0s finished\n",
      "[Parallel(n_jobs=-1)]: Done  42 tasks      | elapsed:    0.0s\n",
      "[Parallel(n_jobs=-1)]: Done  65 out of  65 | elapsed:    0.1s finished\n"
     ]
    },
    {
     "name": "stdout",
     "output_type": "stream",
     "text": [
      "(<361x26881 sparse matrix of type '<class 'numpy.int64'>'\n",
      "\twith 218521 stored elements in Compressed Sparse Row format>, array([    0,   421,   852,  1255,  1674,  2081,  2504,  2879,  3282,\n",
      "        3707,  4170,  4607,  5000,  5407,  5820,  6239,  6650,  7031,\n",
      "        7426,  7875,  8264,  8675,  9088,  9485,  9890, 10281, 10696,\n",
      "       11121, 11536, 11941, 12342, 12753, 13156, 13551, 13974, 14401,\n",
      "       14814, 15219, 15650, 16045, 16456, 16875, 17266, 17697, 18114,\n",
      "       18527, 18942, 19343, 19758, 20185, 20628, 21057, 21456, 21867,\n",
      "       22300, 22719, 23136, 23559, 23980, 24397, 24816, 25263, 25688,\n",
      "       26097, 26504, 26881]))\n"
     ]
    },
    {
     "name": "stderr",
     "output_type": "stream",
     "text": [
      "[Parallel(n_jobs=-1)]: Done  42 tasks      | elapsed:    0.1s\n",
      "[Parallel(n_jobs=-1)]: Done  65 out of  65 | elapsed:    0.2s finished\n",
      "[Parallel(n_jobs=4)]: Done  42 tasks      | elapsed:    0.0s\n",
      "[Parallel(n_jobs=4)]: Done  65 out of  65 | elapsed:    0.0s finished\n",
      "[Parallel(n_jobs=4)]: Done  42 tasks      | elapsed:    0.0s\n",
      "[Parallel(n_jobs=4)]: Done  65 out of  65 | elapsed:    0.0s finished\n",
      "[Parallel(n_jobs=-1)]: Done  42 tasks      | elapsed:    0.0s\n",
      "[Parallel(n_jobs=-1)]: Done  65 out of  65 | elapsed:    0.1s finished\n"
     ]
    },
    {
     "name": "stdout",
     "output_type": "stream",
     "text": [
      "(<355x26861 sparse matrix of type '<class 'numpy.int64'>'\n",
      "\twith 212702 stored elements in Compressed Sparse Row format>, array([    0,   439,   840,  1243,  1658,  2053,  2432,  2845,  3280,\n",
      "        3729,  4134,  4561,  5008,  5431,  5814,  6237,  6672,  7095,\n",
      "        7510,  7917,  8304,  8715,  9136,  9545,  9948, 10359, 10768,\n",
      "       11203, 11622, 12019, 12430, 12843, 13234, 13647, 14064, 14489,\n",
      "       14916, 15349, 15764, 16175, 16598, 16997, 17404, 17789, 18206,\n",
      "       18641, 19040, 19467, 19884, 20289, 20704, 21147, 21550, 21973,\n",
      "       22386, 22783, 23172, 23575, 24010, 24441, 24852, 25267, 25702,\n",
      "       26077, 26476, 26861]))\n"
     ]
    },
    {
     "name": "stderr",
     "output_type": "stream",
     "text": [
      "[Parallel(n_jobs=-1)]: Done  42 tasks      | elapsed:    0.1s\n",
      "[Parallel(n_jobs=-1)]: Done  65 out of  65 | elapsed:    0.1s finished\n",
      "[Parallel(n_jobs=4)]: Done  42 tasks      | elapsed:    0.0s\n",
      "[Parallel(n_jobs=4)]: Done  65 out of  65 | elapsed:    0.0s finished\n",
      "[Parallel(n_jobs=4)]: Done  42 tasks      | elapsed:    0.0s\n",
      "[Parallel(n_jobs=4)]: Done  65 out of  65 | elapsed:    0.0s finished\n",
      "[Parallel(n_jobs=-1)]: Done  42 tasks      | elapsed:    0.0s\n",
      "[Parallel(n_jobs=-1)]: Done  65 out of  65 | elapsed:    0.1s finished\n"
     ]
    },
    {
     "name": "stdout",
     "output_type": "stream",
     "text": [
      "(<332x26265 sparse matrix of type '<class 'numpy.int64'>'\n",
      "\twith 193540 stored elements in Compressed Sparse Row format>, array([    0,   431,   846,  1263,  1658,  2085,  2476,  2885,  3274,\n",
      "        3687,  4048,  4451,  4846,  5239,  5656,  6067,  6458,  6893,\n",
      "        7308,  7729,  8140,  8541,  8938,  9369,  9794, 10183, 10584,\n",
      "       10963, 11370, 11757, 12176, 12565, 12962, 13353, 13756, 14179,\n",
      "       14574, 14955, 15376, 15777, 16214, 16619, 16996, 17417, 17802,\n",
      "       18227, 18610, 18993, 19406, 19835, 20232, 20661, 21060, 21459,\n",
      "       21838, 22237, 22638, 23009, 23422, 23799, 24212, 24605, 25020,\n",
      "       25423, 25846, 26265]))\n"
     ]
    },
    {
     "name": "stderr",
     "output_type": "stream",
     "text": [
      "[Parallel(n_jobs=-1)]: Done  42 tasks      | elapsed:    0.1s\n",
      "[Parallel(n_jobs=-1)]: Done  65 out of  65 | elapsed:    0.2s finished\n",
      "[Parallel(n_jobs=4)]: Done  42 tasks      | elapsed:    0.0s\n",
      "[Parallel(n_jobs=4)]: Done  65 out of  65 | elapsed:    0.0s finished\n",
      "[Parallel(n_jobs=4)]: Done  42 tasks      | elapsed:    0.0s\n",
      "[Parallel(n_jobs=4)]: Done  65 out of  65 | elapsed:    0.0s finished\n",
      "[Parallel(n_jobs=-1)]: Done  42 tasks      | elapsed:    0.0s\n",
      "[Parallel(n_jobs=-1)]: Done  65 out of  65 | elapsed:    0.0s finished\n"
     ]
    },
    {
     "name": "stdout",
     "output_type": "stream",
     "text": [
      "(<355x23019 sparse matrix of type '<class 'numpy.int64'>'\n",
      "\twith 222325 stored elements in Compressed Sparse Row format>, array([    0,   345,   698,  1067,  1434,  1773,  2142,  2499,  2824,\n",
      "        3181,  3534,  3895,  4254,  4615,  4956,  5327,  5678,  6023,\n",
      "        6384,  6743,  7074,  7439,  7788,  8153,  8522,  8875,  9244,\n",
      "        9623,  9974, 10305, 10674, 11049, 11402, 11763, 12124, 12475,\n",
      "       12824, 13199, 13542, 13859, 14206, 14551, 14914, 15241, 15576,\n",
      "       15921, 16292, 16655, 17002, 17357, 17716, 18103, 18464, 18793,\n",
      "       19156, 19525, 19890, 20237, 20604, 20959, 21296, 21629, 21972,\n",
      "       22339, 22672, 23019]))\n"
     ]
    },
    {
     "name": "stderr",
     "output_type": "stream",
     "text": [
      "[Parallel(n_jobs=-1)]: Done  42 tasks      | elapsed:    0.1s\n",
      "[Parallel(n_jobs=-1)]: Done  65 out of  65 | elapsed:    0.1s finished\n",
      "[Parallel(n_jobs=4)]: Done  42 tasks      | elapsed:    0.0s\n",
      "[Parallel(n_jobs=4)]: Done  65 out of  65 | elapsed:    0.0s finished\n",
      "[Parallel(n_jobs=4)]: Done  42 tasks      | elapsed:    0.0s\n",
      "[Parallel(n_jobs=4)]: Done  65 out of  65 | elapsed:    0.0s finished\n",
      "[Parallel(n_jobs=-1)]: Done  42 tasks      | elapsed:    0.0s\n",
      "[Parallel(n_jobs=-1)]: Done  65 out of  65 | elapsed:    0.1s finished\n"
     ]
    },
    {
     "name": "stdout",
     "output_type": "stream",
     "text": [
      "(<375x27105 sparse matrix of type '<class 'numpy.int64'>'\n",
      "\twith 226365 stored elements in Compressed Sparse Row format>, array([    0,   413,   810,  1233,  1660,  2067,  2482,  2915,  3350,\n",
      "        3763,  4206,  4633,  5034,  5477,  5902,  6339,  6758,  7199,\n",
      "        7612,  8075,  8498,  8897,  9300,  9709, 10120, 10521, 10948,\n",
      "       11385, 11782, 12183, 12618, 13035, 13434, 13853, 14268, 14699,\n",
      "       15102, 15523, 15918, 16315, 16712, 17135, 17538, 17963, 18382,\n",
      "       18805, 19206, 19631, 20010, 20413, 20842, 21261, 21684, 22111,\n",
      "       22548, 22951, 23364, 23769, 24192, 24589, 25008, 25421, 25824,\n",
      "       26257, 26688, 27105]))\n"
     ]
    },
    {
     "name": "stderr",
     "output_type": "stream",
     "text": [
      "[Parallel(n_jobs=-1)]: Done  42 tasks      | elapsed:    0.1s\n",
      "[Parallel(n_jobs=-1)]: Done  65 out of  65 | elapsed:    0.1s finished\n",
      "[Parallel(n_jobs=4)]: Done  42 tasks      | elapsed:    0.0s\n",
      "[Parallel(n_jobs=4)]: Done  65 out of  65 | elapsed:    0.0s finished\n",
      "[Parallel(n_jobs=4)]: Done  42 tasks      | elapsed:    0.0s\n",
      "[Parallel(n_jobs=4)]: Done  65 out of  65 | elapsed:    0.0s finished\n",
      "[Parallel(n_jobs=-1)]: Done  42 tasks      | elapsed:    0.0s\n",
      "[Parallel(n_jobs=-1)]: Done  65 out of  65 | elapsed:    0.1s finished\n"
     ]
    },
    {
     "name": "stdout",
     "output_type": "stream",
     "text": [
      "(<291x26757 sparse matrix of type '<class 'numpy.int64'>'\n",
      "\twith 166677 stored elements in Compressed Sparse Row format>, array([    0,   417,   832,  1251,  1708,  2107,  2526,  2933,  3316,\n",
      "        3749,  4182,  4577,  5004,  5401,  5822,  6269,  6662,  7075,\n",
      "        7462,  7883,  8310,  8705,  9120,  9531,  9942, 10335, 10736,\n",
      "       11123, 11554, 11975, 12382, 12789, 13202, 13621, 14046, 14481,\n",
      "       14882, 15289, 15712, 16133, 16532, 16915, 17282, 17709, 18130,\n",
      "       18521, 18952, 19343, 19746, 20161, 20574, 20985, 21406, 21829,\n",
      "       22274, 22663, 23096, 23511, 23910, 24327, 24758, 25143, 25568,\n",
      "       25969, 26380, 26757]))\n"
     ]
    },
    {
     "name": "stderr",
     "output_type": "stream",
     "text": [
      "[Parallel(n_jobs=-1)]: Done  42 tasks      | elapsed:    0.1s\n",
      "[Parallel(n_jobs=-1)]: Done  65 out of  65 | elapsed:    0.2s finished\n",
      "[Parallel(n_jobs=4)]: Done  42 tasks      | elapsed:    0.0s\n",
      "[Parallel(n_jobs=4)]: Done  65 out of  65 | elapsed:    0.0s finished\n",
      "[Parallel(n_jobs=4)]: Done  42 tasks      | elapsed:    0.0s\n",
      "[Parallel(n_jobs=4)]: Done  65 out of  65 | elapsed:    0.0s finished\n",
      "[Parallel(n_jobs=-1)]: Done  42 tasks      | elapsed:    0.0s\n",
      "[Parallel(n_jobs=-1)]: Done  65 out of  65 | elapsed:    0.1s finished\n"
     ]
    },
    {
     "name": "stdout",
     "output_type": "stream",
     "text": [
      "(<335x19391 sparse matrix of type '<class 'numpy.int64'>'\n",
      "\twith 179956 stored elements in Compressed Sparse Row format>, array([    0,   295,   600,   905,  1190,  1491,  1758,  2039,  2352,\n",
      "        2659,  2954,  3245,  3544,  3851,  4148,  4487,  4778,  5087,\n",
      "        5386,  5705,  6014,  6307,  6614,  6901,  7200,  7493,  7780,\n",
      "        8079,  8370,  8663,  8962,  9275,  9586,  9871, 10190, 10481,\n",
      "       10780, 11063, 11374, 11665, 11944, 12263, 12552, 12839, 13142,\n",
      "       13431, 13756, 14057, 14348, 14657, 14958, 15231, 15538, 15851,\n",
      "       16134, 16425, 16716, 17007, 17318, 17599, 17898, 18195, 18514,\n",
      "       18809, 19110, 19391]))\n"
     ]
    },
    {
     "name": "stderr",
     "output_type": "stream",
     "text": [
      "[Parallel(n_jobs=-1)]: Done  42 tasks      | elapsed:    0.1s\n",
      "[Parallel(n_jobs=-1)]: Done  65 out of  65 | elapsed:    0.2s finished\n",
      "[Parallel(n_jobs=4)]: Done  42 tasks      | elapsed:    0.0s\n",
      "[Parallel(n_jobs=4)]: Done  65 out of  65 | elapsed:    0.0s finished\n",
      "[Parallel(n_jobs=4)]: Done  42 tasks      | elapsed:    0.0s\n",
      "[Parallel(n_jobs=4)]: Done  65 out of  65 | elapsed:    0.0s finished\n",
      "[Parallel(n_jobs=-1)]: Done  42 tasks      | elapsed:    0.0s\n",
      "[Parallel(n_jobs=-1)]: Done  65 out of  65 | elapsed:    0.1s finished\n"
     ]
    },
    {
     "name": "stdout",
     "output_type": "stream",
     "text": [
      "(<387x29401 sparse matrix of type '<class 'numpy.int64'>'\n",
      "\twith 228173 stored elements in Compressed Sparse Row format>, array([    0,   453,   892,  1353,  1824,  2305,  2772,  3205,  3628,\n",
      "        4101,  4578,  5039,  5514,  5961,  6402,  6849,  7322,  7769,\n",
      "        8194,  8653,  9108,  9553, 10026, 10447, 10892, 11353, 11798,\n",
      "       12245, 12694, 13143, 13638, 14085, 14518, 14977, 15424, 15909,\n",
      "       16360, 16819, 17278, 17721, 18158, 18607, 19070, 19525, 19970,\n",
      "       20457, 20900, 21335, 21778, 22219, 22676, 23131, 23614, 24051,\n",
      "       24502, 24951, 25410, 25855, 26288, 26741, 27198, 27613, 28066,\n",
      "       28527, 28958, 29401]))\n"
     ]
    },
    {
     "name": "stderr",
     "output_type": "stream",
     "text": [
      "[Parallel(n_jobs=-1)]: Done  42 tasks      | elapsed:    0.1s\n",
      "[Parallel(n_jobs=-1)]: Done  65 out of  65 | elapsed:    0.1s finished\n",
      "[Parallel(n_jobs=4)]: Done  42 tasks      | elapsed:    0.0s\n",
      "[Parallel(n_jobs=4)]: Done  65 out of  65 | elapsed:    0.0s finished\n",
      "[Parallel(n_jobs=4)]: Done  42 tasks      | elapsed:    0.0s\n",
      "[Parallel(n_jobs=4)]: Done  65 out of  65 | elapsed:    0.0s finished\n",
      "[Parallel(n_jobs=-1)]: Done  42 tasks      | elapsed:    0.0s\n",
      "[Parallel(n_jobs=-1)]: Done  65 out of  65 | elapsed:    0.1s finished\n"
     ]
    },
    {
     "name": "stdout",
     "output_type": "stream",
     "text": [
      "(<362x25533 sparse matrix of type '<class 'numpy.int64'>'\n",
      "\twith 214886 stored elements in Compressed Sparse Row format>, array([    0,   409,   784,  1165,  1580,  1973,  2360,  2753,  3114,\n",
      "        3493,  3876,  4277,  4656,  5037,  5448,  5857,  6250,  6631,\n",
      "        7042,  7459,  7850,  8231,  8612,  9009,  9412,  9807, 10170,\n",
      "       10553, 10926, 11293, 11674, 12083, 12464, 12863, 13238, 13645,\n",
      "       14030, 14447, 14828, 15207, 15606, 15987, 16400, 16815, 17218,\n",
      "       17555, 17970, 18359, 18758, 19123, 19510, 19893, 20296, 20721,\n",
      "       21144, 21519, 21954, 22367, 22752, 23149, 23536, 23929, 24338,\n",
      "       24731, 25138, 25533]))\n"
     ]
    },
    {
     "name": "stderr",
     "output_type": "stream",
     "text": [
      "[Parallel(n_jobs=-1)]: Done  42 tasks      | elapsed:    0.1s\n",
      "[Parallel(n_jobs=-1)]: Done  65 out of  65 | elapsed:    0.1s finished\n",
      "[Parallel(n_jobs=4)]: Done  42 tasks      | elapsed:    0.0s\n",
      "[Parallel(n_jobs=4)]: Done  65 out of  65 | elapsed:    0.0s finished\n",
      "[Parallel(n_jobs=4)]: Done  42 tasks      | elapsed:    0.0s\n",
      "[Parallel(n_jobs=4)]: Done  65 out of  65 | elapsed:    0.0s finished\n",
      "[Parallel(n_jobs=-1)]: Done  42 tasks      | elapsed:    0.0s\n",
      "[Parallel(n_jobs=-1)]: Done  65 out of  65 | elapsed:    0.1s finished\n"
     ]
    },
    {
     "name": "stdout",
     "output_type": "stream",
     "text": [
      "(<346x24533 sparse matrix of type '<class 'numpy.int64'>'\n",
      "\twith 209037 stored elements in Compressed Sparse Row format>, array([    0,   361,   744,  1117,  1528,  1887,  2252,  2641,  3030,\n",
      "        3383,  3752,  4123,  4496,  4903,  5254,  5651,  6028,  6407,\n",
      "        6796,  7185,  7568,  7939,  8318,  8701,  9082,  9435,  9796,\n",
      "       10163, 10548, 10901, 11294, 11681, 12056, 12433, 12794, 13177,\n",
      "       13598, 13977, 14352, 14727, 15114, 15487, 15880, 16263, 16638,\n",
      "       17023, 17370, 17753, 18122, 18495, 18876, 19259, 19674, 20053,\n",
      "       20426, 20785, 21166, 21553, 21930, 22311, 22680, 23053, 23422,\n",
      "       23811, 24184, 24533]))\n"
     ]
    },
    {
     "name": "stderr",
     "output_type": "stream",
     "text": [
      "[Parallel(n_jobs=-1)]: Done  42 tasks      | elapsed:    0.1s\n",
      "[Parallel(n_jobs=-1)]: Done  65 out of  65 | elapsed:    0.1s finished\n",
      "[Parallel(n_jobs=4)]: Done  42 tasks      | elapsed:    0.0s\n",
      "[Parallel(n_jobs=4)]: Done  65 out of  65 | elapsed:    0.0s finished\n",
      "[Parallel(n_jobs=4)]: Done  42 tasks      | elapsed:    0.0s\n",
      "[Parallel(n_jobs=4)]: Done  65 out of  65 | elapsed:    0.0s finished\n",
      "[Parallel(n_jobs=-1)]: Done  42 tasks      | elapsed:    0.0s\n",
      "[Parallel(n_jobs=-1)]: Done  65 out of  65 | elapsed:    0.1s finished\n"
     ]
    },
    {
     "name": "stdout",
     "output_type": "stream",
     "text": [
      "(<371x25725 sparse matrix of type '<class 'numpy.int64'>'\n",
      "\twith 226140 stored elements in Compressed Sparse Row format>, array([    0,   421,   806,  1197,  1574,  1967,  2372,  2767,  3170,\n",
      "        3573,  3990,  4383,  4794,  5203,  5590,  5951,  6350,  6753,\n",
      "        7148,  7541,  7926,  8293,  8676,  9075,  9460,  9873, 10280,\n",
      "       10709, 11108, 11523, 11944, 12319, 12710, 13073, 13492, 13871,\n",
      "       14270, 14645, 15058, 15451, 15842, 16231, 16610, 16993, 17406,\n",
      "       17791, 18188, 18573, 18962, 19371, 19756, 20157, 20576, 20961,\n",
      "       21322, 21699, 22112, 22493, 22916, 23323, 23702, 24101, 24494,\n",
      "       24905, 25292, 25725]))\n"
     ]
    },
    {
     "name": "stderr",
     "output_type": "stream",
     "text": [
      "[Parallel(n_jobs=-1)]: Done  42 tasks      | elapsed:    0.1s\n",
      "[Parallel(n_jobs=-1)]: Done  65 out of  65 | elapsed:    0.2s finished\n",
      "[Parallel(n_jobs=4)]: Done  42 tasks      | elapsed:    0.0s\n",
      "[Parallel(n_jobs=4)]: Done  65 out of  65 | elapsed:    0.0s finished\n",
      "[Parallel(n_jobs=4)]: Done  42 tasks      | elapsed:    0.0s\n",
      "[Parallel(n_jobs=4)]: Done  65 out of  65 | elapsed:    0.0s finished\n",
      "[Parallel(n_jobs=-1)]: Done  42 tasks      | elapsed:    0.0s\n",
      "[Parallel(n_jobs=-1)]: Done  65 out of  65 | elapsed:    0.1s finished\n"
     ]
    },
    {
     "name": "stdout",
     "output_type": "stream",
     "text": [
      "(<383x26069 sparse matrix of type '<class 'numpy.int64'>'\n",
      "\twith 229846 stored elements in Compressed Sparse Row format>, array([    0,   407,   830,  1243,  1604,  2001,  2384,  2775,  3174,\n",
      "        3569,  3962,  4351,  4742,  5185,  5600,  6009,  6434,  6831,\n",
      "        7228,  7631,  8032,  8407,  8822,  9219,  9632, 10027, 10446,\n",
      "       10845, 11262, 11673, 12080, 12515, 12926, 13331, 13724, 14139,\n",
      "       14542, 14929, 15332, 15737, 16122, 16515, 16916, 17319, 17740,\n",
      "       18145, 18558, 18941, 19308, 19693, 20096, 20497, 20886, 21307,\n",
      "       21690, 22067, 22484, 22935, 23324, 23727, 24112, 24525, 24922,\n",
      "       25323, 25704, 26069]))\n"
     ]
    },
    {
     "name": "stderr",
     "output_type": "stream",
     "text": [
      "[Parallel(n_jobs=-1)]: Done  42 tasks      | elapsed:    0.1s\n",
      "[Parallel(n_jobs=-1)]: Done  65 out of  65 | elapsed:    0.2s finished\n",
      "[Parallel(n_jobs=4)]: Done  42 tasks      | elapsed:    0.0s\n",
      "[Parallel(n_jobs=4)]: Done  65 out of  65 | elapsed:    0.0s finished\n",
      "[Parallel(n_jobs=4)]: Done  42 tasks      | elapsed:    0.0s\n",
      "[Parallel(n_jobs=4)]: Done  65 out of  65 | elapsed:    0.0s finished\n",
      "[Parallel(n_jobs=-1)]: Done  42 tasks      | elapsed:    0.0s\n",
      "[Parallel(n_jobs=-1)]: Done  65 out of  65 | elapsed:    0.1s finished\n"
     ]
    },
    {
     "name": "stdout",
     "output_type": "stream",
     "text": [
      "(<370x23517 sparse matrix of type '<class 'numpy.int64'>'\n",
      "\twith 218045 stored elements in Compressed Sparse Row format>, array([    0,   379,   760,  1145,  1488,  1847,  2208,  2569,  2924,\n",
      "        3271,  3634,  3991,  4366,  4733,  5094,  5443,  5806,  6205,\n",
      "        6568,  6929,  7312,  7699,  8030,  8383,  8736,  9109,  9460,\n",
      "        9803, 10164, 10557, 10918, 11281, 11640, 12003, 12346, 12717,\n",
      "       13098, 13453, 13812, 14203, 14532, 14889, 15240, 15575, 15954,\n",
      "       16335, 16708, 17069, 17432, 17811, 18166, 18527, 18902, 19257,\n",
      "       19624, 19983, 20334, 20683, 21024, 21391, 21764, 22127, 22486,\n",
      "       22829, 23178, 23517]))\n"
     ]
    },
    {
     "name": "stderr",
     "output_type": "stream",
     "text": [
      "[Parallel(n_jobs=-1)]: Done  42 tasks      | elapsed:    0.1s\n",
      "[Parallel(n_jobs=-1)]: Done  65 out of  65 | elapsed:    0.2s finished\n",
      "[Parallel(n_jobs=4)]: Done  42 tasks      | elapsed:    0.0s\n",
      "[Parallel(n_jobs=4)]: Done  65 out of  65 | elapsed:    0.0s finished\n",
      "[Parallel(n_jobs=4)]: Done  42 tasks      | elapsed:    0.0s\n",
      "[Parallel(n_jobs=4)]: Done  65 out of  65 | elapsed:    0.0s finished\n",
      "[Parallel(n_jobs=-1)]: Done  42 tasks      | elapsed:    0.0s\n",
      "[Parallel(n_jobs=-1)]: Done  65 out of  65 | elapsed:    0.1s finished\n"
     ]
    },
    {
     "name": "stdout",
     "output_type": "stream",
     "text": [
      "(<362x27261 sparse matrix of type '<class 'numpy.int64'>'\n",
      "\twith 211302 stored elements in Compressed Sparse Row format>, array([    0,   421,   852,  1277,  1694,  2093,  2506,  2949,  3386,\n",
      "        3827,  4244,  4655,  5090,  5529,  5952,  6363,  6788,  7195,\n",
      "        7608,  8005,  8446,  8857,  9312,  9733, 10154, 10555, 10964,\n",
      "       11355, 11784, 12227, 12662, 13053, 13466, 13875, 14292, 14715,\n",
      "       15114, 15503, 15938, 16381, 16806, 17195, 17582, 18005, 18418,\n",
      "       18847, 19264, 19691, 20124, 20537, 20980, 21407, 21788, 22205,\n",
      "       22598, 23041, 23442, 23843, 24240, 24683, 25112, 25511, 25952,\n",
      "       26401, 26826, 27261]))\n"
     ]
    },
    {
     "name": "stderr",
     "output_type": "stream",
     "text": [
      "[Parallel(n_jobs=-1)]: Done  42 tasks      | elapsed:    0.1s\n",
      "[Parallel(n_jobs=-1)]: Done  65 out of  65 | elapsed:    0.1s finished\n",
      "[Parallel(n_jobs=4)]: Done  42 tasks      | elapsed:    0.0s\n",
      "[Parallel(n_jobs=4)]: Done  65 out of  65 | elapsed:    0.0s finished\n",
      "[Parallel(n_jobs=4)]: Done  42 tasks      | elapsed:    0.0s\n",
      "[Parallel(n_jobs=4)]: Done  65 out of  65 | elapsed:    0.0s finished\n",
      "[Parallel(n_jobs=-1)]: Done  42 tasks      | elapsed:    0.0s\n",
      "[Parallel(n_jobs=-1)]: Done  65 out of  65 | elapsed:    0.1s finished\n"
     ]
    },
    {
     "name": "stdout",
     "output_type": "stream",
     "text": [
      "(<364x26395 sparse matrix of type '<class 'numpy.int64'>'\n",
      "\twith 225843 stored elements in Compressed Sparse Row format>, array([    0,   371,   800,  1217,  1640,  2037,  2434,  2841,  3242,\n",
      "        3645,  4046,  4451,  4868,  5269,  5664,  6065,  6486,  6859,\n",
      "        7280,  7669,  8062,  8463,  8870,  9283,  9682, 10103, 10530,\n",
      "       10955, 11332, 11723, 12176, 12567, 12958, 13375, 13794, 14195,\n",
      "       14578, 14953, 15380, 15773, 16144, 16527, 16936, 17331, 17730,\n",
      "       18155, 18550, 18943, 19376, 19789, 20186, 20579, 21016, 21417,\n",
      "       21840, 22227, 22636, 23059, 23472, 23885, 24312, 24731, 25164,\n",
      "       25579, 26002, 26395]))\n"
     ]
    },
    {
     "name": "stderr",
     "output_type": "stream",
     "text": [
      "[Parallel(n_jobs=-1)]: Done  42 tasks      | elapsed:    0.1s\n",
      "[Parallel(n_jobs=-1)]: Done  65 out of  65 | elapsed:    0.1s finished\n",
      "[Parallel(n_jobs=4)]: Done  42 tasks      | elapsed:    0.0s\n",
      "[Parallel(n_jobs=4)]: Done  65 out of  65 | elapsed:    0.0s finished\n",
      "[Parallel(n_jobs=4)]: Done  42 tasks      | elapsed:    0.0s\n",
      "[Parallel(n_jobs=4)]: Done  65 out of  65 | elapsed:    0.0s finished\n",
      "[Parallel(n_jobs=-1)]: Done  42 tasks      | elapsed:    0.0s\n",
      "[Parallel(n_jobs=-1)]: Done  65 out of  65 | elapsed:    0.1s finished\n"
     ]
    },
    {
     "name": "stdout",
     "output_type": "stream",
     "text": [
      "(<394x25455 sparse matrix of type '<class 'numpy.int64'>'\n",
      "\twith 236933 stored elements in Compressed Sparse Row format>, array([    0,   383,   790,  1189,  1596,  1987,  2408,  2779,  3158,\n",
      "        3553,  3944,  4335,  4732,  5125,  5510,  5883,  6288,  6667,\n",
      "        7056,  7441,  7826,  8225,  8620,  9017,  9418,  9783, 10202,\n",
      "       10605, 10988, 11395, 11756, 12175, 12548, 12927, 13322, 13735,\n",
      "       14110, 14513, 14906, 15297, 15640, 16005, 16400, 16793, 17196,\n",
      "       17585, 18002, 18429, 18822, 19219, 19606, 20017, 20400, 20801,\n",
      "       21170, 21563, 21974, 22391, 22776, 23155, 23556, 23957, 24310,\n",
      "       24711, 25072, 25455]))\n"
     ]
    },
    {
     "name": "stderr",
     "output_type": "stream",
     "text": [
      "[Parallel(n_jobs=-1)]: Done  42 tasks      | elapsed:    0.1s\n",
      "[Parallel(n_jobs=-1)]: Done  65 out of  65 | elapsed:    0.2s finished\n",
      "[Parallel(n_jobs=4)]: Done  42 tasks      | elapsed:    0.0s\n",
      "[Parallel(n_jobs=4)]: Done  65 out of  65 | elapsed:    0.0s finished\n",
      "[Parallel(n_jobs=4)]: Done  42 tasks      | elapsed:    0.0s\n",
      "[Parallel(n_jobs=4)]: Done  65 out of  65 | elapsed:    0.0s finished\n",
      "[Parallel(n_jobs=-1)]: Done  42 tasks      | elapsed:    0.0s\n",
      "[Parallel(n_jobs=-1)]: Done  65 out of  65 | elapsed:    0.1s finished\n"
     ]
    },
    {
     "name": "stdout",
     "output_type": "stream",
     "text": [
      "(<352x24535 sparse matrix of type '<class 'numpy.int64'>'\n",
      "\twith 209844 stored elements in Compressed Sparse Row format>, array([    0,   381,   762,  1133,  1536,  1907,  2268,  2645,  2996,\n",
      "        3379,  3770,  4161,  4526,  4879,  5252,  5635,  6018,  6371,\n",
      "        6780,  7121,  7504,  7867,  8270,  8679,  9068,  9439,  9810,\n",
      "       10179, 10534, 10911, 11282, 11663, 12026, 12415, 12796, 13167,\n",
      "       13534, 13909, 14286, 14673, 15060, 15437, 15810, 16201, 16576,\n",
      "       16891, 17260, 17655, 18050, 18445, 18820, 19247, 19592, 19965,\n",
      "       20356, 20717, 21084, 21493, 21886, 22259, 22642, 23001, 23368,\n",
      "       23743, 24132, 24535]))\n"
     ]
    },
    {
     "name": "stderr",
     "output_type": "stream",
     "text": [
      "[Parallel(n_jobs=-1)]: Done  42 tasks      | elapsed:    0.1s\n",
      "[Parallel(n_jobs=-1)]: Done  65 out of  65 | elapsed:    0.1s finished\n",
      "[Parallel(n_jobs=4)]: Done  42 tasks      | elapsed:    0.0s\n",
      "[Parallel(n_jobs=4)]: Done  65 out of  65 | elapsed:    0.0s finished\n",
      "[Parallel(n_jobs=4)]: Done  42 tasks      | elapsed:    0.0s\n",
      "[Parallel(n_jobs=4)]: Done  65 out of  65 | elapsed:    0.0s finished\n",
      "[Parallel(n_jobs=-1)]: Done  42 tasks      | elapsed:    0.0s\n",
      "[Parallel(n_jobs=-1)]: Done  65 out of  65 | elapsed:    0.1s finished\n"
     ]
    },
    {
     "name": "stdout",
     "output_type": "stream",
     "text": [
      "(<379x26903 sparse matrix of type '<class 'numpy.int64'>'\n",
      "\twith 233792 stored elements in Compressed Sparse Row format>, array([    0,   415,   844,  1263,  1674,  2073,  2492,  2901,  3320,\n",
      "        3727,  4162,  4591,  5030,  5461,  5864,  6327,  6746,  7135,\n",
      "        7540,  7933,  8322,  8733,  9166,  9599, 10014, 10415, 10834,\n",
      "       11211, 11626, 12031, 12448, 12859, 13282, 13695, 14080, 14493,\n",
      "       14904, 15319, 15728, 16129, 16524, 16919, 17332, 17769, 18200,\n",
      "       18595, 19018, 19409, 19808, 20227, 20644, 21099, 21520, 21927,\n",
      "       22332, 22729, 23164, 23579, 24002, 24427, 24802, 25207, 25614,\n",
      "       26059, 26474, 26903]))\n"
     ]
    },
    {
     "name": "stderr",
     "output_type": "stream",
     "text": [
      "[Parallel(n_jobs=-1)]: Done  42 tasks      | elapsed:    0.1s\n",
      "[Parallel(n_jobs=-1)]: Done  65 out of  65 | elapsed:    0.1s finished\n",
      "[Parallel(n_jobs=4)]: Done  42 tasks      | elapsed:    0.0s\n",
      "[Parallel(n_jobs=4)]: Done  65 out of  65 | elapsed:    0.0s finished\n",
      "[Parallel(n_jobs=4)]: Done  42 tasks      | elapsed:    0.0s\n",
      "[Parallel(n_jobs=4)]: Done  65 out of  65 | elapsed:    0.0s finished\n",
      "[Parallel(n_jobs=-1)]: Done  42 tasks      | elapsed:    0.0s\n",
      "[Parallel(n_jobs=-1)]: Done  65 out of  65 | elapsed:    0.1s finished\n"
     ]
    },
    {
     "name": "stdout",
     "output_type": "stream",
     "text": [
      "(<394x25955 sparse matrix of type '<class 'numpy.int64'>'\n",
      "\twith 235479 stored elements in Compressed Sparse Row format>, array([    0,   429,   818,  1225,  1636,  2005,  2398,  2797,  3198,\n",
      "        3611,  3988,  4393,  4802,  5191,  5576,  5985,  6398,  6789,\n",
      "        7210,  7579,  7998,  8381,  8778,  9169,  9534,  9929, 10340,\n",
      "       10747, 11130, 11541, 11930, 12317, 12706, 13149, 13532, 13927,\n",
      "       14330, 14701, 15108, 15513, 15932, 16319, 16722, 17125, 17522,\n",
      "       17933, 18334, 18767, 19154, 19523, 19930, 20341, 20708, 21127,\n",
      "       21536, 21953, 22346, 22743, 23136, 23539, 23954, 24363, 24758,\n",
      "       25155, 25558, 25955]))\n"
     ]
    },
    {
     "name": "stderr",
     "output_type": "stream",
     "text": [
      "[Parallel(n_jobs=-1)]: Done  42 tasks      | elapsed:    0.1s\n",
      "[Parallel(n_jobs=-1)]: Done  65 out of  65 | elapsed:    0.1s finished\n",
      "[Parallel(n_jobs=4)]: Done  42 tasks      | elapsed:    0.0s\n",
      "[Parallel(n_jobs=4)]: Done  65 out of  65 | elapsed:    0.0s finished\n",
      "[Parallel(n_jobs=4)]: Done  42 tasks      | elapsed:    0.0s\n",
      "[Parallel(n_jobs=4)]: Done  65 out of  65 | elapsed:    0.0s finished\n",
      "[Parallel(n_jobs=-1)]: Done  42 tasks      | elapsed:    0.0s\n",
      "[Parallel(n_jobs=-1)]: Done  65 out of  65 | elapsed:    0.1s finished\n"
     ]
    },
    {
     "name": "stdout",
     "output_type": "stream",
     "text": [
      "(<378x24135 sparse matrix of type '<class 'numpy.int64'>'\n",
      "\twith 221124 stored elements in Compressed Sparse Row format>, array([    0,   355,   706,  1069,  1442,  1821,  2234,  2589,  2976,\n",
      "        3347,  3738,  4097,  4446,  4817,  5188,  5555,  5944,  6299,\n",
      "        6676,  7043,  7424,  7785,  8202,  8545,  8932,  9279,  9646,\n",
      "       10029, 10402, 10743, 11090, 11463, 11840, 12225, 12598, 13003,\n",
      "       13376, 13763, 14132, 14509, 14888, 15279, 15632, 16033, 16388,\n",
      "       16779, 17148, 17517, 17880, 18251, 18582, 18959, 19314, 19689,\n",
      "       20056, 20413, 20780, 21161, 21528, 21903, 22280, 22633, 23016,\n",
      "       23377, 23750, 24135]))\n"
     ]
    },
    {
     "name": "stderr",
     "output_type": "stream",
     "text": [
      "[Parallel(n_jobs=-1)]: Done  42 tasks      | elapsed:    0.1s\n",
      "[Parallel(n_jobs=-1)]: Done  65 out of  65 | elapsed:    0.1s finished\n",
      "[Parallel(n_jobs=4)]: Done  42 tasks      | elapsed:    0.0s\n",
      "[Parallel(n_jobs=4)]: Done  65 out of  65 | elapsed:    0.0s finished\n",
      "[Parallel(n_jobs=4)]: Done  42 tasks      | elapsed:    0.0s\n",
      "[Parallel(n_jobs=4)]: Done  65 out of  65 | elapsed:    0.0s finished\n",
      "[Parallel(n_jobs=-1)]: Done  42 tasks      | elapsed:    0.0s\n",
      "[Parallel(n_jobs=-1)]: Done  65 out of  65 | elapsed:    0.1s finished\n"
     ]
    },
    {
     "name": "stdout",
     "output_type": "stream",
     "text": [
      "(<418x26549 sparse matrix of type '<class 'numpy.int64'>'\n",
      "\twith 247259 stored elements in Compressed Sparse Row format>, array([    0,   413,   828,  1233,  1634,  2035,  2428,  2865,  3278,\n",
      "        3691,  4118,  4547,  4980,  5393,  5768,  6169,  6564,  6983,\n",
      "        7388,  7799,  8204,  8635,  9024,  9427,  9832, 10193, 10600,\n",
      "       11015, 11434, 11873, 12274, 12691, 13104, 13505, 13934, 14319,\n",
      "       14744, 15129, 15558, 15965, 16396, 16805, 17180, 17587, 17978,\n",
      "       18393, 18812, 19239, 19650, 20071, 20454, 20851, 21250, 21683,\n",
      "       22082, 22459, 22870, 23305, 23748, 24137, 24530, 24939, 25332,\n",
      "       25747, 26124, 26549]))\n"
     ]
    },
    {
     "name": "stderr",
     "output_type": "stream",
     "text": [
      "[Parallel(n_jobs=-1)]: Done  42 tasks      | elapsed:    0.1s\n",
      "[Parallel(n_jobs=-1)]: Done  65 out of  65 | elapsed:    0.1s finished\n",
      "[Parallel(n_jobs=4)]: Done  42 tasks      | elapsed:    0.0s\n",
      "[Parallel(n_jobs=4)]: Done  65 out of  65 | elapsed:    0.0s finished\n",
      "[Parallel(n_jobs=4)]: Done  42 tasks      | elapsed:    0.0s\n",
      "[Parallel(n_jobs=4)]: Done  65 out of  65 | elapsed:    0.0s finished\n",
      "[Parallel(n_jobs=-1)]: Done  42 tasks      | elapsed:    0.0s\n",
      "[Parallel(n_jobs=-1)]: Done  65 out of  65 | elapsed:    0.1s finished\n"
     ]
    },
    {
     "name": "stdout",
     "output_type": "stream",
     "text": [
      "(<281x26559 sparse matrix of type '<class 'numpy.int64'>'\n",
      "\twith 166227 stored elements in Compressed Sparse Row format>, array([    0,   403,   802,  1167,  1550,  1945,  2364,  2795,  3198,\n",
      "        3589,  4006,  4421,  4812,  5231,  5638,  6053,  6424,  6833,\n",
      "        7240,  7629,  8036,  8437,  8832,  9211,  9604, 10007, 10438,\n",
      "       10877, 11288, 11715, 12122, 12555, 12972, 13393, 13792, 14203,\n",
      "       14658, 15085, 15494, 15915, 16322, 16705, 17120, 17521, 17944,\n",
      "       18333, 18784, 19177, 19600, 20019, 20446, 20855, 21268, 21669,\n",
      "       22070, 22467, 22864, 23271, 23676, 24077, 24470, 24885, 25330,\n",
      "       25749, 26150, 26559]))\n"
     ]
    },
    {
     "name": "stderr",
     "output_type": "stream",
     "text": [
      "[Parallel(n_jobs=-1)]: Done  42 tasks      | elapsed:    0.1s\n",
      "[Parallel(n_jobs=-1)]: Done  65 out of  65 | elapsed:    0.1s finished\n",
      "[Parallel(n_jobs=4)]: Done  42 tasks      | elapsed:    0.0s\n",
      "[Parallel(n_jobs=4)]: Done  65 out of  65 | elapsed:    0.0s finished\n",
      "[Parallel(n_jobs=4)]: Done  42 tasks      | elapsed:    0.0s\n",
      "[Parallel(n_jobs=4)]: Done  65 out of  65 | elapsed:    0.0s finished\n",
      "[Parallel(n_jobs=-1)]: Done  42 tasks      | elapsed:    0.0s\n",
      "[Parallel(n_jobs=-1)]: Done  65 out of  65 | elapsed:    0.1s finished\n"
     ]
    },
    {
     "name": "stdout",
     "output_type": "stream",
     "text": [
      "(<339x20617 sparse matrix of type '<class 'numpy.int64'>'\n",
      "\twith 200185 stored elements in Compressed Sparse Row format>, array([    0,   293,   628,   933,  1228,  1549,  1872,  2211,  2544,\n",
      "        2841,  3150,  3455,  3776,  4117,  4430,  4759,  5082,  5377,\n",
      "        5692,  6007,  6330,  6651,  6976,  7285,  7566,  7891,  8228,\n",
      "        8553,  8854,  9189,  9502,  9841, 10152, 10489, 10806, 11111,\n",
      "       11428, 11751, 12068, 12383, 12706, 13027, 13344, 13651, 13998,\n",
      "       14307, 14612, 14911, 15226, 15551, 15882, 16179, 16482, 16805,\n",
      "       17102, 17419, 17744, 18071, 18394, 18701, 19010, 19345, 19658,\n",
      "       19971, 20306, 20617]))\n"
     ]
    },
    {
     "name": "stderr",
     "output_type": "stream",
     "text": [
      "[Parallel(n_jobs=-1)]: Done  42 tasks      | elapsed:    0.1s\n",
      "[Parallel(n_jobs=-1)]: Done  65 out of  65 | elapsed:    0.2s finished\n",
      "[Parallel(n_jobs=4)]: Done  42 tasks      | elapsed:    0.0s\n",
      "[Parallel(n_jobs=4)]: Done  65 out of  65 | elapsed:    0.0s finished\n",
      "[Parallel(n_jobs=4)]: Done  42 tasks      | elapsed:    0.0s\n",
      "[Parallel(n_jobs=4)]: Done  65 out of  65 | elapsed:    0.0s finished\n",
      "[Parallel(n_jobs=-1)]: Done  42 tasks      | elapsed:    0.0s\n",
      "[Parallel(n_jobs=-1)]: Done  65 out of  65 | elapsed:    0.1s finished\n"
     ]
    },
    {
     "name": "stdout",
     "output_type": "stream",
     "text": [
      "(<364x23067 sparse matrix of type '<class 'numpy.int64'>'\n",
      "\twith 215782 stored elements in Compressed Sparse Row format>, array([    0,   345,   694,  1067,  1440,  1807,  2184,  2529,  2900,\n",
      "        3253,  3604,  3963,  4324,  4697,  5076,  5431,  5794,  6135,\n",
      "        6462,  6809,  7162,  7521,  7872,  8239,  8586,  8947,  9288,\n",
      "        9651, 10010, 10365, 10722, 11069, 11406, 11803, 12138, 12481,\n",
      "       12818, 13187, 13552, 13909, 14250, 14603, 14952, 15313, 15670,\n",
      "       16017, 16334, 16715, 17078, 17429, 17802, 18145, 18482, 18841,\n",
      "       19172, 19523, 19846, 20199, 20540, 20895, 21254, 21631, 21982,\n",
      "       22335, 22688, 23067]))\n"
     ]
    },
    {
     "name": "stderr",
     "output_type": "stream",
     "text": [
      "[Parallel(n_jobs=-1)]: Done  42 tasks      | elapsed:    0.1s\n",
      "[Parallel(n_jobs=-1)]: Done  65 out of  65 | elapsed:    0.2s finished\n",
      "[Parallel(n_jobs=4)]: Done  42 tasks      | elapsed:    0.0s\n",
      "[Parallel(n_jobs=4)]: Done  65 out of  65 | elapsed:    0.0s finished\n",
      "[Parallel(n_jobs=4)]: Done  42 tasks      | elapsed:    0.0s\n",
      "[Parallel(n_jobs=4)]: Done  65 out of  65 | elapsed:    0.0s finished\n",
      "[Parallel(n_jobs=-1)]: Done  42 tasks      | elapsed:    0.0s\n",
      "[Parallel(n_jobs=-1)]: Done  65 out of  65 | elapsed:    0.1s finished\n"
     ]
    },
    {
     "name": "stdout",
     "output_type": "stream",
     "text": [
      "(<345x27217 sparse matrix of type '<class 'numpy.int64'>'\n",
      "\twith 208870 stored elements in Compressed Sparse Row format>, array([    0,   419,   834,  1245,  1644,  2071,  2484,  2915,  3340,\n",
      "        3761,  4176,  4577,  4990,  5411,  5782,  6189,  6588,  7039,\n",
      "        7464,  7905,  8318,  8733,  9170,  9587, 10016, 10437, 10872,\n",
      "       11289, 11710, 12113, 12556, 13009, 13438, 13847, 14278, 14685,\n",
      "       15120, 15533, 15982, 16395, 16824, 17255, 17662, 18057, 18488,\n",
      "       18911, 19346, 19741, 20158, 20559, 20954, 21377, 21766, 22201,\n",
      "       22626, 23035, 23484, 23925, 24350, 24753, 25192, 25591, 25990,\n",
      "       26385, 26796, 27217]))\n"
     ]
    },
    {
     "name": "stderr",
     "output_type": "stream",
     "text": [
      "[Parallel(n_jobs=-1)]: Done  42 tasks      | elapsed:    0.1s\n",
      "[Parallel(n_jobs=-1)]: Done  65 out of  65 | elapsed:    0.2s finished\n",
      "[Parallel(n_jobs=4)]: Done  42 tasks      | elapsed:    0.0s\n",
      "[Parallel(n_jobs=4)]: Done  65 out of  65 | elapsed:    0.0s finished\n",
      "[Parallel(n_jobs=4)]: Done  42 tasks      | elapsed:    0.0s\n",
      "[Parallel(n_jobs=4)]: Done  65 out of  65 | elapsed:    0.0s finished\n",
      "[Parallel(n_jobs=-1)]: Done  42 tasks      | elapsed:    0.0s\n",
      "[Parallel(n_jobs=-1)]: Done  65 out of  65 | elapsed:    0.1s finished\n"
     ]
    },
    {
     "name": "stdout",
     "output_type": "stream",
     "text": [
      "(<375x26283 sparse matrix of type '<class 'numpy.int64'>'\n",
      "\twith 222917 stored elements in Compressed Sparse Row format>, array([    0,   429,   830,  1237,  1636,  2049,  2462,  2885,  3288,\n",
      "        3677,  4072,  4471,  4882,  5285,  5704,  6133,  6518,  6919,\n",
      "        7310,  7701,  8104,  8485,  8872,  9301,  9678, 10061, 10466,\n",
      "       10893, 11306, 11697, 12086, 12493, 12906, 13339, 13758, 14167,\n",
      "       14582, 14993, 15392, 15779, 16176, 16593, 17038, 17455, 17860,\n",
      "       18255, 18674, 19067, 19476, 19863, 20272, 20663, 21062, 21443,\n",
      "       21860, 22245, 22646, 23047, 23454, 23873, 24302, 24695, 25064,\n",
      "       25473, 25880, 26283]))\n"
     ]
    },
    {
     "name": "stderr",
     "output_type": "stream",
     "text": [
      "[Parallel(n_jobs=-1)]: Done  42 tasks      | elapsed:    0.1s\n",
      "[Parallel(n_jobs=-1)]: Done  65 out of  65 | elapsed:    0.1s finished\n",
      "[Parallel(n_jobs=4)]: Done  42 tasks      | elapsed:    0.0s\n",
      "[Parallel(n_jobs=4)]: Done  65 out of  65 | elapsed:    0.0s finished\n",
      "[Parallel(n_jobs=4)]: Done  42 tasks      | elapsed:    0.0s\n",
      "[Parallel(n_jobs=4)]: Done  65 out of  65 | elapsed:    0.0s finished\n",
      "[Parallel(n_jobs=-1)]: Done  42 tasks      | elapsed:    0.0s\n",
      "[Parallel(n_jobs=-1)]: Done  65 out of  65 | elapsed:    0.1s finished\n"
     ]
    },
    {
     "name": "stdout",
     "output_type": "stream",
     "text": [
      "(<372x26729 sparse matrix of type '<class 'numpy.int64'>'\n",
      "\twith 232968 stored elements in Compressed Sparse Row format>, array([    0,   407,   820,  1217,  1610,  2049,  2478,  2873,  3270,\n",
      "        3687,  4092,  4523,  4920,  5325,  5768,  6173,  6552,  6953,\n",
      "        7354,  7789,  8184,  8577,  8992,  9423,  9848, 10289, 10676,\n",
      "       11117, 11524, 11925, 12316, 12729, 13142, 13559, 13976, 14397,\n",
      "       14798, 15221, 15608, 16061, 16468, 16865, 17292, 17713, 18100,\n",
      "       18513, 18910, 19331, 19778, 20187, 20624, 20995, 21384, 21803,\n",
      "       22240, 22647, 23070, 23455, 23878, 24287, 24694, 25093, 25506,\n",
      "       25907, 26304, 26729]))\n"
     ]
    },
    {
     "name": "stderr",
     "output_type": "stream",
     "text": [
      "[Parallel(n_jobs=-1)]: Done  42 tasks      | elapsed:    0.1s\n",
      "[Parallel(n_jobs=-1)]: Done  65 out of  65 | elapsed:    0.1s finished\n",
      "[Parallel(n_jobs=4)]: Done  42 tasks      | elapsed:    0.0s\n",
      "[Parallel(n_jobs=4)]: Done  65 out of  65 | elapsed:    0.0s finished\n",
      "[Parallel(n_jobs=4)]: Done  42 tasks      | elapsed:    0.0s\n",
      "[Parallel(n_jobs=4)]: Done  65 out of  65 | elapsed:    0.0s finished\n",
      "[Parallel(n_jobs=-1)]: Done  42 tasks      | elapsed:    0.0s\n",
      "[Parallel(n_jobs=-1)]: Done  65 out of  65 | elapsed:    0.1s finished\n"
     ]
    },
    {
     "name": "stdout",
     "output_type": "stream",
     "text": [
      "(<397x25871 sparse matrix of type '<class 'numpy.int64'>'\n",
      "\twith 242763 stored elements in Compressed Sparse Row format>, array([    0,   429,   820,  1253,  1648,  2059,  2452,  2829,  3210,\n",
      "        3587,  3964,  4369,  4758,  5155,  5572,  5983,  6390,  6779,\n",
      "        7172,  7557,  7962,  8357,  8766,  9135,  9502,  9917, 10334,\n",
      "       10715, 11108, 11507, 11896, 12287, 12676, 13067, 13474, 13889,\n",
      "       14296, 14681, 15088, 15493, 15898, 16297, 16684, 17085, 17526,\n",
      "       17929, 18316, 18705, 19100, 19533, 19904, 20301, 20682, 21079,\n",
      "       21478, 21853, 22266, 22663, 23042, 23419, 23808, 24229, 24668,\n",
      "       25055, 25448, 25871]))\n"
     ]
    },
    {
     "name": "stderr",
     "output_type": "stream",
     "text": [
      "[Parallel(n_jobs=-1)]: Done  42 tasks      | elapsed:    0.1s\n",
      "[Parallel(n_jobs=-1)]: Done  65 out of  65 | elapsed:    0.2s finished\n",
      "[Parallel(n_jobs=4)]: Done  42 tasks      | elapsed:    0.0s\n",
      "[Parallel(n_jobs=4)]: Done  65 out of  65 | elapsed:    0.0s finished\n",
      "[Parallel(n_jobs=4)]: Done  42 tasks      | elapsed:    0.0s\n",
      "[Parallel(n_jobs=4)]: Done  65 out of  65 | elapsed:    0.0s finished\n",
      "[Parallel(n_jobs=-1)]: Done  42 tasks      | elapsed:    0.0s\n",
      "[Parallel(n_jobs=-1)]: Done  65 out of  65 | elapsed:    0.1s finished\n"
     ]
    },
    {
     "name": "stdout",
     "output_type": "stream",
     "text": [
      "(<373x26173 sparse matrix of type '<class 'numpy.int64'>'\n",
      "\twith 219966 stored elements in Compressed Sparse Row format>, array([    0,   379,   786,  1185,  1592,  2001,  2414,  2821,  3204,\n",
      "        3619,  4014,  4423,  4854,  5219,  5628,  6033,  6408,  6819,\n",
      "        7206,  7601,  8008,  8403,  8804,  9207,  9610, 10041, 10444,\n",
      "       10845, 11212, 11615, 12012, 12437, 12856, 13273, 13678, 14087,\n",
      "       14458, 14865, 15258, 15651, 16036, 16429, 16812, 17247, 17658,\n",
      "       18081, 18480, 18899, 19308, 19715, 20106, 20517, 20892, 21301,\n",
      "       21722, 22103, 22508, 22919, 23326, 23731, 24138, 24553, 24932,\n",
      "       25335, 25748, 26173]))\n"
     ]
    },
    {
     "name": "stderr",
     "output_type": "stream",
     "text": [
      "[Parallel(n_jobs=-1)]: Done  42 tasks      | elapsed:    0.1s\n",
      "[Parallel(n_jobs=-1)]: Done  65 out of  65 | elapsed:    0.2s finished\n",
      "[Parallel(n_jobs=4)]: Done  42 tasks      | elapsed:    0.0s\n",
      "[Parallel(n_jobs=4)]: Done  65 out of  65 | elapsed:    0.0s finished\n",
      "[Parallel(n_jobs=4)]: Done  42 tasks      | elapsed:    0.0s\n",
      "[Parallel(n_jobs=4)]: Done  65 out of  65 | elapsed:    0.0s finished\n",
      "[Parallel(n_jobs=-1)]: Done  42 tasks      | elapsed:    0.0s\n",
      "[Parallel(n_jobs=-1)]: Done  65 out of  65 | elapsed:    0.1s finished\n"
     ]
    },
    {
     "name": "stdout",
     "output_type": "stream",
     "text": [
      "(<402x27387 sparse matrix of type '<class 'numpy.int64'>'\n",
      "\twith 250837 stored elements in Compressed Sparse Row format>, array([    0,   451,   878,  1311,  1718,  2155,  2608,  3007,  3434,\n",
      "        3845,  4260,  4679,  5100,  5507,  5930,  6327,  6768,  7215,\n",
      "        7628,  8019,  8452,  8871,  9286,  9681, 10106, 10543, 10964,\n",
      "       11381, 11802, 12217, 12604, 13041, 13468, 13889, 14306, 14751,\n",
      "       15178, 15631, 16078, 16487, 16888, 17311, 17748, 18173, 18592,\n",
      "       19029, 19438, 19855, 20270, 20709, 21138, 21563, 22000, 22409,\n",
      "       22800, 23199, 23598, 24021, 24444, 24843, 25248, 25677, 26102,\n",
      "       26529, 26976, 27387]))\n"
     ]
    },
    {
     "name": "stderr",
     "output_type": "stream",
     "text": [
      "[Parallel(n_jobs=-1)]: Done  42 tasks      | elapsed:    0.1s\n",
      "[Parallel(n_jobs=-1)]: Done  65 out of  65 | elapsed:    0.2s finished\n",
      "[Parallel(n_jobs=4)]: Done  42 tasks      | elapsed:    0.0s\n",
      "[Parallel(n_jobs=4)]: Done  65 out of  65 | elapsed:    0.0s finished\n",
      "[Parallel(n_jobs=4)]: Done  42 tasks      | elapsed:    0.0s\n",
      "[Parallel(n_jobs=4)]: Done  65 out of  65 | elapsed:    0.0s finished\n",
      "[Parallel(n_jobs=-1)]: Done  42 tasks      | elapsed:    0.0s\n",
      "[Parallel(n_jobs=-1)]: Done  65 out of  65 | elapsed:    0.1s finished\n"
     ]
    },
    {
     "name": "stdout",
     "output_type": "stream",
     "text": [
      "(<341x27177 sparse matrix of type '<class 'numpy.int64'>'\n",
      "\twith 209347 stored elements in Compressed Sparse Row format>, array([    0,   427,   872,  1285,  1688,  2097,  2528,  2979,  3372,\n",
      "        3787,  4226,  4645,  5076,  5517,  5906,  6323,  6732,  7129,\n",
      "        7526,  7935,  8316,  8771,  9178,  9589, 10006, 10421, 10858,\n",
      "       11257, 11696, 12129, 12534, 12979, 13388, 13793, 14190, 14627,\n",
      "       15020, 15429, 15840, 16257, 16684, 17137, 17554, 17997, 18434,\n",
      "       18859, 19296, 19691, 20088, 20493, 20918, 21357, 21776, 22201,\n",
      "       22614, 23027, 23442, 23861, 24284, 24661, 25086, 25491, 25916,\n",
      "       26319, 26758, 27177]))\n"
     ]
    },
    {
     "name": "stderr",
     "output_type": "stream",
     "text": [
      "[Parallel(n_jobs=-1)]: Done  42 tasks      | elapsed:    0.1s\n",
      "[Parallel(n_jobs=-1)]: Done  65 out of  65 | elapsed:    0.2s finished\n",
      "[Parallel(n_jobs=4)]: Done  42 tasks      | elapsed:    0.0s\n",
      "[Parallel(n_jobs=4)]: Done  65 out of  65 | elapsed:    0.0s finished\n",
      "[Parallel(n_jobs=4)]: Done  42 tasks      | elapsed:    0.0s\n",
      "[Parallel(n_jobs=4)]: Done  65 out of  65 | elapsed:    0.0s finished\n",
      "[Parallel(n_jobs=-1)]: Done  42 tasks      | elapsed:    0.0s\n",
      "[Parallel(n_jobs=-1)]: Done  65 out of  65 | elapsed:    0.1s finished\n"
     ]
    },
    {
     "name": "stdout",
     "output_type": "stream",
     "text": [
      "(<383x25897 sparse matrix of type '<class 'numpy.int64'>'\n",
      "\twith 231790 stored elements in Compressed Sparse Row format>, array([    0,   389,   772,  1169,  1560,  1927,  2352,  2785,  3192,\n",
      "        3579,  3988,  4383,  4776,  5197,  5610,  6015,  6412,  6817,\n",
      "        7216,  7593,  7964,  8345,  8726,  9135,  9504,  9891, 10276,\n",
      "       10653, 11062, 11457, 11850, 12213, 12646, 13065, 13444, 13867,\n",
      "       14286, 14653, 15046, 15455, 15860, 16257, 16680, 17079, 17466,\n",
      "       17867, 18254, 18655, 19054, 19457, 19848, 20303, 20706, 21123,\n",
      "       21518, 21941, 22336, 22727, 23150, 23561, 23956, 24363, 24728,\n",
      "       25097, 25492, 25897]))\n"
     ]
    },
    {
     "name": "stderr",
     "output_type": "stream",
     "text": [
      "[Parallel(n_jobs=-1)]: Done  42 tasks      | elapsed:    0.0s\n",
      "[Parallel(n_jobs=-1)]: Done  65 out of  65 | elapsed:    0.1s finished\n",
      "[Parallel(n_jobs=4)]: Done  42 tasks      | elapsed:    0.0s\n",
      "[Parallel(n_jobs=4)]: Done  65 out of  65 | elapsed:    0.0s finished\n",
      "[Parallel(n_jobs=4)]: Done  42 tasks      | elapsed:    0.0s\n",
      "[Parallel(n_jobs=4)]: Done  65 out of  65 | elapsed:    0.0s finished\n",
      "[Parallel(n_jobs=-1)]: Done  42 tasks      | elapsed:    0.0s\n",
      "[Parallel(n_jobs=-1)]: Done  65 out of  65 | elapsed:    0.1s finished\n"
     ]
    },
    {
     "name": "stdout",
     "output_type": "stream",
     "text": [
      "(<165x25197 sparse matrix of type '<class 'numpy.int64'>'\n",
      "\twith 95294 stored elements in Compressed Sparse Row format>, array([    0,   385,   772,  1137,  1516,  1893,  2276,  2659,  3066,\n",
      "        3449,  3814,  4183,  4566,  4983,  5382,  5763,  6190,  6589,\n",
      "        6978,  7373,  7770,  8181,  8546,  8917,  9336,  9747, 10152,\n",
      "       10545, 10926, 11305, 11712, 12073, 12484, 12855, 13240, 13601,\n",
      "       14006, 14383, 14760, 15145, 15548, 15919, 16290, 16669, 17076,\n",
      "       17489, 17862, 18255, 18684, 19051, 19452, 19841, 20220, 20601,\n",
      "       21018, 21401, 21774, 22131, 22498, 22879, 23290, 23667, 24048,\n",
      "       24399, 24804, 25197]))\n"
     ]
    },
    {
     "name": "stderr",
     "output_type": "stream",
     "text": [
      "[Parallel(n_jobs=-1)]: Done  42 tasks      | elapsed:    0.1s\n",
      "[Parallel(n_jobs=-1)]: Done  65 out of  65 | elapsed:    0.2s finished\n",
      "[Parallel(n_jobs=4)]: Done  42 tasks      | elapsed:    0.0s\n",
      "[Parallel(n_jobs=4)]: Done  65 out of  65 | elapsed:    0.0s finished\n",
      "[Parallel(n_jobs=4)]: Done  42 tasks      | elapsed:    0.0s\n",
      "[Parallel(n_jobs=4)]: Done  65 out of  65 | elapsed:    0.0s finished\n",
      "[Parallel(n_jobs=-1)]: Done  42 tasks      | elapsed:    0.0s\n",
      "[Parallel(n_jobs=-1)]: Done  65 out of  65 | elapsed:    0.1s finished\n"
     ]
    },
    {
     "name": "stdout",
     "output_type": "stream",
     "text": [
      "(<381x9905 sparse matrix of type '<class 'numpy.int64'>'\n",
      "\twith 189547 stored elements in Compressed Sparse Row format>, array([   0,  139,  296,  447,  608,  751,  904, 1041, 1178, 1313, 1462,\n",
      "       1629, 1782, 1937, 2092, 2249, 2400, 2581, 2746, 2901, 3034, 3185,\n",
      "       3346, 3475, 3626, 3797, 3946, 4085, 4238, 4381, 4530, 4681, 4828,\n",
      "       4969, 5124, 5271, 5418, 5579, 5724, 5887, 6022, 6167, 6330, 6497,\n",
      "       6652, 6801, 6956, 7127, 7284, 7431, 7594, 7749, 7888, 8033, 8196,\n",
      "       8323, 8478, 8643, 8784, 8937, 9098, 9271, 9436, 9591, 9746, 9905]))\n"
     ]
    },
    {
     "name": "stderr",
     "output_type": "stream",
     "text": [
      "[Parallel(n_jobs=-1)]: Done  42 tasks      | elapsed:    0.1s\n",
      "[Parallel(n_jobs=-1)]: Done  65 out of  65 | elapsed:    0.1s finished\n",
      "[Parallel(n_jobs=4)]: Done  42 tasks      | elapsed:    0.0s\n",
      "[Parallel(n_jobs=4)]: Done  65 out of  65 | elapsed:    0.0s finished\n",
      "[Parallel(n_jobs=4)]: Done  42 tasks      | elapsed:    0.0s\n",
      "[Parallel(n_jobs=4)]: Done  65 out of  65 | elapsed:    0.0s finished\n",
      "[Parallel(n_jobs=-1)]: Done  42 tasks      | elapsed:    0.0s\n",
      "[Parallel(n_jobs=-1)]: Done  65 out of  65 | elapsed:    0.1s finished\n"
     ]
    },
    {
     "name": "stdout",
     "output_type": "stream",
     "text": [
      "(<256x27241 sparse matrix of type '<class 'numpy.int64'>'\n",
      "\twith 158993 stored elements in Compressed Sparse Row format>, array([    0,   419,   798,  1241,  1670,  2081,  2486,  2903,  3322,\n",
      "        3747,  4184,  4615,  5040,  5455,  5888,  6293,  6716,  7159,\n",
      "        7582,  8019,  8416,  8869,  9282,  9711, 10138, 10573, 10986,\n",
      "       11429, 11852, 12243, 12678, 13101, 13508, 13931, 14364, 14765,\n",
      "       15172, 15611, 16018, 16425, 16832, 17249, 17652, 18023, 18436,\n",
      "       18833, 19258, 19691, 20108, 20543, 20976, 21359, 21794, 22213,\n",
      "       22648, 23051, 23450, 23867, 24278, 24679, 25096, 25551, 25958,\n",
      "       26391, 26828, 27241]))\n"
     ]
    },
    {
     "name": "stderr",
     "output_type": "stream",
     "text": [
      "[Parallel(n_jobs=-1)]: Done  42 tasks      | elapsed:    0.0s\n",
      "[Parallel(n_jobs=-1)]: Done  65 out of  65 | elapsed:    0.1s finished\n",
      "[Parallel(n_jobs=4)]: Done  42 tasks      | elapsed:    0.0s\n",
      "[Parallel(n_jobs=4)]: Done  65 out of  65 | elapsed:    0.0s finished\n",
      "[Parallel(n_jobs=4)]: Done  42 tasks      | elapsed:    0.0s\n",
      "[Parallel(n_jobs=4)]: Done  65 out of  65 | elapsed:    0.0s finished\n",
      "[Parallel(n_jobs=-1)]: Done  42 tasks      | elapsed:    0.0s\n",
      "[Parallel(n_jobs=-1)]: Done  65 out of  65 | elapsed:    0.1s finished\n"
     ]
    },
    {
     "name": "stdout",
     "output_type": "stream",
     "text": [
      "(<117x17957 sparse matrix of type '<class 'numpy.int64'>'\n",
      "\twith 67297 stored elements in Compressed Sparse Row format>, array([    0,   271,   538,   817,  1084,  1355,  1644,  1923,  2188,\n",
      "        2465,  2756,  3025,  3328,  3617,  3884,  4179,  4464,  4721,\n",
      "        4998,  5249,  5542,  5795,  6056,  6329,  6600,  6877,  7164,\n",
      "        7465,  7748,  8037,  8318,  8573,  8834,  9105,  9378,  9653,\n",
      "        9946, 10219, 10504, 10769, 11030, 11291, 11538, 11817, 12098,\n",
      "       12375, 12650, 12911, 13186, 13477, 13744, 14005, 14288, 14557,\n",
      "       14832, 15105, 15406, 15689, 15970, 16251, 16510, 16811, 17090,\n",
      "       17359, 17644, 17957]))\n"
     ]
    },
    {
     "name": "stderr",
     "output_type": "stream",
     "text": [
      "[Parallel(n_jobs=-1)]: Done  42 tasks      | elapsed:    0.2s\n",
      "[Parallel(n_jobs=-1)]: Done  65 out of  65 | elapsed:    0.2s finished\n",
      "[Parallel(n_jobs=4)]: Done  42 tasks      | elapsed:    0.0s\n",
      "[Parallel(n_jobs=4)]: Done  65 out of  65 | elapsed:    0.0s finished\n",
      "[Parallel(n_jobs=4)]: Done  42 tasks      | elapsed:    0.0s\n",
      "[Parallel(n_jobs=4)]: Done  65 out of  65 | elapsed:    0.0s finished\n",
      "[Parallel(n_jobs=-1)]: Done  42 tasks      | elapsed:    0.0s\n",
      "[Parallel(n_jobs=-1)]: Done  65 out of  65 | elapsed:    0.1s finished\n"
     ]
    },
    {
     "name": "stdout",
     "output_type": "stream",
     "text": [
      "(<370x8737 sparse matrix of type '<class 'numpy.int64'>'\n",
      "\twith 175598 stored elements in Compressed Sparse Row format>, array([   0,  127,  236,  349,  460,  589,  728,  865, 1004, 1131, 1268,\n",
      "       1411, 1532, 1681, 1820, 1965, 2098, 2221, 2366, 2505, 2636, 2781,\n",
      "       2930, 3045, 3174, 3333, 3470, 3621, 3764, 3917, 4074, 4197, 4336,\n",
      "       4465, 4606, 4749, 4876, 5009, 5144, 5271, 5400, 5539, 5670, 5801,\n",
      "       5938, 6065, 6194, 6329, 6450, 6593, 6732, 6861, 6992, 7117, 7238,\n",
      "       7369, 7506, 7639, 7772, 7915, 8062, 8205, 8334, 8459, 8596, 8737]))\n"
     ]
    },
    {
     "name": "stderr",
     "output_type": "stream",
     "text": [
      "[Parallel(n_jobs=-1)]: Done  42 tasks      | elapsed:    0.1s\n",
      "[Parallel(n_jobs=-1)]: Done  65 out of  65 | elapsed:    0.2s finished\n",
      "[Parallel(n_jobs=4)]: Done  42 tasks      | elapsed:    0.0s\n",
      "[Parallel(n_jobs=4)]: Done  65 out of  65 | elapsed:    0.0s finished\n",
      "[Parallel(n_jobs=4)]: Done  42 tasks      | elapsed:    0.0s\n",
      "[Parallel(n_jobs=4)]: Done  65 out of  65 | elapsed:    0.0s finished\n",
      "[Parallel(n_jobs=-1)]: Done  42 tasks      | elapsed:    0.0s\n",
      "[Parallel(n_jobs=-1)]: Done  65 out of  65 | elapsed:    0.1s finished\n"
     ]
    },
    {
     "name": "stdout",
     "output_type": "stream",
     "text": [
      "(<367x25799 sparse matrix of type '<class 'numpy.int64'>'\n",
      "\twith 214659 stored elements in Compressed Sparse Row format>, array([    0,   385,   804,  1175,  1578,  1977,  2360,  2767,  3162,\n",
      "        3579,  3986,  4357,  4772,  5157,  5550,  5925,  6320,  6721,\n",
      "        7112,  7517,  7888,  8313,  8712,  9141,  9510,  9881, 10274,\n",
      "       10657, 11054, 11427, 11828, 12179, 12576, 12973, 13374, 13783,\n",
      "       14180, 14567, 14924, 15313, 15728, 16127, 16526, 16919, 17320,\n",
      "       17715, 18152, 18527, 18926, 19313, 19720, 20099, 20514, 20919,\n",
      "       21318, 21719, 22114, 22543, 22956, 23387, 23784, 24189, 24626,\n",
      "       25013, 25414, 25799]))\n"
     ]
    },
    {
     "name": "stderr",
     "output_type": "stream",
     "text": [
      "[Parallel(n_jobs=-1)]: Done  42 tasks      | elapsed:    0.1s\n",
      "[Parallel(n_jobs=-1)]: Done  65 out of  65 | elapsed:    0.1s finished\n",
      "[Parallel(n_jobs=4)]: Done  42 tasks      | elapsed:    0.0s\n",
      "[Parallel(n_jobs=4)]: Done  65 out of  65 | elapsed:    0.0s finished\n",
      "[Parallel(n_jobs=4)]: Done  42 tasks      | elapsed:    0.0s\n",
      "[Parallel(n_jobs=4)]: Done  65 out of  65 | elapsed:    0.0s finished\n",
      "[Parallel(n_jobs=-1)]: Done  42 tasks      | elapsed:    0.0s\n",
      "[Parallel(n_jobs=-1)]: Done  65 out of  65 | elapsed:    0.1s finished\n"
     ]
    },
    {
     "name": "stdout",
     "output_type": "stream",
     "text": [
      "(<402x25751 sparse matrix of type '<class 'numpy.int64'>'\n",
      "\twith 245161 stored elements in Compressed Sparse Row format>, array([    0,   387,   764,  1135,  1516,  1913,  2312,  2717,  3128,\n",
      "        3517,  3896,  4245,  4652,  5059,  5434,  5833,  6246,  6637,\n",
      "        7022,  7413,  7826,  8239,  8654,  9065,  9476,  9859, 10222,\n",
      "       10605, 10998, 11433, 11814, 12225, 12622, 12987, 13406, 13801,\n",
      "       14186, 14565, 14936, 15361, 15740, 16153, 16530, 16909, 17304,\n",
      "       17687, 18092, 18521, 18938, 19325, 19740, 20125, 20546, 20941,\n",
      "       21342, 21743, 22134, 22575, 22966, 23353, 23758, 24151, 24532,\n",
      "       24943, 25340, 25751]))\n"
     ]
    },
    {
     "name": "stderr",
     "output_type": "stream",
     "text": [
      "[Parallel(n_jobs=-1)]: Done  42 tasks      | elapsed:    0.0s\n",
      "[Parallel(n_jobs=-1)]: Done  65 out of  65 | elapsed:    0.1s finished\n",
      "[Parallel(n_jobs=4)]: Done  42 tasks      | elapsed:    0.0s\n",
      "[Parallel(n_jobs=4)]: Done  65 out of  65 | elapsed:    0.0s finished\n",
      "[Parallel(n_jobs=4)]: Done  42 tasks      | elapsed:    0.0s\n",
      "[Parallel(n_jobs=4)]: Done  65 out of  65 | elapsed:    0.0s finished\n",
      "[Parallel(n_jobs=-1)]: Done  42 tasks      | elapsed:    0.0s\n",
      "[Parallel(n_jobs=-1)]: Done  65 out of  65 | elapsed:    0.1s finished\n"
     ]
    },
    {
     "name": "stdout",
     "output_type": "stream",
     "text": [
      "(<18x24977 sparse matrix of type '<class 'numpy.int64'>'\n",
      "\twith 10188 stored elements in Compressed Sparse Row format>, array([    0,   379,   740,  1093,  1490,  1855,  2226,  2579,  2976,\n",
      "        3333,  3700,  4053,  4452,  4831,  5206,  5601,  6014,  6411,\n",
      "        6810,  7203,  7600,  7991,  8378,  8763,  9140,  9529,  9916,\n",
      "       10321, 10680, 11055, 11428, 11825, 12224, 12585, 12962, 13361,\n",
      "       13770, 14149, 14544, 14923, 15296, 15671, 16074, 16485, 16880,\n",
      "       17283, 17692, 18079, 18464, 18841, 19238, 19629, 20008, 20357,\n",
      "       20758, 21143, 21528, 21929, 22316, 22713, 23100, 23473, 23830,\n",
      "       24223, 24576, 24977]))\n"
     ]
    },
    {
     "name": "stderr",
     "output_type": "stream",
     "text": [
      "[Parallel(n_jobs=-1)]: Done  42 tasks      | elapsed:    0.1s\n",
      "[Parallel(n_jobs=-1)]: Done  65 out of  65 | elapsed:    0.1s finished\n",
      "[Parallel(n_jobs=4)]: Done  42 tasks      | elapsed:    0.0s\n",
      "[Parallel(n_jobs=4)]: Done  65 out of  65 | elapsed:    0.0s finished\n",
      "[Parallel(n_jobs=4)]: Done  42 tasks      | elapsed:    0.0s\n",
      "[Parallel(n_jobs=4)]: Done  65 out of  65 | elapsed:    0.0s finished\n",
      "[Parallel(n_jobs=-1)]: Done  42 tasks      | elapsed:    0.0s\n",
      "[Parallel(n_jobs=-1)]: Done  65 out of  65 | elapsed:    0.1s finished\n"
     ]
    },
    {
     "name": "stdout",
     "output_type": "stream",
     "text": [
      "(<380x1909 sparse matrix of type '<class 'numpy.int64'>'\n",
      "\twith 110375 stored elements in Compressed Sparse Row format>, array([   0,   31,   60,  101,  118,  145,  172,  201,  228,  253,  286,\n",
      "        313,  338,  369,  400,  431,  464,  493,  522,  555,  586,  619,\n",
      "        648,  677,  712,  753,  778,  811,  842,  871,  898,  923,  950,\n",
      "        977, 1006, 1031, 1062, 1091, 1120, 1149, 1180, 1209, 1244, 1271,\n",
      "       1310, 1335, 1368, 1399, 1430, 1459, 1492, 1519, 1548, 1575, 1596,\n",
      "       1625, 1658, 1681, 1706, 1737, 1772, 1803, 1828, 1855, 1882, 1909]))\n"
     ]
    },
    {
     "name": "stderr",
     "output_type": "stream",
     "text": [
      "[Parallel(n_jobs=-1)]: Done  42 tasks      | elapsed:    0.0s\n",
      "[Parallel(n_jobs=-1)]: Done  65 out of  65 | elapsed:    0.1s finished\n",
      "[Parallel(n_jobs=4)]: Done  42 tasks      | elapsed:    0.0s\n",
      "[Parallel(n_jobs=4)]: Done  65 out of  65 | elapsed:    0.0s finished\n",
      "[Parallel(n_jobs=4)]: Done  42 tasks      | elapsed:    0.0s\n",
      "[Parallel(n_jobs=4)]: Done  65 out of  65 | elapsed:    0.0s finished\n",
      "[Parallel(n_jobs=-1)]: Done  42 tasks      | elapsed:    0.0s\n",
      "[Parallel(n_jobs=-1)]: Done  65 out of  65 | elapsed:    0.1s finished\n"
     ]
    },
    {
     "name": "stdout",
     "output_type": "stream",
     "text": [
      "(<42x25241 sparse matrix of type '<class 'numpy.int64'>'\n",
      "\twith 22700 stored elements in Compressed Sparse Row format>, array([    0,   401,   796,  1191,  1602,  1961,  2350,  2719,  3104,\n",
      "        3447,  3842,  4237,  4596,  4987,  5374,  5747,  6136,  6549,\n",
      "        6936,  7325,  7704,  8109,  8488,  8887,  9262,  9643, 10036,\n",
      "       10421, 10808, 11215, 11624, 12019, 12416, 12821, 13200, 13585,\n",
      "       13982, 14373, 14754, 15119, 15484, 15891, 16272, 16661, 17056,\n",
      "       17421, 17836, 18245, 18616, 18991, 19402, 19797, 20194, 20593,\n",
      "       20950, 21343, 21714, 22103, 22480, 22875, 23270, 23647, 24050,\n",
      "       24457, 24850, 25241]))\n"
     ]
    },
    {
     "name": "stderr",
     "output_type": "stream",
     "text": [
      "[Parallel(n_jobs=-1)]: Done  42 tasks      | elapsed:    0.1s\n",
      "[Parallel(n_jobs=-1)]: Done  65 out of  65 | elapsed:    0.1s finished\n",
      "[Parallel(n_jobs=4)]: Done  42 tasks      | elapsed:    0.0s\n",
      "[Parallel(n_jobs=4)]: Done  65 out of  65 | elapsed:    0.0s finished\n",
      "[Parallel(n_jobs=4)]: Done  42 tasks      | elapsed:    0.0s\n",
      "[Parallel(n_jobs=4)]: Done  65 out of  65 | elapsed:    0.0s finished\n",
      "[Parallel(n_jobs=-1)]: Done  42 tasks      | elapsed:    0.0s\n",
      "[Parallel(n_jobs=-1)]: Done  65 out of  65 | elapsed:    0.1s finished\n"
     ]
    },
    {
     "name": "stdout",
     "output_type": "stream",
     "text": [
      "(<206x4689 sparse matrix of type '<class 'numpy.int64'>'\n",
      "\twith 83629 stored elements in Compressed Sparse Row format>, array([   0,   75,  144,  215,  286,  357,  430,  513,  580,  653,  734,\n",
      "        811,  878,  965, 1038, 1119, 1196, 1259, 1326, 1395, 1474, 1543,\n",
      "       1614, 1685, 1758, 1825, 1890, 1959, 2040, 2097, 2180, 2253, 2330,\n",
      "       2413, 2488, 2577, 2654, 2725, 2790, 2863, 2938, 3007, 3076, 3137,\n",
      "       3190, 3257, 3330, 3393, 3472, 3543, 3610, 3685, 3768, 3847, 3926,\n",
      "       3993, 4060, 4129, 4194, 4273, 4346, 4425, 4502, 4563, 4620, 4689]))\n"
     ]
    },
    {
     "name": "stderr",
     "output_type": "stream",
     "text": [
      "[Parallel(n_jobs=-1)]: Done  42 tasks      | elapsed:    0.0s\n",
      "[Parallel(n_jobs=-1)]: Done  65 out of  65 | elapsed:    0.1s finished\n",
      "[Parallel(n_jobs=4)]: Done  42 tasks      | elapsed:    0.0s\n",
      "[Parallel(n_jobs=4)]: Done  65 out of  65 | elapsed:    0.0s finished\n",
      "[Parallel(n_jobs=4)]: Done  42 tasks      | elapsed:    0.0s\n",
      "[Parallel(n_jobs=4)]: Done  65 out of  65 | elapsed:    0.0s finished\n",
      "[Parallel(n_jobs=-1)]: Done  42 tasks      | elapsed:    0.0s\n",
      "[Parallel(n_jobs=-1)]: Done  65 out of  65 | elapsed:    0.1s finished\n"
     ]
    },
    {
     "name": "stdout",
     "output_type": "stream",
     "text": [
      "(<90x14299 sparse matrix of type '<class 'numpy.int64'>'\n",
      "\twith 51366 stored elements in Compressed Sparse Row format>, array([    0,   225,   430,   641,   890,  1115,  1342,  1561,  1774,\n",
      "        2005,  2228,  2453,  2672,  2891,  3114,  3325,  3570,  3789,\n",
      "        4018,  4213,  4448,  4657,  4880,  5095,  5278,  5491,  5718,\n",
      "        5917,  6140,  6355,  6584,  6803,  7020,  7233,  7450,  7667,\n",
      "        7904,  8107,  8330,  8547,  8762,  8995,  9198,  9413,  9640,\n",
      "        9873, 10096, 10317, 10528, 10757, 10996, 11223, 11434, 11679,\n",
      "       11886, 12093, 12330, 12539, 12772, 12993, 13208, 13427, 13628,\n",
      "       13839, 14066, 14299]))\n"
     ]
    },
    {
     "name": "stderr",
     "output_type": "stream",
     "text": [
      "[Parallel(n_jobs=-1)]: Done  42 tasks      | elapsed:    0.1s\n",
      "[Parallel(n_jobs=-1)]: Done  65 out of  65 | elapsed:    0.1s finished\n",
      "[Parallel(n_jobs=4)]: Done  42 tasks      | elapsed:    0.0s\n",
      "[Parallel(n_jobs=4)]: Done  65 out of  65 | elapsed:    0.0s finished\n",
      "[Parallel(n_jobs=4)]: Done  42 tasks      | elapsed:    0.0s\n",
      "[Parallel(n_jobs=4)]: Done  65 out of  65 | elapsed:    0.0s finished\n",
      "[Parallel(n_jobs=-1)]: Done  42 tasks      | elapsed:    0.0s\n",
      "[Parallel(n_jobs=-1)]: Done  65 out of  65 | elapsed:    0.1s finished\n"
     ]
    },
    {
     "name": "stdout",
     "output_type": "stream",
     "text": [
      "(<373x8063 sparse matrix of type '<class 'numpy.int64'>'\n",
      "\twith 183129 stored elements in Compressed Sparse Row format>, array([   0,  133,  254,  383,  530,  653,  786,  903, 1012, 1143, 1276,\n",
      "       1403, 1536, 1671, 1796, 1907, 2032, 2143, 2260, 2385, 2504, 2621,\n",
      "       2740, 2883, 2992, 3129, 3242, 3371, 3484, 3583, 3718, 3867, 3980,\n",
      "       4103, 4226, 4343, 4466, 4599, 4722, 4833, 4948, 5063, 5190, 5325,\n",
      "       5450, 5585, 5704, 5825, 5956, 6077, 6218, 6345, 6458, 6593, 6712,\n",
      "       6841, 6970, 7085, 7212, 7341, 7444, 7573, 7696, 7825, 7940, 8063]))\n"
     ]
    },
    {
     "name": "stderr",
     "output_type": "stream",
     "text": [
      "[Parallel(n_jobs=-1)]: Done  42 tasks      | elapsed:    0.1s\n",
      "[Parallel(n_jobs=-1)]: Done  65 out of  65 | elapsed:    0.2s finished\n",
      "[Parallel(n_jobs=4)]: Done  42 tasks      | elapsed:    0.0s\n",
      "[Parallel(n_jobs=4)]: Done  65 out of  65 | elapsed:    0.0s finished\n",
      "[Parallel(n_jobs=4)]: Done  42 tasks      | elapsed:    0.0s\n",
      "[Parallel(n_jobs=4)]: Done  65 out of  65 | elapsed:    0.0s finished\n",
      "[Parallel(n_jobs=-1)]: Done  42 tasks      | elapsed:    0.0s\n",
      "[Parallel(n_jobs=-1)]: Done  65 out of  65 | elapsed:    0.1s finished\n"
     ]
    },
    {
     "name": "stdout",
     "output_type": "stream",
     "text": [
      "(<371x27037 sparse matrix of type '<class 'numpy.int64'>'\n",
      "\twith 222087 stored elements in Compressed Sparse Row format>, array([    0,   445,   844,  1239,  1648,  2063,  2472,  2863,  3320,\n",
      "        3765,  4180,  4611,  5016,  5435,  5840,  6273,  6718,  7109,\n",
      "        7510,  7911,  8310,  8697,  9118,  9531,  9938, 10375, 10806,\n",
      "       11233, 11666, 12103, 12518, 12943, 13360, 13785, 14188, 14589,\n",
      "       15014, 15445, 15828, 16247, 16640, 17055, 17454, 17847, 18274,\n",
      "       18697, 19124, 19523, 19940, 20365, 20776, 21197, 21630, 22037,\n",
      "       22464, 22875, 23296, 23707, 24120, 24539, 24922, 25369, 25778,\n",
      "       26193, 26602, 27037]))\n"
     ]
    },
    {
     "name": "stderr",
     "output_type": "stream",
     "text": [
      "[Parallel(n_jobs=-1)]: Done  42 tasks      | elapsed:    0.1s\n",
      "[Parallel(n_jobs=-1)]: Done  65 out of  65 | elapsed:    0.1s finished\n",
      "[Parallel(n_jobs=4)]: Done  42 tasks      | elapsed:    0.0s\n",
      "[Parallel(n_jobs=4)]: Done  65 out of  65 | elapsed:    0.0s finished\n",
      "[Parallel(n_jobs=4)]: Done  42 tasks      | elapsed:    0.0s\n",
      "[Parallel(n_jobs=4)]: Done  65 out of  65 | elapsed:    0.0s finished\n",
      "[Parallel(n_jobs=-1)]: Done  42 tasks      | elapsed:    0.0s\n",
      "[Parallel(n_jobs=-1)]: Done  65 out of  65 | elapsed:    0.1s finished\n"
     ]
    },
    {
     "name": "stdout",
     "output_type": "stream",
     "text": [
      "(<290x26587 sparse matrix of type '<class 'numpy.int64'>'\n",
      "\twith 171748 stored elements in Compressed Sparse Row format>, array([    0,   419,   844,  1251,  1650,  2065,  2484,  2883,  3296,\n",
      "        3731,  4132,  4533,  4940,  5361,  5752,  6149,  6564,  6949,\n",
      "        7356,  7771,  8170,  8541,  8980,  9375,  9790, 10171, 10580,\n",
      "       10999, 11392, 11807, 12222, 12605, 13016, 13421, 13830, 14257,\n",
      "       14652, 15059, 15484, 15895, 16290, 16721, 17094, 17529, 17944,\n",
      "       18323, 18720, 19141, 19542, 19947, 20342, 20751, 21180, 21597,\n",
      "       22026, 22425, 22858, 23265, 23714, 24125, 24556, 24965, 25388,\n",
      "       25781, 26194, 26587]))\n"
     ]
    },
    {
     "name": "stderr",
     "output_type": "stream",
     "text": [
      "[Parallel(n_jobs=-1)]: Done  42 tasks      | elapsed:    0.1s\n",
      "[Parallel(n_jobs=-1)]: Done  65 out of  65 | elapsed:    0.2s finished\n",
      "[Parallel(n_jobs=4)]: Done  42 tasks      | elapsed:    0.0s\n",
      "[Parallel(n_jobs=4)]: Done  65 out of  65 | elapsed:    0.0s finished\n",
      "[Parallel(n_jobs=4)]: Done  42 tasks      | elapsed:    0.0s\n",
      "[Parallel(n_jobs=4)]: Done  65 out of  65 | elapsed:    0.0s finished\n",
      "[Parallel(n_jobs=-1)]: Done  42 tasks      | elapsed:    0.0s\n",
      "[Parallel(n_jobs=-1)]: Done  65 out of  65 | elapsed:    0.1s finished\n"
     ]
    },
    {
     "name": "stdout",
     "output_type": "stream",
     "text": [
      "(<354x20759 sparse matrix of type '<class 'numpy.int64'>'\n",
      "\twith 203314 stored elements in Compressed Sparse Row format>, array([    0,   301,   624,   953,  1278,  1597,  1928,  2259,  2550,\n",
      "        2875,  3208,  3519,  3848,  4165,  4520,  4845,  5148,  5443,\n",
      "        5760,  6063,  6374,  6717,  7022,  7333,  7656,  7953,  8284,\n",
      "        8613,  8932,  9253,  9574,  9901, 10226, 10571, 10888, 11235,\n",
      "       11530, 11855, 12206, 12523, 12850, 13179, 13484, 13789, 14096,\n",
      "       14387, 14688, 14999, 15332, 15667, 15998, 16323, 16614, 16939,\n",
      "       17262, 17561, 17872, 18207, 18522, 18861, 19182, 19493, 19804,\n",
      "       20127, 20436, 20759]))\n"
     ]
    },
    {
     "name": "stderr",
     "output_type": "stream",
     "text": [
      "[Parallel(n_jobs=-1)]: Done  42 tasks      | elapsed:    0.1s\n",
      "[Parallel(n_jobs=-1)]: Done  65 out of  65 | elapsed:    0.2s finished\n",
      "[Parallel(n_jobs=4)]: Done  42 tasks      | elapsed:    0.0s\n",
      "[Parallel(n_jobs=4)]: Done  65 out of  65 | elapsed:    0.0s finished\n",
      "[Parallel(n_jobs=4)]: Done  42 tasks      | elapsed:    0.0s\n",
      "[Parallel(n_jobs=4)]: Done  65 out of  65 | elapsed:    0.0s finished\n",
      "[Parallel(n_jobs=-1)]: Done  42 tasks      | elapsed:    0.0s\n",
      "[Parallel(n_jobs=-1)]: Done  65 out of  65 | elapsed:    0.1s finished\n"
     ]
    },
    {
     "name": "stdout",
     "output_type": "stream",
     "text": [
      "(<386x26179 sparse matrix of type '<class 'numpy.int64'>'\n",
      "\twith 230493 stored elements in Compressed Sparse Row format>, array([    0,   417,   802,  1199,  1598,  1969,  2376,  2811,  3234,\n",
      "        3653,  4060,  4437,  4840,  5243,  5648,  6061,  6464,  6869,\n",
      "        7270,  7669,  8084,  8515,  8890,  9267,  9696, 10085, 10474,\n",
      "       10871, 11260, 11643, 12074, 12475, 12862, 13279, 13648, 14063,\n",
      "       14450, 14859, 15218, 15605, 16028, 16415, 16824, 17255, 17658,\n",
      "       18057, 18464, 18857, 19258, 19671, 20078, 20467, 20870, 21275,\n",
      "       21706, 22117, 22536, 22953, 23340, 23781, 24178, 24613, 24984,\n",
      "       25379, 25774, 26179]))\n"
     ]
    },
    {
     "name": "stderr",
     "output_type": "stream",
     "text": [
      "[Parallel(n_jobs=-1)]: Done  42 tasks      | elapsed:    0.1s\n",
      "[Parallel(n_jobs=-1)]: Done  65 out of  65 | elapsed:    0.2s finished\n",
      "[Parallel(n_jobs=4)]: Done  42 tasks      | elapsed:    0.0s\n",
      "[Parallel(n_jobs=4)]: Done  65 out of  65 | elapsed:    0.0s finished\n",
      "[Parallel(n_jobs=4)]: Done  42 tasks      | elapsed:    0.0s\n",
      "[Parallel(n_jobs=4)]: Done  65 out of  65 | elapsed:    0.0s finished\n",
      "[Parallel(n_jobs=-1)]: Done  42 tasks      | elapsed:    0.0s\n",
      "[Parallel(n_jobs=-1)]: Done  65 out of  65 | elapsed:    0.0s finished\n"
     ]
    },
    {
     "name": "stdout",
     "output_type": "stream",
     "text": [
      "(<373x26997 sparse matrix of type '<class 'numpy.int64'>'\n",
      "\twith 219639 stored elements in Compressed Sparse Row format>, array([    0,   449,   858,  1295,  1696,  2111,  2534,  2947,  3338,\n",
      "        3753,  4176,  4573,  4960,  5385,  5808,  6253,  6658,  7085,\n",
      "        7510,  7935,  8368,  8769,  9190,  9609, 10026, 10429, 10844,\n",
      "       11291, 11708, 12099, 12506, 12923, 13330, 13741, 14152, 14559,\n",
      "       14934, 15371, 15774, 16183, 16580, 16985, 17406, 17819, 18248,\n",
      "       18667, 19088, 19507, 19902, 20351, 20764, 21183, 21594, 21995,\n",
      "       22388, 22809, 23216, 23625, 24046, 24485, 24922, 25307, 25722,\n",
      "       26159, 26604, 26997]))\n"
     ]
    },
    {
     "name": "stderr",
     "output_type": "stream",
     "text": [
      "[Parallel(n_jobs=-1)]: Done  42 tasks      | elapsed:    0.0s\n",
      "[Parallel(n_jobs=-1)]: Done  65 out of  65 | elapsed:    0.1s finished\n",
      "[Parallel(n_jobs=4)]: Done  42 tasks      | elapsed:    0.0s\n",
      "[Parallel(n_jobs=4)]: Done  65 out of  65 | elapsed:    0.0s finished\n",
      "[Parallel(n_jobs=4)]: Done  42 tasks      | elapsed:    0.0s\n",
      "[Parallel(n_jobs=4)]: Done  65 out of  65 | elapsed:    0.0s finished\n",
      "[Parallel(n_jobs=-1)]: Done  42 tasks      | elapsed:    0.0s\n",
      "[Parallel(n_jobs=-1)]: Done  65 out of  65 | elapsed:    0.1s finished\n"
     ]
    },
    {
     "name": "stdout",
     "output_type": "stream",
     "text": [
      "(<50x27139 sparse matrix of type '<class 'numpy.int64'>'\n",
      "\twith 28934 stored elements in Compressed Sparse Row format>, array([    0,   401,   820,  1237,  1650,  2089,  2498,  2907,  3314,\n",
      "        3739,  4138,  4571,  4946,  5331,  5752,  6179,  6594,  7031,\n",
      "        7428,  7881,  8274,  8697,  9102,  9525,  9946, 10399, 10810,\n",
      "       11215, 11636, 12039, 12476, 12897, 13302, 13717, 14110, 14515,\n",
      "       14932, 15347, 15782, 16221, 16642, 17065, 17452, 17903, 18286,\n",
      "       18701, 19150, 19553, 19952, 20405, 20822, 21273, 21666, 22095,\n",
      "       22502, 22953, 23368, 23811, 24206, 24623, 25060, 25479, 25918,\n",
      "       26315, 26738, 27139]))\n"
     ]
    },
    {
     "name": "stderr",
     "output_type": "stream",
     "text": [
      "[Parallel(n_jobs=-1)]: Done  42 tasks      | elapsed:    0.1s\n",
      "[Parallel(n_jobs=-1)]: Done  65 out of  65 | elapsed:    0.2s finished\n",
      "[Parallel(n_jobs=4)]: Done  42 tasks      | elapsed:    0.0s\n",
      "[Parallel(n_jobs=4)]: Done  65 out of  65 | elapsed:    0.0s finished\n",
      "[Parallel(n_jobs=4)]: Done  42 tasks      | elapsed:    0.0s\n",
      "[Parallel(n_jobs=4)]: Done  65 out of  65 | elapsed:    0.0s finished\n",
      "[Parallel(n_jobs=-1)]: Done  42 tasks      | elapsed:    0.0s\n",
      "[Parallel(n_jobs=-1)]: Done  65 out of  65 | elapsed:    0.1s finished\n"
     ]
    },
    {
     "name": "stdout",
     "output_type": "stream",
     "text": [
      "(<360x6181 sparse matrix of type '<class 'numpy.int64'>'\n",
      "\twith 163543 stored elements in Compressed Sparse Row format>, array([   0,  105,  210,  305,  398,  493,  584,  683,  778,  875,  966,\n",
      "       1061, 1160, 1259, 1350, 1437, 1536, 1641, 1738, 1827, 1928, 2015,\n",
      "       2112, 2199, 2308, 2415, 2498, 2597, 2692, 2785, 2874, 2973, 3070,\n",
      "       3179, 3270, 3349, 3434, 3529, 3630, 3719, 3802, 3907, 4010, 4109,\n",
      "       4204, 4305, 4396, 4477, 4558, 4643, 4734, 4827, 4932, 5031, 5120,\n",
      "       5225, 5326, 5423, 5526, 5621, 5724, 5815, 5906, 5995, 6090, 6181]))\n"
     ]
    },
    {
     "name": "stderr",
     "output_type": "stream",
     "text": [
      "[Parallel(n_jobs=-1)]: Done  42 tasks      | elapsed:    0.1s\n",
      "[Parallel(n_jobs=-1)]: Done  65 out of  65 | elapsed:    0.2s finished\n",
      "[Parallel(n_jobs=4)]: Done  42 tasks      | elapsed:    0.0s\n",
      "[Parallel(n_jobs=4)]: Done  65 out of  65 | elapsed:    0.0s finished\n",
      "[Parallel(n_jobs=4)]: Done  42 tasks      | elapsed:    0.0s\n",
      "[Parallel(n_jobs=4)]: Done  65 out of  65 | elapsed:    0.0s finished\n",
      "[Parallel(n_jobs=-1)]: Done  42 tasks      | elapsed:    0.0s\n",
      "[Parallel(n_jobs=-1)]: Done  65 out of  65 | elapsed:    0.1s finished\n"
     ]
    },
    {
     "name": "stdout",
     "output_type": "stream",
     "text": [
      "(<355x24011 sparse matrix of type '<class 'numpy.int64'>'\n",
      "\twith 205599 stored elements in Compressed Sparse Row format>, array([    0,   365,   716,  1089,  1504,  1851,  2206,  2569,  2928,\n",
      "        3281,  3656,  4019,  4392,  4751,  5102,  5481,  5868,  6237,\n",
      "        6608,  6979,  7342,  7707,  8070,  8429,  8806,  9177,  9560,\n",
      "        9921, 10256, 10657, 11034, 11415, 11784, 12169, 12550, 12913,\n",
      "       13278, 13645, 14010, 14373, 14748, 15109, 15462, 15847, 16220,\n",
      "       16593, 16942, 17333, 17690, 18047, 18402, 18757, 19110, 19501,\n",
      "       19854, 20223, 20574, 20969, 21344, 21719, 22118, 22465, 22824,\n",
      "       23209, 23598, 24011]))\n"
     ]
    },
    {
     "name": "stderr",
     "output_type": "stream",
     "text": [
      "[Parallel(n_jobs=-1)]: Done  42 tasks      | elapsed:    0.1s\n",
      "[Parallel(n_jobs=-1)]: Done  65 out of  65 | elapsed:    0.1s finished\n",
      "[Parallel(n_jobs=4)]: Done  42 tasks      | elapsed:    0.0s\n",
      "[Parallel(n_jobs=4)]: Done  65 out of  65 | elapsed:    0.0s finished\n",
      "[Parallel(n_jobs=4)]: Done  42 tasks      | elapsed:    0.0s\n",
      "[Parallel(n_jobs=4)]: Done  65 out of  65 | elapsed:    0.0s finished\n",
      "[Parallel(n_jobs=-1)]: Done  42 tasks      | elapsed:    0.0s\n",
      "[Parallel(n_jobs=-1)]: Done  65 out of  65 | elapsed:    0.1s finished\n"
     ]
    },
    {
     "name": "stdout",
     "output_type": "stream",
     "text": [
      "(<383x24417 sparse matrix of type '<class 'numpy.int64'>'\n",
      "\twith 217538 stored elements in Compressed Sparse Row format>, array([    0,   401,   774,  1151,  1514,  1879,  2256,  2613,  2986,\n",
      "        3331,  3718,  4109,  4500,  4849,  5226,  5607,  5958,  6317,\n",
      "        6694,  7047,  7410,  7773,  8160,  8539,  8890,  9279,  9652,\n",
      "       10075, 10424, 10807, 11178, 11563, 11934, 12305, 12716, 13115,\n",
      "       13490, 13839, 14230, 14623, 14980, 15329, 15710, 16075, 16454,\n",
      "       16823, 17200, 17557, 17944, 18341, 18716, 19125, 19474, 19875,\n",
      "       20242, 20641, 21050, 21445, 21806, 22187, 22566, 22961, 23324,\n",
      "       23689, 24050, 24417]))\n"
     ]
    },
    {
     "name": "stderr",
     "output_type": "stream",
     "text": [
      "[Parallel(n_jobs=-1)]: Done  42 tasks      | elapsed:    0.1s\n",
      "[Parallel(n_jobs=-1)]: Done  65 out of  65 | elapsed:    0.2s finished\n",
      "[Parallel(n_jobs=4)]: Done  42 tasks      | elapsed:    0.0s\n",
      "[Parallel(n_jobs=4)]: Done  65 out of  65 | elapsed:    0.0s finished\n",
      "[Parallel(n_jobs=4)]: Done  42 tasks      | elapsed:    0.0s\n",
      "[Parallel(n_jobs=4)]: Done  65 out of  65 | elapsed:    0.0s finished\n",
      "[Parallel(n_jobs=-1)]: Done  42 tasks      | elapsed:    0.0s\n",
      "[Parallel(n_jobs=-1)]: Done  65 out of  65 | elapsed:    0.1s finished\n"
     ]
    },
    {
     "name": "stdout",
     "output_type": "stream",
     "text": [
      "(<354x27217 sparse matrix of type '<class 'numpy.int64'>'\n",
      "\twith 209831 stored elements in Compressed Sparse Row format>, array([    0,   433,   838,  1235,  1648,  2099,  2530,  2979,  3436,\n",
      "        3881,  4304,  4707,  5130,  5537,  5994,  6407,  6810,  7227,\n",
      "        7636,  8069,  8500,  8917,  9328,  9747, 10136, 10557, 10962,\n",
      "       11383, 11812, 12213, 12608, 13031, 13438, 13873, 14304, 14723,\n",
      "       15158, 15593, 16000, 16421, 16878, 17261, 17642, 18035, 18434,\n",
      "       18901, 19322, 19749, 20162, 20585, 20994, 21423, 21858, 22257,\n",
      "       22684, 23085, 23512, 23947, 24364, 24755, 25172, 25589, 26022,\n",
      "       26467, 26854, 27217]))\n"
     ]
    },
    {
     "name": "stderr",
     "output_type": "stream",
     "text": [
      "[Parallel(n_jobs=-1)]: Done  42 tasks      | elapsed:    0.0s\n",
      "[Parallel(n_jobs=-1)]: Done  65 out of  65 | elapsed:    0.1s finished\n",
      "[Parallel(n_jobs=4)]: Done  42 tasks      | elapsed:    0.0s\n",
      "[Parallel(n_jobs=4)]: Done  65 out of  65 | elapsed:    0.0s finished\n",
      "[Parallel(n_jobs=4)]: Done  42 tasks      | elapsed:    0.0s\n",
      "[Parallel(n_jobs=4)]: Done  65 out of  65 | elapsed:    0.0s finished\n",
      "[Parallel(n_jobs=-1)]: Done  42 tasks      | elapsed:    0.0s\n",
      "[Parallel(n_jobs=-1)]: Done  65 out of  65 | elapsed:    0.1s finished\n"
     ]
    },
    {
     "name": "stdout",
     "output_type": "stream",
     "text": [
      "(<110x26663 sparse matrix of type '<class 'numpy.int64'>'\n",
      "\twith 68311 stored elements in Compressed Sparse Row format>, array([    0,   387,   796,  1211,  1614,  2033,  2480,  2911,  3346,\n",
      "        3785,  4170,  4549,  4968,  5363,  5770,  6171,  6580,  6977,\n",
      "        7404,  7809,  8220,  8635,  9010,  9393,  9814, 10233, 10654,\n",
      "       11067, 11494, 11923, 12298, 12675, 13070, 13479, 13884, 14283,\n",
      "       14732, 15169, 15576, 15987, 16418, 16799, 17180, 17585, 18034,\n",
      "       18447, 18858, 19281, 19686, 20097, 20498, 20923, 21332, 21747,\n",
      "       22164, 22593, 23008, 23453, 23864, 24267, 24664, 25067, 25478,\n",
      "       25879, 26284, 26663]))\n"
     ]
    },
    {
     "name": "stderr",
     "output_type": "stream",
     "text": [
      "[Parallel(n_jobs=-1)]: Done  42 tasks      | elapsed:    0.0s\n",
      "[Parallel(n_jobs=-1)]: Done  65 out of  65 | elapsed:    0.1s finished\n",
      "[Parallel(n_jobs=4)]: Done  42 tasks      | elapsed:    0.0s\n",
      "[Parallel(n_jobs=4)]: Done  65 out of  65 | elapsed:    0.0s finished\n",
      "[Parallel(n_jobs=4)]: Done  42 tasks      | elapsed:    0.0s\n",
      "[Parallel(n_jobs=4)]: Done  65 out of  65 | elapsed:    0.0s finished\n",
      "[Parallel(n_jobs=-1)]: Done  42 tasks      | elapsed:    0.0s\n",
      "[Parallel(n_jobs=-1)]: Done  65 out of  65 | elapsed:    0.1s finished\n"
     ]
    },
    {
     "name": "stdout",
     "output_type": "stream",
     "text": [
      "(<160x8881 sparse matrix of type '<class 'numpy.int64'>'\n",
      "\twith 73389 stored elements in Compressed Sparse Row format>, array([   0,  113,  258,  383,  500,  629,  776,  917, 1072, 1213, 1336,\n",
      "       1477, 1622, 1759, 1896, 2037, 2172, 2309, 2432, 2581, 2720, 2859,\n",
      "       2990, 3131, 3274, 3421, 3574, 3709, 3844, 3971, 4100, 4225, 4354,\n",
      "       4503, 4640, 4781, 4932, 5071, 5204, 5343, 5478, 5607, 5748, 5885,\n",
      "       6032, 6167, 6300, 6433, 6570, 6713, 6858, 6967, 7098, 7241, 7366,\n",
      "       7503, 7636, 7773, 7924, 8061, 8182, 8321, 8442, 8591, 8738, 8881]))\n"
     ]
    },
    {
     "name": "stderr",
     "output_type": "stream",
     "text": [
      "[Parallel(n_jobs=-1)]: Done  42 tasks      | elapsed:    0.1s\n",
      "[Parallel(n_jobs=-1)]: Done  65 out of  65 | elapsed:    0.2s finished\n",
      "[Parallel(n_jobs=4)]: Done  42 tasks      | elapsed:    0.0s\n",
      "[Parallel(n_jobs=4)]: Done  65 out of  65 | elapsed:    0.0s finished\n",
      "[Parallel(n_jobs=4)]: Done  42 tasks      | elapsed:    0.0s\n",
      "[Parallel(n_jobs=4)]: Done  65 out of  65 | elapsed:    0.0s finished\n",
      "[Parallel(n_jobs=-1)]: Done  42 tasks      | elapsed:    0.0s\n",
      "[Parallel(n_jobs=-1)]: Done  65 out of  65 | elapsed:    0.1s finished\n"
     ]
    },
    {
     "name": "stdout",
     "output_type": "stream",
     "text": [
      "(<372x12699 sparse matrix of type '<class 'numpy.int64'>'\n",
      "\twith 196755 stored elements in Compressed Sparse Row format>, array([    0,   205,   394,   593,   804,  1015,  1228,  1421,  1614,\n",
      "        1811,  1996,  2189,  2390,  2571,  2772,  2967,  3156,  3341,\n",
      "        3554,  3769,  3952,  4153,  4364,  4551,  4732,  4921,  5108,\n",
      "        5289,  5476,  5655,  5842,  6033,  6242,  6445,  6652,  6837,\n",
      "        7042,  7245,  7420,  7613,  7798,  7995,  8196,  8399,  8606,\n",
      "        8805,  8998,  9201,  9414,  9639,  9828, 10031, 10236, 10423,\n",
      "       10608, 10793, 10974, 11177, 11372, 11571, 11772, 11949, 12124,\n",
      "       12335, 12512, 12699]))\n"
     ]
    },
    {
     "name": "stderr",
     "output_type": "stream",
     "text": [
      "[Parallel(n_jobs=-1)]: Done  42 tasks      | elapsed:    0.0s\n",
      "[Parallel(n_jobs=-1)]: Done  65 out of  65 | elapsed:    0.1s finished\n",
      "[Parallel(n_jobs=4)]: Done  42 tasks      | elapsed:    0.0s\n",
      "[Parallel(n_jobs=4)]: Done  65 out of  65 | elapsed:    0.0s finished\n",
      "[Parallel(n_jobs=4)]: Done  42 tasks      | elapsed:    0.0s\n",
      "[Parallel(n_jobs=4)]: Done  65 out of  65 | elapsed:    0.0s finished\n",
      "[Parallel(n_jobs=-1)]: Done  42 tasks      | elapsed:    0.0s\n",
      "[Parallel(n_jobs=-1)]: Done  65 out of  65 | elapsed:    0.1s finished\n"
     ]
    },
    {
     "name": "stdout",
     "output_type": "stream",
     "text": [
      "(<1x26369 sparse matrix of type '<class 'numpy.int64'>'\n",
      "\twith 389 stored elements in Compressed Sparse Row format>, array([    0,   399,   800,  1215,  1644,  2061,  2476,  2883,  3290,\n",
      "        3697,  4108,  4493,  4876,  5303,  5686,  6081,  6488,  6891,\n",
      "        7322,  7743,  8154,  8559,  8952,  9363,  9760, 10133, 10552,\n",
      "       10961, 11378, 11757, 12190, 12599, 13002, 13425, 13834, 14225,\n",
      "       14618, 15007, 15422, 15835, 16220, 16643, 17036, 17425, 17854,\n",
      "       18255, 18646, 19031, 19468, 19863, 20266, 20657, 21082, 21541,\n",
      "       21946, 22353, 22770, 23163, 23572, 23977, 24374, 24747, 25146,\n",
      "       25523, 25934, 26369]))\n"
     ]
    },
    {
     "name": "stderr",
     "output_type": "stream",
     "text": [
      "[Parallel(n_jobs=-1)]: Done  42 tasks      | elapsed:    0.1s\n",
      "[Parallel(n_jobs=-1)]: Done  65 out of  65 | elapsed:    0.2s finished\n",
      "[Parallel(n_jobs=4)]: Done  42 tasks      | elapsed:    0.0s\n",
      "[Parallel(n_jobs=4)]: Done  65 out of  65 | elapsed:    0.0s finished\n",
      "[Parallel(n_jobs=4)]: Done  42 tasks      | elapsed:    0.0s\n",
      "[Parallel(n_jobs=4)]: Done  65 out of  65 | elapsed:    0.0s finished\n",
      "[Parallel(n_jobs=-1)]: Done  42 tasks      | elapsed:    0.0s\n",
      "[Parallel(n_jobs=-1)]: Done  65 out of  65 | elapsed:    0.1s finished\n"
     ]
    },
    {
     "name": "stdout",
     "output_type": "stream",
     "text": [
      "(<369x431 sparse matrix of type '<class 'numpy.int64'>'\n",
      "\twith 71050 stored elements in Compressed Sparse Row format>, array([  0,   5,  12,  19,  24,  31,  38,  45,  54,  59,  66,  75,  80,\n",
      "        87,  94, 101, 108, 115, 124, 131, 136, 141, 150, 157, 164, 169,\n",
      "       178, 183, 186, 193, 200, 207, 212, 217, 226, 235, 244, 251, 256,\n",
      "       263, 270, 275, 282, 289, 296, 303, 310, 317, 324, 333, 338, 343,\n",
      "       348, 355, 360, 369, 374, 381, 386, 391, 398, 403, 410, 419, 424, 431]))\n"
     ]
    },
    {
     "name": "stderr",
     "output_type": "stream",
     "text": [
      "[Parallel(n_jobs=-1)]: Done  42 tasks      | elapsed:    0.1s\n",
      "[Parallel(n_jobs=-1)]: Done  65 out of  65 | elapsed:    0.2s finished\n",
      "[Parallel(n_jobs=4)]: Done  42 tasks      | elapsed:    0.0s\n",
      "[Parallel(n_jobs=4)]: Done  65 out of  65 | elapsed:    0.0s finished\n",
      "[Parallel(n_jobs=4)]: Done  42 tasks      | elapsed:    0.0s\n",
      "[Parallel(n_jobs=4)]: Done  65 out of  65 | elapsed:    0.0s finished\n",
      "[Parallel(n_jobs=-1)]: Done  42 tasks      | elapsed:    0.0s\n",
      "[Parallel(n_jobs=-1)]: Done  65 out of  65 | elapsed:    0.1s finished\n"
     ]
    },
    {
     "name": "stdout",
     "output_type": "stream",
     "text": [
      "(<363x27215 sparse matrix of type '<class 'numpy.int64'>'\n",
      "\twith 222815 stored elements in Compressed Sparse Row format>, array([    0,   413,   804,  1221,  1652,  2073,  2514,  2931,  3370,\n",
      "        3781,  4202,  4625,  5070,  5463,  5874,  6323,  6720,  7163,\n",
      "        7616,  8031,  8456,  8907,  9298,  9755, 10182, 10583, 11002,\n",
      "       11429, 11832, 12231, 12656, 13041, 13438, 13847, 14258, 14679,\n",
      "       15094, 15523, 15924, 16369, 16788, 17201, 17586, 18005, 18446,\n",
      "       18823, 19242, 19661, 20094, 20511, 20930, 21361, 21750, 22165,\n",
      "       22576, 22991, 23422, 23867, 24296, 24703, 25108, 25513, 25926,\n",
      "       26383, 26792, 27215]))\n"
     ]
    },
    {
     "name": "stderr",
     "output_type": "stream",
     "text": [
      "[Parallel(n_jobs=-1)]: Done  42 tasks      | elapsed:    0.1s\n",
      "[Parallel(n_jobs=-1)]: Done  65 out of  65 | elapsed:    0.2s finished\n",
      "[Parallel(n_jobs=4)]: Done  42 tasks      | elapsed:    0.0s\n",
      "[Parallel(n_jobs=4)]: Done  65 out of  65 | elapsed:    0.0s finished\n",
      "[Parallel(n_jobs=4)]: Done  42 tasks      | elapsed:    0.0s\n",
      "[Parallel(n_jobs=4)]: Done  65 out of  65 | elapsed:    0.0s finished\n",
      "[Parallel(n_jobs=-1)]: Done  42 tasks      | elapsed:    0.0s\n",
      "[Parallel(n_jobs=-1)]: Done  65 out of  65 | elapsed:    0.1s finished\n"
     ]
    },
    {
     "name": "stdout",
     "output_type": "stream",
     "text": [
      "(<388x26217 sparse matrix of type '<class 'numpy.int64'>'\n",
      "\twith 241829 stored elements in Compressed Sparse Row format>, array([    0,   399,   786,  1209,  1616,  2045,  2464,  2845,  3244,\n",
      "        3661,  4068,  4457,  4880,  5279,  5690,  6103,  6494,  6897,\n",
      "        7316,  7711,  8130,  8515,  8924,  9319,  9724, 10113, 10516,\n",
      "       10889, 11328, 11729, 12120, 12515, 12918, 13313, 13716, 14069,\n",
      "       14496, 14913, 15296, 15711, 16104, 16493, 16906, 17311, 17714,\n",
      "       18103, 18498, 18911, 19316, 19715, 20112, 20509, 20934, 21347,\n",
      "       21736, 22151, 22564, 22961, 23348, 23761, 24154, 24549, 24976,\n",
      "       25383, 25808, 26217]))\n"
     ]
    },
    {
     "name": "stderr",
     "output_type": "stream",
     "text": [
      "[Parallel(n_jobs=-1)]: Done  42 tasks      | elapsed:    0.1s\n",
      "[Parallel(n_jobs=-1)]: Done  65 out of  65 | elapsed:    0.2s finished\n",
      "[Parallel(n_jobs=4)]: Done  42 tasks      | elapsed:    0.0s\n",
      "[Parallel(n_jobs=4)]: Done  65 out of  65 | elapsed:    0.0s finished\n",
      "[Parallel(n_jobs=4)]: Done  42 tasks      | elapsed:    0.0s\n",
      "[Parallel(n_jobs=4)]: Done  65 out of  65 | elapsed:    0.0s finished\n",
      "[Parallel(n_jobs=-1)]: Done  42 tasks      | elapsed:    0.0s\n",
      "[Parallel(n_jobs=-1)]: Done  65 out of  65 | elapsed:    0.1s finished\n"
     ]
    },
    {
     "name": "stdout",
     "output_type": "stream",
     "text": [
      "(<388x26159 sparse matrix of type '<class 'numpy.int64'>'\n",
      "\twith 235883 stored elements in Compressed Sparse Row format>, array([    0,   375,   772,  1169,  1558,  1969,  2384,  2769,  3188,\n",
      "        3597,  3998,  4383,  4798,  5183,  5596,  5981,  6410,  6819,\n",
      "        7212,  7609,  8008,  8393,  8808,  9185,  9596,  9987, 10386,\n",
      "       10773, 11174, 11593, 11954, 12399, 12772, 13193, 13600, 14039,\n",
      "       14422, 14823, 15248, 15631, 16036, 16439, 16854, 17227, 17632,\n",
      "       18055, 18484, 18859, 19266, 19683, 20078, 20465, 20886, 21303,\n",
      "       21724, 22137, 22536, 22939, 23358, 23779, 24188, 24591, 24992,\n",
      "       25351, 25766, 26159]))\n"
     ]
    },
    {
     "name": "stderr",
     "output_type": "stream",
     "text": [
      "[Parallel(n_jobs=-1)]: Done  42 tasks      | elapsed:    0.0s\n",
      "[Parallel(n_jobs=-1)]: Done  65 out of  65 | elapsed:    0.1s finished\n",
      "[Parallel(n_jobs=4)]: Done  42 tasks      | elapsed:    0.0s\n",
      "[Parallel(n_jobs=4)]: Done  65 out of  65 | elapsed:    0.0s finished\n",
      "[Parallel(n_jobs=4)]: Done  42 tasks      | elapsed:    0.0s\n",
      "[Parallel(n_jobs=4)]: Done  65 out of  65 | elapsed:    0.0s finished\n",
      "[Parallel(n_jobs=-1)]: Done  42 tasks      | elapsed:    0.0s\n",
      "[Parallel(n_jobs=-1)]: Done  65 out of  65 | elapsed:    0.1s finished\n"
     ]
    },
    {
     "name": "stdout",
     "output_type": "stream",
     "text": [
      "(<73x25771 sparse matrix of type '<class 'numpy.int64'>'\n",
      "\twith 43723 stored elements in Compressed Sparse Row format>, array([    0,   415,   818,  1193,  1580,  1973,  2362,  2753,  3166,\n",
      "        3565,  3956,  4323,  4734,  5159,  5586,  5963,  6334,  6689,\n",
      "        7088,  7495,  7908,  8293,  8658,  9049,  9444,  9813, 10188,\n",
      "       10599, 11034, 11429, 11816, 12229, 12626, 13029, 13434, 13825,\n",
      "       14204, 14603, 14986, 15385, 15806, 16225, 16656, 17045, 17462,\n",
      "       17847, 18262, 18629, 19050, 19453, 19824, 20205, 20596, 20971,\n",
      "       21398, 21807, 22174, 22573, 22982, 23391, 23774, 24153, 24560,\n",
      "       24977, 25386, 25771]))\n"
     ]
    },
    {
     "name": "stderr",
     "output_type": "stream",
     "text": [
      "[Parallel(n_jobs=-1)]: Done  42 tasks      | elapsed:    0.1s\n",
      "[Parallel(n_jobs=-1)]: Done  65 out of  65 | elapsed:    0.2s finished\n",
      "[Parallel(n_jobs=4)]: Done  42 tasks      | elapsed:    0.0s\n",
      "[Parallel(n_jobs=4)]: Done  65 out of  65 | elapsed:    0.0s finished\n",
      "[Parallel(n_jobs=4)]: Done  42 tasks      | elapsed:    0.0s\n",
      "[Parallel(n_jobs=4)]: Done  65 out of  65 | elapsed:    0.0s finished\n",
      "[Parallel(n_jobs=-1)]: Done  42 tasks      | elapsed:    0.0s\n",
      "[Parallel(n_jobs=-1)]: Done  65 out of  65 | elapsed:    0.1s finished\n"
     ]
    },
    {
     "name": "stdout",
     "output_type": "stream",
     "text": [
      "(<347x6963 sparse matrix of type '<class 'numpy.int64'>'\n",
      "\twith 156144 stored elements in Compressed Sparse Row format>, array([   0,   97,  208,  315,  424,  535,  658,  773,  876,  985, 1090,\n",
      "       1209, 1314, 1413, 1530, 1641, 1758, 1859, 1956, 2065, 2180, 2279,\n",
      "       2408, 2511, 2626, 2737, 2840, 2951, 3068, 3179, 3290, 3399, 3520,\n",
      "       3629, 3720, 3833, 3936, 4047, 4154, 4269, 4382, 4481, 4588, 4691,\n",
      "       4798, 4897, 4994, 5085, 5188, 5291, 5390, 5483, 5604, 5717, 5830,\n",
      "       5927, 6034, 6135, 6240, 6329, 6440, 6555, 6650, 6759, 6858, 6963]))\n"
     ]
    },
    {
     "name": "stderr",
     "output_type": "stream",
     "text": [
      "[Parallel(n_jobs=-1)]: Done  42 tasks      | elapsed:    0.1s\n",
      "[Parallel(n_jobs=-1)]: Done  65 out of  65 | elapsed:    0.2s finished\n",
      "[Parallel(n_jobs=4)]: Done  42 tasks      | elapsed:    0.0s\n",
      "[Parallel(n_jobs=4)]: Done  65 out of  65 | elapsed:    0.0s finished\n",
      "[Parallel(n_jobs=4)]: Done  42 tasks      | elapsed:    0.0s\n",
      "[Parallel(n_jobs=4)]: Done  65 out of  65 | elapsed:    0.0s finished\n",
      "[Parallel(n_jobs=-1)]: Done  42 tasks      | elapsed:    0.0s\n",
      "[Parallel(n_jobs=-1)]: Done  65 out of  65 | elapsed:    0.1s finished\n"
     ]
    },
    {
     "name": "stdout",
     "output_type": "stream",
     "text": [
      "(<353x26487 sparse matrix of type '<class 'numpy.int64'>'\n",
      "\twith 208299 stored elements in Compressed Sparse Row format>, array([    0,   411,   798,  1195,  1616,  2023,  2440,  2865,  3268,\n",
      "        3677,  4044,  4469,  4836,  5253,  5684,  6101,  6514,  6917,\n",
      "        7316,  7771,  8154,  8543,  8962,  9373,  9756, 10139, 10536,\n",
      "       10945, 11350, 11769, 12198, 12585, 13002, 13409, 13798, 14213,\n",
      "       14606, 15001, 15386, 15801, 16232, 16643, 17066, 17517, 17912,\n",
      "       18305, 18740, 19143, 19546, 19997, 20400, 20785, 21156, 21557,\n",
      "       21972, 22365, 22780, 23189, 23600, 24043, 24410, 24859, 25286,\n",
      "       25679, 26074, 26487]))\n"
     ]
    },
    {
     "name": "stderr",
     "output_type": "stream",
     "text": [
      "[Parallel(n_jobs=-1)]: Done  42 tasks      | elapsed:    0.1s\n",
      "[Parallel(n_jobs=-1)]: Done  65 out of  65 | elapsed:    0.2s finished\n",
      "[Parallel(n_jobs=4)]: Done  42 tasks      | elapsed:    0.0s\n",
      "[Parallel(n_jobs=4)]: Done  65 out of  65 | elapsed:    0.0s finished\n",
      "[Parallel(n_jobs=4)]: Done  42 tasks      | elapsed:    0.0s\n",
      "[Parallel(n_jobs=4)]: Done  65 out of  65 | elapsed:    0.0s finished\n",
      "[Parallel(n_jobs=-1)]: Done  42 tasks      | elapsed:    0.0s\n",
      "[Parallel(n_jobs=-1)]: Done  65 out of  65 | elapsed:    0.1s finished\n"
     ]
    },
    {
     "name": "stdout",
     "output_type": "stream",
     "text": [
      "(<393x26081 sparse matrix of type '<class 'numpy.int64'>'\n",
      "\twith 240507 stored elements in Compressed Sparse Row format>, array([    0,   373,   750,  1177,  1582,  2007,  2396,  2779,  3202,\n",
      "        3555,  3958,  4379,  4808,  5239,  5636,  6051,  6464,  6869,\n",
      "        7274,  7677,  8080,  8455,  8868,  9263,  9654, 10043, 10432,\n",
      "       10799, 11178, 11581, 11986, 12419, 12840, 13273, 13672, 14047,\n",
      "       14460, 14841, 15258, 15665, 16064, 16461, 16822, 17207, 17606,\n",
      "       17995, 18410, 18787, 19182, 19589, 19996, 20415, 20808, 21211,\n",
      "       21592, 21985, 22402, 22799, 23198, 23621, 24056, 24465, 24870,\n",
      "       25273, 25690, 26081]))\n"
     ]
    },
    {
     "name": "stderr",
     "output_type": "stream",
     "text": [
      "[Parallel(n_jobs=-1)]: Done  42 tasks      | elapsed:    0.0s\n",
      "[Parallel(n_jobs=-1)]: Done  65 out of  65 | elapsed:    0.1s finished\n",
      "[Parallel(n_jobs=4)]: Done  42 tasks      | elapsed:    0.0s\n",
      "[Parallel(n_jobs=4)]: Done  65 out of  65 | elapsed:    0.0s finished\n",
      "[Parallel(n_jobs=4)]: Done  42 tasks      | elapsed:    0.0s\n",
      "[Parallel(n_jobs=4)]: Done  65 out of  65 | elapsed:    0.0s finished\n",
      "[Parallel(n_jobs=-1)]: Done  42 tasks      | elapsed:    0.0s\n",
      "[Parallel(n_jobs=-1)]: Done  65 out of  65 | elapsed:    0.1s finished\n"
     ]
    },
    {
     "name": "stdout",
     "output_type": "stream",
     "text": [
      "(<44x26831 sparse matrix of type '<class 'numpy.int64'>'\n",
      "\twith 25827 stored elements in Compressed Sparse Row format>, array([    0,   397,   786,  1199,  1618,  2025,  2452,  2883,  3316,\n",
      "        3755,  4174,  4571,  4950,  5377,  5794,  6179,  6584,  6991,\n",
      "        7398,  7827,  8224,  8621,  9060,  9481,  9890, 10305, 10708,\n",
      "       11099, 11504, 11901, 12326, 12725, 13120, 13577, 13968, 14417,\n",
      "       14830, 15235, 15632, 16049, 16466, 16881, 17304, 17713, 18156,\n",
      "       18569, 18972, 19397, 19806, 20219, 20638, 21075, 21476, 21931,\n",
      "       22338, 22723, 23164, 23555, 23938, 24353, 24786, 25213, 25628,\n",
      "       26025, 26452, 26831]))\n"
     ]
    },
    {
     "name": "stderr",
     "output_type": "stream",
     "text": [
      "[Parallel(n_jobs=-1)]: Done  42 tasks      | elapsed:    0.1s\n",
      "[Parallel(n_jobs=-1)]: Done  65 out of  65 | elapsed:    0.2s finished\n",
      "[Parallel(n_jobs=4)]: Done  42 tasks      | elapsed:    0.0s\n",
      "[Parallel(n_jobs=4)]: Done  65 out of  65 | elapsed:    0.0s finished\n",
      "[Parallel(n_jobs=4)]: Done  42 tasks      | elapsed:    0.0s\n",
      "[Parallel(n_jobs=4)]: Done  65 out of  65 | elapsed:    0.0s finished\n",
      "[Parallel(n_jobs=-1)]: Done  42 tasks      | elapsed:    0.0s\n",
      "[Parallel(n_jobs=-1)]: Done  65 out of  65 | elapsed:    0.1s finished\n"
     ]
    },
    {
     "name": "stdout",
     "output_type": "stream",
     "text": [
      "(<343x4601 sparse matrix of type '<class 'numpy.int64'>'\n",
      "\twith 140803 stored elements in Compressed Sparse Row format>, array([   0,   71,  158,  239,  310,  379,  448,  511,  588,  659,  720,\n",
      "        797,  866,  927, 1002, 1075, 1148, 1225, 1294, 1345, 1412, 1477,\n",
      "       1546, 1619, 1692, 1765, 1834, 1905, 1976, 2037, 2108, 2173, 2248,\n",
      "       2317, 2378, 2457, 2530, 2603, 2670, 2735, 2808, 2881, 2962, 3027,\n",
      "       3086, 3155, 3230, 3299, 3370, 3439, 3516, 3589, 3656, 3731, 3818,\n",
      "       3885, 3960, 4037, 4112, 4187, 4254, 4321, 4384, 4459, 4524, 4601]))\n"
     ]
    },
    {
     "name": "stderr",
     "output_type": "stream",
     "text": [
      "[Parallel(n_jobs=-1)]: Done  42 tasks      | elapsed:    0.1s\n",
      "[Parallel(n_jobs=-1)]: Done  65 out of  65 | elapsed:    0.2s finished\n",
      "[Parallel(n_jobs=4)]: Done  42 tasks      | elapsed:    0.0s\n",
      "[Parallel(n_jobs=4)]: Done  65 out of  65 | elapsed:    0.0s finished\n",
      "[Parallel(n_jobs=4)]: Done  42 tasks      | elapsed:    0.0s\n",
      "[Parallel(n_jobs=4)]: Done  65 out of  65 | elapsed:    0.0s finished\n",
      "[Parallel(n_jobs=-1)]: Done  42 tasks      | elapsed:    0.0s\n",
      "[Parallel(n_jobs=-1)]: Done  65 out of  65 | elapsed:    0.1s finished\n"
     ]
    },
    {
     "name": "stdout",
     "output_type": "stream",
     "text": [
      "(<370x27215 sparse matrix of type '<class 'numpy.int64'>'\n",
      "\twith 221687 stored elements in Compressed Sparse Row format>, array([    0,   403,   842,  1281,  1744,  2157,  2582,  3019,  3454,\n",
      "        3869,  4272,  4713,  5122,  5563,  5958,  6393,  6836,  7247,\n",
      "        7650,  8055,  8444,  8843,  9280,  9671, 10086, 10479, 10928,\n",
      "       11333, 11756, 12173, 12598, 13015, 13416, 13839, 14234, 14649,\n",
      "       15052, 15453, 15890, 16345, 16752, 17181, 17622, 18059, 18472,\n",
      "       18895, 19294, 19699, 20144, 20557, 20974, 21383, 21798, 22237,\n",
      "       22656, 23049, 23448, 23893, 24314, 24745, 25146, 25589, 25992,\n",
      "       26407, 26814, 27215]))\n"
     ]
    },
    {
     "name": "stderr",
     "output_type": "stream",
     "text": [
      "[Parallel(n_jobs=-1)]: Done  42 tasks      | elapsed:    0.1s\n",
      "[Parallel(n_jobs=-1)]: Done  65 out of  65 | elapsed:    0.2s finished\n",
      "[Parallel(n_jobs=4)]: Done  42 tasks      | elapsed:    0.0s\n",
      "[Parallel(n_jobs=4)]: Done  65 out of  65 | elapsed:    0.0s finished\n",
      "[Parallel(n_jobs=4)]: Done  42 tasks      | elapsed:    0.0s\n",
      "[Parallel(n_jobs=4)]: Done  65 out of  65 | elapsed:    0.0s finished\n",
      "[Parallel(n_jobs=-1)]: Done  42 tasks      | elapsed:    0.0s\n",
      "[Parallel(n_jobs=-1)]: Done  65 out of  65 | elapsed:    0.1s finished\n"
     ]
    },
    {
     "name": "stdout",
     "output_type": "stream",
     "text": [
      "(<360x24787 sparse matrix of type '<class 'numpy.int64'>'\n",
      "\twith 217575 stored elements in Compressed Sparse Row format>, array([    0,   385,   768,  1153,  1560,  1931,  2332,  2725,  3102,\n",
      "        3495,  3886,  4263,  4658,  5031,  5440,  5817,  6200,  6599,\n",
      "        7008,  7381,  7770,  8161,  8540,  8931,  9300,  9669, 10046,\n",
      "       10407, 10802, 11169, 11532, 11925, 12300, 12675, 13056, 13445,\n",
      "       13818, 14191, 14566, 14951, 15332, 15715, 16090, 16459, 16838,\n",
      "       17193, 17566, 17935, 18332, 18705, 19092, 19495, 19876, 20247,\n",
      "       20632, 20993, 21372, 21749, 22154, 22561, 22944, 23289, 23664,\n",
      "       24063, 24418, 24787]))\n"
     ]
    },
    {
     "name": "stderr",
     "output_type": "stream",
     "text": [
      "[Parallel(n_jobs=-1)]: Done  42 tasks      | elapsed:    0.1s\n",
      "[Parallel(n_jobs=-1)]: Done  65 out of  65 | elapsed:    0.2s finished\n",
      "[Parallel(n_jobs=4)]: Done  42 tasks      | elapsed:    0.0s\n",
      "[Parallel(n_jobs=4)]: Done  65 out of  65 | elapsed:    0.0s finished\n",
      "[Parallel(n_jobs=4)]: Done  42 tasks      | elapsed:    0.0s\n",
      "[Parallel(n_jobs=4)]: Done  65 out of  65 | elapsed:    0.0s finished\n",
      "[Parallel(n_jobs=-1)]: Done  42 tasks      | elapsed:    0.0s\n",
      "[Parallel(n_jobs=-1)]: Done  65 out of  65 | elapsed:    0.1s finished\n"
     ]
    },
    {
     "name": "stdout",
     "output_type": "stream",
     "text": [
      "(<391x25725 sparse matrix of type '<class 'numpy.int64'>'\n",
      "\twith 237029 stored elements in Compressed Sparse Row format>, array([    0,   403,   778,  1169,  1572,  1979,  2382,  2777,  3188,\n",
      "        3587,  3998,  4371,  4736,  5159,  5546,  5949,  6346,  6747,\n",
      "        7156,  7545,  7948,  8381,  8814,  9203,  9582,  9987, 10380,\n",
      "       10781, 11196, 11577, 11974, 12373, 12762, 13125, 13514, 13935,\n",
      "       14310, 14699, 15128, 15483, 15882, 16251, 16646, 17009, 17434,\n",
      "       17819, 18208, 18627, 19032, 19443, 19834, 20207, 20618, 21009,\n",
      "       21402, 21803, 22176, 22575, 22970, 23359, 23752, 24139, 24528,\n",
      "       24927, 25336, 25725]))\n"
     ]
    },
    {
     "name": "stderr",
     "output_type": "stream",
     "text": [
      "[Parallel(n_jobs=-1)]: Done  42 tasks      | elapsed:    0.0s\n",
      "[Parallel(n_jobs=-1)]: Done  65 out of  65 | elapsed:    0.1s finished\n",
      "[Parallel(n_jobs=4)]: Done  42 tasks      | elapsed:    0.0s\n",
      "[Parallel(n_jobs=4)]: Done  65 out of  65 | elapsed:    0.0s finished\n",
      "[Parallel(n_jobs=4)]: Done  42 tasks      | elapsed:    0.0s\n",
      "[Parallel(n_jobs=4)]: Done  65 out of  65 | elapsed:    0.0s finished\n",
      "[Parallel(n_jobs=-1)]: Done  42 tasks      | elapsed:    0.0s\n",
      "[Parallel(n_jobs=-1)]: Done  65 out of  65 | elapsed:    0.1s finished\n"
     ]
    },
    {
     "name": "stdout",
     "output_type": "stream",
     "text": [
      "(<73x27391 sparse matrix of type '<class 'numpy.int64'>'\n",
      "\twith 44092 stored elements in Compressed Sparse Row format>, array([    0,   411,   856,  1317,  1704,  2111,  2524,  2953,  3372,\n",
      "        3793,  4214,  4611,  5020,  5445,  5896,  6341,  6782,  7199,\n",
      "        7622,  8073,  8490,  8919,  9358,  9793, 10242, 10653, 11064,\n",
      "       11497, 11922, 12337, 12794, 13199, 13584, 14005, 14424, 14841,\n",
      "       15252, 15649, 16086, 16529, 16950, 17387, 17814, 18227, 18652,\n",
      "       19055, 19490, 19901, 20314, 20775, 21180, 21587, 22010, 22445,\n",
      "       22846, 23291, 23712, 24105, 24528, 24959, 25330, 25733, 26182,\n",
      "       26593, 26978, 27391]))\n"
     ]
    },
    {
     "name": "stderr",
     "output_type": "stream",
     "text": [
      "[Parallel(n_jobs=-1)]: Done  42 tasks      | elapsed:    0.1s\n",
      "[Parallel(n_jobs=-1)]: Done  65 out of  65 | elapsed:    0.1s finished\n",
      "[Parallel(n_jobs=4)]: Done  42 tasks      | elapsed:    0.0s\n",
      "[Parallel(n_jobs=4)]: Done  65 out of  65 | elapsed:    0.0s finished\n",
      "[Parallel(n_jobs=4)]: Done  42 tasks      | elapsed:    0.0s\n",
      "[Parallel(n_jobs=4)]: Done  65 out of  65 | elapsed:    0.0s finished\n",
      "[Parallel(n_jobs=-1)]: Done  42 tasks      | elapsed:    0.0s\n",
      "[Parallel(n_jobs=-1)]: Done  65 out of  65 | elapsed:    0.1s finished\n"
     ]
    },
    {
     "name": "stdout",
     "output_type": "stream",
     "text": [
      "(<178x5097 sparse matrix of type '<class 'numpy.int64'>'\n",
      "\twith 74423 stored elements in Compressed Sparse Row format>, array([   0,   69,  154,  235,  314,  405,  472,  565,  632,  701,  778,\n",
      "        831,  906,  993, 1076, 1147, 1228, 1317, 1386, 1461, 1542, 1611,\n",
      "       1686, 1775, 1844, 1923, 2014, 2093, 2172, 2245, 2326, 2403, 2488,\n",
      "       2561, 2638, 2725, 2802, 2891, 2982, 3069, 3146, 3215, 3288, 3371,\n",
      "       3444, 3519, 3592, 3657, 3728, 3805, 3884, 3959, 4036, 4119, 4192,\n",
      "       4277, 4370, 4461, 4544, 4623, 4694, 4757, 4828, 4923, 5008, 5097]))\n"
     ]
    },
    {
     "name": "stderr",
     "output_type": "stream",
     "text": [
      "[Parallel(n_jobs=-1)]: Done  42 tasks      | elapsed:    0.1s\n",
      "[Parallel(n_jobs=-1)]: Done  65 out of  65 | elapsed:    0.1s finished\n",
      "[Parallel(n_jobs=4)]: Done  42 tasks      | elapsed:    0.0s\n",
      "[Parallel(n_jobs=4)]: Done  65 out of  65 | elapsed:    0.0s finished\n",
      "[Parallel(n_jobs=4)]: Done  42 tasks      | elapsed:    0.0s\n",
      "[Parallel(n_jobs=4)]: Done  65 out of  65 | elapsed:    0.0s finished\n",
      "[Parallel(n_jobs=-1)]: Done  42 tasks      | elapsed:    0.0s\n",
      "[Parallel(n_jobs=-1)]: Done  65 out of  65 | elapsed:    0.1s finished\n"
     ]
    },
    {
     "name": "stdout",
     "output_type": "stream",
     "text": [
      "(<179x17021 sparse matrix of type '<class 'numpy.int64'>'\n",
      "\twith 104029 stored elements in Compressed Sparse Row format>, array([    0,   261,   542,   801,  1064,  1333,  1576,  1833,  2098,\n",
      "        2369,  2630,  2905,  3172,  3407,  3676,  3943,  4218,  4479,\n",
      "        4760,  5029,  5294,  5541,  5800,  6037,  6278,  6557,  6800,\n",
      "        7067,  7340,  7623,  7882,  8137,  8404,  8681,  8942,  9199,\n",
      "        9444,  9675,  9928, 10203, 10454, 10705, 10976, 11245, 11498,\n",
      "       11735, 11980, 12219, 12502, 12777, 13056, 13325, 13602, 13887,\n",
      "       14124, 14381, 14650, 14921, 15176, 15451, 15740, 15987, 16238,\n",
      "       16511, 16758, 17021]))\n"
     ]
    },
    {
     "name": "stderr",
     "output_type": "stream",
     "text": [
      "[Parallel(n_jobs=-1)]: Done  42 tasks      | elapsed:    0.1s\n",
      "[Parallel(n_jobs=-1)]: Done  65 out of  65 | elapsed:    0.2s finished\n",
      "[Parallel(n_jobs=4)]: Done  42 tasks      | elapsed:    0.0s\n",
      "[Parallel(n_jobs=4)]: Done  65 out of  65 | elapsed:    0.0s finished\n",
      "[Parallel(n_jobs=4)]: Done  42 tasks      | elapsed:    0.0s\n",
      "[Parallel(n_jobs=4)]: Done  65 out of  65 | elapsed:    0.0s finished\n",
      "[Parallel(n_jobs=-1)]: Done  42 tasks      | elapsed:    0.0s\n",
      "[Parallel(n_jobs=-1)]: Done  65 out of  65 | elapsed:    0.1s finished\n"
     ]
    },
    {
     "name": "stdout",
     "output_type": "stream",
     "text": [
      "(<364x16497 sparse matrix of type '<class 'numpy.int64'>'\n",
      "\twith 207553 stored elements in Compressed Sparse Row format>, array([    0,   253,   506,   763,  1022,  1265,  1506,  1761,  2018,\n",
      "        2287,  2522,  2793,  3044,  3293,  3556,  3795,  4064,  4313,\n",
      "        4588,  4839,  5098,  5351,  5610,  5867,  6110,  6361,  6608,\n",
      "        6861,  7106,  7349,  7638,  7883,  8118,  8379,  8610,  8859,\n",
      "        9092,  9355,  9606,  9861, 10132, 10381, 10634, 10895, 11126,\n",
      "       11367, 11630, 11867, 12138, 12385, 12654, 12923, 13180, 13415,\n",
      "       13638, 13929, 14176, 14425, 14674, 14921, 15202, 15459, 15698,\n",
      "       15961, 16226, 16497]))\n"
     ]
    },
    {
     "name": "stderr",
     "output_type": "stream",
     "text": [
      "[Parallel(n_jobs=-1)]: Done  42 tasks      | elapsed:    0.1s\n",
      "[Parallel(n_jobs=-1)]: Done  65 out of  65 | elapsed:    0.2s finished\n",
      "[Parallel(n_jobs=4)]: Done  42 tasks      | elapsed:    0.0s\n",
      "[Parallel(n_jobs=4)]: Done  65 out of  65 | elapsed:    0.0s finished\n",
      "[Parallel(n_jobs=4)]: Done  42 tasks      | elapsed:    0.0s\n",
      "[Parallel(n_jobs=4)]: Done  65 out of  65 | elapsed:    0.0s finished\n",
      "[Parallel(n_jobs=-1)]: Done  42 tasks      | elapsed:    0.0s\n",
      "[Parallel(n_jobs=-1)]: Done  65 out of  65 | elapsed:    0.0s finished\n"
     ]
    },
    {
     "name": "stdout",
     "output_type": "stream",
     "text": [
      "(<361x27769 sparse matrix of type '<class 'numpy.int64'>'\n",
      "\twith 231843 stored elements in Compressed Sparse Row format>, array([    0,   425,   850,  1271,  1680,  2127,  2530,  2957,  3378,\n",
      "        3815,  4240,  4693,  5132,  5541,  6012,  6437,  6870,  7339,\n",
      "        7766,  8223,  8664,  9081,  9506,  9939, 10348, 10745, 11192,\n",
      "       11677, 12108, 12545, 12982, 13419, 13826, 14241, 14646, 15101,\n",
      "       15542, 15973, 16430, 16867, 17302, 17737, 18186, 18607, 19022,\n",
      "       19437, 19860, 20303, 20714, 21133, 21546, 21995, 22384, 22799,\n",
      "       23216, 23623, 24072, 24475, 24888, 25311, 25742, 26151, 26568,\n",
      "       26963, 27336, 27769]))\n"
     ]
    },
    {
     "name": "stderr",
     "output_type": "stream",
     "text": [
      "[Parallel(n_jobs=-1)]: Done  42 tasks      | elapsed:    0.1s\n",
      "[Parallel(n_jobs=-1)]: Done  65 out of  65 | elapsed:    0.2s finished\n",
      "[Parallel(n_jobs=4)]: Done  42 tasks      | elapsed:    0.0s\n",
      "[Parallel(n_jobs=4)]: Done  65 out of  65 | elapsed:    0.0s finished\n",
      "[Parallel(n_jobs=4)]: Done  42 tasks      | elapsed:    0.0s\n",
      "[Parallel(n_jobs=4)]: Done  65 out of  65 | elapsed:    0.0s finished\n",
      "[Parallel(n_jobs=-1)]: Done  42 tasks      | elapsed:    0.0s\n",
      "[Parallel(n_jobs=-1)]: Done  65 out of  65 | elapsed:    0.1s finished\n"
     ]
    },
    {
     "name": "stdout",
     "output_type": "stream",
     "text": [
      "(<372x27853 sparse matrix of type '<class 'numpy.int64'>'\n",
      "\twith 235428 stored elements in Compressed Sparse Row format>, array([    0,   403,   848,  1291,  1726,  2143,  2588,  2997,  3424,\n",
      "        3843,  4254,  4669,  5100,  5531,  5934,  6385,  6832,  7263,\n",
      "        7674,  8091,  8486,  8879,  9316,  9751, 10172, 10627, 11052,\n",
      "       11473, 11880, 12301, 12708, 13115, 13552, 13943, 14378, 14807,\n",
      "       15198, 15617, 16024, 16461, 16936, 17365, 17816, 18255, 18700,\n",
      "       19151, 19610, 20037, 20478, 20933, 21378, 21803, 22240, 22671,\n",
      "       23130, 23569, 23988, 24415, 24816, 25223, 25682, 26097, 26546,\n",
      "       26957, 27420, 27853]))\n"
     ]
    },
    {
     "name": "stderr",
     "output_type": "stream",
     "text": [
      "[Parallel(n_jobs=-1)]: Done  42 tasks      | elapsed:    0.1s\n",
      "[Parallel(n_jobs=-1)]: Done  65 out of  65 | elapsed:    0.1s finished\n",
      "[Parallel(n_jobs=4)]: Done  42 tasks      | elapsed:    0.0s\n",
      "[Parallel(n_jobs=4)]: Done  65 out of  65 | elapsed:    0.0s finished\n",
      "[Parallel(n_jobs=4)]: Done  42 tasks      | elapsed:    0.0s\n",
      "[Parallel(n_jobs=4)]: Done  65 out of  65 | elapsed:    0.0s finished\n",
      "[Parallel(n_jobs=-1)]: Done  42 tasks      | elapsed:    0.0s\n",
      "[Parallel(n_jobs=-1)]: Done  65 out of  65 | elapsed:    0.1s finished\n"
     ]
    },
    {
     "name": "stdout",
     "output_type": "stream",
     "text": [
      "(<386x25249 sparse matrix of type '<class 'numpy.int64'>'\n",
      "\twith 227347 stored elements in Compressed Sparse Row format>, array([    0,   379,   778,  1183,  1560,  1945,  2306,  2723,  3130,\n",
      "        3533,  3932,  4313,  4710,  5089,  5474,  5865,  6246,  6611,\n",
      "        7016,  7411,  7810,  8197,  8602,  9003,  9404,  9775, 10130,\n",
      "       10525, 10930, 11335, 11712, 12095, 12482, 12851, 13256, 13649,\n",
      "       14054, 14427, 14834, 15233, 15634, 16027, 16424, 16797, 17164,\n",
      "       17585, 17980, 18385, 18758, 19161, 19546, 19929, 20300, 20689,\n",
      "       21050, 21419, 21798, 22173, 22558, 22943, 23332, 23729, 24128,\n",
      "       24527, 24880, 25249]))\n"
     ]
    },
    {
     "name": "stderr",
     "output_type": "stream",
     "text": [
      "[Parallel(n_jobs=-1)]: Done  42 tasks      | elapsed:    0.1s\n",
      "[Parallel(n_jobs=-1)]: Done  65 out of  65 | elapsed:    0.2s finished\n",
      "[Parallel(n_jobs=4)]: Done  42 tasks      | elapsed:    0.0s\n",
      "[Parallel(n_jobs=4)]: Done  65 out of  65 | elapsed:    0.0s finished\n",
      "[Parallel(n_jobs=4)]: Done  42 tasks      | elapsed:    0.0s\n",
      "[Parallel(n_jobs=4)]: Done  65 out of  65 | elapsed:    0.0s finished\n",
      "[Parallel(n_jobs=-1)]: Done  42 tasks      | elapsed:    0.0s\n",
      "[Parallel(n_jobs=-1)]: Done  65 out of  65 | elapsed:    0.1s finished\n"
     ]
    },
    {
     "name": "stdout",
     "output_type": "stream",
     "text": [
      "(<358x26101 sparse matrix of type '<class 'numpy.int64'>'\n",
      "\twith 208801 stored elements in Compressed Sparse Row format>, array([    0,   377,   758,  1183,  1582,  1999,  2390,  2809,  3220,\n",
      "        3619,  3994,  4389,  4770,  5161,  5550,  5961,  6356,  6737,\n",
      "        7144,  7537,  7964,  8361,  8764,  9171,  9570,  9989, 10394,\n",
      "       10807, 11228, 11619, 12040, 12429, 12788, 13195, 13574, 13969,\n",
      "       14384, 14785, 15192, 15585, 16000, 16391, 16782, 17179, 17592,\n",
      "       18011, 18422, 18831, 19222, 19631, 20054, 20461, 20874, 21265,\n",
      "       21654, 22061, 22470, 22865, 23256, 23679, 24096, 24497, 24918,\n",
      "       25325, 25702, 26101]))\n"
     ]
    },
    {
     "name": "stderr",
     "output_type": "stream",
     "text": [
      "[Parallel(n_jobs=-1)]: Done  42 tasks      | elapsed:    0.1s\n",
      "[Parallel(n_jobs=-1)]: Done  65 out of  65 | elapsed:    0.1s finished\n",
      "[Parallel(n_jobs=4)]: Done  42 tasks      | elapsed:    0.0s\n",
      "[Parallel(n_jobs=4)]: Done  65 out of  65 | elapsed:    0.0s finished\n",
      "[Parallel(n_jobs=4)]: Done  42 tasks      | elapsed:    0.0s\n",
      "[Parallel(n_jobs=4)]: Done  65 out of  65 | elapsed:    0.0s finished\n",
      "[Parallel(n_jobs=-1)]: Done  42 tasks      | elapsed:    0.0s\n",
      "[Parallel(n_jobs=-1)]: Done  65 out of  65 | elapsed:    0.1s finished\n"
     ]
    },
    {
     "name": "stdout",
     "output_type": "stream",
     "text": [
      "(<392x25115 sparse matrix of type '<class 'numpy.int64'>'\n",
      "\twith 236642 stored elements in Compressed Sparse Row format>, array([    0,   381,   800,  1195,  1580,  1965,  2366,  2779,  3184,\n",
      "        3589,  3984,  4399,  4804,  5187,  5564,  5955,  6312,  6705,\n",
      "        7092,  7485,  7882,  8277,  8704,  9075,  9472,  9873, 10264,\n",
      "       10679, 11076, 11443, 11808, 12193, 12560, 12925, 13298, 13675,\n",
      "       14048, 14429, 14794, 15177, 15524, 15921, 16292, 16677, 17038,\n",
      "       17393, 17790, 18185, 18582, 18971, 19354, 19745, 20148, 20537,\n",
      "       20920, 21297, 21678, 22077, 22462, 22847, 23232, 23613, 24012,\n",
      "       24389, 24760, 25115]))\n"
     ]
    },
    {
     "name": "stderr",
     "output_type": "stream",
     "text": [
      "[Parallel(n_jobs=-1)]: Done  42 tasks      | elapsed:    0.1s\n",
      "[Parallel(n_jobs=-1)]: Done  65 out of  65 | elapsed:    0.1s finished\n",
      "[Parallel(n_jobs=4)]: Done  42 tasks      | elapsed:    0.0s\n",
      "[Parallel(n_jobs=4)]: Done  65 out of  65 | elapsed:    0.0s finished\n",
      "[Parallel(n_jobs=4)]: Done  42 tasks      | elapsed:    0.0s\n",
      "[Parallel(n_jobs=4)]: Done  65 out of  65 | elapsed:    0.0s finished\n",
      "[Parallel(n_jobs=-1)]: Done  42 tasks      | elapsed:    0.0s\n",
      "[Parallel(n_jobs=-1)]: Done  65 out of  65 | elapsed:    0.1s finished\n"
     ]
    },
    {
     "name": "stdout",
     "output_type": "stream",
     "text": [
      "(<400x25801 sparse matrix of type '<class 'numpy.int64'>'\n",
      "\twith 236461 stored elements in Compressed Sparse Row format>, array([    0,   403,   792,  1195,  1612,  2003,  2412,  2785,  3174,\n",
      "        3587,  3964,  4359,  4742,  5141,  5502,  5899,  6326,  6755,\n",
      "        7140,  7529,  7926,  8339,  8726,  9135,  9546,  9951, 10346,\n",
      "       10731, 11114, 11519, 11932, 12349, 12756, 13123, 13512, 13903,\n",
      "       14308, 14709, 15090, 15495, 15894, 16303, 16680, 17095, 17492,\n",
      "       17879, 18286, 18697, 19114, 19535, 19962, 20333, 20704, 21095,\n",
      "       21462, 21845, 22246, 22675, 23050, 23445, 23852, 24267, 24650,\n",
      "       25025, 25394, 25801]))\n"
     ]
    },
    {
     "name": "stderr",
     "output_type": "stream",
     "text": [
      "[Parallel(n_jobs=-1)]: Done  42 tasks      | elapsed:    0.1s\n",
      "[Parallel(n_jobs=-1)]: Done  65 out of  65 | elapsed:    0.1s finished\n",
      "[Parallel(n_jobs=4)]: Done  42 tasks      | elapsed:    0.0s\n",
      "[Parallel(n_jobs=4)]: Done  65 out of  65 | elapsed:    0.0s finished\n",
      "[Parallel(n_jobs=4)]: Done  42 tasks      | elapsed:    0.0s\n",
      "[Parallel(n_jobs=4)]: Done  65 out of  65 | elapsed:    0.0s finished\n",
      "[Parallel(n_jobs=-1)]: Done  42 tasks      | elapsed:    0.0s\n",
      "[Parallel(n_jobs=-1)]: Done  65 out of  65 | elapsed:    0.1s finished\n"
     ]
    },
    {
     "name": "stdout",
     "output_type": "stream",
     "text": [
      "(<405x26967 sparse matrix of type '<class 'numpy.int64'>'\n",
      "\twith 241621 stored elements in Compressed Sparse Row format>, array([    0,   421,   810,  1209,  1618,  2025,  2426,  2859,  3300,\n",
      "        3707,  4140,  4529,  4948,  5381,  5804,  6227,  6686,  7091,\n",
      "        7550,  7989,  8412,  8831,  9232,  9669, 10080, 10507, 10924,\n",
      "       11333, 11730, 12137, 12524, 12937, 13330, 13739, 14162, 14573,\n",
      "       14988, 15407, 15816, 16231, 16642, 17067, 17480, 17917, 18354,\n",
      "       18773, 19218, 19593, 20020, 20427, 20830, 21225, 21644, 22047,\n",
      "       22466, 22909, 23306, 23699, 24124, 24531, 24938, 25371, 25776,\n",
      "       26179, 26568, 26967]))\n"
     ]
    },
    {
     "name": "stderr",
     "output_type": "stream",
     "text": [
      "[Parallel(n_jobs=-1)]: Done  42 tasks      | elapsed:    0.1s\n",
      "[Parallel(n_jobs=-1)]: Done  65 out of  65 | elapsed:    0.2s finished\n",
      "[Parallel(n_jobs=4)]: Done  42 tasks      | elapsed:    0.0s\n",
      "[Parallel(n_jobs=4)]: Done  65 out of  65 | elapsed:    0.0s finished\n",
      "[Parallel(n_jobs=4)]: Done  42 tasks      | elapsed:    0.0s\n",
      "[Parallel(n_jobs=4)]: Done  65 out of  65 | elapsed:    0.0s finished\n",
      "[Parallel(n_jobs=-1)]: Done  42 tasks      | elapsed:    0.0s\n",
      "[Parallel(n_jobs=-1)]: Done  65 out of  65 | elapsed:    0.1s finished\n"
     ]
    },
    {
     "name": "stdout",
     "output_type": "stream",
     "text": [
      "(<359x26107 sparse matrix of type '<class 'numpy.int64'>'\n",
      "\twith 211410 stored elements in Compressed Sparse Row format>, array([    0,   401,   782,  1189,  1606,  1983,  2382,  2795,  3202,\n",
      "        3575,  3984,  4387,  4788,  5191,  5578,  5971,  6366,  6781,\n",
      "        7188,  7553,  7960,  8381,  8786,  9183,  9588,  9983, 10370,\n",
      "       10787, 11170, 11555, 11974, 12357, 12760, 13191, 13572, 14001,\n",
      "       14386, 14759, 15168, 15577, 16002, 16437, 16856, 17271, 17652,\n",
      "       18067, 18486, 18907, 19300, 19707, 20100, 20509, 20902, 21311,\n",
      "       21728, 22105, 22512, 22921, 23316, 23693, 24088, 24501, 24920,\n",
      "       25295, 25684, 26107]))\n"
     ]
    },
    {
     "name": "stderr",
     "output_type": "stream",
     "text": [
      "[Parallel(n_jobs=-1)]: Done  42 tasks      | elapsed:    0.1s\n",
      "[Parallel(n_jobs=-1)]: Done  65 out of  65 | elapsed:    0.2s finished\n",
      "[Parallel(n_jobs=4)]: Done  42 tasks      | elapsed:    0.0s\n",
      "[Parallel(n_jobs=4)]: Done  65 out of  65 | elapsed:    0.0s finished\n",
      "[Parallel(n_jobs=4)]: Done  42 tasks      | elapsed:    0.0s\n",
      "[Parallel(n_jobs=4)]: Done  65 out of  65 | elapsed:    0.0s finished\n",
      "[Parallel(n_jobs=-1)]: Done  42 tasks      | elapsed:    0.0s\n",
      "[Parallel(n_jobs=-1)]: Done  65 out of  65 | elapsed:    0.0s finished\n"
     ]
    },
    {
     "name": "stdout",
     "output_type": "stream",
     "text": [
      "(<378x26849 sparse matrix of type '<class 'numpy.int64'>'\n",
      "\twith 242412 stored elements in Compressed Sparse Row format>, array([    0,   407,   838,  1237,  1664,  2045,  2464,  2897,  3316,\n",
      "        3737,  4140,  4531,  4956,  5351,  5762,  6197,  6614,  7037,\n",
      "        7474,  7877,  8306,  8707,  9112,  9503,  9892, 10291, 10742,\n",
      "       11157, 11556, 11981, 12384, 12811, 13236, 13665, 14074, 14491,\n",
      "       14914, 15303, 15730, 16113, 16554, 16953, 17346, 17749, 18138,\n",
      "       18553, 18966, 19367, 19798, 20225, 20622, 21073, 21506, 21887,\n",
      "       22298, 22737, 23138, 23563, 23968, 24403, 24794, 25215, 25608,\n",
      "       26027, 26432, 26849]))\n"
     ]
    },
    {
     "name": "stderr",
     "output_type": "stream",
     "text": [
      "[Parallel(n_jobs=-1)]: Done  42 tasks      | elapsed:    0.1s\n",
      "[Parallel(n_jobs=-1)]: Done  65 out of  65 | elapsed:    0.2s finished\n",
      "[Parallel(n_jobs=4)]: Done  42 tasks      | elapsed:    0.0s\n",
      "[Parallel(n_jobs=4)]: Done  65 out of  65 | elapsed:    0.0s finished\n",
      "[Parallel(n_jobs=4)]: Done  42 tasks      | elapsed:    0.0s\n",
      "[Parallel(n_jobs=4)]: Done  65 out of  65 | elapsed:    0.0s finished\n",
      "[Parallel(n_jobs=-1)]: Done  42 tasks      | elapsed:    0.0s\n",
      "[Parallel(n_jobs=-1)]: Done  65 out of  65 | elapsed:    0.0s finished\n"
     ]
    },
    {
     "name": "stdout",
     "output_type": "stream",
     "text": [
      "(<359x25037 sparse matrix of type '<class 'numpy.int64'>'\n",
      "\twith 209442 stored elements in Compressed Sparse Row format>, array([    0,   387,   746,  1101,  1474,  1877,  2240,  2641,  3028,\n",
      "        3405,  3818,  4233,  4636,  5035,  5416,  5773,  6116,  6517,\n",
      "        6916,  7291,  7680,  8045,  8404,  8781,  9190,  9583,  9950,\n",
      "       10329, 10710, 11091, 11458, 11833, 12226, 12599, 13006, 13391,\n",
      "       13762, 14111, 14490, 14883, 15262, 15661, 16052, 16413, 16834,\n",
      "       17233, 17648, 18027, 18402, 18777, 19168, 19569, 19958, 20349,\n",
      "       20782, 21167, 21554, 21953, 22348, 22745, 23116, 23503, 23872,\n",
      "       24259, 24666, 25037]))\n"
     ]
    },
    {
     "name": "stderr",
     "output_type": "stream",
     "text": [
      "[Parallel(n_jobs=-1)]: Done  42 tasks      | elapsed:    0.1s\n",
      "[Parallel(n_jobs=-1)]: Done  65 out of  65 | elapsed:    0.2s finished\n",
      "[Parallel(n_jobs=4)]: Done  42 tasks      | elapsed:    0.0s\n",
      "[Parallel(n_jobs=4)]: Done  65 out of  65 | elapsed:    0.0s finished\n",
      "[Parallel(n_jobs=4)]: Done  42 tasks      | elapsed:    0.0s\n",
      "[Parallel(n_jobs=4)]: Done  65 out of  65 | elapsed:    0.0s finished\n",
      "[Parallel(n_jobs=-1)]: Done  42 tasks      | elapsed:    0.0s\n",
      "[Parallel(n_jobs=-1)]: Done  65 out of  65 | elapsed:    0.1s finished\n"
     ]
    },
    {
     "name": "stdout",
     "output_type": "stream",
     "text": [
      "(<391x25621 sparse matrix of type '<class 'numpy.int64'>'\n",
      "\twith 242007 stored elements in Compressed Sparse Row format>, array([    0,   359,   782,  1151,  1540,  1915,  2288,  2637,  3032,\n",
      "        3421,  3842,  4237,  4648,  5063,  5466,  5839,  6244,  6671,\n",
      "        7062,  7439,  7824,  8191,  8584,  8955,  9354,  9749, 10148,\n",
      "       10573, 10928, 11315, 11686, 12075, 12466, 12873, 13278, 13637,\n",
      "       14062, 14447, 14854, 15241, 15654, 16051, 16446, 16833, 17220,\n",
      "       17611, 18040, 18447, 18862, 19241, 19654, 20073, 20474, 20891,\n",
      "       21290, 21711, 22136, 22509, 22892, 23287, 23686, 24075, 24472,\n",
      "       24867, 25266, 25621]))\n"
     ]
    },
    {
     "name": "stderr",
     "output_type": "stream",
     "text": [
      "[Parallel(n_jobs=-1)]: Done  42 tasks      | elapsed:    0.0s\n",
      "[Parallel(n_jobs=-1)]: Done  65 out of  65 | elapsed:    0.1s finished\n",
      "[Parallel(n_jobs=4)]: Done  42 tasks      | elapsed:    0.0s\n",
      "[Parallel(n_jobs=4)]: Done  65 out of  65 | elapsed:    0.0s finished\n",
      "[Parallel(n_jobs=4)]: Done  42 tasks      | elapsed:    0.0s\n",
      "[Parallel(n_jobs=4)]: Done  65 out of  65 | elapsed:    0.0s finished\n",
      "[Parallel(n_jobs=-1)]: Done  42 tasks      | elapsed:    0.0s\n",
      "[Parallel(n_jobs=-1)]: Done  65 out of  65 | elapsed:    0.0s finished\n"
     ]
    },
    {
     "name": "stdout",
     "output_type": "stream",
     "text": [
      "(<34x26205 sparse matrix of type '<class 'numpy.int64'>'\n",
      "\twith 20006 stored elements in Compressed Sparse Row format>, array([    0,   399,   804,  1203,  1602,  2011,  2400,  2823,  3222,\n",
      "        3601,  4012,  4427,  4836,  5247,  5674,  6077,  6492,  6911,\n",
      "        7308,  7725,  8116,  8515,  8948,  9347,  9726, 10097, 10498,\n",
      "       10887, 11276, 11693, 12084, 12499, 12902, 13291, 13674, 14067,\n",
      "       14436, 14831, 15284, 15697, 16110, 16517, 16922, 17347, 17758,\n",
      "       18151, 18556, 18967, 19356, 19735, 20124, 20535, 20940, 21369,\n",
      "       21776, 22169, 22580, 22975, 23386, 23783, 24162, 24589, 24994,\n",
      "       25395, 25796, 26205]))\n"
     ]
    },
    {
     "name": "stderr",
     "output_type": "stream",
     "text": [
      "[Parallel(n_jobs=-1)]: Done  42 tasks      | elapsed:    0.1s\n",
      "[Parallel(n_jobs=-1)]: Done  65 out of  65 | elapsed:    0.2s finished\n",
      "[Parallel(n_jobs=4)]: Done  42 tasks      | elapsed:    0.0s\n",
      "[Parallel(n_jobs=4)]: Done  65 out of  65 | elapsed:    0.0s finished\n",
      "[Parallel(n_jobs=4)]: Done  42 tasks      | elapsed:    0.0s\n",
      "[Parallel(n_jobs=4)]: Done  65 out of  65 | elapsed:    0.0s finished\n",
      "[Parallel(n_jobs=-1)]: Done  42 tasks      | elapsed:    0.0s\n",
      "[Parallel(n_jobs=-1)]: Done  65 out of  65 | elapsed:    0.0s finished\n"
     ]
    },
    {
     "name": "stdout",
     "output_type": "stream",
     "text": [
      "(<377x4897 sparse matrix of type '<class 'numpy.int64'>'\n",
      "\twith 140630 stored elements in Compressed Sparse Row format>, array([   0,   85,  158,  249,  314,  391,  468,  535,  612,  685,  752,\n",
      "        825,  906,  985, 1066, 1133, 1204, 1275, 1364, 1443, 1514, 1597,\n",
      "       1680, 1757, 1834, 1903, 1974, 2049, 2122, 2185, 2262, 2333, 2408,\n",
      "       2469, 2534, 2611, 2682, 2751, 2822, 2891, 2970, 3031, 3102, 3183,\n",
      "       3256, 3319, 3398, 3481, 3564, 3629, 3718, 3801, 3874, 3945, 4030,\n",
      "       4117, 4194, 4281, 4354, 4441, 4518, 4583, 4672, 4743, 4820, 4897]))\n"
     ]
    },
    {
     "name": "stderr",
     "output_type": "stream",
     "text": [
      "[Parallel(n_jobs=-1)]: Done  42 tasks      | elapsed:    0.1s\n",
      "[Parallel(n_jobs=-1)]: Done  65 out of  65 | elapsed:    0.2s finished\n",
      "[Parallel(n_jobs=4)]: Done  42 tasks      | elapsed:    0.0s\n",
      "[Parallel(n_jobs=4)]: Done  65 out of  65 | elapsed:    0.0s finished\n",
      "[Parallel(n_jobs=4)]: Done  42 tasks      | elapsed:    0.0s\n",
      "[Parallel(n_jobs=4)]: Done  65 out of  65 | elapsed:    0.0s finished\n",
      "[Parallel(n_jobs=-1)]: Done  42 tasks      | elapsed:    0.0s\n",
      "[Parallel(n_jobs=-1)]: Done  65 out of  65 | elapsed:    0.1s finished\n"
     ]
    },
    {
     "name": "stdout",
     "output_type": "stream",
     "text": [
      "(<344x25699 sparse matrix of type '<class 'numpy.int64'>'\n",
      "\twith 205075 stored elements in Compressed Sparse Row format>, array([    0,   381,   796,  1193,  1574,  1985,  2372,  2751,  3150,\n",
      "        3581,  3974,  4363,  4770,  5163,  5568,  5945,  6294,  6681,\n",
      "        7084,  7495,  7880,  8301,  8686,  9105,  9528,  9909, 10302,\n",
      "       10707, 11096, 11489, 11914, 12301, 12696, 13085, 13482, 13877,\n",
      "       14234, 14625, 15032, 15423, 15794, 16215, 16608, 17003, 17408,\n",
      "       17819, 18216, 18603, 18990, 19381, 19790, 20175, 20564, 20937,\n",
      "       21354, 21737, 22120, 22493, 22880, 23279, 23656, 24055, 24454,\n",
      "       24853, 25270, 25699]))\n"
     ]
    },
    {
     "name": "stderr",
     "output_type": "stream",
     "text": [
      "[Parallel(n_jobs=-1)]: Done  42 tasks      | elapsed:    0.1s\n",
      "[Parallel(n_jobs=-1)]: Done  65 out of  65 | elapsed:    0.2s finished\n",
      "[Parallel(n_jobs=4)]: Done  42 tasks      | elapsed:    0.0s\n",
      "[Parallel(n_jobs=4)]: Done  65 out of  65 | elapsed:    0.0s finished\n",
      "[Parallel(n_jobs=4)]: Done  42 tasks      | elapsed:    0.0s\n",
      "[Parallel(n_jobs=4)]: Done  65 out of  65 | elapsed:    0.0s finished\n",
      "[Parallel(n_jobs=-1)]: Done  42 tasks      | elapsed:    0.0s\n",
      "[Parallel(n_jobs=-1)]: Done  65 out of  65 | elapsed:    0.1s finished\n"
     ]
    },
    {
     "name": "stdout",
     "output_type": "stream",
     "text": [
      "(<353x27737 sparse matrix of type '<class 'numpy.int64'>'\n",
      "\twith 209849 stored elements in Compressed Sparse Row format>, array([    0,   451,   864,  1271,  1718,  2173,  2618,  3013,  3404,\n",
      "        3827,  4240,  4665,  5104,  5559,  5978,  6411,  6836,  7291,\n",
      "        7730,  8147,  8564,  8985,  9396,  9803, 10270, 10721, 11122,\n",
      "       11527, 11930, 12341, 12766, 13179, 13638, 14061, 14500, 14927,\n",
      "       15372, 15795, 16194, 16599, 17030, 17447, 17880, 18317, 18748,\n",
      "       19181, 19612, 20055, 20486, 20891, 21308, 21763, 22206, 22631,\n",
      "       23050, 23473, 23896, 24351, 24762, 25175, 25606, 26039, 26458,\n",
      "       26889, 27304, 27737]))\n"
     ]
    },
    {
     "name": "stderr",
     "output_type": "stream",
     "text": [
      "[Parallel(n_jobs=-1)]: Done  42 tasks      | elapsed:    0.1s\n",
      "[Parallel(n_jobs=-1)]: Done  65 out of  65 | elapsed:    0.2s finished\n",
      "[Parallel(n_jobs=4)]: Done  42 tasks      | elapsed:    0.0s\n",
      "[Parallel(n_jobs=4)]: Done  65 out of  65 | elapsed:    0.0s finished\n",
      "[Parallel(n_jobs=4)]: Done  42 tasks      | elapsed:    0.0s\n",
      "[Parallel(n_jobs=4)]: Done  65 out of  65 | elapsed:    0.0s finished\n",
      "[Parallel(n_jobs=-1)]: Done  42 tasks      | elapsed:    0.0s\n",
      "[Parallel(n_jobs=-1)]: Done  65 out of  65 | elapsed:    0.1s finished\n"
     ]
    },
    {
     "name": "stdout",
     "output_type": "stream",
     "text": [
      "(<373x25109 sparse matrix of type '<class 'numpy.int64'>'\n",
      "\twith 216546 stored elements in Compressed Sparse Row format>, array([    0,   371,   746,  1129,  1528,  1903,  2286,  2619,  3002,\n",
      "        3381,  3760,  4159,  4530,  4903,  5286,  5653,  6056,  6445,\n",
      "        6818,  7215,  7584,  7977,  8396,  8731,  9122,  9503,  9884,\n",
      "       10293, 10698, 11091, 11464, 11839, 12204, 12579, 12970, 13367,\n",
      "       13776, 14189, 14568, 14969, 15374, 15797, 16200, 16571, 16968,\n",
      "       17365, 17736, 18121, 18512, 18887, 19286, 19693, 20130, 20513,\n",
      "       20906, 21295, 21690, 22059, 22394, 22767, 23184, 23551, 23942,\n",
      "       24317, 24712, 25109]))\n"
     ]
    },
    {
     "name": "stderr",
     "output_type": "stream",
     "text": [
      "[Parallel(n_jobs=-1)]: Done  42 tasks      | elapsed:    0.0s\n",
      "[Parallel(n_jobs=-1)]: Done  65 out of  65 | elapsed:    0.1s finished\n",
      "[Parallel(n_jobs=4)]: Done  42 tasks      | elapsed:    0.0s\n",
      "[Parallel(n_jobs=4)]: Done  65 out of  65 | elapsed:    0.0s finished\n",
      "[Parallel(n_jobs=4)]: Done  42 tasks      | elapsed:    0.0s\n",
      "[Parallel(n_jobs=4)]: Done  65 out of  65 | elapsed:    0.0s finished\n",
      "[Parallel(n_jobs=-1)]: Done  42 tasks      | elapsed:    0.0s\n",
      "[Parallel(n_jobs=-1)]: Done  65 out of  65 | elapsed:    0.1s finished\n"
     ]
    },
    {
     "name": "stdout",
     "output_type": "stream",
     "text": [
      "(<42x25889 sparse matrix of type '<class 'numpy.int64'>'\n",
      "\twith 24864 stored elements in Compressed Sparse Row format>, array([    0,   395,   796,  1213,  1628,  2027,  2412,  2817,  3200,\n",
      "        3583,  3982,  4393,  4784,  5189,  5582,  5987,  6350,  6759,\n",
      "        7134,  7533,  7936,  8319,  8716,  9109,  9524,  9929, 10310,\n",
      "       10695, 11094, 11501, 11900, 12267, 12674, 13085, 13478, 13867,\n",
      "       14286, 14673, 15062, 15445, 15868, 16277, 16660, 17047, 17460,\n",
      "       17879, 18272, 18673, 19098, 19503, 19920, 20325, 20716, 21143,\n",
      "       21566, 21933, 22324, 22695, 23108, 23515, 23918, 24293, 24668,\n",
      "       25041, 25472, 25889]))\n"
     ]
    },
    {
     "name": "stderr",
     "output_type": "stream",
     "text": [
      "[Parallel(n_jobs=-1)]: Done  42 tasks      | elapsed:    0.1s\n",
      "[Parallel(n_jobs=-1)]: Done  65 out of  65 | elapsed:    0.2s finished\n",
      "[Parallel(n_jobs=4)]: Done  42 tasks      | elapsed:    0.0s\n"
     ]
    },
    {
     "ename": "KeyboardInterrupt",
     "evalue": "",
     "output_type": "error",
     "traceback": [
      "\u001b[0;31m---------------------------------------------------------------------------\u001b[0m",
      "\u001b[0;31mKeyboardInterrupt\u001b[0m                         Traceback (most recent call last)",
      "\u001b[0;32m<ipython-input-20-57ae0c7d4184>\u001b[0m in \u001b[0;36m<module>\u001b[0;34m()\u001b[0m\n\u001b[1;32m      1\u001b[0m \u001b[0;32mfor\u001b[0m \u001b[0mstock\u001b[0m \u001b[0;32min\u001b[0m \u001b[0mselected_data\u001b[0m\u001b[0;34m[\u001b[0m\u001b[0;34m'Symbol'\u001b[0m\u001b[0;34m]\u001b[0m\u001b[0;34m.\u001b[0m\u001b[0munique\u001b[0m\u001b[0;34m(\u001b[0m\u001b[0;34m)\u001b[0m\u001b[0;34m:\u001b[0m\u001b[0;34m\u001b[0m\u001b[0m\n\u001b[0;32m----> 2\u001b[0;31m     \u001b[0mforest\u001b[0m\u001b[0;34m,\u001b[0m \u001b[0maccurency\u001b[0m \u001b[0;34m=\u001b[0m \u001b[0mtrain_on_stock\u001b[0m\u001b[0;34m(\u001b[0m\u001b[0mstock\u001b[0m\u001b[0;34m,\u001b[0m\u001b[0mselected_data\u001b[0m\u001b[0;34m,\u001b[0m\u001b[0;36m0.8\u001b[0m\u001b[0;34m,\u001b[0m\u001b[0mprediction_window\u001b[0m\u001b[0;34m)\u001b[0m\u001b[0;34m\u001b[0m\u001b[0m\n\u001b[0m\u001b[1;32m      3\u001b[0m \u001b[0;34m\u001b[0m\u001b[0m\n",
      "\u001b[0;32m<ipython-input-19-4de70f37698b>\u001b[0m in \u001b[0;36mtrain_on_stock\u001b[0;34m(stockname, df, train_frac, prediction_window)\u001b[0m\n\u001b[1;32m     18\u001b[0m \u001b[0;34m\u001b[0m\u001b[0m\n\u001b[1;32m     19\u001b[0m \u001b[0;34m\u001b[0m\u001b[0m\n\u001b[0;32m---> 20\u001b[0;31m     \u001b[0mres\u001b[0m \u001b[0;34m=\u001b[0m \u001b[0mRandom_Forest\u001b[0m\u001b[0;34m.\u001b[0m\u001b[0mpredict\u001b[0m\u001b[0;34m(\u001b[0m\u001b[0mtest_x\u001b[0m\u001b[0;34m)\u001b[0m\u001b[0;34m\u001b[0m\u001b[0m\n\u001b[0m\u001b[1;32m     21\u001b[0m     \u001b[0mtest_accurency\u001b[0m \u001b[0;34m=\u001b[0m \u001b[0mRandom_Forest\u001b[0m\u001b[0;34m.\u001b[0m\u001b[0mscore\u001b[0m\u001b[0;34m(\u001b[0m\u001b[0mtest_x\u001b[0m\u001b[0;34m,\u001b[0m \u001b[0mtest_y\u001b[0m\u001b[0;34m)\u001b[0m\u001b[0;34m\u001b[0m\u001b[0m\n\u001b[1;32m     22\u001b[0m     \u001b[0mprint\u001b[0m\u001b[0;34m(\u001b[0m\u001b[0mforest\u001b[0m\u001b[0;34m.\u001b[0m\u001b[0mdecision_path\u001b[0m\u001b[0;34m(\u001b[0m\u001b[0mtest_x\u001b[0m\u001b[0;34m)\u001b[0m\u001b[0;34m)\u001b[0m\u001b[0;34m\u001b[0m\u001b[0m\n",
      "\u001b[0;32m/usr/local/lib/python3.5/dist-packages/sklearn/ensemble/forest.py\u001b[0m in \u001b[0;36mpredict\u001b[0;34m(self, X)\u001b[0m\n\u001b[1;32m    532\u001b[0m             \u001b[0mThe\u001b[0m \u001b[0mpredicted\u001b[0m \u001b[0mclasses\u001b[0m\u001b[0;34m.\u001b[0m\u001b[0;34m\u001b[0m\u001b[0m\n\u001b[1;32m    533\u001b[0m         \"\"\"\n\u001b[0;32m--> 534\u001b[0;31m         \u001b[0mproba\u001b[0m \u001b[0;34m=\u001b[0m \u001b[0mself\u001b[0m\u001b[0;34m.\u001b[0m\u001b[0mpredict_proba\u001b[0m\u001b[0;34m(\u001b[0m\u001b[0mX\u001b[0m\u001b[0;34m)\u001b[0m\u001b[0;34m\u001b[0m\u001b[0m\n\u001b[0m\u001b[1;32m    535\u001b[0m \u001b[0;34m\u001b[0m\u001b[0m\n\u001b[1;32m    536\u001b[0m         \u001b[0;32mif\u001b[0m \u001b[0mself\u001b[0m\u001b[0;34m.\u001b[0m\u001b[0mn_outputs_\u001b[0m \u001b[0;34m==\u001b[0m \u001b[0;36m1\u001b[0m\u001b[0;34m:\u001b[0m\u001b[0;34m\u001b[0m\u001b[0m\n",
      "\u001b[0;32m/usr/local/lib/python3.5/dist-packages/sklearn/ensemble/forest.py\u001b[0m in \u001b[0;36mpredict_proba\u001b[0;34m(self, X)\u001b[0m\n\u001b[1;32m    581\u001b[0m             delayed(parallel_helper)(e, 'predict_proba', X,\n\u001b[1;32m    582\u001b[0m                                       check_input=False)\n\u001b[0;32m--> 583\u001b[0;31m             for e in self.estimators_)\n\u001b[0m\u001b[1;32m    584\u001b[0m \u001b[0;34m\u001b[0m\u001b[0m\n\u001b[1;32m    585\u001b[0m         \u001b[0;31m# Reduce\u001b[0m\u001b[0;34m\u001b[0m\u001b[0;34m\u001b[0m\u001b[0m\n",
      "\u001b[0;32m/usr/local/lib/python3.5/dist-packages/sklearn/externals/joblib/parallel.py\u001b[0m in \u001b[0;36m__call__\u001b[0;34m(self, iterable)\u001b[0m\n\u001b[1;32m    766\u001b[0m                 \u001b[0;31m# consumption.\u001b[0m\u001b[0;34m\u001b[0m\u001b[0;34m\u001b[0m\u001b[0m\n\u001b[1;32m    767\u001b[0m                 \u001b[0mself\u001b[0m\u001b[0;34m.\u001b[0m\u001b[0m_iterating\u001b[0m \u001b[0;34m=\u001b[0m \u001b[0;32mFalse\u001b[0m\u001b[0;34m\u001b[0m\u001b[0m\n\u001b[0;32m--> 768\u001b[0;31m             \u001b[0mself\u001b[0m\u001b[0;34m.\u001b[0m\u001b[0mretrieve\u001b[0m\u001b[0;34m(\u001b[0m\u001b[0;34m)\u001b[0m\u001b[0;34m\u001b[0m\u001b[0m\n\u001b[0m\u001b[1;32m    769\u001b[0m             \u001b[0;31m# Make sure that we get a last message telling us we are done\u001b[0m\u001b[0;34m\u001b[0m\u001b[0;34m\u001b[0m\u001b[0m\n\u001b[1;32m    770\u001b[0m             \u001b[0melapsed_time\u001b[0m \u001b[0;34m=\u001b[0m \u001b[0mtime\u001b[0m\u001b[0;34m.\u001b[0m\u001b[0mtime\u001b[0m\u001b[0;34m(\u001b[0m\u001b[0;34m)\u001b[0m \u001b[0;34m-\u001b[0m \u001b[0mself\u001b[0m\u001b[0;34m.\u001b[0m\u001b[0m_start_time\u001b[0m\u001b[0;34m\u001b[0m\u001b[0m\n",
      "\u001b[0;32m/usr/local/lib/python3.5/dist-packages/sklearn/externals/joblib/parallel.py\u001b[0m in \u001b[0;36mretrieve\u001b[0;34m(self)\u001b[0m\n\u001b[1;32m    676\u001b[0m             \u001b[0;31m# the use of the lock\u001b[0m\u001b[0;34m\u001b[0m\u001b[0;34m\u001b[0m\u001b[0m\n\u001b[1;32m    677\u001b[0m             \u001b[0;32mwith\u001b[0m \u001b[0mself\u001b[0m\u001b[0;34m.\u001b[0m\u001b[0m_lock\u001b[0m\u001b[0;34m:\u001b[0m\u001b[0;34m\u001b[0m\u001b[0m\n\u001b[0;32m--> 678\u001b[0;31m                 \u001b[0mjob\u001b[0m \u001b[0;34m=\u001b[0m \u001b[0mself\u001b[0m\u001b[0;34m.\u001b[0m\u001b[0m_jobs\u001b[0m\u001b[0;34m.\u001b[0m\u001b[0mpop\u001b[0m\u001b[0;34m(\u001b[0m\u001b[0;36m0\u001b[0m\u001b[0;34m)\u001b[0m\u001b[0;34m\u001b[0m\u001b[0m\n\u001b[0m\u001b[1;32m    679\u001b[0m             \u001b[0;32mtry\u001b[0m\u001b[0;34m:\u001b[0m\u001b[0;34m\u001b[0m\u001b[0m\n\u001b[1;32m    680\u001b[0m                 \u001b[0;31m# check if timeout supported in backend future implementation\u001b[0m\u001b[0;34m\u001b[0m\u001b[0;34m\u001b[0m\u001b[0m\n",
      "\u001b[0;31mKeyboardInterrupt\u001b[0m: "
     ]
    }
   ],
   "source": [
    "for stock in selected_data['Symbol'].unique():\n",
    "    forest, accurency = train_on_stock(stock,selected_data,0.8,prediction_window)\n",
    "    "
   ]
  },
  {
   "cell_type": "code",
   "execution_count": 26,
   "metadata": {
    "collapsed": false
   },
   "outputs": [
    {
     "name": "stderr",
     "output_type": "stream",
     "text": [
      "[Parallel(n_jobs=-1)]: Done  42 tasks      | elapsed:  1.8min\n",
      "[Parallel(n_jobs=-1)]: Done  65 out of  65 | elapsed:  2.6min finished\n",
      "[Parallel(n_jobs=4)]: Done  42 tasks      | elapsed:    1.0s\n",
      "[Parallel(n_jobs=4)]: Done  65 out of  65 | elapsed:    1.6s finished\n"
     ]
    },
    {
     "ename": "NameError",
     "evalue": "name 'prediction_windows' is not defined",
     "output_type": "error",
     "traceback": [
      "\u001b[0;31m---------------------------------------------------------------------------\u001b[0m",
      "\u001b[0;31mNameError\u001b[0m                                 Traceback (most recent call last)",
      "\u001b[0;32m<ipython-input-26-8f980e1957c2>\u001b[0m in \u001b[0;36m<module>\u001b[0;34m()\u001b[0m\n\u001b[1;32m      1\u001b[0m \u001b[0mcomplete_forest\u001b[0m\u001b[0;34m,\u001b[0m \u001b[0maccurency\u001b[0m \u001b[0;34m=\u001b[0m \u001b[0mtrain_on_market\u001b[0m\u001b[0;34m(\u001b[0m\u001b[0mselected_data\u001b[0m\u001b[0;34m,\u001b[0m\u001b[0;36m0.8\u001b[0m\u001b[0;34m,\u001b[0m\u001b[0mprediction_window\u001b[0m\u001b[0;34m)\u001b[0m\u001b[0;34m\u001b[0m\u001b[0m\n\u001b[0;32m----> 2\u001b[0;31m \u001b[0macc\u001b[0m \u001b[0;34m=\u001b[0m \u001b[0mtest_for_stock\u001b[0m\u001b[0;34m(\u001b[0m\u001b[0;34m\"A\"\u001b[0m\u001b[0;34m,\u001b[0m\u001b[0mselected_data\u001b[0m\u001b[0;34m,\u001b[0m\u001b[0mcomplete_forest\u001b[0m\u001b[0;34m,\u001b[0m\u001b[0mprediction_windows\u001b[0m\u001b[0;34m)\u001b[0m\u001b[0;34m\u001b[0m\u001b[0m\n\u001b[0m\u001b[1;32m      3\u001b[0m \u001b[0mprint\u001b[0m\u001b[0;34m(\u001b[0m\u001b[0macc\u001b[0m\u001b[0;34m)\u001b[0m\u001b[0;34m\u001b[0m\u001b[0m\n",
      "\u001b[0;31mNameError\u001b[0m: name 'prediction_windows' is not defined"
     ]
    }
   ],
   "source": [
    "complete_forest, accurency = train_on_market(selected_data,0.8,prediction_window)\n"
   ]
  },
  {
   "cell_type": "code",
   "execution_count": 27,
   "metadata": {
    "collapsed": false
   },
   "outputs": [
    {
     "name": "stderr",
     "output_type": "stream",
     "text": [
      "[Parallel(n_jobs=4)]: Done  42 tasks      | elapsed:    5.3s\n",
      "[Parallel(n_jobs=4)]: Done  65 out of  65 | elapsed:    8.0s finished\n"
     ]
    },
    {
     "name": "stdout",
     "output_type": "stream",
     "text": [
      "0.957121794596\n"
     ]
    }
   ],
   "source": [
    "acc = test_for_stock(\"A\",selected_data,complete_forest,prediction_window)\n",
    "print(acc)"
   ]
  },
  {
   "cell_type": "code",
   "execution_count": 29,
   "metadata": {
    "collapsed": false
   },
   "outputs": [
    {
     "name": "stderr",
     "output_type": "stream",
     "text": [
      "[Parallel(n_jobs=-1)]: Done  42 tasks      | elapsed:    0.1s\n",
      "[Parallel(n_jobs=-1)]: Done  65 out of  65 | elapsed:    0.2s finished\n",
      "[Parallel(n_jobs=4)]: Done  42 tasks      | elapsed:    0.0s\n",
      "[Parallel(n_jobs=4)]: Done  65 out of  65 | elapsed:    0.0s finished\n"
     ]
    },
    {
     "name": "stdout",
     "output_type": "stream",
     "text": [
      "0.761538461538\n"
     ]
    },
    {
     "name": "stderr",
     "output_type": "stream",
     "text": [
      "[Parallel(n_jobs=4)]: Done  42 tasks      | elapsed:    0.0s\n",
      "[Parallel(n_jobs=4)]: Done  65 out of  65 | elapsed:    0.0s finished\n"
     ]
    }
   ],
   "source": [
    "forest, accurency = train_on_stock(\"A\",selected_data,0.8,prediction_window)\n",
    "print(accurency)"
   ]
  }
 ],
 "metadata": {
  "kernelspec": {
   "display_name": "Python 3",
   "language": "python",
   "name": "python3"
  },
  "language_info": {
   "codemirror_mode": {
    "name": "ipython",
    "version": 3
   },
   "file_extension": ".py",
   "mimetype": "text/x-python",
   "name": "python",
   "nbconvert_exporter": "python",
   "pygments_lexer": "ipython3",
   "version": "3.5.3"
  }
 },
 "nbformat": 4,
 "nbformat_minor": 1
}
